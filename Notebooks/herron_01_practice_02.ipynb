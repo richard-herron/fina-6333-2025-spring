{
 "cells": [
  {
   "cell_type": "markdown",
   "id": "a482c736-0380-45d1-93a0-5badb0c3b38f",
   "metadata": {
    "tags": []
   },
   "source": [
    "# Herron Topic 1 - Log and Simple Returns, Portfolio Math, and Applications - Sec 02"
   ]
  },
  {
   "cell_type": "markdown",
   "id": "1e4dd96d-3af1-49d4-84ba-93ec5c89d71e",
   "metadata": {
    "tags": []
   },
   "source": [
    "This notebook covers two topics:\n",
    "\n",
    "1. Log and simple returns\n",
    "2. Portfolio returns, plus two applications of portfolio returns"
   ]
  },
  {
   "cell_type": "code",
   "execution_count": null,
   "id": "13165a3c-46cb-4c99-938e-afe8123f74c6",
   "metadata": {
    "editable": true
   },
   "outputs": [],
   "source": [
    "import matplotlib.pyplot as plt\n",
    "import numpy as np\n",
    "import pandas as pd\n",
    "import pandas_datareader as pdr\n",
    "import yfinance as yf"
   ]
  },
  {
   "cell_type": "code",
   "execution_count": null,
   "id": "50c7ce13-0d61-402e-bd18-14b8c2dd4389",
   "metadata": {},
   "outputs": [],
   "source": [
    "%precision 4\n",
    "pd.options.display.float_format = '{:.4f}'.format\n",
    "%config InlineBackend.figure_format = 'retina'"
   ]
  },
  {
   "cell_type": "markdown",
   "id": "4a057229-4e92-4dd0-9f39-7b64e8adaedf",
   "metadata": {
    "tags": []
   },
   "source": [
    "## Log and Simple Returns"
   ]
  },
  {
   "attachments": {},
   "cell_type": "markdown",
   "id": "6603d5e0-7296-4d67-b2c6-95cc11bcea0e",
   "metadata": {},
   "source": [
    "We will typically use *simple* returns, calculated as $r_{simple,t} = \\frac{p_t + d_t - p_{t-1}}{p_{t-1}}$.\n",
    "This simple return is the return that investors earn on their investments.\n",
    "We can calculate simple returns from Yahoo Finance data with the `.pct_change()` method on the adjusted close column (i.e., `Adj Close`), which adjusts for dividends and splits.\n",
    "The adjusted close column is a reverse-engineered close price (i.e., end-of-trading-day price) that incorporates dividends and splits, making simple return calculations easy.\n",
    "\n",
    "However, we may see *log* returns elsewhere, which are the (natural) log of one plus simple returns: $r_{log,t} = \\log(1 + r_{simple,t})$.\n",
    "Therefore, we calculate log returns as either the log of one plus simple returns or the difference of the logs of the adjusted close column.\n",
    "Log returns are also known as *continuously-compounded* returns.\n",
    "\n",
    "This section explains the differences between simple and log returns and where each is appropriate."
   ]
  },
  {
   "cell_type": "markdown",
   "id": "16e4ce63-7d87-48c6-9848-012f9d82b96e",
   "metadata": {},
   "source": [
    "### Simple and Log Returns are Similar for Small Returns"
   ]
  },
  {
   "cell_type": "markdown",
   "id": "71cc56b0-39d5-4b74-a2e1-3bfecba5d999",
   "metadata": {},
   "source": [
    "$x \\approx \\log(1 + x)$ for small values of $x$, so simple returns and log returns are similar for small returns.\n",
    "Returns are typically small at daily and monthly horizons, so the difference between simple and log returns is small at daily and monthly horizons.\n",
    "The following figure shows that $r_{simple,t} \\approx r_{log,t}$ for small values of $r$."
   ]
  },
  {
   "cell_type": "code",
   "execution_count": null,
   "id": "5efc16f8-b9e4-4de5-93c3-30b753ad40e3",
   "metadata": {
    "tags": []
   },
   "outputs": [],
   "source": [
    "simpler = np.linspace(-0.75, 0.75, 100)\n",
    "logr = np.log1p(simpler)"
   ]
  },
  {
   "cell_type": "code",
   "execution_count": null,
   "id": "2e27d421-0816-4696-b856-7b7aeea48102",
   "metadata": {
    "tags": []
   },
   "outputs": [],
   "source": [
    "plt.plot(simpler, logr)\n",
    "plt.plot([-1, 1], [-1, 1])\n",
    "plt.xlabel('Simple Return')\n",
    "plt.ylabel('Log Return')\n",
    "plt.title('Log Versus Simple Returns')\n",
    "plt.legend(['Actual Relation', 'Relation If Log = Simple'])\n",
    "plt.show()"
   ]
  },
  {
   "cell_type": "markdown",
   "id": "88521e88-1d88-4828-9638-2fba3fc8a458",
   "metadata": {},
   "source": [
    "### Simple Return Advantage: Portfolio Calculations"
   ]
  },
  {
   "cell_type": "markdown",
   "id": "c4a6918c-84c0-4113-83cd-ec7b6440471c",
   "metadata": {},
   "source": [
    "For a portfolio of $N$ assets with portfolio weights $w_i$, the portfolio return $r_p$ is the weighted average of the returns of its assets: $r_p = \\sum_{i=1}^N w_i r_{i}$.\n",
    "For example, for an equal-weighted portfolio with two stocks, $r_p = 0.5 r_1 + 0.5 r_2 = \\frac{r_1 + r_2}{2}$.\n",
    "Therefore, we cannot calculate portfolio returns with log returns because the sum of logs is the log of products.\n",
    "That is $\\log(1+r_i) + \\log(1+r_j) = \\log((1+r_i) \\times (1+r_j))$, which is not what we want to measure!\n",
    "***We cannot perform portfolio calculations with log returns!***"
   ]
  },
  {
   "cell_type": "markdown",
   "id": "9275175e-53dc-423d-b980-c1dfe46f0582",
   "metadata": {},
   "source": [
    "### Log Return Advantage: Log Returns are Additive"
   ]
  },
  {
   "attachments": {},
   "cell_type": "markdown",
   "id": "62fc52dc-f45f-4a08-b2e8-493e3fd48771",
   "metadata": {},
   "source": [
    "We compound simple returns with multiplication, *but we compound log returns with addition.*\n",
    "This additive property of log returns makes code simple, computations fast, and proofs easy when we must compound returns.\n",
    "\n",
    "We compound returns from $t=0$ to $t=T$ as follows:\n",
    "$$1 + r_{0, T} = (1 + r_1) \\times (1 + r_2) \\times \\dots \\times (1 + r_T)$$\n",
    "Next, we take the log of both sides of the previous equation and use the property that the log of products is the sum of logs:\n",
    "$$\\log(1 + r_{0, T}) = \\log((1 + r_1) \\times (1 + r_2) \\times \\dots \\times (1 + r_T)) = \\log(1 + r_1) + \\log(1 + r_2) + \\dots + \\log(1 + r_T) = \\sum_{t=1}^T \\log(1 + r_t)$$\n",
    "Next, we exponentiate both sides of the previous equation:\n",
    "$$e^{\\log(1 + r_{0, T})} = e^{\\sum_{t=0}^T \\log(1 + r_t)}$$\n",
    "Next, we use the property that $e^{\\log(x)} = x$ to simplify the previous equation:\n",
    "$$1 + r_{0,T} = e^{\\sum_{t=0}^T \\log(1 + r_t)}$$\n",
    "Finally, we subtract 1 from both sides:\n",
    "$$r_{0 ,T} = e^{\\sum_{t=0}^T \\log(1 + r_t)} - 1$$\n",
    "So, the return $r_{0,T}$ from $t=0$ to $t=T$ is the exponentiated sum of log returns.\n",
    "The pandas developers assume users understand the math above and focus on optimizing sums!"
   ]
  },
  {
   "cell_type": "code",
   "execution_count": null,
   "id": "2ee86547-601a-4751-b7d7-e08af0ae5c52",
   "metadata": {},
   "outputs": [],
   "source": [
    "np.random.seed(42)\n",
    "df = pd.DataFrame(data={'r': np.exp(np.random.randn(10_000)) - 1})\n",
    "\n",
    "df.describe()"
   ]
  },
  {
   "cell_type": "markdown",
   "id": "c01e32d7-a4ea-4168-b239-9df06be06fff",
   "metadata": {},
   "source": [
    "We can time the calculation of 10-observation rolling returns.\n",
    "We use `.apply()` for the simple return version because `.rolling()` does not have a product method.\n",
    "We find that `.rolling()` is slower with `.apply()` than with `.sum()` by a factor of about 1,000.\n",
    "***We will learn about `.rolling()` and `.apply()` in a few weeks, but they provide the best example of when to use log returns.***"
   ]
  },
  {
   "cell_type": "code",
   "execution_count": null,
   "id": "18ca6897-52d1-4f20-af4a-bc8e8e79ad62",
   "metadata": {},
   "outputs": [],
   "source": [
    "%%timeit\n",
    "df['r10_via_prod'] = (\n",
    "    df['r']\n",
    "    .add(1)\n",
    "    .rolling(10)\n",
    "    .apply(lambda x: x.prod())\n",
    "    .sub(1)\n",
    ")"
   ]
  },
  {
   "cell_type": "code",
   "execution_count": null,
   "id": "5bf359c7-1afc-4609-acda-3bbffdc7e5a9",
   "metadata": {},
   "outputs": [],
   "source": [
    "%%timeit\n",
    "df['r10_via_sum'] = (\n",
    "    df['r']\n",
    "    .add(1)\n",
    "    .pipe(np.log)\n",
    "    .rolling(10)\n",
    "    .sum()\n",
    "    .pipe(np.exp)\n",
    "    .sub(1)\n",
    ")"
   ]
  },
  {
   "cell_type": "code",
   "execution_count": null,
   "id": "5447837e-63e7-4a8f-9d66-43708598712d",
   "metadata": {},
   "outputs": [],
   "source": [
    "df.head(15)"
   ]
  },
  {
   "cell_type": "code",
   "execution_count": null,
   "id": "c3041e28-dbbf-4b4e-b582-3d78f5d83602",
   "metadata": {},
   "outputs": [],
   "source": [
    "np.allclose(df['r10_via_prod'], df['r10_via_sum'], equal_nan=True)"
   ]
  },
  {
   "attachments": {},
   "cell_type": "markdown",
   "id": "7d610081-f40c-45b6-93b9-1ad82482c662",
   "metadata": {},
   "source": [
    "These two approaches calculate the same return series, but the simple-return approach using `.prod()` is about 1,000 times slower than the log-return approach using `.sum()`!\n",
    "***We can use log returns to calculate total returns very quickly!***"
   ]
  },
  {
   "cell_type": "markdown",
   "id": "3615ded3-92f9-4802-8fd4-f9c9f947595a",
   "metadata": {
    "tags": []
   },
   "source": [
    "## Portfolio Math"
   ]
  },
  {
   "cell_type": "markdown",
   "id": "50742e1d-f5ce-48f7-bbbb-fb40f1c0f048",
   "metadata": {},
   "source": [
    "Portfolio return $r_{p}$ is the weighted average of its asset returns, so $r_{p} = \\sum_{i=1}^N w_i r_{i}$.\n",
    "Here $N$ is the number of assets, $w_i$ is the weight on asset $i$, and $\\sum_{i=1}^N w_i = 1$."
   ]
  },
  {
   "cell_type": "markdown",
   "id": "e92e2daf-7c87-477d-ac33-573caa1daba4",
   "metadata": {},
   "source": [
    "### The 1/N Portfolio"
   ]
  },
  {
   "cell_type": "markdown",
   "id": "af67cd21-6c73-4b2a-802c-c479010a7347",
   "metadata": {},
   "source": [
    "The $\\frac{1}{N}$ portfolio equally weights portfolio assets, so $w_1 = w_2 = \\dots = w_N = \\frac{1}{N}$.\n",
    "If $w_i = \\frac{1}{N}$, then $r_{p} = \\sum_{i=1}^N \\frac{1}{N} r_{i} = \\frac{\\sum_{i=1}^N r_i}{N} = \\bar{r}$.\n",
    "Therefore, we can use `.mean(axis=1)` to calculate $\\frac{1}{N}$ portfolio returns!"
   ]
  },
  {
   "cell_type": "code",
   "execution_count": null,
   "id": "41cab2cd-cf6f-49bb-b834-e4d4338fff13",
   "metadata": {},
   "outputs": [],
   "source": [
    "df2 = yf.download(tickers='AAPL AMZN GOOG MSFT NVDA TSLA', auto_adjust=False, progress=False).iloc[:-1]\n",
    "returns2 = df2['Adj Close'].pct_change().dropna()\n",
    "\n",
    "returns2.describe()"
   ]
  },
  {
   "cell_type": "code",
   "execution_count": null,
   "id": "ce00636b-f37e-40de-b54c-7c234167c53f",
   "metadata": {},
   "outputs": [],
   "source": [
    "returns2.mean() # implied axis=0"
   ]
  },
  {
   "cell_type": "code",
   "execution_count": null,
   "id": "10f65510-fe6c-47b8-9d6a-7a32291499ac",
   "metadata": {},
   "outputs": [],
   "source": [
    "rp2_via_mean = returns2.mean(axis=1)\n",
    "\n",
    "rp2_via_mean"
   ]
  },
  {
   "cell_type": "markdown",
   "id": "95ec0289-c33d-474b-8b6e-20c08c416190",
   "metadata": {},
   "source": [
    "***Note that when we apply the same portfolio weights every period, we rebalance at the same frequency as the returns data.***\n",
    "If we have daily data, rebalance daily.\n",
    "If we have monthly data, we rebalance monthly, and so on."
   ]
  },
  {
   "cell_type": "markdown",
   "id": "70819f02-3f9e-4bf7-98e7-9bede0f5ebdb",
   "metadata": {},
   "source": [
    "### A More General Solution"
   ]
  },
  {
   "cell_type": "markdown",
   "id": "5f48409b-e0b2-4a64-b446-916d2131d1d5",
   "metadata": {},
   "source": [
    "If we combine portfolio weights into vector $w$ and the time series of asset returns into matrix $\\mathbf{R}$, then we can calculate the time series of portfolio returns as $r_p = w^T \\mathbf{R}$.\n",
    "The pandas version of this calculation is `R.dot(w)`, where `R` is a data frame of asset returns and `w` is a series or an array of portfolio weights.\n",
    "We can use this approach to calculate $\\frac{1}{N}$ portfolio returns, too."
   ]
  },
  {
   "cell_type": "code",
   "execution_count": null,
   "id": "f8d1f7f5-535e-41a2-939b-7ddccff23b34",
   "metadata": {},
   "outputs": [],
   "source": [
    "weights2 = np.ones(returns2.shape[1]) / returns2.shape[1]\n",
    "\n",
    "weights2"
   ]
  },
  {
   "cell_type": "code",
   "execution_count": null,
   "id": "753551bd-6b82-420f-b2ee-1a69e825a8e2",
   "metadata": {
    "ExecuteTime": {
     "end_time": "2019-12-06T18:05:52.072256Z",
     "start_time": "2019-12-06T18:05:52.068898Z"
    }
   },
   "outputs": [],
   "source": [
    "rp2_via_dot = returns2.dot(weights2)\n",
    "\n",
    "rp2_via_dot"
   ]
  },
  {
   "cell_type": "markdown",
   "id": "47b19ce2-a666-4067-bd8b-37279a731299",
   "metadata": {},
   "source": [
    "Both approaches give the same answer!"
   ]
  },
  {
   "cell_type": "code",
   "execution_count": null,
   "id": "48e55088-f38d-4f13-b966-9386067822b3",
   "metadata": {},
   "outputs": [],
   "source": [
    "np.allclose(rp2_via_mean, rp2_via_dot, equal_nan=True)"
   ]
  },
  {
   "cell_type": "markdown",
   "id": "67ef7d4c-b265-4136-82e3-92bbbe34c95c",
   "metadata": {},
   "source": [
    "### Portfolio Math Application 1: All stocks half the time or half stocks all the time?"
   ]
  },
  {
   "cell_type": "markdown",
   "id": "eeb6cb4d-7eec-4cb1-9cf3-9f39010dbc8d",
   "metadata": {},
   "source": [
    "Are you better off investing:\n",
    "\n",
    "1. 100% in stocks 50% of the time and the riskless asset the other 50% of the time *or*\n",
    "2. 50% in stocks and 50% in the riskless asset 100% of the time?\n",
    "\n",
    "Here is a roadmap for convincing yourself with data!\n",
    "\n",
    "Please see @kritzman2000puzzles [Chapter 5] for a more detailed solution!"
   ]
  },
  {
   "cell_type": "markdown",
   "id": "15372571-b120-408b-adea-6ebd51856e5d",
   "metadata": {},
   "source": [
    "#### Download *annual* market and risk-free asset returns from Kenneth French's data library"
   ]
  },
  {
   "cell_type": "code",
   "execution_count": null,
   "id": "b54e3d2b-178e-419b-9003-ea7cd5f28b44",
   "metadata": {},
   "outputs": [],
   "source": [
    "pdr.famafrench.get_available_datasets()[:5]"
   ]
  },
  {
   "cell_type": "code",
   "execution_count": null,
   "id": "8449c604-b8b9-4e63-873b-5f0739ea8faa",
   "metadata": {},
   "outputs": [],
   "source": [
    "ff = pdr.DataReader(\n",
    "    name='F-F_Research_Data_Factors',\n",
    "    data_source='famafrench',\n",
    "    start='1900'\n",
    ")"
   ]
  },
  {
   "cell_type": "code",
   "execution_count": null,
   "id": "a9211d1f-c5b6-4b19-bad2-0397eb4c72c0",
   "metadata": {},
   "outputs": [],
   "source": [
    "print(ff['DESCR'])"
   ]
  },
  {
   "cell_type": "markdown",
   "id": "2196e589-c512-4adf-ac18-70e1ca99669f",
   "metadata": {},
   "source": [
    "#### Convert these factors to decimal returns and calculate the market return series"
   ]
  },
  {
   "cell_type": "code",
   "execution_count": null,
   "id": "ab103af2-281e-44a9-9201-a4ca5b43b36c",
   "metadata": {},
   "outputs": [],
   "source": [
    "df3 = ff[1].div(100)"
   ]
  },
  {
   "cell_type": "code",
   "execution_count": null,
   "id": "30251883-e77a-47a6-9350-098604906c5a",
   "metadata": {},
   "outputs": [],
   "source": [
    "df3['Mkt'] = df3['Mkt-RF'] + df3['RF']"
   ]
  },
  {
   "cell_type": "markdown",
   "id": "dcf10845-ca6e-4177-b60b-c1e083583a7b",
   "metadata": {},
   "source": [
    "#### Add a portfolio return series that is half stocks all the time"
   ]
  },
  {
   "cell_type": "markdown",
   "id": "a12e851e-2189-4fd3-87e4-1d04eb03303e",
   "metadata": {},
   "source": [
    "You might call this portfolio return series `Balanced`"
   ]
  },
  {
   "cell_type": "code",
   "execution_count": null,
   "id": "47027cd6-af55-4c13-80e7-43ec69b7d1fc",
   "metadata": {},
   "outputs": [],
   "source": [
    "df3['Balanced'] = df3[['Mkt', 'RF']].mean(axis=1)"
   ]
  },
  {
   "cell_type": "markdown",
   "id": "a7c6e1e2-a860-47cc-8456-cbe2c6ed0b1c",
   "metadata": {},
   "source": [
    "#### Add a portfolio return series that switches between stocks and bills every year with stocks in odd years"
   ]
  },
  {
   "cell_type": "markdown",
   "id": "060eacee-87d2-4d5f-97ad-588e09307ac1",
   "metadata": {},
   "source": [
    "You might call this portfolio return series `Switching Stocks Odd`"
   ]
  },
  {
   "cell_type": "code",
   "execution_count": null,
   "id": "a3cedd2e-94df-4ed6-a563-d8a8be557537",
   "metadata": {},
   "outputs": [],
   "source": [
    "df3['Switching Stocks Odd'] = np.where(df3.index.year % 2 == 1, df3['Mkt'], df3['RF'])"
   ]
  },
  {
   "cell_type": "markdown",
   "id": "03f5c9f3-43f3-4491-b728-7062e6307d14",
   "metadata": {},
   "source": [
    "#### Add a portfolio return series that switches between stocks and bills every year with stocks in even years"
   ]
  },
  {
   "cell_type": "markdown",
   "id": "325cf01f-3d86-43b9-9e5c-9d7234a05d10",
   "metadata": {},
   "source": [
    "You might call this portfolio return series `Switching Stocks Even`"
   ]
  },
  {
   "cell_type": "code",
   "execution_count": null,
   "id": "206d30b9-908d-4669-92fb-d64948278ae3",
   "metadata": {},
   "outputs": [],
   "source": [
    "df3['Switching Stocks Even'] = np.where(df3.index.year % 2 == 0, df3['Mkt'], df3['RF'])"
   ]
  },
  {
   "cell_type": "code",
   "execution_count": null,
   "id": "5d7395be-3e32-4da0-b460-043d9f27bce5",
   "metadata": {},
   "outputs": [],
   "source": [
    "df3.head()"
   ]
  },
  {
   "cell_type": "markdown",
   "id": "a1157215-db8b-4258-80db-84dc0e22df6f",
   "metadata": {},
   "source": [
    "#### Plot the cumulative returns on a $1 investment and calculate the summary statistics for the `Balanced` and `Switching` series"
   ]
  },
  {
   "cell_type": "markdown",
   "id": "1152aa4d-5c64-4885-a79c-693606e1c433",
   "metadata": {},
   "source": [
    "Use the `.describe()` method to calculate summary statistics."
   ]
  },
  {
   "cell_type": "code",
   "execution_count": null,
   "id": "75d6383b-1326-4e11-8086-7ce08d7102cb",
   "metadata": {},
   "outputs": [],
   "source": [
    "portfolios = ['Balanced', 'Switching Stocks Odd', 'Switching Stocks Even']"
   ]
  },
  {
   "cell_type": "code",
   "execution_count": null,
   "id": "abfe3f33-cd95-4aad-9b75-477c38ea813b",
   "metadata": {},
   "outputs": [],
   "source": [
    "import matplotlib.ticker as ticker"
   ]
  },
  {
   "cell_type": "code",
   "execution_count": null,
   "id": "739802d7-0fa4-42d4-b1e9-72b031827bd4",
   "metadata": {},
   "outputs": [],
   "source": [
    "(\n",
    "    df3[portfolios]\n",
    "    .add(1)\n",
    "    .cumprod()\n",
    "    .plot()\n",
    ")\n",
    "\n",
    "plt.yscale('log')\n",
    "plt.ylabel('Value of $1 Investment')\n",
    "plt.title(f'Value of $1 in Investment in Three Strategies\\nfrom {df3.index.year[0]} through  {df3.index.year[-1]}')\n",
    "\n",
    "plt.show()"
   ]
  },
  {
   "cell_type": "markdown",
   "id": "70733fd1-0bb5-44a3-912f-0084ef14a5b3",
   "metadata": {},
   "source": [
    "#### Which strategy do you prefer?"
   ]
  },
  {
   "cell_type": "markdown",
   "id": "f815eca3-500b-486f-8136-038f0ebb77e2",
   "metadata": {},
   "source": [
    "Why?\n",
    "How sure are you?"
   ]
  },
  {
   "cell_type": "markdown",
   "id": "d3af62f3-4a00-4a0e-9fcf-afa20f0b35c9",
   "metadata": {},
   "source": [
    "The `Switching Stocks Odd` strategy *seems* best in this example!\n",
    "However, this apparent superiority is largely a matter of **luck**, specifically this combination of the sample period and starting year.\n",
    "In this sample, the number of even and odd years is equal, but the market happened to perform better in odd years.\n",
    "This outcome is entirely driven by **this particular historical sequence**.  \n",
    "\n",
    "To draw broader conclusions, we must break free from the \"luck of the draw\" tied to this single realization of history.\n",
    "Below, we will explore two approaches to determine which strategy is better:\n",
    "\n",
    "1. **Theory:** We will analyze the expected returns and variances mathematically to assess the underlying return-risk tradeoff for each strategy.  \n",
    "2. **Simulation:** To rely on data instead of theory, we will simulate thousands of alternative historical sequences.  \n",
    "\n",
    "By shuffling the 98 years of market data repeatedly, we can generate 10,000 random samples and evaluate the performance of each strategy across these simulations.  \n",
    "This approach allows us to:\n",
    "\n",
    "- Confirm that **both strategies have the same arithmetic average return**.\n",
    "- Show that the **balanced strategy consistently delivers a better return-risk tradeoff (Sharpe ratio)** when evaluated across many possible outcomes.\n",
    "\n",
    "We will do the simulation first."
   ]
  },
  {
   "cell_type": "markdown",
   "id": "8cb9a83d-7d81-467a-805e-e27307cdfe6d",
   "metadata": {},
   "source": [
    "#### Use the `simulate()` function to simulate 10,000 different outcomes for the U.S. market"
   ]
  },
  {
   "cell_type": "markdown",
   "id": "3ad20885-d647-4efd-870c-3128435f40d3",
   "metadata": {},
   "source": [
    "`simulate()` calculates one `Switching` return series because the randomization also randomizes the odd-year and even-year choice."
   ]
  },
  {
   "cell_type": "code",
   "execution_count": null,
   "id": "59102e2e-317f-439c-bb72-c544fd6bccf8",
   "metadata": {},
   "outputs": [],
   "source": [
    "df3[['Mkt', 'RF']].sample(frac=1, ignore_index=True, random_state=42).head()"
   ]
  },
  {
   "cell_type": "code",
   "execution_count": null,
   "id": "57b950ca-b3fa-4867-87e5-0254a238e5c9",
   "metadata": {},
   "outputs": [],
   "source": [
    "def simulate(df, cols=['Mkt', 'RF'], n_iter=10_000):\n",
    "    \"\"\"\n",
    "    Simulates resampling of the given DataFrame columns and computes bal;anced and switching portfolio returns.\n",
    "\n",
    "    Parameters:\n",
    "    df (pd.DataFrame): The input DataFrame.\n",
    "    cols (list): List of column names to sample.\n",
    "    n_iter (int): Number of iterations for simulation.\n",
    "\n",
    "    Returns:\n",
    "    pd.DataFrame: A concatenated DataFrame with simulation results.\n",
    "    \"\"\"\n",
    "    return pd.concat(\n",
    "        objs=[(\n",
    "            df[cols]\n",
    "            .sample(frac=1, ignore_index=True, random_state=i)\n",
    "            .assign(\n",
    "                Balanced=lambda x: x[cols].mean(axis=1),\n",
    "                Switching=lambda x: np.where(x.index % 2 == 0, x[cols[0]], x[cols[1]])\n",
    "            )\n",
    "        ) for i in range(n_iter)],\n",
    "        keys=range(n_iter),\n",
    "        names=['Simulation', 'Year']\n",
    "    )"
   ]
  },
  {
   "cell_type": "code",
   "execution_count": null,
   "id": "f1f31704-9628-463e-b035-20ddf3fb8481",
   "metadata": {},
   "outputs": [],
   "source": [
    "df4 = simulate(df3)"
   ]
  },
  {
   "cell_type": "markdown",
   "id": "0d970ecb-1848-480e-8903-c90a19c345e6",
   "metadata": {},
   "source": [
    "#### Calculate the summary statistics for these new `Balanced` and `Switching` series"
   ]
  },
  {
   "cell_type": "code",
   "execution_count": null,
   "id": "dfe5600f-98fb-4ccd-b752-e79497b0f20b",
   "metadata": {},
   "outputs": [],
   "source": [
    "df4[['Balanced', 'Switching']].agg(['mean', 'std'])"
   ]
  },
  {
   "cell_type": "markdown",
   "id": "46831342-8dd6-447e-a301-193b313425dc",
   "metadata": {},
   "source": [
    "We see that `Balanced` and `Switching` have the same mean return, but `Balanced` has much lower volatility than `Switching`!\n",
    "A risk-averse investor prefers `Balanced` because it has a higher return/risk ratio than `Switching`.\n",
    "We can quantify this ratio as the Sharpe ratio, which is the mean excess return divided by the volatility of excess returns: $S_i = \\frac{\\overline{r_i - r_f}}{\\sigma(r_i - r_f)}$.\n",
    "We can calcualte excess returns and Sharpe ratios in one code snippet."
   ]
  },
  {
   "cell_type": "code",
   "execution_count": null,
   "id": "3a443446-e25d-4696-b183-f39af7ae8625",
   "metadata": {},
   "outputs": [],
   "source": [
    "(\n",
    "    df4\n",
    "    [['Balanced', 'Switching']]\n",
    "    .sub(df4['RF'], axis=0)\n",
    "    .agg(lambda x: x.mean() / x.std())\n",
    "    .to_frame('Sharpe ratio')\n",
    ")"
   ]
  },
  {
   "cell_type": "markdown",
   "id": "46ad4dce-876c-4974-ace1-cd9be9573343",
   "metadata": {},
   "source": [
    "We have to do a little more work if we want to combine mean and volatility of *raw* returns with the Sharpe ratio of *excess* returns."
   ]
  },
  {
   "cell_type": "code",
   "execution_count": null,
   "id": "d52e9158-e5c8-423f-a344-31f267ecd33b",
   "metadata": {},
   "outputs": [],
   "source": [
    "pd.concat(\n",
    "    objs=[\n",
    "        df4[['Balanced', 'Switching']].agg(['mean', 'std']).transpose(),\n",
    "        df4[['Balanced', 'Switching']].sub(df4['RF'], axis=0).agg(lambda x: x.mean() / x.std()).to_frame('Sharpe ratio')\n",
    "    ],\n",
    "    axis=1\n",
    ")"
   ]
  },
  {
   "cell_type": "markdown",
   "id": "b3b1bd04-5960-46b8-b607-b9a052ae4692",
   "metadata": {},
   "source": [
    "#### Which strategy do you prefer?"
   ]
  },
  {
   "cell_type": "markdown",
   "id": "144f489e-9de6-4b5b-8d2e-d70e1dc1a27a",
   "metadata": {},
   "source": [
    "Why?\n",
    "How sure are you?"
   ]
  },
  {
   "cell_type": "markdown",
   "id": "4885e039-071e-450f-a20f-6197f5d34621",
   "metadata": {},
   "source": [
    "We prefer `Balanced` because it has a Sharpe ratio about 50% greater than `Switching`!\n",
    "We can see this in the data above, and here is the theory."
   ]
  },
  {
   "cell_type": "markdown",
   "id": "6aca8a88-5743-4c6f-bbd0-e9071e4f4e51",
   "metadata": {},
   "source": [
    "For `Balanced`, $\\sigma_p^2 = w_m^2 \\sigma_m^2 + w_f^2 \\sigma_f^2 + 2 w_m w_f \\sigma_m \\sigma_f \\rho_{m,f}$.\n",
    "Because $\\sigma_f^2 \\approx 0$ and $\\rho_{m,f} \\approx 0$, $\\sigma_p^2 \\approx w_m^2 \\sigma_m^2$.\n",
    "Therefore, for `Balanced` $\\sigma_p \\approx w_m \\sigma_m = \\frac{1}{2} \\sigma_m$.\n",
    "We see this in the data!"
   ]
  },
  {
   "cell_type": "code",
   "execution_count": null,
   "id": "84d9e6cc-db5d-46e3-8711-e2dd2acf171d",
   "metadata": {},
   "outputs": [],
   "source": [
    "0.5 * df3['Mkt'].std()"
   ]
  },
  {
   "cell_type": "code",
   "execution_count": null,
   "id": "467a0de9-f6db-4d45-8d30-b335a4b56532",
   "metadata": {},
   "outputs": [],
   "source": [
    "df4['Balanced'].std()"
   ]
  },
  {
   "cell_type": "markdown",
   "id": "f76255a4-ac6a-40b4-95d4-184def418097",
   "metadata": {},
   "source": [
    "For `Switching`, $\\sigma_p^2 = w_m \\sigma_m^2 + w_f \\sigma_f^2 + w_m w_f (\\mu_m - \\mu_f)^2$.\n",
    "We have a different formula because `Switching` is diversified *over time* instead at a point in time!\n",
    "Because $\\sigma_f^2 \\approx 0$ and $(\\mu_m - \\mu_f)^2 \\approx 0$, $\\sigma_p^2 \\approx w_m \\sigma_m^2$.\n",
    "Therefore, for `Balanced` $\\sigma_p \\approx \\sqrt{w_m} \\sigma_m = \\sqrt{\\frac{1}{2}} \\sigma_m$.\n",
    "We see this in the data!"
   ]
  },
  {
   "cell_type": "code",
   "execution_count": null,
   "id": "58688c9e-c008-4f87-82cd-d1764d733d61",
   "metadata": {},
   "outputs": [],
   "source": [
    "np.sqrt(0.5) * df3['Mkt'].std()"
   ]
  },
  {
   "cell_type": "code",
   "execution_count": null,
   "id": "0c231657-9463-4ef1-972b-0e3a0438dce1",
   "metadata": {},
   "outputs": [],
   "source": [
    "df4['Switching'].std()"
   ]
  },
  {
   "cell_type": "markdown",
   "id": "5985a10a-2ecd-4ced-98ff-4233b2f10d5c",
   "metadata": {},
   "source": [
    "The $(\\mu_m - \\mu_f)^2$ is close to zero but not exactly zero.\n",
    "We can get even closed to the observed `Switching` portfolio volatility if we consider this term!"
   ]
  },
  {
   "cell_type": "code",
   "execution_count": null,
   "id": "5f2a57a5-6c9a-44a2-a89c-f4cd21710369",
   "metadata": {},
   "outputs": [],
   "source": [
    "np.sqrt(0.5 * df3['Mkt'].var() + 0.5 * 0.5 * (df3['Mkt'].mean() - df3['RF'].mean())**2)"
   ]
  },
  {
   "cell_type": "markdown",
   "id": "cf65dac4-3417-4ba5-82ab-3581c9b42e01",
   "metadata": {},
   "source": [
    "Please see @kritzman2000puzzles [Chapter 5] for a more detailed solution!"
   ]
  },
  {
   "cell_type": "markdown",
   "id": "8b13d8a8-d8bf-49b4-9b42-6a8dc7fbea1a",
   "metadata": {},
   "source": [
    "---\n",
    "\n",
    "Here are two after-class additions to this question."
   ]
  },
  {
   "cell_type": "markdown",
   "id": "d2bf30e3-9727-4e7f-91be-6b3d95d39328",
   "metadata": {},
   "source": [
    "#### Can we add a progress bar?\n",
    "\n",
    "Yes!\n",
    "We have to rewrite the `simulate()` function and replace the list comprehension with a for loop.\n",
    "However, this addition requires the `tqdm` package.\n",
    "To avoid any conflicts, I will not install this package and provide the code as markdown instead of executable code.\n",
    "\n",
    "```python\n",
    "from tqdm import tqdm\n",
    "\n",
    "def simulate(df, cols=['Mkt', 'RF'], n_iter=10_000):\n",
    "    \"\"\"\n",
    "    Simulates resampling of the given DataFrame columns and computes balanced \n",
    "    and switching portfolio returns.\n",
    "\n",
    "    Parameters:\n",
    "    -----------\n",
    "    df : pd.DataFrame\n",
    "        The input DataFrame.\n",
    "    cols : list\n",
    "        List of column names to sample.\n",
    "    n_iter : int\n",
    "        Number of iterations for simulation.\n",
    "\n",
    "    Returns:\n",
    "    --------\n",
    "    pd.DataFrame\n",
    "        A concatenated DataFrame with simulation results.\n",
    "    \"\"\"\n",
    "    all_resamples = []\n",
    "    \n",
    "    # Use tqdm to visualize progress\n",
    "    for i in tqdm(range(n_iter), desc=\"Simulating\"):\n",
    "        # Random re-sampling\n",
    "        resampled = (\n",
    "            df[cols]\n",
    "            .sample(frac=1, ignore_index=True, random_state=i)\n",
    "            .assign(\n",
    "                Balanced=lambda x: x[cols].mean(axis=1),\n",
    "                Switching=lambda x: np.where(\n",
    "                    x.index % 2 == 0, \n",
    "                    x[cols[0]], \n",
    "                    x[cols[1]]\n",
    "                )\n",
    "            )\n",
    "        )\n",
    "        all_resamples.append(resampled)\n",
    "    \n",
    "    # Concatenate final results\n",
    "    return pd.concat(all_resamples, keys=range(n_iter), names=['Simulation', 'Year'])\n",
    "```"
   ]
  },
  {
   "cell_type": "markdown",
   "id": "32a9ba50-7395-4f62-ad02-bc8f5075b6c1",
   "metadata": {},
   "source": [
    "#### Ideally, we calculate the mean and volatility of *each simulation*, then take the average\n",
    "\n",
    "We can do this easily with either `.groupby()` of `.pivot_table()`!"
   ]
  },
  {
   "cell_type": "code",
   "execution_count": null,
   "id": "0c03c61a-f375-4070-8528-77d13c32fec4",
   "metadata": {},
   "outputs": [],
   "source": [
    "(\n",
    "    df4\n",
    "    .groupby(level='Simulation')\n",
    "    [['Balanced', 'Switching']]\n",
    "    .agg(['mean', 'std'])\n",
    "    .mean()\n",
    "    .unstack()\n",
    ")"
   ]
  },
  {
   "cell_type": "markdown",
   "id": "1c4b9aeb-589c-41f9-a5f4-525f7bba089b",
   "metadata": {},
   "source": [
    "*These statistics are similar, but not identical!*"
   ]
  },
  {
   "cell_type": "markdown",
   "id": "36cf2295-1a87-4cb3-99aa-19460e6deba3",
   "metadata": {},
   "source": [
    "---"
   ]
  },
  {
   "cell_type": "markdown",
   "id": "8400da73-7397-4965-9f38-900f6ed8aeb1",
   "metadata": {},
   "source": [
    "### Portfolio Math Application 2: What are the benefits of diversification?"
   ]
  },
  {
   "cell_type": "markdown",
   "id": "35fd7781-5dce-492c-aaff-c5396055ad79",
   "metadata": {},
   "source": [
    "Use random portfolios of S&P 100 stocks of various portfolio sizes to show that portfolio volatility falls quickly, then slowly, then not at all as we increase portfolio size."
   ]
  },
  {
   "cell_type": "markdown",
   "id": "1f58df75-1f87-49f6-932b-93ca530aae8e",
   "metadata": {},
   "source": [
    "#### Download daily data for the stocks in the S\\&P 100\n",
    "\n",
    "Wikipedia provides tickers for the stocks in the [S\\&P 100](https://en.wikipedia.org/wiki/S%26P_100).\n",
    "Use a list comprehension to replace `.` in tickers with `-` for compatability with Yahoo! Finance."
   ]
  },
  {
   "cell_type": "code",
   "execution_count": null,
   "id": "2f36c3d5-699f-4e52-ad80-a3bef248f012",
   "metadata": {},
   "outputs": [],
   "source": [
    "wiki = pd.read_html('https://en.wikipedia.org/wiki/S%26P_100')\n",
    "tickers = [i.replace('.', '-') for i in wiki[2]['Symbol']]\n",
    "data = yf.download(tickers=tickers, auto_adjust=False, progress=False).iloc[:-1]"
   ]
  },
  {
   "cell_type": "markdown",
   "id": "5e9b7314-d8ef-4696-907a-f724424bf4c9",
   "metadata": {},
   "source": [
    "#### Calculate the past five years of dailty returns for these stocks"
   ]
  },
  {
   "cell_type": "code",
   "execution_count": null,
   "id": "62bdebce-dd23-4e5d-8979-6013c5ccf549",
   "metadata": {},
   "outputs": [],
   "source": [
    "returns = (\n",
    "    data\n",
    "    ['Adj Close']\n",
    "    .dropna(axis=1, how='all')\n",
    "    .pct_change()\n",
    "    .iloc[-5*252:]\n",
    ")"
   ]
  },
  {
   "cell_type": "markdown",
   "id": "d9684f0b-1ab0-44f4-b7d3-39f1a0ffc6ca",
   "metadata": {},
   "source": [
    "#### Calculate the volatilies of 20 equal-weighted random portfolios of various portfolio sizes"
   ]
  },
  {
   "cell_type": "markdown",
   "id": "99a9fa85-ee3a-4d6b-bf6f-5964519ad1e3",
   "metadata": {},
   "source": [
    "Random portfolios should have portfolio sizes of 1, 2, 4, 6, 8, 10, 20, 30, 40, or 50 stocks each.\n",
    "\n",
    "You can combine the `.sample(n=?, axis=1, random_state=?)`, `.mean(axis=1)`, and `.std()` to calculate the volatilities of equal-weighted portfolios.\n",
    "You can collect these volatilies in a list of lists built with two `for` loops or list comprehensions.\n",
    "Replace the `?`s in `.sample()` with loop counters.\n",
    "The inner loop will calculate a portfolio volatilty for each portfolio size, and the outer loop will collect 20 versions of each portfolio.\n",
    "Using the outer loop counter for `random_state=` makes your analysis repeatable!"
   ]
  },
  {
   "cell_type": "code",
   "execution_count": null,
   "id": "04f9abfb-524c-4f2a-8aac-d335dcdda926",
   "metadata": {},
   "outputs": [],
   "source": [
    "portfolio_size = [1, 2, 4, 6, 8, 10, 20, 30, 40, 50]\n",
    "portfolio_number = 20\n",
    "\n",
    "list_of_volatilities = []\n",
    "for i in range(portfolio_number):\n",
    "    list_of_volatilities.append([returns.sample(n=j, axis=1, random_state=i).mean(axis=1).std() for j in portfolio_size])"
   ]
  },
  {
   "cell_type": "code",
   "execution_count": null,
   "id": "b9b00e19-ed9c-4054-bcd1-31550441c7fa",
   "metadata": {},
   "outputs": [],
   "source": [
    "list_of_volatilities[0]"
   ]
  },
  {
   "cell_type": "markdown",
   "id": "35bd407d-b7c2-4790-a37d-21fc8c9c8dfc",
   "metadata": {},
   "source": [
    "#### Combine this list of lists into a data frame"
   ]
  },
  {
   "cell_type": "code",
   "execution_count": null,
   "id": "3c8d12b5-a3b0-4322-8a59-a014c2c14499",
   "metadata": {},
   "outputs": [],
   "source": [
    "volatilities = (\n",
    "    pd.DataFrame(\n",
    "        data=list_of_volatilities,\n",
    "        index=range(1, 1+portfolio_number),\n",
    "        columns=portfolio_size\n",
    "    )\n",
    "    .rename_axis(index='Portfolio Number', columns='Portfolio Size')\n",
    ")"
   ]
  },
  {
   "cell_type": "code",
   "execution_count": null,
   "id": "a334ad1b-7d06-481a-9976-d75474202422",
   "metadata": {},
   "outputs": [],
   "source": [
    "volatilities"
   ]
  },
  {
   "cell_type": "markdown",
   "id": "e8c84943-e82b-44e9-beaa-1f74d5aef270",
   "metadata": {},
   "source": [
    "#### Calculate the mean volatility for each portfolio size and replicate the plot above"
   ]
  },
  {
   "cell_type": "code",
   "execution_count": null,
   "id": "ae9018ca-5f9e-41f7-9f36-36bdbe19a45f",
   "metadata": {},
   "outputs": [],
   "source": [
    "volatilities.mul(100 * np.sqrt(252)).mean().plot()\n",
    "plt.xlabel('Portfolio Size')\n",
    "plt.ylabel('Mean of Annualized Volatility (%)')\n",
    "plt.title('Diminishing Returns to Diversification (Elton and Gruber, 1977)')\n",
    "plt.show()"
   ]
  },
  {
   "cell_type": "code",
   "execution_count": null,
   "id": "ff8a5e16-c92f-4fea-bb6f-1c6186ab1340",
   "metadata": {},
   "outputs": [],
   "source": []
  }
 ],
 "metadata": {
  "kernelspec": {
   "display_name": "Python 3 (ipykernel)",
   "language": "python",
   "name": "python3"
  },
  "language_info": {
   "codemirror_mode": {
    "name": "ipython",
    "version": 3
   },
   "file_extension": ".py",
   "mimetype": "text/x-python",
   "name": "python",
   "nbconvert_exporter": "python",
   "pygments_lexer": "ipython3",
   "version": "3.13.1"
  }
 },
 "nbformat": 4,
 "nbformat_minor": 5
}
