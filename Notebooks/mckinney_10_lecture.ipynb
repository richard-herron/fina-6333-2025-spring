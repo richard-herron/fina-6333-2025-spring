{
 "cells": [
  {
   "cell_type": "markdown",
   "id": "a0aff831-1461-4615-a3ca-d2bf2d3042c6",
   "metadata": {
    "editable": true,
    "slideshow": {
     "slide_type": ""
    },
    "tags": []
   },
   "source": [
    "# McKinney Chapter 10 - Data Aggregation and Group Operations"
   ]
  },
  {
   "cell_type": "code",
   "execution_count": 1,
   "id": "a475f183-6f8b-4afc-9316-f996433d1c83",
   "metadata": {},
   "outputs": [],
   "source": [
    "import matplotlib.pyplot as plt\n",
    "import numpy as np\n",
    "import pandas as pd\n",
    "import pandas_datareader as pdr\n",
    "import yfinance as yf"
   ]
  },
  {
   "cell_type": "code",
   "execution_count": 2,
   "id": "5265013f-2dfc-474e-8733-2f2028d2c0e7",
   "metadata": {},
   "outputs": [],
   "source": [
    "%precision 4\n",
    "pd.options.display.float_format = '{:.4f}'.format\n",
    "%config InlineBackend.figure_format = 'retina'"
   ]
  },
  {
   "cell_type": "markdown",
   "id": "fcf55a7e-8859-4067-ab04-8a2b6f15721d",
   "metadata": {
    "tags": []
   },
   "source": [
    "## Introduction"
   ]
  },
  {
   "cell_type": "markdown",
   "id": "b2bf3d93-8060-4385-96b9-07dede47147a",
   "metadata": {
    "tags": []
   },
   "source": [
    "Chapter 10 of @mckinney2022python discusses groupby operations, the pandas equivalent of pivot tables in Excel.\n",
    "Pivot tables calculate statistics (e.g., sums, means, and medians) for one set of variables by groups of other variables (e.g., weekdays and tickers).\n",
    "For example, we could use a pivot table to calculate mean daily stock returns by weekday.\n",
    "\n",
    "We will focus on:\n",
    "\n",
    "1. The `.groupby()` method to group by columns and indexes\n",
    "1. The `.agg()` method to aggregate columns to single values\n",
    "1. The `.pivot_table()` method as an alternative to `.groupby()`\n",
    "\n",
    "***Note:*** \n",
    "Indented block quotes are from @mckinney2022python unless otherwise indicated. \n",
    "The section numbers here differ from @mckinney2022python because we will only discuss some topics."
   ]
  },
  {
   "cell_type": "markdown",
   "id": "7f955227-a972-46d9-8c76-44b202ce9189",
   "metadata": {
    "tags": [],
    "toc-hr-collapsed": true
   },
   "source": [
    "## GroupBy Mechanics"
   ]
  },
  {
   "cell_type": "markdown",
   "id": "6be7740e-6f02-4958-ad68-7d045ad74341",
   "metadata": {
    "jp-MarkdownHeadingCollapsed": true,
    "tags": []
   },
   "source": [
    "\"Split-apply-combine\" is an excellent way to describe pandas groupby operations.\n",
    "\n",
    "> Hadley Wickham, an author of many popular packages for the R programming \n",
    "language, coined the term split-apply-combine for describing group operations. In the\n",
    "first stage of the process, data contained in a pandas object, whether a Series, DataFrame, or otherwise, is split into groups based on one or more keys that you provide.\n",
    "The splitting is performed on a particular axis of an object. For example, a DataFrame\n",
    "can be grouped on its rows (axis=0) or its columns (axis=1). Once this is done, a\n",
    "function is applied to each group, producing a new value. Finally, the results of all\n",
    "those function applications are combined into a result object. The form of the resulting object will usually depend on what’s being done to the data. See Figure 10-1 for a\n",
    "mockup of a simple group aggregation.\n",
    "\n",
    "[Figure 10-1](https://wesmckinney.com/book/data-aggregation#fig-figure_groupby_agg) visualizes a split-apply-combine operation that:\n",
    "\n",
    "1. Splits by the `key` column (i.e., \"groups by `key`\")\n",
    "2. Applies the sum operation to the `data` column (i.e., \"and sums `data`\")\n",
    "3. Combines the grouped sums (i.e., \"combines the output\")\n",
    "\n",
    "We could describe this operation as \"sum the `data` column by groups of the `key` column then combines the output.\""
   ]
  },
  {
   "cell_type": "code",
   "execution_count": 3,
   "id": "4011e3c5-2453-4d18-b3b8-0eec891d49ac",
   "metadata": {},
   "outputs": [
    {
     "data": {
      "text/html": [
       "<div>\n",
       "<style scoped>\n",
       "    .dataframe tbody tr th:only-of-type {\n",
       "        vertical-align: middle;\n",
       "    }\n",
       "\n",
       "    .dataframe tbody tr th {\n",
       "        vertical-align: top;\n",
       "    }\n",
       "\n",
       "    .dataframe thead th {\n",
       "        text-align: right;\n",
       "    }\n",
       "</style>\n",
       "<table border=\"1\" class=\"dataframe\">\n",
       "  <thead>\n",
       "    <tr style=\"text-align: right;\">\n",
       "      <th></th>\n",
       "      <th>key1</th>\n",
       "      <th>key2</th>\n",
       "      <th>data1</th>\n",
       "      <th>data2</th>\n",
       "    </tr>\n",
       "  </thead>\n",
       "  <tbody>\n",
       "    <tr>\n",
       "      <th>0</th>\n",
       "      <td>a</td>\n",
       "      <td>one</td>\n",
       "      <td>0.4967</td>\n",
       "      <td>-0.2341</td>\n",
       "    </tr>\n",
       "    <tr>\n",
       "      <th>1</th>\n",
       "      <td>a</td>\n",
       "      <td>two</td>\n",
       "      <td>-0.1383</td>\n",
       "      <td>1.5792</td>\n",
       "    </tr>\n",
       "    <tr>\n",
       "      <th>2</th>\n",
       "      <td>b</td>\n",
       "      <td>one</td>\n",
       "      <td>0.6477</td>\n",
       "      <td>0.7674</td>\n",
       "    </tr>\n",
       "    <tr>\n",
       "      <th>3</th>\n",
       "      <td>b</td>\n",
       "      <td>two</td>\n",
       "      <td>1.5230</td>\n",
       "      <td>-0.4695</td>\n",
       "    </tr>\n",
       "    <tr>\n",
       "      <th>4</th>\n",
       "      <td>a</td>\n",
       "      <td>one</td>\n",
       "      <td>-0.2342</td>\n",
       "      <td>0.5426</td>\n",
       "    </tr>\n",
       "  </tbody>\n",
       "</table>\n",
       "</div>"
      ],
      "text/plain": [
       "  key1 key2   data1   data2\n",
       "0    a  one  0.4967 -0.2341\n",
       "1    a  two -0.1383  1.5792\n",
       "2    b  one  0.6477  0.7674\n",
       "3    b  two  1.5230 -0.4695\n",
       "4    a  one -0.2342  0.5426"
      ]
     },
     "execution_count": 3,
     "metadata": {},
     "output_type": "execute_result"
    }
   ],
   "source": [
    "np.random.seed(42)\n",
    "df = pd.DataFrame({'key1' : ['a', 'a', 'b', 'b', 'a'],\n",
    "                   'key2' : ['one', 'two', 'one', 'two', 'one'],\n",
    "                   'data1' : np.random.randn(5),\n",
    "                   'data2' : np.random.randn(5)})\n",
    "\n",
    "df"
   ]
  },
  {
   "cell_type": "markdown",
   "id": "bcbac65e-eafd-4e78-b2ff-2ec86433db48",
   "metadata": {},
   "source": [
    "Here is the manual way to calculate the means of `data1` by groups of `key1`."
   ]
  },
  {
   "cell_type": "code",
   "execution_count": 4,
   "id": "77b57969-1d9b-4d71-bad5-42f9624d3037",
   "metadata": {},
   "outputs": [
    {
     "data": {
      "text/plain": [
       "0.0414"
      ]
     },
     "execution_count": 4,
     "metadata": {},
     "output_type": "execute_result"
    }
   ],
   "source": [
    "df.loc[df['key1'] == 'a', 'data1'].mean()"
   ]
  },
  {
   "cell_type": "code",
   "execution_count": 5,
   "id": "7694d0e1-13ed-456a-a858-2d75f0a50339",
   "metadata": {},
   "outputs": [
    {
     "data": {
      "text/plain": [
       "1.0854"
      ]
     },
     "execution_count": 5,
     "metadata": {},
     "output_type": "execute_result"
    }
   ],
   "source": [
    "df.loc[df['key1'] == 'b', 'data1'].mean()"
   ]
  },
  {
   "cell_type": "markdown",
   "id": "852fea8b-f9a9-4510-92a9-664eba7ca155",
   "metadata": {},
   "source": [
    "We can do this calculation more easily!\n",
    "\n",
    "1. Use the `.groupby()` method to group by `key1`\n",
    "2. Use the `.mean()` method to calculate the mean of `data1` within each value of `key1`"
   ]
  },
  {
   "cell_type": "code",
   "execution_count": 6,
   "id": "e26461f7-aeca-4d60-8475-bdb2af1f9135",
   "metadata": {},
   "outputs": [
    {
     "data": {
      "text/plain": [
       "key1\n",
       "a   0.0414\n",
       "b   1.0854\n",
       "Name: data1, dtype: float64"
      ]
     },
     "execution_count": 6,
     "metadata": {},
     "output_type": "execute_result"
    }
   ],
   "source": [
    "df['data1'].groupby(df['key1']).mean()"
   ]
  },
  {
   "cell_type": "markdown",
   "id": "0922dd6e-9b6d-4ce7-87c2-2f966b280099",
   "metadata": {},
   "source": [
    "We can wrap `data1` with two sets of square brackets if we prefer our result as a data frame instead of a series."
   ]
  },
  {
   "cell_type": "code",
   "execution_count": 7,
   "id": "0fd1c03a-e3e5-4bf9-a981-23488820dcd5",
   "metadata": {},
   "outputs": [
    {
     "data": {
      "text/html": [
       "<div>\n",
       "<style scoped>\n",
       "    .dataframe tbody tr th:only-of-type {\n",
       "        vertical-align: middle;\n",
       "    }\n",
       "\n",
       "    .dataframe tbody tr th {\n",
       "        vertical-align: top;\n",
       "    }\n",
       "\n",
       "    .dataframe thead th {\n",
       "        text-align: right;\n",
       "    }\n",
       "</style>\n",
       "<table border=\"1\" class=\"dataframe\">\n",
       "  <thead>\n",
       "    <tr style=\"text-align: right;\">\n",
       "      <th></th>\n",
       "      <th>data1</th>\n",
       "    </tr>\n",
       "    <tr>\n",
       "      <th>key1</th>\n",
       "      <th></th>\n",
       "    </tr>\n",
       "  </thead>\n",
       "  <tbody>\n",
       "    <tr>\n",
       "      <th>a</th>\n",
       "      <td>0.0414</td>\n",
       "    </tr>\n",
       "    <tr>\n",
       "      <th>b</th>\n",
       "      <td>1.0854</td>\n",
       "    </tr>\n",
       "  </tbody>\n",
       "</table>\n",
       "</div>"
      ],
      "text/plain": [
       "      data1\n",
       "key1       \n",
       "a    0.0414\n",
       "b    1.0854"
      ]
     },
     "execution_count": 7,
     "metadata": {},
     "output_type": "execute_result"
    }
   ],
   "source": [
    "df[['data1']].groupby(df['key1']).mean()"
   ]
  },
  {
   "cell_type": "markdown",
   "id": "1f1b6977-c40b-4773-95e6-bf12a81cd0f3",
   "metadata": {},
   "source": [
    "We can group by more than one variable!"
   ]
  },
  {
   "cell_type": "code",
   "execution_count": 8,
   "id": "2d0dd8df-7ccc-4eb3-8a50-a156a871f605",
   "metadata": {
    "deletable": true,
    "editable": true
   },
   "outputs": [
    {
     "data": {
      "text/plain": [
       "key1  key2\n",
       "a     one     0.1313\n",
       "      two    -0.1383\n",
       "b     one     0.6477\n",
       "      two     1.5230\n",
       "Name: data1, dtype: float64"
      ]
     },
     "execution_count": 8,
     "metadata": {},
     "output_type": "execute_result"
    }
   ],
   "source": [
    "means = df['data1'].groupby([df['key1'], df['key2']]).mean()\n",
    "means"
   ]
  },
  {
   "cell_type": "markdown",
   "id": "c1f6d717-c704-4b19-989f-c52b97b75f15",
   "metadata": {},
   "source": [
    "We can use the `.unstack()` method if we want to use both rows and columns to organize data.\n",
    "Recall that the `.unstack()` method un-stacks the inner index level (i.e., `level = -1`) by default so that `key2` values become the columns."
   ]
  },
  {
   "cell_type": "code",
   "execution_count": 9,
   "id": "d7d539c8-cbb9-48e8-b6ba-eccf19ba7706",
   "metadata": {
    "deletable": true,
    "editable": true
   },
   "outputs": [
    {
     "data": {
      "text/html": [
       "<div>\n",
       "<style scoped>\n",
       "    .dataframe tbody tr th:only-of-type {\n",
       "        vertical-align: middle;\n",
       "    }\n",
       "\n",
       "    .dataframe tbody tr th {\n",
       "        vertical-align: top;\n",
       "    }\n",
       "\n",
       "    .dataframe thead th {\n",
       "        text-align: right;\n",
       "    }\n",
       "</style>\n",
       "<table border=\"1\" class=\"dataframe\">\n",
       "  <thead>\n",
       "    <tr style=\"text-align: right;\">\n",
       "      <th>key2</th>\n",
       "      <th>one</th>\n",
       "      <th>two</th>\n",
       "    </tr>\n",
       "    <tr>\n",
       "      <th>key1</th>\n",
       "      <th></th>\n",
       "      <th></th>\n",
       "    </tr>\n",
       "  </thead>\n",
       "  <tbody>\n",
       "    <tr>\n",
       "      <th>a</th>\n",
       "      <td>0.1313</td>\n",
       "      <td>-0.1383</td>\n",
       "    </tr>\n",
       "    <tr>\n",
       "      <th>b</th>\n",
       "      <td>0.6477</td>\n",
       "      <td>1.5230</td>\n",
       "    </tr>\n",
       "  </tbody>\n",
       "</table>\n",
       "</div>"
      ],
      "text/plain": [
       "key2    one     two\n",
       "key1               \n",
       "a    0.1313 -0.1383\n",
       "b    0.6477  1.5230"
      ]
     },
     "execution_count": 9,
     "metadata": {},
     "output_type": "execute_result"
    }
   ],
   "source": [
    "means.unstack()"
   ]
  },
  {
   "cell_type": "markdown",
   "id": "f6976a75-2e43-4f76-b886-762652387c04",
   "metadata": {},
   "source": [
    "Our grouping variables are typically columns in the data frame we want to group, so the following syntax is more compact and easier to read."
   ]
  },
  {
   "cell_type": "code",
   "execution_count": 10,
   "id": "dd1d326a-9e52-4690-9301-f9511efe2456",
   "metadata": {},
   "outputs": [
    {
     "data": {
      "text/html": [
       "<div>\n",
       "<style scoped>\n",
       "    .dataframe tbody tr th:only-of-type {\n",
       "        vertical-align: middle;\n",
       "    }\n",
       "\n",
       "    .dataframe tbody tr th {\n",
       "        vertical-align: top;\n",
       "    }\n",
       "\n",
       "    .dataframe thead th {\n",
       "        text-align: right;\n",
       "    }\n",
       "</style>\n",
       "<table border=\"1\" class=\"dataframe\">\n",
       "  <thead>\n",
       "    <tr style=\"text-align: right;\">\n",
       "      <th>key2</th>\n",
       "      <th>one</th>\n",
       "      <th>two</th>\n",
       "    </tr>\n",
       "    <tr>\n",
       "      <th>key1</th>\n",
       "      <th></th>\n",
       "      <th></th>\n",
       "    </tr>\n",
       "  </thead>\n",
       "  <tbody>\n",
       "    <tr>\n",
       "      <th>a</th>\n",
       "      <td>0.1313</td>\n",
       "      <td>-0.1383</td>\n",
       "    </tr>\n",
       "    <tr>\n",
       "      <th>b</th>\n",
       "      <td>0.6477</td>\n",
       "      <td>1.5230</td>\n",
       "    </tr>\n",
       "  </tbody>\n",
       "</table>\n",
       "</div>"
      ],
      "text/plain": [
       "key2    one     two\n",
       "key1               \n",
       "a    0.1313 -0.1383\n",
       "b    0.6477  1.5230"
      ]
     },
     "execution_count": 10,
     "metadata": {},
     "output_type": "execute_result"
    }
   ],
   "source": [
    "df.groupby(['key1', 'key2'])['data1'].mean().unstack()"
   ]
  },
  {
   "cell_type": "markdown",
   "id": "7069da70-9934-48c6-86e4-ab1b4e635465",
   "metadata": {},
   "source": [
    "We can wrap long chains in parentheses to insert line breaks and improve readability."
   ]
  },
  {
   "cell_type": "code",
   "execution_count": 11,
   "id": "9f3fc6c6-36ff-4a7f-8a7b-925882f8ba3f",
   "metadata": {},
   "outputs": [
    {
     "data": {
      "text/html": [
       "<div>\n",
       "<style scoped>\n",
       "    .dataframe tbody tr th:only-of-type {\n",
       "        vertical-align: middle;\n",
       "    }\n",
       "\n",
       "    .dataframe tbody tr th {\n",
       "        vertical-align: top;\n",
       "    }\n",
       "\n",
       "    .dataframe thead th {\n",
       "        text-align: right;\n",
       "    }\n",
       "</style>\n",
       "<table border=\"1\" class=\"dataframe\">\n",
       "  <thead>\n",
       "    <tr style=\"text-align: right;\">\n",
       "      <th>key2</th>\n",
       "      <th>one</th>\n",
       "      <th>two</th>\n",
       "    </tr>\n",
       "    <tr>\n",
       "      <th>key1</th>\n",
       "      <th></th>\n",
       "      <th></th>\n",
       "    </tr>\n",
       "  </thead>\n",
       "  <tbody>\n",
       "    <tr>\n",
       "      <th>a</th>\n",
       "      <td>0.1313</td>\n",
       "      <td>-0.1383</td>\n",
       "    </tr>\n",
       "    <tr>\n",
       "      <th>b</th>\n",
       "      <td>0.6477</td>\n",
       "      <td>1.5230</td>\n",
       "    </tr>\n",
       "  </tbody>\n",
       "</table>\n",
       "</div>"
      ],
      "text/plain": [
       "key2    one     two\n",
       "key1               \n",
       "a    0.1313 -0.1383\n",
       "b    0.6477  1.5230"
      ]
     },
     "execution_count": 11,
     "metadata": {},
     "output_type": "execute_result"
    }
   ],
   "source": [
    "(\n",
    "    df\n",
    "    .groupby(['key1', 'key2'])\n",
    "    ['data1']\n",
    "    .mean()\n",
    "    .unstack()\n",
    ")"
   ]
  },
  {
   "cell_type": "markdown",
   "id": "aca3593a-580b-4417-aced-a5e86fe8ba93",
   "metadata": {},
   "source": [
    "*However, we must pass only numerical columns to numerical aggregation methods.*\n",
    "Otherwise, pandas will give a type error.\n",
    "For example, in the following code, pandas unsuccessfully tries to calculate the mean of string `key2`."
   ]
  },
  {
   "cell_type": "code",
   "execution_count": 12,
   "id": "c037d3c7-fc93-482c-a001-5bc65cd53f7f",
   "metadata": {
    "editable": true
   },
   "outputs": [],
   "source": [
    "# df.groupby('key1').mean() # TypeError: agg function failed [how->mean,dtype->object]"
   ]
  },
  {
   "cell_type": "markdown",
   "id": "e88ffcd9-7f37-4a8b-b3de-38c5449798b9",
   "metadata": {},
   "source": [
    "We avoid this error by slicing the numerical columns."
   ]
  },
  {
   "cell_type": "code",
   "execution_count": 13,
   "id": "8aa7e912-7b56-4b24-88da-4d3c42548290",
   "metadata": {
    "editable": true
   },
   "outputs": [
    {
     "data": {
      "text/html": [
       "<div>\n",
       "<style scoped>\n",
       "    .dataframe tbody tr th:only-of-type {\n",
       "        vertical-align: middle;\n",
       "    }\n",
       "\n",
       "    .dataframe tbody tr th {\n",
       "        vertical-align: top;\n",
       "    }\n",
       "\n",
       "    .dataframe thead th {\n",
       "        text-align: right;\n",
       "    }\n",
       "</style>\n",
       "<table border=\"1\" class=\"dataframe\">\n",
       "  <thead>\n",
       "    <tr style=\"text-align: right;\">\n",
       "      <th></th>\n",
       "      <th>data1</th>\n",
       "      <th>data2</th>\n",
       "    </tr>\n",
       "    <tr>\n",
       "      <th>key1</th>\n",
       "      <th></th>\n",
       "      <th></th>\n",
       "    </tr>\n",
       "  </thead>\n",
       "  <tbody>\n",
       "    <tr>\n",
       "      <th>a</th>\n",
       "      <td>0.0414</td>\n",
       "      <td>0.6292</td>\n",
       "    </tr>\n",
       "    <tr>\n",
       "      <th>b</th>\n",
       "      <td>1.0854</td>\n",
       "      <td>0.1490</td>\n",
       "    </tr>\n",
       "  </tbody>\n",
       "</table>\n",
       "</div>"
      ],
      "text/plain": [
       "      data1  data2\n",
       "key1              \n",
       "a    0.0414 0.6292\n",
       "b    1.0854 0.1490"
      ]
     },
     "execution_count": 13,
     "metadata": {},
     "output_type": "execute_result"
    }
   ],
   "source": [
    "df.groupby('key1')[['data1', 'data2']].mean()"
   ]
  },
  {
   "cell_type": "markdown",
   "id": "f5dee81a-155e-4fa4-8b2d-e673d6aab3bd",
   "metadata": {},
   "source": [
    "### Grouping with Functions"
   ]
  },
  {
   "cell_type": "markdown",
   "id": "6d658837-5d1b-4ffa-9def-8d448a2419a8",
   "metadata": {},
   "source": [
    "We can also group with functions.\n",
    "Below, we group with the `len` function, which calculates the lengths of the labels in the row index."
   ]
  },
  {
   "cell_type": "code",
   "execution_count": 14,
   "id": "2c4021f2-5b80-4bab-bca2-cce29308a514",
   "metadata": {
    "tags": []
   },
   "outputs": [
    {
     "data": {
      "text/html": [
       "<div>\n",
       "<style scoped>\n",
       "    .dataframe tbody tr th:only-of-type {\n",
       "        vertical-align: middle;\n",
       "    }\n",
       "\n",
       "    .dataframe tbody tr th {\n",
       "        vertical-align: top;\n",
       "    }\n",
       "\n",
       "    .dataframe thead th {\n",
       "        text-align: right;\n",
       "    }\n",
       "</style>\n",
       "<table border=\"1\" class=\"dataframe\">\n",
       "  <thead>\n",
       "    <tr style=\"text-align: right;\">\n",
       "      <th></th>\n",
       "      <th>a</th>\n",
       "      <th>b</th>\n",
       "      <th>c</th>\n",
       "      <th>d</th>\n",
       "      <th>e</th>\n",
       "    </tr>\n",
       "  </thead>\n",
       "  <tbody>\n",
       "    <tr>\n",
       "      <th>Joe</th>\n",
       "      <td>0.4967</td>\n",
       "      <td>-0.1383</td>\n",
       "      <td>0.6477</td>\n",
       "      <td>1.5230</td>\n",
       "      <td>-0.2342</td>\n",
       "    </tr>\n",
       "    <tr>\n",
       "      <th>Steve</th>\n",
       "      <td>-0.2341</td>\n",
       "      <td>1.5792</td>\n",
       "      <td>0.7674</td>\n",
       "      <td>-0.4695</td>\n",
       "      <td>0.5426</td>\n",
       "    </tr>\n",
       "    <tr>\n",
       "      <th>Wes</th>\n",
       "      <td>-0.4634</td>\n",
       "      <td>-0.4657</td>\n",
       "      <td>0.2420</td>\n",
       "      <td>-1.9133</td>\n",
       "      <td>-1.7249</td>\n",
       "    </tr>\n",
       "    <tr>\n",
       "      <th>Jim</th>\n",
       "      <td>-0.5623</td>\n",
       "      <td>-1.0128</td>\n",
       "      <td>0.3142</td>\n",
       "      <td>-0.9080</td>\n",
       "      <td>-1.4123</td>\n",
       "    </tr>\n",
       "    <tr>\n",
       "      <th>Travis</th>\n",
       "      <td>1.4656</td>\n",
       "      <td>-0.2258</td>\n",
       "      <td>0.0675</td>\n",
       "      <td>-1.4247</td>\n",
       "      <td>-0.5444</td>\n",
       "    </tr>\n",
       "  </tbody>\n",
       "</table>\n",
       "</div>"
      ],
      "text/plain": [
       "             a       b      c       d       e\n",
       "Joe     0.4967 -0.1383 0.6477  1.5230 -0.2342\n",
       "Steve  -0.2341  1.5792 0.7674 -0.4695  0.5426\n",
       "Wes    -0.4634 -0.4657 0.2420 -1.9133 -1.7249\n",
       "Jim    -0.5623 -1.0128 0.3142 -0.9080 -1.4123\n",
       "Travis  1.4656 -0.2258 0.0675 -1.4247 -0.5444"
      ]
     },
     "execution_count": 14,
     "metadata": {},
     "output_type": "execute_result"
    }
   ],
   "source": [
    "np.random.seed(42)\n",
    "people = pd.DataFrame(\n",
    "    data=np.random.randn(5, 5), \n",
    "    columns=['a', 'b', 'c', 'd', 'e'], \n",
    "    index=['Joe', 'Steve', 'Wes', 'Jim', 'Travis']\n",
    ")\n",
    "\n",
    "people"
   ]
  },
  {
   "cell_type": "code",
   "execution_count": 15,
   "id": "3824b254-0f9d-4d64-a8d0-b2e92f9fa84b",
   "metadata": {
    "deletable": true,
    "editable": true
   },
   "outputs": [
    {
     "data": {
      "text/html": [
       "<div>\n",
       "<style scoped>\n",
       "    .dataframe tbody tr th:only-of-type {\n",
       "        vertical-align: middle;\n",
       "    }\n",
       "\n",
       "    .dataframe tbody tr th {\n",
       "        vertical-align: top;\n",
       "    }\n",
       "\n",
       "    .dataframe thead th {\n",
       "        text-align: right;\n",
       "    }\n",
       "</style>\n",
       "<table border=\"1\" class=\"dataframe\">\n",
       "  <thead>\n",
       "    <tr style=\"text-align: right;\">\n",
       "      <th></th>\n",
       "      <th>a</th>\n",
       "      <th>b</th>\n",
       "      <th>c</th>\n",
       "      <th>d</th>\n",
       "      <th>e</th>\n",
       "    </tr>\n",
       "  </thead>\n",
       "  <tbody>\n",
       "    <tr>\n",
       "      <th>3</th>\n",
       "      <td>-0.5290</td>\n",
       "      <td>-1.6168</td>\n",
       "      <td>1.2039</td>\n",
       "      <td>-1.2983</td>\n",
       "      <td>-3.3714</td>\n",
       "    </tr>\n",
       "    <tr>\n",
       "      <th>5</th>\n",
       "      <td>-0.2341</td>\n",
       "      <td>1.5792</td>\n",
       "      <td>0.7674</td>\n",
       "      <td>-0.4695</td>\n",
       "      <td>0.5426</td>\n",
       "    </tr>\n",
       "    <tr>\n",
       "      <th>6</th>\n",
       "      <td>1.4656</td>\n",
       "      <td>-0.2258</td>\n",
       "      <td>0.0675</td>\n",
       "      <td>-1.4247</td>\n",
       "      <td>-0.5444</td>\n",
       "    </tr>\n",
       "  </tbody>\n",
       "</table>\n",
       "</div>"
      ],
      "text/plain": [
       "        a       b      c       d       e\n",
       "3 -0.5290 -1.6168 1.2039 -1.2983 -3.3714\n",
       "5 -0.2341  1.5792 0.7674 -0.4695  0.5426\n",
       "6  1.4656 -0.2258 0.0675 -1.4247 -0.5444"
      ]
     },
     "execution_count": 15,
     "metadata": {},
     "output_type": "execute_result"
    }
   ],
   "source": [
    "people.groupby(len).sum()"
   ]
  },
  {
   "cell_type": "markdown",
   "id": "84678b65-9628-4ec7-b4e3-030baa36934d",
   "metadata": {},
   "source": [
    "We can mix functions, lists, dictionaries, etc., as arguments to the `.groupby()` method."
   ]
  },
  {
   "cell_type": "code",
   "execution_count": 16,
   "id": "ccf15091-f0e3-4b92-9fcc-fc38e4023bf6",
   "metadata": {
    "deletable": true,
    "editable": true
   },
   "outputs": [
    {
     "data": {
      "text/html": [
       "<div>\n",
       "<style scoped>\n",
       "    .dataframe tbody tr th:only-of-type {\n",
       "        vertical-align: middle;\n",
       "    }\n",
       "\n",
       "    .dataframe tbody tr th {\n",
       "        vertical-align: top;\n",
       "    }\n",
       "\n",
       "    .dataframe thead th {\n",
       "        text-align: right;\n",
       "    }\n",
       "</style>\n",
       "<table border=\"1\" class=\"dataframe\">\n",
       "  <thead>\n",
       "    <tr style=\"text-align: right;\">\n",
       "      <th></th>\n",
       "      <th></th>\n",
       "      <th>a</th>\n",
       "      <th>b</th>\n",
       "      <th>c</th>\n",
       "      <th>d</th>\n",
       "      <th>e</th>\n",
       "    </tr>\n",
       "  </thead>\n",
       "  <tbody>\n",
       "    <tr>\n",
       "      <th rowspan=\"2\" valign=\"top\">3</th>\n",
       "      <th>one</th>\n",
       "      <td>-0.4634</td>\n",
       "      <td>-0.4657</td>\n",
       "      <td>0.2420</td>\n",
       "      <td>-1.9133</td>\n",
       "      <td>-1.7249</td>\n",
       "    </tr>\n",
       "    <tr>\n",
       "      <th>two</th>\n",
       "      <td>-0.5623</td>\n",
       "      <td>-1.0128</td>\n",
       "      <td>0.3142</td>\n",
       "      <td>-0.9080</td>\n",
       "      <td>-1.4123</td>\n",
       "    </tr>\n",
       "    <tr>\n",
       "      <th>5</th>\n",
       "      <th>one</th>\n",
       "      <td>-0.2341</td>\n",
       "      <td>1.5792</td>\n",
       "      <td>0.7674</td>\n",
       "      <td>-0.4695</td>\n",
       "      <td>0.5426</td>\n",
       "    </tr>\n",
       "    <tr>\n",
       "      <th>6</th>\n",
       "      <th>two</th>\n",
       "      <td>1.4656</td>\n",
       "      <td>-0.2258</td>\n",
       "      <td>0.0675</td>\n",
       "      <td>-1.4247</td>\n",
       "      <td>-0.5444</td>\n",
       "    </tr>\n",
       "  </tbody>\n",
       "</table>\n",
       "</div>"
      ],
      "text/plain": [
       "            a       b      c       d       e\n",
       "3 one -0.4634 -0.4657 0.2420 -1.9133 -1.7249\n",
       "  two -0.5623 -1.0128 0.3142 -0.9080 -1.4123\n",
       "5 one -0.2341  1.5792 0.7674 -0.4695  0.5426\n",
       "6 two  1.4656 -0.2258 0.0675 -1.4247 -0.5444"
      ]
     },
     "execution_count": 16,
     "metadata": {},
     "output_type": "execute_result"
    }
   ],
   "source": [
    "key_list = ['one', 'one', 'one', 'two', 'two']\n",
    "people.groupby([len, key_list]).min()"
   ]
  },
  {
   "cell_type": "code",
   "execution_count": 17,
   "id": "7becd9ef-9edc-4421-bf7d-6f07a9474e26",
   "metadata": {},
   "outputs": [
    {
     "data": {
      "text/html": [
       "<div>\n",
       "<style scoped>\n",
       "    .dataframe tbody tr th:only-of-type {\n",
       "        vertical-align: middle;\n",
       "    }\n",
       "\n",
       "    .dataframe tbody tr th {\n",
       "        vertical-align: top;\n",
       "    }\n",
       "\n",
       "    .dataframe thead th {\n",
       "        text-align: right;\n",
       "    }\n",
       "</style>\n",
       "<table border=\"1\" class=\"dataframe\">\n",
       "  <thead>\n",
       "    <tr style=\"text-align: right;\">\n",
       "      <th></th>\n",
       "      <th></th>\n",
       "      <th>a</th>\n",
       "      <th>b</th>\n",
       "      <th>c</th>\n",
       "      <th>d</th>\n",
       "      <th>e</th>\n",
       "    </tr>\n",
       "  </thead>\n",
       "  <tbody>\n",
       "    <tr>\n",
       "      <th rowspan=\"2\" valign=\"top\">3</th>\n",
       "      <th>a</th>\n",
       "      <td>0.4967</td>\n",
       "      <td>-0.1383</td>\n",
       "      <td>0.6477</td>\n",
       "      <td>1.5230</td>\n",
       "      <td>-0.2342</td>\n",
       "    </tr>\n",
       "    <tr>\n",
       "      <th>b</th>\n",
       "      <td>-0.5623</td>\n",
       "      <td>-1.0128</td>\n",
       "      <td>0.3142</td>\n",
       "      <td>-0.9080</td>\n",
       "      <td>-1.4123</td>\n",
       "    </tr>\n",
       "  </tbody>\n",
       "</table>\n",
       "</div>"
      ],
      "text/plain": [
       "          a       b      c       d       e\n",
       "3 a  0.4967 -0.1383 0.6477  1.5230 -0.2342\n",
       "  b -0.5623 -1.0128 0.3142 -0.9080 -1.4123"
      ]
     },
     "execution_count": 17,
     "metadata": {},
     "output_type": "execute_result"
    }
   ],
   "source": [
    "d = {'Joe': 'a', 'Jim': 'b'}\n",
    "people.groupby([len, d]).min()"
   ]
  },
  {
   "cell_type": "code",
   "execution_count": 18,
   "id": "f6aa84bf-aaaa-4c8a-a87f-5b7d8e572337",
   "metadata": {},
   "outputs": [
    {
     "data": {
      "text/html": [
       "<div>\n",
       "<style scoped>\n",
       "    .dataframe tbody tr th:only-of-type {\n",
       "        vertical-align: middle;\n",
       "    }\n",
       "\n",
       "    .dataframe tbody tr th {\n",
       "        vertical-align: top;\n",
       "    }\n",
       "\n",
       "    .dataframe thead th {\n",
       "        text-align: right;\n",
       "    }\n",
       "</style>\n",
       "<table border=\"1\" class=\"dataframe\">\n",
       "  <thead>\n",
       "    <tr style=\"text-align: right;\">\n",
       "      <th></th>\n",
       "      <th></th>\n",
       "      <th>a</th>\n",
       "      <th>b</th>\n",
       "      <th>c</th>\n",
       "      <th>d</th>\n",
       "      <th>e</th>\n",
       "    </tr>\n",
       "  </thead>\n",
       "  <tbody>\n",
       "    <tr>\n",
       "      <th rowspan=\"2\" valign=\"top\">3</th>\n",
       "      <th>Cool</th>\n",
       "      <td>0.4967</td>\n",
       "      <td>-0.1383</td>\n",
       "      <td>0.6477</td>\n",
       "      <td>1.5230</td>\n",
       "      <td>-0.2342</td>\n",
       "    </tr>\n",
       "    <tr>\n",
       "      <th>Nerd</th>\n",
       "      <td>-0.5623</td>\n",
       "      <td>-1.0128</td>\n",
       "      <td>0.3142</td>\n",
       "      <td>-0.9080</td>\n",
       "      <td>-1.4123</td>\n",
       "    </tr>\n",
       "    <tr>\n",
       "      <th>6</th>\n",
       "      <th>Cool</th>\n",
       "      <td>1.4656</td>\n",
       "      <td>-0.2258</td>\n",
       "      <td>0.0675</td>\n",
       "      <td>-1.4247</td>\n",
       "      <td>-0.5444</td>\n",
       "    </tr>\n",
       "  </tbody>\n",
       "</table>\n",
       "</div>"
      ],
      "text/plain": [
       "             a       b      c       d       e\n",
       "3 Cool  0.4967 -0.1383 0.6477  1.5230 -0.2342\n",
       "  Nerd -0.5623 -1.0128 0.3142 -0.9080 -1.4123\n",
       "6 Cool  1.4656 -0.2258 0.0675 -1.4247 -0.5444"
      ]
     },
     "execution_count": 18,
     "metadata": {},
     "output_type": "execute_result"
    }
   ],
   "source": [
    "d_2 = {'Joe': 'Cool', 'Jim': 'Nerd', 'Travis': 'Cool'}\n",
    "people.groupby([len, d_2]).min()"
   ]
  },
  {
   "cell_type": "markdown",
   "id": "29fe04e1-198e-4b70-9ccf-213d20aebec1",
   "metadata": {},
   "source": [
    "### Grouping by Index Levels"
   ]
  },
  {
   "cell_type": "markdown",
   "id": "132a09ed-358d-4a4a-b656-9ccfc66985b3",
   "metadata": {},
   "source": [
    "We can also group by index levels."
   ]
  },
  {
   "cell_type": "code",
   "execution_count": 19,
   "id": "eac7634a-9a86-4f5f-b5a0-13fae0c0f773",
   "metadata": {
    "deletable": true,
    "editable": true
   },
   "outputs": [
    {
     "data": {
      "text/html": [
       "<div>\n",
       "<style scoped>\n",
       "    .dataframe tbody tr th:only-of-type {\n",
       "        vertical-align: middle;\n",
       "    }\n",
       "\n",
       "    .dataframe tbody tr th {\n",
       "        vertical-align: top;\n",
       "    }\n",
       "\n",
       "    .dataframe thead th {\n",
       "        text-align: right;\n",
       "    }\n",
       "</style>\n",
       "<table border=\"1\" class=\"dataframe\">\n",
       "  <thead>\n",
       "    <tr style=\"text-align: right;\">\n",
       "      <th></th>\n",
       "      <th></th>\n",
       "      <th>0</th>\n",
       "      <th>1</th>\n",
       "      <th>2</th>\n",
       "      <th>3</th>\n",
       "    </tr>\n",
       "    <tr>\n",
       "      <th>cty</th>\n",
       "      <th>tenor</th>\n",
       "      <th></th>\n",
       "      <th></th>\n",
       "      <th></th>\n",
       "      <th></th>\n",
       "    </tr>\n",
       "  </thead>\n",
       "  <tbody>\n",
       "    <tr>\n",
       "      <th rowspan=\"3\" valign=\"top\">US</th>\n",
       "      <th>1</th>\n",
       "      <td>0.1109</td>\n",
       "      <td>-0.6017</td>\n",
       "      <td>-1.2208</td>\n",
       "      <td>0.7385</td>\n",
       "    </tr>\n",
       "    <tr>\n",
       "      <th>3</th>\n",
       "      <td>-1.1510</td>\n",
       "      <td>1.8523</td>\n",
       "      <td>0.2089</td>\n",
       "      <td>0.1714</td>\n",
       "    </tr>\n",
       "    <tr>\n",
       "      <th>5</th>\n",
       "      <td>0.3757</td>\n",
       "      <td>-0.0135</td>\n",
       "      <td>-1.9597</td>\n",
       "      <td>-0.1156</td>\n",
       "    </tr>\n",
       "    <tr>\n",
       "      <th rowspan=\"2\" valign=\"top\">JP</th>\n",
       "      <th>1</th>\n",
       "      <td>-0.6006</td>\n",
       "      <td>-1.0577</td>\n",
       "      <td>-1.3282</td>\n",
       "      <td>-0.3011</td>\n",
       "    </tr>\n",
       "    <tr>\n",
       "      <th>3</th>\n",
       "      <td>-0.2917</td>\n",
       "      <td>0.8225</td>\n",
       "      <td>0.1969</td>\n",
       "      <td>-1.4785</td>\n",
       "    </tr>\n",
       "  </tbody>\n",
       "</table>\n",
       "</div>"
      ],
      "text/plain": [
       "                0       1       2       3\n",
       "cty tenor                                \n",
       "US  1      0.1109 -0.6017 -1.2208  0.7385\n",
       "    3     -1.1510  1.8523  0.2089  0.1714\n",
       "    5      0.3757 -0.0135 -1.9597 -0.1156\n",
       "JP  1     -0.6006 -1.0577 -1.3282 -0.3011\n",
       "    3     -0.2917  0.8225  0.1969 -1.4785"
      ]
     },
     "execution_count": 19,
     "metadata": {},
     "output_type": "execute_result"
    }
   ],
   "source": [
    "columns = pd.MultiIndex.from_arrays([['US', 'US', 'US', 'JP', 'JP'],\n",
    "                                    [1, 3, 5, 1, 3]],\n",
    "                                    names=['cty', 'tenor'])\n",
    "hier_df = pd.DataFrame(np.random.randn(4, 5), columns=columns).transpose()\n",
    "hier_df"
   ]
  },
  {
   "cell_type": "code",
   "execution_count": 20,
   "id": "e47b2297-81cd-46b8-8064-ec944f576104",
   "metadata": {
    "deletable": true,
    "editable": true
   },
   "outputs": [
    {
     "data": {
      "text/html": [
       "<div>\n",
       "<style scoped>\n",
       "    .dataframe tbody tr th:only-of-type {\n",
       "        vertical-align: middle;\n",
       "    }\n",
       "\n",
       "    .dataframe tbody tr th {\n",
       "        vertical-align: top;\n",
       "    }\n",
       "\n",
       "    .dataframe thead th {\n",
       "        text-align: right;\n",
       "    }\n",
       "</style>\n",
       "<table border=\"1\" class=\"dataframe\">\n",
       "  <thead>\n",
       "    <tr style=\"text-align: right;\">\n",
       "      <th></th>\n",
       "      <th>0</th>\n",
       "      <th>1</th>\n",
       "      <th>2</th>\n",
       "      <th>3</th>\n",
       "    </tr>\n",
       "    <tr>\n",
       "      <th>cty</th>\n",
       "      <th></th>\n",
       "      <th></th>\n",
       "      <th></th>\n",
       "      <th></th>\n",
       "    </tr>\n",
       "  </thead>\n",
       "  <tbody>\n",
       "    <tr>\n",
       "      <th>JP</th>\n",
       "      <td>2</td>\n",
       "      <td>2</td>\n",
       "      <td>2</td>\n",
       "      <td>2</td>\n",
       "    </tr>\n",
       "    <tr>\n",
       "      <th>US</th>\n",
       "      <td>3</td>\n",
       "      <td>3</td>\n",
       "      <td>3</td>\n",
       "      <td>3</td>\n",
       "    </tr>\n",
       "  </tbody>\n",
       "</table>\n",
       "</div>"
      ],
      "text/plain": [
       "     0  1  2  3\n",
       "cty            \n",
       "JP   2  2  2  2\n",
       "US   3  3  3  3"
      ]
     },
     "execution_count": 20,
     "metadata": {},
     "output_type": "execute_result"
    }
   ],
   "source": [
    "hier_df.groupby(level='cty').count()"
   ]
  },
  {
   "cell_type": "code",
   "execution_count": 21,
   "id": "6d6e0379-fce1-459c-8c1e-469b9ef49546",
   "metadata": {
    "editable": true
   },
   "outputs": [
    {
     "data": {
      "text/html": [
       "<div>\n",
       "<style scoped>\n",
       "    .dataframe tbody tr th:only-of-type {\n",
       "        vertical-align: middle;\n",
       "    }\n",
       "\n",
       "    .dataframe tbody tr th {\n",
       "        vertical-align: top;\n",
       "    }\n",
       "\n",
       "    .dataframe thead th {\n",
       "        text-align: right;\n",
       "    }\n",
       "</style>\n",
       "<table border=\"1\" class=\"dataframe\">\n",
       "  <thead>\n",
       "    <tr style=\"text-align: right;\">\n",
       "      <th></th>\n",
       "      <th>0</th>\n",
       "      <th>1</th>\n",
       "      <th>2</th>\n",
       "      <th>3</th>\n",
       "    </tr>\n",
       "    <tr>\n",
       "      <th>tenor</th>\n",
       "      <th></th>\n",
       "      <th></th>\n",
       "      <th></th>\n",
       "      <th></th>\n",
       "    </tr>\n",
       "  </thead>\n",
       "  <tbody>\n",
       "    <tr>\n",
       "      <th>1</th>\n",
       "      <td>2</td>\n",
       "      <td>2</td>\n",
       "      <td>2</td>\n",
       "      <td>2</td>\n",
       "    </tr>\n",
       "    <tr>\n",
       "      <th>3</th>\n",
       "      <td>2</td>\n",
       "      <td>2</td>\n",
       "      <td>2</td>\n",
       "      <td>2</td>\n",
       "    </tr>\n",
       "    <tr>\n",
       "      <th>5</th>\n",
       "      <td>1</td>\n",
       "      <td>1</td>\n",
       "      <td>1</td>\n",
       "      <td>1</td>\n",
       "    </tr>\n",
       "  </tbody>\n",
       "</table>\n",
       "</div>"
      ],
      "text/plain": [
       "       0  1  2  3\n",
       "tenor            \n",
       "1      2  2  2  2\n",
       "3      2  2  2  2\n",
       "5      1  1  1  1"
      ]
     },
     "execution_count": 21,
     "metadata": {},
     "output_type": "execute_result"
    }
   ],
   "source": [
    "hier_df.groupby(level='tenor').count()"
   ]
  },
  {
   "cell_type": "markdown",
   "id": "895d8c0c-829a-4299-9fa6-f77ca466446c",
   "metadata": {
    "tags": [],
    "toc-hr-collapsed": true
   },
   "source": [
    "## Data Aggregation"
   ]
  },
  {
   "cell_type": "markdown",
   "id": "1d43f8d7-51dd-4bb2-83fb-b42135980c27",
   "metadata": {},
   "source": [
    "***Table 10-1*** summarizes the optimized groupby methods:\n",
    "\n",
    "- `count`: Number of non-NA values in the group\n",
    "- `sum`: Sum of non-NA values\n",
    "- `mean`: Mean of non-NA values\n",
    "- `median`: Arithmetic median of non-NA values\n",
    "- `std`, `var`: Unbiased (n – 1 denominator) standard deviation and variance\n",
    "- `min`, `max`: Minimum and maximum of non-NA values\n",
    "- `prod`: Product of non-NA values\n",
    "- `first`, `last`: First and last non-NA values"
   ]
  },
  {
   "cell_type": "markdown",
   "id": "b9c6d03f-7f41-4475-98c6-68feb80ce477",
   "metadata": {},
   "source": [
    "These optimized methods are fast and efficient.\n",
    "Still, pandas lets us use non-optimized methods.\n",
    "First, any series method is available."
   ]
  },
  {
   "cell_type": "code",
   "execution_count": 22,
   "id": "d3fb7980-abc4-4535-b6fc-1afeab527eb5",
   "metadata": {},
   "outputs": [
    {
     "data": {
      "text/html": [
       "<div>\n",
       "<style scoped>\n",
       "    .dataframe tbody tr th:only-of-type {\n",
       "        vertical-align: middle;\n",
       "    }\n",
       "\n",
       "    .dataframe tbody tr th {\n",
       "        vertical-align: top;\n",
       "    }\n",
       "\n",
       "    .dataframe thead th {\n",
       "        text-align: right;\n",
       "    }\n",
       "</style>\n",
       "<table border=\"1\" class=\"dataframe\">\n",
       "  <thead>\n",
       "    <tr style=\"text-align: right;\">\n",
       "      <th></th>\n",
       "      <th>key1</th>\n",
       "      <th>key2</th>\n",
       "      <th>data1</th>\n",
       "      <th>data2</th>\n",
       "    </tr>\n",
       "  </thead>\n",
       "  <tbody>\n",
       "    <tr>\n",
       "      <th>0</th>\n",
       "      <td>a</td>\n",
       "      <td>one</td>\n",
       "      <td>0.4967</td>\n",
       "      <td>-0.2341</td>\n",
       "    </tr>\n",
       "    <tr>\n",
       "      <th>1</th>\n",
       "      <td>a</td>\n",
       "      <td>two</td>\n",
       "      <td>-0.1383</td>\n",
       "      <td>1.5792</td>\n",
       "    </tr>\n",
       "    <tr>\n",
       "      <th>2</th>\n",
       "      <td>b</td>\n",
       "      <td>one</td>\n",
       "      <td>0.6477</td>\n",
       "      <td>0.7674</td>\n",
       "    </tr>\n",
       "    <tr>\n",
       "      <th>3</th>\n",
       "      <td>b</td>\n",
       "      <td>two</td>\n",
       "      <td>1.5230</td>\n",
       "      <td>-0.4695</td>\n",
       "    </tr>\n",
       "    <tr>\n",
       "      <th>4</th>\n",
       "      <td>a</td>\n",
       "      <td>one</td>\n",
       "      <td>-0.2342</td>\n",
       "      <td>0.5426</td>\n",
       "    </tr>\n",
       "  </tbody>\n",
       "</table>\n",
       "</div>"
      ],
      "text/plain": [
       "  key1 key2   data1   data2\n",
       "0    a  one  0.4967 -0.2341\n",
       "1    a  two -0.1383  1.5792\n",
       "2    b  one  0.6477  0.7674\n",
       "3    b  two  1.5230 -0.4695\n",
       "4    a  one -0.2342  0.5426"
      ]
     },
     "execution_count": 22,
     "metadata": {},
     "output_type": "execute_result"
    }
   ],
   "source": [
    "df"
   ]
  },
  {
   "cell_type": "code",
   "execution_count": 23,
   "id": "97ae51b4-30cf-469a-b009-028a43053b49",
   "metadata": {},
   "outputs": [
    {
     "data": {
      "text/plain": [
       "key1\n",
       "a   0.3697\n",
       "b   1.4355\n",
       "Name: data1, dtype: float64"
      ]
     },
     "execution_count": 23,
     "metadata": {},
     "output_type": "execute_result"
    }
   ],
   "source": [
    "df.groupby('key1')['data1'].quantile(0.9)"
   ]
  },
  {
   "cell_type": "markdown",
   "id": "38963adc-6acf-4874-b0f6-c2df9b8eb19f",
   "metadata": {},
   "source": [
    "Second, we can write functions and pass them to the `.agg()` method.\n",
    "These functions should accept an array and return a single value."
   ]
  },
  {
   "cell_type": "code",
   "execution_count": 24,
   "id": "9342d63a-f86f-4c81-a5df-91247d7561d1",
   "metadata": {
    "deletable": true,
    "editable": true
   },
   "outputs": [],
   "source": [
    "def max_minus_min(arr):\n",
    "    return arr.max() - arr.min()"
   ]
  },
  {
   "cell_type": "code",
   "execution_count": 25,
   "id": "a6f28306-d848-4b71-9f33-7599fa69634d",
   "metadata": {},
   "outputs": [
    {
     "data": {
      "text/html": [
       "<div>\n",
       "<style scoped>\n",
       "    .dataframe tbody tr th:only-of-type {\n",
       "        vertical-align: middle;\n",
       "    }\n",
       "\n",
       "    .dataframe tbody tr th {\n",
       "        vertical-align: top;\n",
       "    }\n",
       "\n",
       "    .dataframe thead th {\n",
       "        text-align: right;\n",
       "    }\n",
       "</style>\n",
       "<table border=\"1\" class=\"dataframe\">\n",
       "  <thead>\n",
       "    <tr style=\"text-align: right;\">\n",
       "      <th></th>\n",
       "      <th>key1</th>\n",
       "      <th>key2</th>\n",
       "      <th>data1</th>\n",
       "      <th>data2</th>\n",
       "    </tr>\n",
       "  </thead>\n",
       "  <tbody>\n",
       "    <tr>\n",
       "      <th>4</th>\n",
       "      <td>a</td>\n",
       "      <td>one</td>\n",
       "      <td>-0.2342</td>\n",
       "      <td>0.5426</td>\n",
       "    </tr>\n",
       "    <tr>\n",
       "      <th>1</th>\n",
       "      <td>a</td>\n",
       "      <td>two</td>\n",
       "      <td>-0.1383</td>\n",
       "      <td>1.5792</td>\n",
       "    </tr>\n",
       "    <tr>\n",
       "      <th>0</th>\n",
       "      <td>a</td>\n",
       "      <td>one</td>\n",
       "      <td>0.4967</td>\n",
       "      <td>-0.2341</td>\n",
       "    </tr>\n",
       "    <tr>\n",
       "      <th>2</th>\n",
       "      <td>b</td>\n",
       "      <td>one</td>\n",
       "      <td>0.6477</td>\n",
       "      <td>0.7674</td>\n",
       "    </tr>\n",
       "    <tr>\n",
       "      <th>3</th>\n",
       "      <td>b</td>\n",
       "      <td>two</td>\n",
       "      <td>1.5230</td>\n",
       "      <td>-0.4695</td>\n",
       "    </tr>\n",
       "  </tbody>\n",
       "</table>\n",
       "</div>"
      ],
      "text/plain": [
       "  key1 key2   data1   data2\n",
       "4    a  one -0.2342  0.5426\n",
       "1    a  two -0.1383  1.5792\n",
       "0    a  one  0.4967 -0.2341\n",
       "2    b  one  0.6477  0.7674\n",
       "3    b  two  1.5230 -0.4695"
      ]
     },
     "execution_count": 25,
     "metadata": {},
     "output_type": "execute_result"
    }
   ],
   "source": [
    "df.sort_values(by=['key1', 'data1'])"
   ]
  },
  {
   "cell_type": "code",
   "execution_count": 26,
   "id": "a75552c0-2fbe-4731-8a9a-1a0d53f49fb2",
   "metadata": {},
   "outputs": [
    {
     "data": {
      "text/plain": [
       "key1\n",
       "a   0.7309\n",
       "b   0.8753\n",
       "Name: data1, dtype: float64"
      ]
     },
     "execution_count": 26,
     "metadata": {},
     "output_type": "execute_result"
    }
   ],
   "source": [
    "df.groupby('key1')['data1'].agg(max_minus_min)"
   ]
  },
  {
   "cell_type": "markdown",
   "id": "252728bd-5973-40ce-869a-5a145ff92dc1",
   "metadata": {},
   "source": [
    "Some other methods work, too, even if they do not aggregate an array to a scalar."
   ]
  },
  {
   "cell_type": "code",
   "execution_count": 27,
   "id": "52a01b3a-da99-4080-bf09-644f98429aa0",
   "metadata": {
    "deletable": true,
    "editable": true
   },
   "outputs": [
    {
     "data": {
      "text/html": [
       "<div>\n",
       "<style scoped>\n",
       "    .dataframe tbody tr th:only-of-type {\n",
       "        vertical-align: middle;\n",
       "    }\n",
       "\n",
       "    .dataframe tbody tr th {\n",
       "        vertical-align: top;\n",
       "    }\n",
       "\n",
       "    .dataframe thead th {\n",
       "        text-align: right;\n",
       "    }\n",
       "</style>\n",
       "<table border=\"1\" class=\"dataframe\">\n",
       "  <thead>\n",
       "    <tr style=\"text-align: right;\">\n",
       "      <th></th>\n",
       "      <th>count</th>\n",
       "      <th>mean</th>\n",
       "      <th>std</th>\n",
       "      <th>min</th>\n",
       "      <th>25%</th>\n",
       "      <th>50%</th>\n",
       "      <th>75%</th>\n",
       "      <th>max</th>\n",
       "    </tr>\n",
       "    <tr>\n",
       "      <th>key1</th>\n",
       "      <th></th>\n",
       "      <th></th>\n",
       "      <th></th>\n",
       "      <th></th>\n",
       "      <th></th>\n",
       "      <th></th>\n",
       "      <th></th>\n",
       "      <th></th>\n",
       "    </tr>\n",
       "  </thead>\n",
       "  <tbody>\n",
       "    <tr>\n",
       "      <th>a</th>\n",
       "      <td>3.0000</td>\n",
       "      <td>0.0414</td>\n",
       "      <td>0.3972</td>\n",
       "      <td>-0.2342</td>\n",
       "      <td>-0.1862</td>\n",
       "      <td>-0.1383</td>\n",
       "      <td>0.1792</td>\n",
       "      <td>0.4967</td>\n",
       "    </tr>\n",
       "    <tr>\n",
       "      <th>b</th>\n",
       "      <td>2.0000</td>\n",
       "      <td>1.0854</td>\n",
       "      <td>0.6190</td>\n",
       "      <td>0.6477</td>\n",
       "      <td>0.8665</td>\n",
       "      <td>1.0854</td>\n",
       "      <td>1.3042</td>\n",
       "      <td>1.5230</td>\n",
       "    </tr>\n",
       "  </tbody>\n",
       "</table>\n",
       "</div>"
      ],
      "text/plain": [
       "      count   mean    std     min     25%     50%    75%    max\n",
       "key1                                                           \n",
       "a    3.0000 0.0414 0.3972 -0.2342 -0.1862 -0.1383 0.1792 0.4967\n",
       "b    2.0000 1.0854 0.6190  0.6477  0.8665  1.0854 1.3042 1.5230"
      ]
     },
     "execution_count": 27,
     "metadata": {},
     "output_type": "execute_result"
    }
   ],
   "source": [
    "df.groupby('key1')['data1'].describe()"
   ]
  },
  {
   "cell_type": "markdown",
   "id": "f557aa0f-ee33-4e53-8443-eb2309f70292",
   "metadata": {
    "tags": []
   },
   "source": [
    "The `.agg()` method provides two more handy features:\n",
    "\n",
    "1. We can pass multiple functions to operate on all columns\n",
    "2. We can pass specific functions to operate on specific columns"
   ]
  },
  {
   "cell_type": "markdown",
   "id": "28e42006-3188-480c-9348-c7136dfa6df3",
   "metadata": {},
   "source": [
    "First, here are examples of multiple functions that operate on all columns."
   ]
  },
  {
   "cell_type": "code",
   "execution_count": 28,
   "id": "fd6a4b3c-de16-4689-b98f-3a62c2315060",
   "metadata": {},
   "outputs": [
    {
     "data": {
      "text/html": [
       "<div>\n",
       "<style scoped>\n",
       "    .dataframe tbody tr th:only-of-type {\n",
       "        vertical-align: middle;\n",
       "    }\n",
       "\n",
       "    .dataframe tbody tr th {\n",
       "        vertical-align: top;\n",
       "    }\n",
       "\n",
       "    .dataframe thead th {\n",
       "        text-align: right;\n",
       "    }\n",
       "</style>\n",
       "<table border=\"1\" class=\"dataframe\">\n",
       "  <thead>\n",
       "    <tr style=\"text-align: right;\">\n",
       "      <th></th>\n",
       "      <th>mean</th>\n",
       "      <th>median</th>\n",
       "      <th>min</th>\n",
       "      <th>max</th>\n",
       "    </tr>\n",
       "    <tr>\n",
       "      <th>key1</th>\n",
       "      <th></th>\n",
       "      <th></th>\n",
       "      <th></th>\n",
       "      <th></th>\n",
       "    </tr>\n",
       "  </thead>\n",
       "  <tbody>\n",
       "    <tr>\n",
       "      <th>a</th>\n",
       "      <td>0.0414</td>\n",
       "      <td>-0.1383</td>\n",
       "      <td>-0.2342</td>\n",
       "      <td>0.4967</td>\n",
       "    </tr>\n",
       "    <tr>\n",
       "      <th>b</th>\n",
       "      <td>1.0854</td>\n",
       "      <td>1.0854</td>\n",
       "      <td>0.6477</td>\n",
       "      <td>1.5230</td>\n",
       "    </tr>\n",
       "  </tbody>\n",
       "</table>\n",
       "</div>"
      ],
      "text/plain": [
       "       mean  median     min    max\n",
       "key1                              \n",
       "a    0.0414 -0.1383 -0.2342 0.4967\n",
       "b    1.0854  1.0854  0.6477 1.5230"
      ]
     },
     "execution_count": 28,
     "metadata": {},
     "output_type": "execute_result"
    }
   ],
   "source": [
    "df.groupby('key1')['data1'].agg(['mean', 'median', 'min', 'max'])"
   ]
  },
  {
   "cell_type": "code",
   "execution_count": 29,
   "id": "1dca8151-d966-4302-bacd-997a78c06ddb",
   "metadata": {},
   "outputs": [
    {
     "data": {
      "text/html": [
       "<div>\n",
       "<style scoped>\n",
       "    .dataframe tbody tr th:only-of-type {\n",
       "        vertical-align: middle;\n",
       "    }\n",
       "\n",
       "    .dataframe tbody tr th {\n",
       "        vertical-align: top;\n",
       "    }\n",
       "\n",
       "    .dataframe thead tr th {\n",
       "        text-align: left;\n",
       "    }\n",
       "\n",
       "    .dataframe thead tr:last-of-type th {\n",
       "        text-align: right;\n",
       "    }\n",
       "</style>\n",
       "<table border=\"1\" class=\"dataframe\">\n",
       "  <thead>\n",
       "    <tr>\n",
       "      <th></th>\n",
       "      <th colspan=\"4\" halign=\"left\">data1</th>\n",
       "      <th colspan=\"4\" halign=\"left\">data2</th>\n",
       "    </tr>\n",
       "    <tr>\n",
       "      <th></th>\n",
       "      <th>mean</th>\n",
       "      <th>median</th>\n",
       "      <th>min</th>\n",
       "      <th>max</th>\n",
       "      <th>mean</th>\n",
       "      <th>median</th>\n",
       "      <th>min</th>\n",
       "      <th>max</th>\n",
       "    </tr>\n",
       "    <tr>\n",
       "      <th>key1</th>\n",
       "      <th></th>\n",
       "      <th></th>\n",
       "      <th></th>\n",
       "      <th></th>\n",
       "      <th></th>\n",
       "      <th></th>\n",
       "      <th></th>\n",
       "      <th></th>\n",
       "    </tr>\n",
       "  </thead>\n",
       "  <tbody>\n",
       "    <tr>\n",
       "      <th>a</th>\n",
       "      <td>0.0414</td>\n",
       "      <td>-0.1383</td>\n",
       "      <td>-0.2342</td>\n",
       "      <td>0.4967</td>\n",
       "      <td>0.6292</td>\n",
       "      <td>0.5426</td>\n",
       "      <td>-0.2341</td>\n",
       "      <td>1.5792</td>\n",
       "    </tr>\n",
       "    <tr>\n",
       "      <th>b</th>\n",
       "      <td>1.0854</td>\n",
       "      <td>1.0854</td>\n",
       "      <td>0.6477</td>\n",
       "      <td>1.5230</td>\n",
       "      <td>0.1490</td>\n",
       "      <td>0.1490</td>\n",
       "      <td>-0.4695</td>\n",
       "      <td>0.7674</td>\n",
       "    </tr>\n",
       "  </tbody>\n",
       "</table>\n",
       "</div>"
      ],
      "text/plain": [
       "      data1                         data2                      \n",
       "       mean  median     min    max   mean median     min    max\n",
       "key1                                                           \n",
       "a    0.0414 -0.1383 -0.2342 0.4967 0.6292 0.5426 -0.2341 1.5792\n",
       "b    1.0854  1.0854  0.6477 1.5230 0.1490 0.1490 -0.4695 0.7674"
      ]
     },
     "execution_count": 29,
     "metadata": {},
     "output_type": "execute_result"
    }
   ],
   "source": [
    "df.groupby('key1')[['data1', 'data2']].agg(['mean', 'median', 'min', 'max'])"
   ]
  },
  {
   "cell_type": "markdown",
   "id": "fceadf94-830d-49a7-a278-3835d097b342",
   "metadata": {},
   "source": [
    "Second, here are examples of specific functions that operate on specific columns."
   ]
  },
  {
   "cell_type": "code",
   "execution_count": 30,
   "id": "4f291890-c513-4d70-8c6e-f61a47ca4d7b",
   "metadata": {},
   "outputs": [
    {
     "data": {
      "text/html": [
       "<div>\n",
       "<style scoped>\n",
       "    .dataframe tbody tr th:only-of-type {\n",
       "        vertical-align: middle;\n",
       "    }\n",
       "\n",
       "    .dataframe tbody tr th {\n",
       "        vertical-align: top;\n",
       "    }\n",
       "\n",
       "    .dataframe thead th {\n",
       "        text-align: right;\n",
       "    }\n",
       "</style>\n",
       "<table border=\"1\" class=\"dataframe\">\n",
       "  <thead>\n",
       "    <tr style=\"text-align: right;\">\n",
       "      <th></th>\n",
       "      <th>data1</th>\n",
       "      <th>data2</th>\n",
       "    </tr>\n",
       "    <tr>\n",
       "      <th>key1</th>\n",
       "      <th></th>\n",
       "      <th></th>\n",
       "    </tr>\n",
       "  </thead>\n",
       "  <tbody>\n",
       "    <tr>\n",
       "      <th>a</th>\n",
       "      <td>0.0414</td>\n",
       "      <td>0.5426</td>\n",
       "    </tr>\n",
       "    <tr>\n",
       "      <th>b</th>\n",
       "      <td>1.0854</td>\n",
       "      <td>0.1490</td>\n",
       "    </tr>\n",
       "  </tbody>\n",
       "</table>\n",
       "</div>"
      ],
      "text/plain": [
       "      data1  data2\n",
       "key1              \n",
       "a    0.0414 0.5426\n",
       "b    1.0854 0.1490"
      ]
     },
     "execution_count": 30,
     "metadata": {},
     "output_type": "execute_result"
    }
   ],
   "source": [
    "df.groupby('key1').agg({'data1': 'mean', 'data2': 'median'})"
   ]
  },
  {
   "cell_type": "markdown",
   "id": "1550f685-9fdb-4c88-8499-f956922ec6f6",
   "metadata": {},
   "source": [
    "We must do a little more work if we want to rename `data1` and `data2` to remind ourselves which is the mean and median."
   ]
  },
  {
   "cell_type": "code",
   "execution_count": 31,
   "id": "3d74e3a3-8c3f-4c8f-9d2d-24727343a69b",
   "metadata": {},
   "outputs": [
    {
     "data": {
      "text/html": [
       "<div>\n",
       "<style scoped>\n",
       "    .dataframe tbody tr th:only-of-type {\n",
       "        vertical-align: middle;\n",
       "    }\n",
       "\n",
       "    .dataframe tbody tr th {\n",
       "        vertical-align: top;\n",
       "    }\n",
       "\n",
       "    .dataframe thead th {\n",
       "        text-align: right;\n",
       "    }\n",
       "</style>\n",
       "<table border=\"1\" class=\"dataframe\">\n",
       "  <thead>\n",
       "    <tr style=\"text-align: right;\">\n",
       "      <th></th>\n",
       "      <th>data1_mean</th>\n",
       "      <th>data2_median</th>\n",
       "    </tr>\n",
       "    <tr>\n",
       "      <th>key1</th>\n",
       "      <th></th>\n",
       "      <th></th>\n",
       "    </tr>\n",
       "  </thead>\n",
       "  <tbody>\n",
       "    <tr>\n",
       "      <th>a</th>\n",
       "      <td>0.0414</td>\n",
       "      <td>0.5426</td>\n",
       "    </tr>\n",
       "    <tr>\n",
       "      <th>b</th>\n",
       "      <td>1.0854</td>\n",
       "      <td>0.1490</td>\n",
       "    </tr>\n",
       "  </tbody>\n",
       "</table>\n",
       "</div>"
      ],
      "text/plain": [
       "      data1_mean  data2_median\n",
       "key1                          \n",
       "a         0.0414        0.5426\n",
       "b         1.0854        0.1490"
      ]
     },
     "execution_count": 31,
     "metadata": {},
     "output_type": "execute_result"
    }
   ],
   "source": [
    "df.groupby('key1').agg(\n",
    "    data1_mean=('data1', 'mean'),\n",
    "    data2_median=('data2', 'median')\n",
    ")"
   ]
  },
  {
   "cell_type": "markdown",
   "id": "1ad7a1c8-5807-41bc-b77f-99425e675b35",
   "metadata": {},
   "source": [
    "We can calculate the mean *and standard deviation* of `data1` and the median of `data2` by `key1`."
   ]
  },
  {
   "cell_type": "code",
   "execution_count": 32,
   "id": "c6802317-ea9b-4a92-84a6-7e0baafa7185",
   "metadata": {},
   "outputs": [
    {
     "data": {
      "text/html": [
       "<div>\n",
       "<style scoped>\n",
       "    .dataframe tbody tr th:only-of-type {\n",
       "        vertical-align: middle;\n",
       "    }\n",
       "\n",
       "    .dataframe tbody tr th {\n",
       "        vertical-align: top;\n",
       "    }\n",
       "\n",
       "    .dataframe thead tr th {\n",
       "        text-align: left;\n",
       "    }\n",
       "\n",
       "    .dataframe thead tr:last-of-type th {\n",
       "        text-align: right;\n",
       "    }\n",
       "</style>\n",
       "<table border=\"1\" class=\"dataframe\">\n",
       "  <thead>\n",
       "    <tr>\n",
       "      <th></th>\n",
       "      <th colspan=\"2\" halign=\"left\">data1</th>\n",
       "      <th>data2</th>\n",
       "    </tr>\n",
       "    <tr>\n",
       "      <th></th>\n",
       "      <th>mean</th>\n",
       "      <th>std</th>\n",
       "      <th>median</th>\n",
       "    </tr>\n",
       "    <tr>\n",
       "      <th>key1</th>\n",
       "      <th></th>\n",
       "      <th></th>\n",
       "      <th></th>\n",
       "    </tr>\n",
       "  </thead>\n",
       "  <tbody>\n",
       "    <tr>\n",
       "      <th>a</th>\n",
       "      <td>0.0414</td>\n",
       "      <td>0.3972</td>\n",
       "      <td>0.5426</td>\n",
       "    </tr>\n",
       "    <tr>\n",
       "      <th>b</th>\n",
       "      <td>1.0854</td>\n",
       "      <td>0.6190</td>\n",
       "      <td>0.1490</td>\n",
       "    </tr>\n",
       "  </tbody>\n",
       "</table>\n",
       "</div>"
      ],
      "text/plain": [
       "      data1         data2\n",
       "       mean    std median\n",
       "key1                     \n",
       "a    0.0414 0.3972 0.5426\n",
       "b    1.0854 0.6190 0.1490"
      ]
     },
     "execution_count": 32,
     "metadata": {},
     "output_type": "execute_result"
    }
   ],
   "source": [
    "df.groupby('key1').agg({'data1': ['mean', 'std'], 'data2': 'median'})"
   ]
  },
  {
   "cell_type": "markdown",
   "id": "94b18d83-3558-4e25-8a3d-25c1eecc594f",
   "metadata": {
    "tags": []
   },
   "source": [
    "## Apply: General split-apply-combine"
   ]
  },
  {
   "attachments": {},
   "cell_type": "markdown",
   "id": "bd20e695-b96e-4264-a449-7b25cebaff32",
   "metadata": {},
   "source": [
    "The `.agg()` method aggregates an array to a scalar.\n",
    "We can use the `.apply()` method for more general calculations that do not return a scalar.\n",
    "For example, the following `top()` function selects the top `n` rows in data frame `x` sorted by column `col`.\n",
    "The `.sort_values()` method sorts from low to high by default."
   ]
  },
  {
   "cell_type": "code",
   "execution_count": 33,
   "id": "58ea25cd-41f8-43b6-83b9-72e7f9d4b1ed",
   "metadata": {},
   "outputs": [],
   "source": [
    "def top(x, col, n=1):\n",
    "    return x.sort_values(col).head(n)"
   ]
  },
  {
   "cell_type": "code",
   "execution_count": 34,
   "id": "d43dfc8a-f12a-4bed-949d-0c54875caf09",
   "metadata": {},
   "outputs": [
    {
     "data": {
      "text/html": [
       "<div>\n",
       "<style scoped>\n",
       "    .dataframe tbody tr th:only-of-type {\n",
       "        vertical-align: middle;\n",
       "    }\n",
       "\n",
       "    .dataframe tbody tr th {\n",
       "        vertical-align: top;\n",
       "    }\n",
       "\n",
       "    .dataframe thead th {\n",
       "        text-align: right;\n",
       "    }\n",
       "</style>\n",
       "<table border=\"1\" class=\"dataframe\">\n",
       "  <thead>\n",
       "    <tr style=\"text-align: right;\">\n",
       "      <th></th>\n",
       "      <th>key1</th>\n",
       "      <th>key2</th>\n",
       "      <th>data1</th>\n",
       "      <th>data2</th>\n",
       "    </tr>\n",
       "  </thead>\n",
       "  <tbody>\n",
       "    <tr>\n",
       "      <th>0</th>\n",
       "      <td>a</td>\n",
       "      <td>one</td>\n",
       "      <td>0.4967</td>\n",
       "      <td>-0.2341</td>\n",
       "    </tr>\n",
       "    <tr>\n",
       "      <th>1</th>\n",
       "      <td>a</td>\n",
       "      <td>two</td>\n",
       "      <td>-0.1383</td>\n",
       "      <td>1.5792</td>\n",
       "    </tr>\n",
       "    <tr>\n",
       "      <th>2</th>\n",
       "      <td>b</td>\n",
       "      <td>one</td>\n",
       "      <td>0.6477</td>\n",
       "      <td>0.7674</td>\n",
       "    </tr>\n",
       "    <tr>\n",
       "      <th>3</th>\n",
       "      <td>b</td>\n",
       "      <td>two</td>\n",
       "      <td>1.5230</td>\n",
       "      <td>-0.4695</td>\n",
       "    </tr>\n",
       "    <tr>\n",
       "      <th>4</th>\n",
       "      <td>a</td>\n",
       "      <td>one</td>\n",
       "      <td>-0.2342</td>\n",
       "      <td>0.5426</td>\n",
       "    </tr>\n",
       "  </tbody>\n",
       "</table>\n",
       "</div>"
      ],
      "text/plain": [
       "  key1 key2   data1   data2\n",
       "0    a  one  0.4967 -0.2341\n",
       "1    a  two -0.1383  1.5792\n",
       "2    b  one  0.6477  0.7674\n",
       "3    b  two  1.5230 -0.4695\n",
       "4    a  one -0.2342  0.5426"
      ]
     },
     "execution_count": 34,
     "metadata": {},
     "output_type": "execute_result"
    }
   ],
   "source": [
    "df"
   ]
  },
  {
   "cell_type": "markdown",
   "id": "1fa05a06-2e03-42c6-8b4f-44560d423763",
   "metadata": {},
   "source": [
    "The following code returns the one row with the smallest value of `data1` within each group of `key1`."
   ]
  },
  {
   "cell_type": "code",
   "execution_count": 35,
   "id": "e5290f72-1424-4160-b093-c0fe9e47903f",
   "metadata": {},
   "outputs": [
    {
     "data": {
      "text/html": [
       "<div>\n",
       "<style scoped>\n",
       "    .dataframe tbody tr th:only-of-type {\n",
       "        vertical-align: middle;\n",
       "    }\n",
       "\n",
       "    .dataframe tbody tr th {\n",
       "        vertical-align: top;\n",
       "    }\n",
       "\n",
       "    .dataframe thead th {\n",
       "        text-align: right;\n",
       "    }\n",
       "</style>\n",
       "<table border=\"1\" class=\"dataframe\">\n",
       "  <thead>\n",
       "    <tr style=\"text-align: right;\">\n",
       "      <th></th>\n",
       "      <th></th>\n",
       "      <th>key2</th>\n",
       "      <th>data1</th>\n",
       "      <th>data2</th>\n",
       "    </tr>\n",
       "    <tr>\n",
       "      <th>key1</th>\n",
       "      <th></th>\n",
       "      <th></th>\n",
       "      <th></th>\n",
       "      <th></th>\n",
       "    </tr>\n",
       "  </thead>\n",
       "  <tbody>\n",
       "    <tr>\n",
       "      <th>a</th>\n",
       "      <th>4</th>\n",
       "      <td>one</td>\n",
       "      <td>-0.2342</td>\n",
       "      <td>0.5426</td>\n",
       "    </tr>\n",
       "    <tr>\n",
       "      <th>b</th>\n",
       "      <th>2</th>\n",
       "      <td>one</td>\n",
       "      <td>0.6477</td>\n",
       "      <td>0.7674</td>\n",
       "    </tr>\n",
       "  </tbody>\n",
       "</table>\n",
       "</div>"
      ],
      "text/plain": [
       "       key2   data1  data2\n",
       "key1                      \n",
       "a    4  one -0.2342 0.5426\n",
       "b    2  one  0.6477 0.7674"
      ]
     },
     "execution_count": 35,
     "metadata": {},
     "output_type": "execute_result"
    }
   ],
   "source": [
    "df.groupby('key1').apply(top, col='data1', include_groups=False)"
   ]
  },
  {
   "cell_type": "markdown",
   "id": "eaf339c5-f2ff-4540-a3e4-a10602e39692",
   "metadata": {},
   "source": [
    "The following code returns the *two rows* with the smallest values of `data1` within each group of `key1`."
   ]
  },
  {
   "cell_type": "code",
   "execution_count": 36,
   "id": "e5cc834e-a987-4cbe-b338-03a2b624c9b6",
   "metadata": {},
   "outputs": [
    {
     "data": {
      "text/html": [
       "<div>\n",
       "<style scoped>\n",
       "    .dataframe tbody tr th:only-of-type {\n",
       "        vertical-align: middle;\n",
       "    }\n",
       "\n",
       "    .dataframe tbody tr th {\n",
       "        vertical-align: top;\n",
       "    }\n",
       "\n",
       "    .dataframe thead th {\n",
       "        text-align: right;\n",
       "    }\n",
       "</style>\n",
       "<table border=\"1\" class=\"dataframe\">\n",
       "  <thead>\n",
       "    <tr style=\"text-align: right;\">\n",
       "      <th></th>\n",
       "      <th></th>\n",
       "      <th>key2</th>\n",
       "      <th>data1</th>\n",
       "      <th>data2</th>\n",
       "    </tr>\n",
       "    <tr>\n",
       "      <th>key1</th>\n",
       "      <th></th>\n",
       "      <th></th>\n",
       "      <th></th>\n",
       "      <th></th>\n",
       "    </tr>\n",
       "  </thead>\n",
       "  <tbody>\n",
       "    <tr>\n",
       "      <th rowspan=\"2\" valign=\"top\">a</th>\n",
       "      <th>4</th>\n",
       "      <td>one</td>\n",
       "      <td>-0.2342</td>\n",
       "      <td>0.5426</td>\n",
       "    </tr>\n",
       "    <tr>\n",
       "      <th>1</th>\n",
       "      <td>two</td>\n",
       "      <td>-0.1383</td>\n",
       "      <td>1.5792</td>\n",
       "    </tr>\n",
       "    <tr>\n",
       "      <th rowspan=\"2\" valign=\"top\">b</th>\n",
       "      <th>2</th>\n",
       "      <td>one</td>\n",
       "      <td>0.6477</td>\n",
       "      <td>0.7674</td>\n",
       "    </tr>\n",
       "    <tr>\n",
       "      <th>3</th>\n",
       "      <td>two</td>\n",
       "      <td>1.5230</td>\n",
       "      <td>-0.4695</td>\n",
       "    </tr>\n",
       "  </tbody>\n",
       "</table>\n",
       "</div>"
      ],
      "text/plain": [
       "       key2   data1   data2\n",
       "key1                       \n",
       "a    4  one -0.2342  0.5426\n",
       "     1  two -0.1383  1.5792\n",
       "b    2  one  0.6477  0.7674\n",
       "     3  two  1.5230 -0.4695"
      ]
     },
     "execution_count": 36,
     "metadata": {},
     "output_type": "execute_result"
    }
   ],
   "source": [
    "df.groupby('key1').apply(top, col='data1', n=2, include_groups=False)"
   ]
  },
  {
   "cell_type": "markdown",
   "id": "d7173d79-aaaf-426f-a29c-d78d07e65695",
   "metadata": {},
   "source": [
    "We must use the `.reset_index()` method if we want to drop the index from `df`."
   ]
  },
  {
   "cell_type": "code",
   "execution_count": 37,
   "id": "3c1a818b-6284-4fa3-94d2-31ad29943879",
   "metadata": {},
   "outputs": [
    {
     "data": {
      "text/html": [
       "<div>\n",
       "<style scoped>\n",
       "    .dataframe tbody tr th:only-of-type {\n",
       "        vertical-align: middle;\n",
       "    }\n",
       "\n",
       "    .dataframe tbody tr th {\n",
       "        vertical-align: top;\n",
       "    }\n",
       "\n",
       "    .dataframe thead th {\n",
       "        text-align: right;\n",
       "    }\n",
       "</style>\n",
       "<table border=\"1\" class=\"dataframe\">\n",
       "  <thead>\n",
       "    <tr style=\"text-align: right;\">\n",
       "      <th></th>\n",
       "      <th>key2</th>\n",
       "      <th>data1</th>\n",
       "      <th>data2</th>\n",
       "    </tr>\n",
       "    <tr>\n",
       "      <th>key1</th>\n",
       "      <th></th>\n",
       "      <th></th>\n",
       "      <th></th>\n",
       "    </tr>\n",
       "  </thead>\n",
       "  <tbody>\n",
       "    <tr>\n",
       "      <th>a</th>\n",
       "      <td>one</td>\n",
       "      <td>-0.2342</td>\n",
       "      <td>0.5426</td>\n",
       "    </tr>\n",
       "    <tr>\n",
       "      <th>a</th>\n",
       "      <td>two</td>\n",
       "      <td>-0.1383</td>\n",
       "      <td>1.5792</td>\n",
       "    </tr>\n",
       "    <tr>\n",
       "      <th>b</th>\n",
       "      <td>one</td>\n",
       "      <td>0.6477</td>\n",
       "      <td>0.7674</td>\n",
       "    </tr>\n",
       "    <tr>\n",
       "      <th>b</th>\n",
       "      <td>two</td>\n",
       "      <td>1.5230</td>\n",
       "      <td>-0.4695</td>\n",
       "    </tr>\n",
       "  </tbody>\n",
       "</table>\n",
       "</div>"
      ],
      "text/plain": [
       "     key2   data1   data2\n",
       "key1                     \n",
       "a     one -0.2342  0.5426\n",
       "a     two -0.1383  1.5792\n",
       "b     one  0.6477  0.7674\n",
       "b     two  1.5230 -0.4695"
      ]
     },
     "execution_count": 37,
     "metadata": {},
     "output_type": "execute_result"
    }
   ],
   "source": [
    "(\n",
    "    df\n",
    "    .groupby('key1')\n",
    "    .apply(top, col='data1', n=2, include_groups=False)\n",
    "    .reset_index(level=1, drop=True)\n",
    ")"
   ]
  },
  {
   "cell_type": "markdown",
   "id": "24981718-ccee-4a37-9b46-71b772a91314",
   "metadata": {},
   "source": [
    "::: {.callout-note}\n",
    "\n",
    "The `.agg()` and `.apply()` methods both operate on groups created by the `.groupby()` method.\n",
    "However, they serve different purposes and have distinct use cases.\n",
    "\n",
    "The `.agg()` method is designed for aggregating data, meaning it applies functions that reduce a group to a single value (e.g., mean, sum, or custom functions that return a single scalar).\n",
    "This method is useful for summarizing data across groups.\n",
    "\n",
    "In contrast, the `.apply()` method is more general and flexible.\n",
    "The `.apply()` method returns results of varying shapes.\n",
    "The `.agg()` method is limited to scalar outputs for each group, but the `.apply()` method is not.\n",
    "\n",
    ":::"
   ]
  },
  {
   "cell_type": "markdown",
   "id": "91c152ae-8e9a-469a-8963-994c3258b6fd",
   "metadata": {
    "tags": []
   },
   "source": [
    "## Pivot Tables and Cross-Tabulation"
   ]
  },
  {
   "cell_type": "markdown",
   "id": "c9b1f375-242d-459f-bac8-37e1467dc7df",
   "metadata": {
    "tags": []
   },
   "source": [
    "Above, we manually made pivot tables with the `.groupby()`, `.agg()`, `.apply()` and `.unstack()` methods.\n",
    "pandas provides Excel-style aggregations with the `.pivot_table()` method and the `pandas.pivot_table()` function.\n",
    "It is worthwhile to read the `.pivot_table()` docstring several times."
   ]
  },
  {
   "cell_type": "code",
   "execution_count": 38,
   "id": "a38174d8-0ca2-41a3-9b20-1c5a4d98e5f8",
   "metadata": {},
   "outputs": [
    {
     "name": "stderr",
     "output_type": "stream",
     "text": [
      "[*********************100%***********************]  6 of 6 completed\n"
     ]
    },
    {
     "data": {
      "text/html": [
       "<div>\n",
       "<style scoped>\n",
       "    .dataframe tbody tr th:only-of-type {\n",
       "        vertical-align: middle;\n",
       "    }\n",
       "\n",
       "    .dataframe tbody tr th {\n",
       "        vertical-align: top;\n",
       "    }\n",
       "\n",
       "    .dataframe thead th {\n",
       "        text-align: right;\n",
       "    }\n",
       "</style>\n",
       "<table border=\"1\" class=\"dataframe\">\n",
       "  <thead>\n",
       "    <tr style=\"text-align: right;\">\n",
       "      <th></th>\n",
       "      <th>Variable</th>\n",
       "      <th>Adj Close</th>\n",
       "      <th>Close</th>\n",
       "      <th>High</th>\n",
       "      <th>Low</th>\n",
       "      <th>Open</th>\n",
       "      <th>Volume</th>\n",
       "    </tr>\n",
       "    <tr>\n",
       "      <th>Date</th>\n",
       "      <th>Index</th>\n",
       "      <th></th>\n",
       "      <th></th>\n",
       "      <th></th>\n",
       "      <th></th>\n",
       "      <th></th>\n",
       "      <th></th>\n",
       "    </tr>\n",
       "  </thead>\n",
       "  <tbody>\n",
       "    <tr>\n",
       "      <th rowspan=\"5\" valign=\"top\">1927-12-30</th>\n",
       "      <th>^DJI</th>\n",
       "      <td>NaN</td>\n",
       "      <td>NaN</td>\n",
       "      <td>NaN</td>\n",
       "      <td>NaN</td>\n",
       "      <td>NaN</td>\n",
       "      <td>NaN</td>\n",
       "    </tr>\n",
       "    <tr>\n",
       "      <th>^FTSE</th>\n",
       "      <td>NaN</td>\n",
       "      <td>NaN</td>\n",
       "      <td>NaN</td>\n",
       "      <td>NaN</td>\n",
       "      <td>NaN</td>\n",
       "      <td>NaN</td>\n",
       "    </tr>\n",
       "    <tr>\n",
       "      <th>^GSPC</th>\n",
       "      <td>17.6600</td>\n",
       "      <td>17.6600</td>\n",
       "      <td>17.6600</td>\n",
       "      <td>17.6600</td>\n",
       "      <td>17.6600</td>\n",
       "      <td>0.0000</td>\n",
       "    </tr>\n",
       "    <tr>\n",
       "      <th>^HSI</th>\n",
       "      <td>NaN</td>\n",
       "      <td>NaN</td>\n",
       "      <td>NaN</td>\n",
       "      <td>NaN</td>\n",
       "      <td>NaN</td>\n",
       "      <td>NaN</td>\n",
       "    </tr>\n",
       "    <tr>\n",
       "      <th>^IXIC</th>\n",
       "      <td>NaN</td>\n",
       "      <td>NaN</td>\n",
       "      <td>NaN</td>\n",
       "      <td>NaN</td>\n",
       "      <td>NaN</td>\n",
       "      <td>NaN</td>\n",
       "    </tr>\n",
       "  </tbody>\n",
       "</table>\n",
       "</div>"
      ],
      "text/plain": [
       "Variable          Adj Close   Close    High     Low    Open  Volume\n",
       "Date       Index                                                   \n",
       "1927-12-30 ^DJI         NaN     NaN     NaN     NaN     NaN     NaN\n",
       "           ^FTSE        NaN     NaN     NaN     NaN     NaN     NaN\n",
       "           ^GSPC    17.6600 17.6600 17.6600 17.6600 17.6600  0.0000\n",
       "           ^HSI         NaN     NaN     NaN     NaN     NaN     NaN\n",
       "           ^IXIC        NaN     NaN     NaN     NaN     NaN     NaN"
      ]
     },
     "execution_count": 38,
     "metadata": {},
     "output_type": "execute_result"
    },
    {
     "name": "stderr",
     "output_type": "stream",
     "text": [
      "\r",
      "[**********************67%*******                ]  4 of 6 completed"
     ]
    },
    {
     "name": "stderr",
     "output_type": "stream",
     "text": [
      "\r",
      "[**********************83%***************        ]  5 of 6 completed"
     ]
    },
    {
     "name": "stderr",
     "output_type": "stream",
     "text": [
      "\r",
      "[*********************100%***********************]  6 of 6 completed"
     ]
    },
    {
     "name": "stderr",
     "output_type": "stream",
     "text": [
      "\n"
     ]
    },
    {
     "data": {
      "text/html": [
       "<div>\n",
       "<style scoped>\n",
       "    .dataframe tbody tr th:only-of-type {\n",
       "        vertical-align: middle;\n",
       "    }\n",
       "\n",
       "    .dataframe tbody tr th {\n",
       "        vertical-align: top;\n",
       "    }\n",
       "\n",
       "    .dataframe thead th {\n",
       "        text-align: right;\n",
       "    }\n",
       "</style>\n",
       "<table border=\"1\" class=\"dataframe\">\n",
       "  <thead>\n",
       "    <tr style=\"text-align: right;\">\n",
       "      <th></th>\n",
       "      <th>Variable</th>\n",
       "      <th>Adj Close</th>\n",
       "      <th>Close</th>\n",
       "      <th>High</th>\n",
       "      <th>Low</th>\n",
       "      <th>Open</th>\n",
       "      <th>Volume</th>\n",
       "    </tr>\n",
       "    <tr>\n",
       "      <th>Date</th>\n",
       "      <th>Index</th>\n",
       "      <th></th>\n",
       "      <th></th>\n",
       "      <th></th>\n",
       "      <th></th>\n",
       "      <th></th>\n",
       "      <th></th>\n",
       "    </tr>\n",
       "  </thead>\n",
       "  <tbody>\n",
       "    <tr>\n",
       "      <th rowspan=\"5\" valign=\"top\">1927-12-30</th>\n",
       "      <th>^DJI</th>\n",
       "      <td>NaN</td>\n",
       "      <td>NaN</td>\n",
       "      <td>NaN</td>\n",
       "      <td>NaN</td>\n",
       "      <td>NaN</td>\n",
       "      <td>NaN</td>\n",
       "    </tr>\n",
       "    <tr>\n",
       "      <th>^FTSE</th>\n",
       "      <td>NaN</td>\n",
       "      <td>NaN</td>\n",
       "      <td>NaN</td>\n",
       "      <td>NaN</td>\n",
       "      <td>NaN</td>\n",
       "      <td>NaN</td>\n",
       "    </tr>\n",
       "    <tr>\n",
       "      <th>^GSPC</th>\n",
       "      <td>17.6600</td>\n",
       "      <td>17.6600</td>\n",
       "      <td>17.6600</td>\n",
       "      <td>17.6600</td>\n",
       "      <td>17.6600</td>\n",
       "      <td>0.0000</td>\n",
       "    </tr>\n",
       "    <tr>\n",
       "      <th>^HSI</th>\n",
       "      <td>NaN</td>\n",
       "      <td>NaN</td>\n",
       "      <td>NaN</td>\n",
       "      <td>NaN</td>\n",
       "      <td>NaN</td>\n",
       "      <td>NaN</td>\n",
       "    </tr>\n",
       "    <tr>\n",
       "      <th>^IXIC</th>\n",
       "      <td>NaN</td>\n",
       "      <td>NaN</td>\n",
       "      <td>NaN</td>\n",
       "      <td>NaN</td>\n",
       "      <td>NaN</td>\n",
       "      <td>NaN</td>\n",
       "    </tr>\n",
       "  </tbody>\n",
       "</table>\n",
       "</div>"
      ],
      "text/plain": [
       "Variable          Adj Close   Close    High     Low    Open  Volume\n",
       "Date       Index                                                   \n",
       "1927-12-30 ^DJI         NaN     NaN     NaN     NaN     NaN     NaN\n",
       "           ^FTSE        NaN     NaN     NaN     NaN     NaN     NaN\n",
       "           ^GSPC    17.6600 17.6600 17.6600 17.6600 17.6600  0.0000\n",
       "           ^HSI         NaN     NaN     NaN     NaN     NaN     NaN\n",
       "           ^IXIC        NaN     NaN     NaN     NaN     NaN     NaN"
      ]
     },
     "execution_count": 38,
     "metadata": {},
     "output_type": "execute_result"
    }
   ],
   "source": [
    "ind = (\n",
    "    yf.download(tickers='^GSPC ^DJI ^IXIC ^FTSE ^N225 ^HSI')\n",
    "    .rename_axis(columns=['Variable', 'Index'])\n",
    "    .stack(future_stack=True)\n",
    ")\n",
    "\n",
    "ind.head()"
   ]
  },
  {
   "cell_type": "markdown",
   "id": "fedcd33d-eb38-4d46-b212-c888f61c698b",
   "metadata": {},
   "source": [
    "The default aggregation function for `.pivot_table()` is `.mean()`."
   ]
  },
  {
   "cell_type": "code",
   "execution_count": 39,
   "id": "d951c69a-c189-4361-836e-cff61701efd1",
   "metadata": {},
   "outputs": [
    {
     "data": {
      "text/html": [
       "<div>\n",
       "<style scoped>\n",
       "    .dataframe tbody tr th:only-of-type {\n",
       "        vertical-align: middle;\n",
       "    }\n",
       "\n",
       "    .dataframe tbody tr th {\n",
       "        vertical-align: top;\n",
       "    }\n",
       "\n",
       "    .dataframe thead th {\n",
       "        text-align: right;\n",
       "    }\n",
       "</style>\n",
       "<table border=\"1\" class=\"dataframe\">\n",
       "  <thead>\n",
       "    <tr style=\"text-align: right;\">\n",
       "      <th>Variable</th>\n",
       "      <th>Adj Close</th>\n",
       "      <th>Close</th>\n",
       "      <th>High</th>\n",
       "      <th>Low</th>\n",
       "      <th>Open</th>\n",
       "      <th>Volume</th>\n",
       "    </tr>\n",
       "    <tr>\n",
       "      <th>Index</th>\n",
       "      <th></th>\n",
       "      <th></th>\n",
       "      <th></th>\n",
       "      <th></th>\n",
       "      <th></th>\n",
       "      <th></th>\n",
       "    </tr>\n",
       "  </thead>\n",
       "  <tbody>\n",
       "    <tr>\n",
       "      <th>^DJI</th>\n",
       "      <td>27706.3194</td>\n",
       "      <td>27706.3194</td>\n",
       "      <td>27850.4849</td>\n",
       "      <td>27546.7680</td>\n",
       "      <td>27702.7036</td>\n",
       "      <td>299024855.2101</td>\n",
       "    </tr>\n",
       "    <tr>\n",
       "      <th>^FTSE</th>\n",
       "      <td>7141.7548</td>\n",
       "      <td>7141.7548</td>\n",
       "      <td>7182.5771</td>\n",
       "      <td>7100.0572</td>\n",
       "      <td>7141.1015</td>\n",
       "      <td>813188499.5647</td>\n",
       "    </tr>\n",
       "    <tr>\n",
       "      <th>^GSPC</th>\n",
       "      <td>3358.1502</td>\n",
       "      <td>3358.1502</td>\n",
       "      <td>3375.4918</td>\n",
       "      <td>3338.4761</td>\n",
       "      <td>3357.6779</td>\n",
       "      <td>4005763661.6362</td>\n",
       "    </tr>\n",
       "    <tr>\n",
       "      <th>^HSI</th>\n",
       "      <td>23826.9733</td>\n",
       "      <td>23826.9733</td>\n",
       "      <td>23991.8855</td>\n",
       "      <td>23657.6522</td>\n",
       "      <td>23841.0154</td>\n",
       "      <td>2121811591.9984</td>\n",
       "    </tr>\n",
       "    <tr>\n",
       "      <th>^IXIC</th>\n",
       "      <td>9862.4747</td>\n",
       "      <td>9862.4747</td>\n",
       "      <td>9927.2504</td>\n",
       "      <td>9788.5201</td>\n",
       "      <td>9861.0625</td>\n",
       "      <td>3503727429.7061</td>\n",
       "    </tr>\n",
       "    <tr>\n",
       "      <th>^N225</th>\n",
       "      <td>24831.9359</td>\n",
       "      <td>24831.9359</td>\n",
       "      <td>24967.3558</td>\n",
       "      <td>24687.4126</td>\n",
       "      <td>24831.9677</td>\n",
       "      <td>97743271.9836</td>\n",
       "    </tr>\n",
       "  </tbody>\n",
       "</table>\n",
       "</div>"
      ],
      "text/plain": [
       "Variable  Adj Close      Close       High        Low       Open  \\\n",
       "Index                                                             \n",
       "^DJI     27706.3194 27706.3194 27850.4849 27546.7680 27702.7036   \n",
       "^FTSE     7141.7548  7141.7548  7182.5771  7100.0572  7141.1015   \n",
       "^GSPC     3358.1502  3358.1502  3375.4918  3338.4761  3357.6779   \n",
       "^HSI     23826.9733 23826.9733 23991.8855 23657.6522 23841.0154   \n",
       "^IXIC     9862.4747  9862.4747  9927.2504  9788.5201  9861.0625   \n",
       "^N225    24831.9359 24831.9359 24967.3558 24687.4126 24831.9677   \n",
       "\n",
       "Variable          Volume  \n",
       "Index                     \n",
       "^DJI      299024855.2101  \n",
       "^FTSE     813188499.5647  \n",
       "^GSPC    4005763661.6362  \n",
       "^HSI     2121811591.9984  \n",
       "^IXIC    3503727429.7061  \n",
       "^N225      97743271.9836  "
      ]
     },
     "execution_count": 39,
     "metadata": {},
     "output_type": "execute_result"
    }
   ],
   "source": [
    "ind.loc['2015':].pivot_table(index='Index')"
   ]
  },
  {
   "cell_type": "code",
   "execution_count": 40,
   "id": "4ef9b486-ca89-4a2f-b23a-6e47c35ca4bb",
   "metadata": {},
   "outputs": [
    {
     "data": {
      "text/html": [
       "<div>\n",
       "<style scoped>\n",
       "    .dataframe tbody tr th:only-of-type {\n",
       "        vertical-align: middle;\n",
       "    }\n",
       "\n",
       "    .dataframe tbody tr th {\n",
       "        vertical-align: top;\n",
       "    }\n",
       "\n",
       "    .dataframe thead th {\n",
       "        text-align: right;\n",
       "    }\n",
       "</style>\n",
       "<table border=\"1\" class=\"dataframe\">\n",
       "  <thead>\n",
       "    <tr style=\"text-align: right;\">\n",
       "      <th>Variable</th>\n",
       "      <th>Adj Close</th>\n",
       "      <th>Close</th>\n",
       "      <th>High</th>\n",
       "      <th>Low</th>\n",
       "      <th>Open</th>\n",
       "      <th>Volume</th>\n",
       "    </tr>\n",
       "    <tr>\n",
       "      <th>Index</th>\n",
       "      <th></th>\n",
       "      <th></th>\n",
       "      <th></th>\n",
       "      <th></th>\n",
       "      <th></th>\n",
       "      <th></th>\n",
       "    </tr>\n",
       "  </thead>\n",
       "  <tbody>\n",
       "    <tr>\n",
       "      <th>^DJI</th>\n",
       "      <td>26692.0947</td>\n",
       "      <td>26692.0947</td>\n",
       "      <td>26816.6045</td>\n",
       "      <td>26561.1299</td>\n",
       "      <td>26699.8799</td>\n",
       "      <td>303325000.0000</td>\n",
       "    </tr>\n",
       "    <tr>\n",
       "      <th>^FTSE</th>\n",
       "      <td>7256.0000</td>\n",
       "      <td>7256.0000</td>\n",
       "      <td>7289.5000</td>\n",
       "      <td>7215.7998</td>\n",
       "      <td>7255.5000</td>\n",
       "      <td>765527900.0000</td>\n",
       "    </tr>\n",
       "    <tr>\n",
       "      <th>^GSPC</th>\n",
       "      <td>3005.5850</td>\n",
       "      <td>3005.5850</td>\n",
       "      <td>3016.7800</td>\n",
       "      <td>2991.5000</td>\n",
       "      <td>3006.3800</td>\n",
       "      <td>3819130000.0000</td>\n",
       "    </tr>\n",
       "    <tr>\n",
       "      <th>^HSI</th>\n",
       "      <td>24249.4844</td>\n",
       "      <td>24249.4844</td>\n",
       "      <td>24381.0254</td>\n",
       "      <td>24078.3008</td>\n",
       "      <td>24265.7500</td>\n",
       "      <td>1932884000.0000</td>\n",
       "    </tr>\n",
       "    <tr>\n",
       "      <th>^IXIC</th>\n",
       "      <td>8520.2598</td>\n",
       "      <td>8520.2598</td>\n",
       "      <td>8539.0698</td>\n",
       "      <td>8457.1650</td>\n",
       "      <td>8475.0903</td>\n",
       "      <td>2905920000.0000</td>\n",
       "    </tr>\n",
       "    <tr>\n",
       "      <th>^N225</th>\n",
       "      <td>22823.2598</td>\n",
       "      <td>22823.2598</td>\n",
       "      <td>22922.8008</td>\n",
       "      <td>22728.0605</td>\n",
       "      <td>22849.9102</td>\n",
       "      <td>87300000.0000</td>\n",
       "    </tr>\n",
       "  </tbody>\n",
       "</table>\n",
       "</div>"
      ],
      "text/plain": [
       "Variable  Adj Close      Close       High        Low       Open  \\\n",
       "Index                                                             \n",
       "^DJI     26692.0947 26692.0947 26816.6045 26561.1299 26699.8799   \n",
       "^FTSE     7256.0000  7256.0000  7289.5000  7215.7998  7255.5000   \n",
       "^GSPC     3005.5850  3005.5850  3016.7800  2991.5000  3006.3800   \n",
       "^HSI     24249.4844 24249.4844 24381.0254 24078.3008 24265.7500   \n",
       "^IXIC     8520.2598  8520.2598  8539.0698  8457.1650  8475.0903   \n",
       "^N225    22823.2598 22823.2598 22922.8008 22728.0605 22849.9102   \n",
       "\n",
       "Variable          Volume  \n",
       "Index                     \n",
       "^DJI      303325000.0000  \n",
       "^FTSE     765527900.0000  \n",
       "^GSPC    3819130000.0000  \n",
       "^HSI     1932884000.0000  \n",
       "^IXIC    2905920000.0000  \n",
       "^N225      87300000.0000  "
      ]
     },
     "execution_count": 40,
     "metadata": {},
     "output_type": "execute_result"
    }
   ],
   "source": [
    "ind.loc['2015':].pivot_table(index='Index', aggfunc='median')"
   ]
  },
  {
   "cell_type": "markdown",
   "id": "b1cee42a-bb95-4cad-9d0f-c7a329d177db",
   "metadata": {},
   "source": [
    "We can use \n",
    "    `values` to select specific variables, \n",
    "    `pd.Grouper()` to sample different date windows, \n",
    "    and \n",
    "    `aggfunc` to select specific aggregation functions."
   ]
  },
  {
   "cell_type": "code",
   "execution_count": 41,
   "id": "e220b63f-0be9-4cda-84ea-fe9e303c8c89",
   "metadata": {},
   "outputs": [
    {
     "data": {
      "text/html": [
       "<div>\n",
       "<style scoped>\n",
       "    .dataframe tbody tr th:only-of-type {\n",
       "        vertical-align: middle;\n",
       "    }\n",
       "\n",
       "    .dataframe tbody tr th {\n",
       "        vertical-align: top;\n",
       "    }\n",
       "\n",
       "    .dataframe thead tr th {\n",
       "        text-align: left;\n",
       "    }\n",
       "\n",
       "    .dataframe thead tr:last-of-type th {\n",
       "        text-align: right;\n",
       "    }\n",
       "</style>\n",
       "<table border=\"1\" class=\"dataframe\">\n",
       "  <thead>\n",
       "    <tr>\n",
       "      <th></th>\n",
       "      <th colspan=\"6\" halign=\"left\">min</th>\n",
       "      <th colspan=\"6\" halign=\"left\">max</th>\n",
       "    </tr>\n",
       "    <tr>\n",
       "      <th>Index</th>\n",
       "      <th>^DJI</th>\n",
       "      <th>^FTSE</th>\n",
       "      <th>^GSPC</th>\n",
       "      <th>^HSI</th>\n",
       "      <th>^IXIC</th>\n",
       "      <th>^N225</th>\n",
       "      <th>^DJI</th>\n",
       "      <th>^FTSE</th>\n",
       "      <th>^GSPC</th>\n",
       "      <th>^HSI</th>\n",
       "      <th>^IXIC</th>\n",
       "      <th>^N225</th>\n",
       "    </tr>\n",
       "    <tr>\n",
       "      <th>Date</th>\n",
       "      <th></th>\n",
       "      <th></th>\n",
       "      <th></th>\n",
       "      <th></th>\n",
       "      <th></th>\n",
       "      <th></th>\n",
       "      <th></th>\n",
       "      <th></th>\n",
       "      <th></th>\n",
       "      <th></th>\n",
       "      <th></th>\n",
       "      <th></th>\n",
       "    </tr>\n",
       "  </thead>\n",
       "  <tbody>\n",
       "    <tr>\n",
       "      <th>2015-12-31</th>\n",
       "      <td>15666.4404</td>\n",
       "      <td>5874.1001</td>\n",
       "      <td>1867.6100</td>\n",
       "      <td>20556.5996</td>\n",
       "      <td>4506.4902</td>\n",
       "      <td>16795.9609</td>\n",
       "      <td>18312.3906</td>\n",
       "      <td>7104.0000</td>\n",
       "      <td>2130.8201</td>\n",
       "      <td>28442.7500</td>\n",
       "      <td>5218.8599</td>\n",
       "      <td>20868.0293</td>\n",
       "    </tr>\n",
       "    <tr>\n",
       "      <th>2016-12-31</th>\n",
       "      <td>15660.1797</td>\n",
       "      <td>5537.0000</td>\n",
       "      <td>1829.0800</td>\n",
       "      <td>18319.5801</td>\n",
       "      <td>4266.8398</td>\n",
       "      <td>14952.0195</td>\n",
       "      <td>19974.6191</td>\n",
       "      <td>7142.7998</td>\n",
       "      <td>2271.7200</td>\n",
       "      <td>24099.6992</td>\n",
       "      <td>5487.4399</td>\n",
       "      <td>19494.5293</td>\n",
       "    </tr>\n",
       "    <tr>\n",
       "      <th>2017-12-31</th>\n",
       "      <td>19732.4004</td>\n",
       "      <td>7099.2002</td>\n",
       "      <td>2257.8301</td>\n",
       "      <td>22134.4707</td>\n",
       "      <td>5429.0801</td>\n",
       "      <td>18335.6309</td>\n",
       "      <td>24837.5098</td>\n",
       "      <td>7687.7998</td>\n",
       "      <td>2690.1599</td>\n",
       "      <td>30003.4902</td>\n",
       "      <td>6994.7598</td>\n",
       "      <td>22939.1797</td>\n",
       "    </tr>\n",
       "    <tr>\n",
       "      <th>2018-12-31</th>\n",
       "      <td>21792.1992</td>\n",
       "      <td>6584.7002</td>\n",
       "      <td>2351.1001</td>\n",
       "      <td>24585.5293</td>\n",
       "      <td>6192.9199</td>\n",
       "      <td>19155.7402</td>\n",
       "      <td>26828.3906</td>\n",
       "      <td>7877.5000</td>\n",
       "      <td>2930.7500</td>\n",
       "      <td>33154.1211</td>\n",
       "      <td>8109.6899</td>\n",
       "      <td>24270.6191</td>\n",
       "    </tr>\n",
       "    <tr>\n",
       "      <th>2019-12-31</th>\n",
       "      <td>22686.2207</td>\n",
       "      <td>6692.7002</td>\n",
       "      <td>2447.8899</td>\n",
       "      <td>25064.3594</td>\n",
       "      <td>6463.5000</td>\n",
       "      <td>19561.9609</td>\n",
       "      <td>28645.2598</td>\n",
       "      <td>7686.6001</td>\n",
       "      <td>3240.0200</td>\n",
       "      <td>30157.4902</td>\n",
       "      <td>9022.3896</td>\n",
       "      <td>24066.1191</td>\n",
       "    </tr>\n",
       "    <tr>\n",
       "      <th>2020-12-31</th>\n",
       "      <td>18591.9297</td>\n",
       "      <td>4993.8999</td>\n",
       "      <td>2237.3999</td>\n",
       "      <td>21696.1309</td>\n",
       "      <td>6860.6699</td>\n",
       "      <td>16552.8301</td>\n",
       "      <td>30606.4805</td>\n",
       "      <td>7674.6001</td>\n",
       "      <td>3756.0701</td>\n",
       "      <td>29056.4199</td>\n",
       "      <td>12899.4199</td>\n",
       "      <td>27568.1504</td>\n",
       "    </tr>\n",
       "    <tr>\n",
       "      <th>2021-12-31</th>\n",
       "      <td>29982.6191</td>\n",
       "      <td>6407.5000</td>\n",
       "      <td>3700.6499</td>\n",
       "      <td>22744.8594</td>\n",
       "      <td>12609.1602</td>\n",
       "      <td>27013.2500</td>\n",
       "      <td>36488.6289</td>\n",
       "      <td>7420.7002</td>\n",
       "      <td>4793.0601</td>\n",
       "      <td>31084.9395</td>\n",
       "      <td>16057.4404</td>\n",
       "      <td>30670.0996</td>\n",
       "    </tr>\n",
       "    <tr>\n",
       "      <th>2022-12-31</th>\n",
       "      <td>28725.5098</td>\n",
       "      <td>6826.2002</td>\n",
       "      <td>3577.0300</td>\n",
       "      <td>14687.0195</td>\n",
       "      <td>10213.2900</td>\n",
       "      <td>24717.5293</td>\n",
       "      <td>36799.6484</td>\n",
       "      <td>7672.3999</td>\n",
       "      <td>4796.5601</td>\n",
       "      <td>24965.5508</td>\n",
       "      <td>15832.7998</td>\n",
       "      <td>29332.1602</td>\n",
       "    </tr>\n",
       "    <tr>\n",
       "      <th>2023-12-31</th>\n",
       "      <td>31819.1406</td>\n",
       "      <td>7256.8999</td>\n",
       "      <td>3808.1001</td>\n",
       "      <td>16201.4902</td>\n",
       "      <td>10305.2402</td>\n",
       "      <td>25716.8594</td>\n",
       "      <td>37710.1016</td>\n",
       "      <td>8014.2998</td>\n",
       "      <td>4783.3501</td>\n",
       "      <td>22688.9004</td>\n",
       "      <td>15099.1797</td>\n",
       "      <td>33753.3281</td>\n",
       "    </tr>\n",
       "    <tr>\n",
       "      <th>2024-12-31</th>\n",
       "      <td>37266.6719</td>\n",
       "      <td>7446.2998</td>\n",
       "      <td>4688.6802</td>\n",
       "      <td>14961.1797</td>\n",
       "      <td>14510.2998</td>\n",
       "      <td>31458.4199</td>\n",
       "      <td>45014.0391</td>\n",
       "      <td>8445.7998</td>\n",
       "      <td>6090.2700</td>\n",
       "      <td>23099.7793</td>\n",
       "      <td>20173.8906</td>\n",
       "      <td>42224.0195</td>\n",
       "    </tr>\n",
       "    <tr>\n",
       "      <th>2025-12-31</th>\n",
       "      <td>42392.2695</td>\n",
       "      <td>8223.9805</td>\n",
       "      <td>5868.5498</td>\n",
       "      <td>19623.3203</td>\n",
       "      <td>19280.7891</td>\n",
       "      <td>NaN</td>\n",
       "      <td>42735.2812</td>\n",
       "      <td>8260.0996</td>\n",
       "      <td>5943.1401</td>\n",
       "      <td>19760.2695</td>\n",
       "      <td>19614.7441</td>\n",
       "      <td>NaN</td>\n",
       "    </tr>\n",
       "  </tbody>\n",
       "</table>\n",
       "</div>"
      ],
      "text/plain": [
       "                  min                                                       \\\n",
       "Index            ^DJI     ^FTSE     ^GSPC       ^HSI      ^IXIC      ^N225   \n",
       "Date                                                                         \n",
       "2015-12-31 15666.4404 5874.1001 1867.6100 20556.5996  4506.4902 16795.9609   \n",
       "2016-12-31 15660.1797 5537.0000 1829.0800 18319.5801  4266.8398 14952.0195   \n",
       "2017-12-31 19732.4004 7099.2002 2257.8301 22134.4707  5429.0801 18335.6309   \n",
       "2018-12-31 21792.1992 6584.7002 2351.1001 24585.5293  6192.9199 19155.7402   \n",
       "2019-12-31 22686.2207 6692.7002 2447.8899 25064.3594  6463.5000 19561.9609   \n",
       "2020-12-31 18591.9297 4993.8999 2237.3999 21696.1309  6860.6699 16552.8301   \n",
       "2021-12-31 29982.6191 6407.5000 3700.6499 22744.8594 12609.1602 27013.2500   \n",
       "2022-12-31 28725.5098 6826.2002 3577.0300 14687.0195 10213.2900 24717.5293   \n",
       "2023-12-31 31819.1406 7256.8999 3808.1001 16201.4902 10305.2402 25716.8594   \n",
       "2024-12-31 37266.6719 7446.2998 4688.6802 14961.1797 14510.2998 31458.4199   \n",
       "2025-12-31 42392.2695 8223.9805 5868.5498 19623.3203 19280.7891        NaN   \n",
       "\n",
       "                  max                                                       \n",
       "Index            ^DJI     ^FTSE     ^GSPC       ^HSI      ^IXIC      ^N225  \n",
       "Date                                                                        \n",
       "2015-12-31 18312.3906 7104.0000 2130.8201 28442.7500  5218.8599 20868.0293  \n",
       "2016-12-31 19974.6191 7142.7998 2271.7200 24099.6992  5487.4399 19494.5293  \n",
       "2017-12-31 24837.5098 7687.7998 2690.1599 30003.4902  6994.7598 22939.1797  \n",
       "2018-12-31 26828.3906 7877.5000 2930.7500 33154.1211  8109.6899 24270.6191  \n",
       "2019-12-31 28645.2598 7686.6001 3240.0200 30157.4902  9022.3896 24066.1191  \n",
       "2020-12-31 30606.4805 7674.6001 3756.0701 29056.4199 12899.4199 27568.1504  \n",
       "2021-12-31 36488.6289 7420.7002 4793.0601 31084.9395 16057.4404 30670.0996  \n",
       "2022-12-31 36799.6484 7672.3999 4796.5601 24965.5508 15832.7998 29332.1602  \n",
       "2023-12-31 37710.1016 8014.2998 4783.3501 22688.9004 15099.1797 33753.3281  \n",
       "2024-12-31 45014.0391 8445.7998 6090.2700 23099.7793 20173.8906 42224.0195  \n",
       "2025-12-31 42735.2812 8260.0996 5943.1401 19760.2695 19614.7441        NaN  "
      ]
     },
     "execution_count": 41,
     "metadata": {},
     "output_type": "execute_result"
    }
   ],
   "source": [
    "(\n",
    "    ind\n",
    "    .loc['2015':]\n",
    "    .reset_index()\n",
    "    .pivot_table(\n",
    "        values='Close',\n",
    "        index=pd.Grouper(key='Date', freq='YE'),\n",
    "        columns='Index',\n",
    "        aggfunc=['min', 'max']\n",
    "    )\n",
    ")"
   ]
  }
 ],
 "metadata": {
  "author": "Richard Herron",
  "kernelspec": {
   "display_name": "Python 3 (ipykernel)",
   "language": "python",
   "name": "python3"
  },
  "language_info": {
   "codemirror_mode": {
    "name": "ipython",
    "version": 3
   },
   "file_extension": ".py",
   "mimetype": "text/x-python",
   "name": "python",
   "nbconvert_exporter": "python",
   "pygments_lexer": "ipython3",
   "version": "3.13.1"
  },
  "title": "McKinney Chapter 10 - Data Aggregation and Group Operations",
  "toc-autonumbering": true
 },
 "nbformat": 4,
 "nbformat_minor": 5
}
