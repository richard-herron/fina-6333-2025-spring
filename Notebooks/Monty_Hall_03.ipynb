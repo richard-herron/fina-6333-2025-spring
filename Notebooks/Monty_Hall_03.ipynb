{
 "cells": [
  {
   "cell_type": "markdown",
   "id": "0bc3008a-0b1b-4f8d-a6ff-3abb6c0fb7e3",
   "metadata": {},
   "source": [
    "# The Monty Hall Problem - Sec 03"
   ]
  },
  {
   "cell_type": "code",
   "execution_count": 1,
   "id": "ecd10528-9899-46ba-825f-3a1d9a957586",
   "metadata": {},
   "outputs": [],
   "source": [
    "import io\n",
    "import matplotlib.pyplot as plt\n",
    "import numpy as np\n",
    "import pandas as pd\n",
    "import random\n",
    "import seaborn as sns"
   ]
  },
  {
   "cell_type": "markdown",
   "id": "7d762cfd-acc3-48af-a671-871200b1f20c",
   "metadata": {},
   "source": [
    "## Introduction\n",
    "\n",
    "The Monty Hall problem is a probability puzzle from *Let's Make a Deal*.\n",
    "You pick one of three doors (car behind one, goats behind two), the host reveals a goat, and you decide to switch or stay.\n",
    "We played this in class with envelopes.\n",
    "This problem is often used in quantitative finance interviews because it tests your ability to think about probabilities (see @crack2024heard).\n",
    "This notebook explores the Monty Hall problem four ways:\n",
    "\n",
    "1. **Intuition:** We will use simple logic to understand why switching might be better.\n",
    "2. **Bayes' Theorem:** We will use a mathematical rule to calculate the exact probabilities.\n",
    "3. **Class Data:** We will analyze the results from our envelope game in class.\n",
    "4. **Simulated Data:** We will use Python to simulate the game thousands of times to see the results.\n",
    "\n",
    "We will show that switching wins $\\frac{2}{3}$ of the time, staying wins $\\frac{1}{3}$.\n",
    "I based this notebook on @crack2024heard, @kritzman2000puzzles, and the [Monty Hall problem Wikipedia page](https://en.wikipedia.org/wiki/Monty_Hall_problem)."
   ]
  },
  {
   "cell_type": "markdown",
   "id": "e4c92961-7c9c-40a8-8d73-b8c0e1edd614",
   "metadata": {},
   "source": [
    "## Intuition\n",
    "\n",
    "Let us solve the Monty Hall problem with simple logic.\n",
    "We will use the same setup as in the introduction:\n",
    "You pick Door 1, the host opens Door 3 (revealing a goat), and you decide whether to switch to Door 2.\n",
    "Here are the steps in the intuitive solution:\n",
    "\n",
    "1. **Initial Choice:**\n",
    "There are three doors, and the car is equally likely to be behind any one of them.\n",
    "So, when you pick Door 1, the probability that the car is behind Door 1 is $\\frac{1}{3}$.\n",
    "That means there is a $\\frac{2}{3}$ chance the car is behind one of the other two doors (Door 2 or Door 3 combined).\n",
    "2. **Host Opens a Door:**\n",
    "The host, who knows where the car is, opens Door 3 and shows it has a goat.\n",
    "Now we know Door 3 does not have the car.\n",
    "3. **Probability Transfer:**\n",
    "Before the host opened Door 3, there was a $\\frac{2}{3}$ chance the car was behind Door 2 or Door 3.\n",
    "Since Door 3 has a goat, that entire $\\frac{2}{3}$ probability now belongs to Door 2 (the door you can switch to).\n",
    "The probability that the car is behind Door 1 (your original choice) is still $\\frac{1}{3}$, because nothing has changed about Door 1.\n",
    "\n",
    "In conclusion:\n",
    "\n",
    "- If you **switch** to Door 2, your probability of winning is $\\frac{2}{3}$.\n",
    "- If you **stay** with Door 1, your probability of winning is $\\frac{1}{3}$.\n",
    "\n",
    "So, you should switch to Door 2 to have a better chance of winning the car!"
   ]
  },
  {
   "cell_type": "markdown",
   "id": "2816c0ba-b73b-4e28-8d63-5288aa16c663",
   "metadata": {},
   "source": [
    "## Bayes' Theorem\n",
    "\n",
    "We can also solve the Monty Hall problem using a mathematical rule called Bayes' Theorem.\n",
    "Bayes' Theorem helps us calculate the probability of something happening based on new information.\n",
    "Here, we will use it to find the probability that the car is behind Door 2, given that you picked Door 1 and the host opened Door 3 (revealing a goat)."
   ]
  },
  {
   "cell_type": "markdown",
   "id": "cccb44d6-8644-4f16-97e1-c9cea2523225",
   "metadata": {
    "jp-MarkdownHeadingCollapsed": true
   },
   "source": [
    "### Step 1: Define the Events\n",
    "\n",
    "- Let $B_2$ be the event that the car is behind Door 2 (the door you can switch to).\n",
    "- Let $H_3$ be the event that the host opens Door 3 (and shows a goat).\n",
    "\n",
    "We want to find $P(B_2|H_3)$, which is the probability that the car is behind Door 2, given that the host opened Door 3."
   ]
  },
  {
   "cell_type": "markdown",
   "id": "cb208201-e874-4fb3-b0de-a6defe67486c",
   "metadata": {},
   "source": [
    "### Step 2: Bayes' Theorem Formula\n",
    "\n",
    "Bayes' Theorem says:\n",
    "$$\n",
    "P(B_2|H_3) = \\frac{P(H_3|B_2) \\times P(B_2)}{P(H_3)}\n",
    "$$\n",
    "Let us break down each part:\n",
    "\n",
    "- $P(H_3|B_2)$:\n",
    "The probability that the host opens Door 3, given that the car is behind Door 2.\n",
    "You picked Door 1, so the host must open a door that's not Door 2 (the car) and not Door 1 (your choice).\n",
    "The only option is Door 3, so $P(H_3|B_2) = 1$.\n",
    "- $P(B_2)$:\n",
    "The probability that the car is behind Door 2 before we know anything else.\n",
    "Since the car is equally likely to be behind any of the three doors, $P(B_2) = \\frac{1}{3}$.\n",
    "- $P(H_3)$:\n",
    "The total probability that the host opens Door 3.\n",
    "This is trickier, so let's calculate it carefully."
   ]
  },
  {
   "cell_type": "markdown",
   "id": "8bee36e5-f17b-423e-9551-71f42e3bda2b",
   "metadata": {
    "jp-MarkdownHeadingCollapsed": true
   },
   "source": [
    "### Step 3: Calculate $P(H_3)$\n",
    "\n",
    "We can define $P(H_3)$ as follows:\n",
    "$$\n",
    "P(H_3) = [P(H_3|B_1) \\times P(B_1)] + [P(H_3|B_2) \\times P(B_2)] + [P(H_3|B_3) \\times P(B_3)]\n",
    "$$\n",
    "\n",
    "The host can open Door 3 in three scenarios, depending on where the car is:\n",
    "\n",
    "- **Car behind Door 1 ($B_1$):**\n",
    "Probability $P(B_1) = \\frac{1}{3}$.\n",
    "You picked Door 1, so the host must open a door that's not Door 1 (your choice).\n",
    "The host randomly picks a door, so $P(H_2|B_1) = P(H_3|B_1) = \\frac{1}{2}$.\n",
    "- **Car behind Door 2 ($B_2$):**\n",
    "Probability $P(B_2) = \\frac{1}{3}$.\n",
    "We calculate above that $P(H_3|B_2) = 1$.\n",
    "- **Car behind Door 3 ($B_3$):**\n",
    "Probability $P(B_3) = \\frac{1}{3}$.\n",
    "But if Door 3 has the car, the host cannot open Door 3, and $P(H_3|B_3) = 0$.\n",
    "\n",
    "Therefore, we can calculate $P(H_3)$ as follows:\n",
    "$$\n",
    "P(H_3) = (\\frac{1}{2} \\times \\frac{1}{3}) + (1 \\times \\frac{1}{3}) + (0 \\times \\frac{1}{3}) = \\frac{1}{6} + \\frac{1}{3} + 0 = \\frac{1}{2}\n",
    "$$"
   ]
  },
  {
   "cell_type": "markdown",
   "id": "641388fa-ca57-4c02-b376-4f40668a150e",
   "metadata": {
    "jp-MarkdownHeadingCollapsed": true
   },
   "source": [
    "### Step 4: Apply Bayes' Theorem\n",
    "\n",
    "Now we can plug everything into the formula:\n",
    "$$\n",
    "P(B_2|H_3) = \\frac{P(H_3|B_2) \\times P(B_2)}{P(H_3)} = \\frac{1 \\times \\frac{1}{3}}{\\frac{1}{2}} = \\frac{\\frac{1}{3}}{\\frac{1}{2}} = \\frac{1}{3} \\times \\frac{2}{1} = \\frac{2}{3}\n",
    "$$\n",
    "This confirms that switching doubles your odds."
   ]
  },
  {
   "cell_type": "markdown",
   "id": "da8bfc01-da77-40a7-8e46-72512fe2d80c",
   "metadata": {},
   "source": [
    "### Conclusion\n",
    "\n",
    "The probability that the car is behind Door 2, given that the host opened Door 3, is $\\frac{2}{3}$.\n",
    "This matches our intuition! You should switch to Door 2 to have a $\\frac{2}{3}$ chance of winning, compared to a $\\frac{1}{3}$ chance if you stay with Door 1."
   ]
  },
  {
   "attachments": {},
   "cell_type": "markdown",
   "id": "ce595b66-3a6a-498b-9e30-b4e562d6c155",
   "metadata": {},
   "source": [
    "## Class Data\n",
    "\n",
    "Let us look at the results from our envelope game in class.\n",
    "Here are the data:"
   ]
  },
  {
   "cell_type": "code",
   "execution_count": 2,
   "id": "0ed9923a-44e1-42c2-93c8-3b1a08202ef6",
   "metadata": {},
   "outputs": [],
   "source": [
    "data_class = \"\"\"\n",
    "Date,Section,Switched,Won\n",
    "2025-02-07,2,0,1\n",
    "2025-02-07,3,1,0\n",
    "2025-02-07,4,0,0\n",
    "2025-02-11,2,0,1\n",
    "2025-02-11,3,0,0\n",
    "2025-02-11,4,0,1\n",
    "2025-02-18,2,0,0\n",
    "2025-02-18,3,1,0\n",
    "2025-02-18,4,0,0\n",
    "2025-02-21,2,1,1\n",
    "2025-02-21,3,1,1\n",
    "2025-02-21,4,1,0\n",
    "2025-03-14,2,0,0\n",
    "2025-03-14,3,1,1\n",
    "2025-03-14,4,1,1\n",
    "2025-03-21,2,1,1\n",
    "2025-03-21,3,1,0\n",
    "2025-03-22,4,0,0\n",
    "2025-04-01,2,0,0\n",
    "2025-04-01,3,1,1\n",
    "2025-04-01,4,0,0\n",
    "2025-04-04,2,1,0\n",
    "2025-04-04,3,1,0\n",
    "2025-04-08,2,1,1\n",
    "2025-04-08,3,1,1\n",
    "2025-04-08,4,0,0\n",
    "\"\"\""
   ]
  },
  {
   "cell_type": "code",
   "execution_count": 3,
   "id": "88dc66bb-1691-4ec8-a57d-141b7a7864b4",
   "metadata": {},
   "outputs": [],
   "source": [
    "df_class = (\n",
    "    pd.read_csv(\n",
    "        filepath_or_buffer=io.StringIO(data_class),\n",
    "        parse_dates=['Date'],\n",
    "        index_col=['Date']\n",
    "    )\n",
    "    .assign(Choice=lambda x: np.where(x['Switched']==1, 'Switch', 'Stay'))\n",
    ")"
   ]
  },
  {
   "cell_type": "markdown",
   "id": "6f2eab61-0e3a-4943-933d-12666cd4ed16",
   "metadata": {},
   "source": [
    "We can calculate the fraction of times students won when they switched versus when they stayed.\n",
    "Let us use Python to do this."
   ]
  },
  {
   "cell_type": "code",
   "execution_count": 4,
   "id": "01a13173-5402-4fa8-86d4-13f6195cb6ef",
   "metadata": {},
   "outputs": [
    {
     "data": {
      "text/html": [
       "<div>\n",
       "<style scoped>\n",
       "    .dataframe tbody tr th:only-of-type {\n",
       "        vertical-align: middle;\n",
       "    }\n",
       "\n",
       "    .dataframe tbody tr th {\n",
       "        vertical-align: top;\n",
       "    }\n",
       "\n",
       "    .dataframe thead th {\n",
       "        text-align: right;\n",
       "    }\n",
       "</style>\n",
       "<table border=\"1\" class=\"dataframe\">\n",
       "  <thead>\n",
       "    <tr style=\"text-align: right;\">\n",
       "      <th></th>\n",
       "      <th>Won</th>\n",
       "    </tr>\n",
       "    <tr>\n",
       "      <th>Choice</th>\n",
       "      <th></th>\n",
       "    </tr>\n",
       "  </thead>\n",
       "  <tbody>\n",
       "    <tr>\n",
       "      <th>Stay</th>\n",
       "      <td>0.2500</td>\n",
       "    </tr>\n",
       "    <tr>\n",
       "      <th>Switch</th>\n",
       "      <td>0.5714</td>\n",
       "    </tr>\n",
       "  </tbody>\n",
       "</table>\n",
       "</div>"
      ],
      "text/plain": [
       "           Won\n",
       "Choice        \n",
       "Stay    0.2500\n",
       "Switch  0.5714"
      ]
     },
     "execution_count": 4,
     "metadata": {},
     "output_type": "execute_result"
    }
   ],
   "source": [
    "(\n",
    "    df_class\n",
    "    .groupby(by='Choice')\n",
    "    [['Won']]\n",
    "    .mean()\n",
    "    .round(4)\n",
    ")"
   ]
  },
  {
   "attachments": {},
   "cell_type": "markdown",
   "id": "af5dff80-67b5-4040-9088-7b43026a2a36",
   "metadata": {},
   "source": [
    "Our class data supports the idea that switching is better!\n",
    "Furthermore, these results are close to the theoretical probabilities we calculated:\n",
    "$\\frac{1}{3}$ for staying and $\\frac{2}{3}$ for switching.\n",
    "\n",
    "Let us plot the win rates with a bar chart.\n",
    "The black lines on each bar show the 95% confidence interval."
   ]
  },
  {
   "cell_type": "code",
   "execution_count": 5,
   "id": "bf9fc397-6c30-4180-b60e-adcbc28f15b5",
   "metadata": {},
   "outputs": [
    {
     "data": {
      "image/png": "[encoded data removed]",
      "text/plain": [
       "<Figure size 511.111x500 with 1 Axes>"
      ]
     },
     "metadata": {},
     "output_type": "display_data"
    }
   ],
   "source": [
    "sns.catplot(\n",
    "    data=df_class,\n",
    "    x='Choice',\n",
    "    y='Won',\n",
    "    kind='bar',\n",
    "    errorbar=('ci', 95)\n",
    ")\n",
    "plt.suptitle(f'Classroom Fraction of Winners ({df_class.shape[0]} Games)', y=1.05)\n",
    "plt.ylabel('Fraction of Wins')\n",
    "plt.show()"
   ]
  },
  {
   "cell_type": "markdown",
   "id": "515394ea-fcbe-4fff-b097-8b547805aef7",
   "metadata": {},
   "source": [
    "## Simulated Data\n",
    "\n",
    "We can simulate as many plays of the game as we want!\n",
    "The code below simulates 10,000 plays of the game.\n",
    "For each play, we calculate whether switching or staying wins.\n",
    "So, for every play, we have both stay and switch outcomes"
   ]
  },
  {
   "cell_type": "code",
   "execution_count": 6,
   "id": "b43ea468-a119-4f71-88f3-1f71a7201f04",
   "metadata": {},
   "outputs": [],
   "source": [
    "trials = 10_000\n",
    "doors = [1, 2, 3]\n",
    "doors_set = set(doors)\n",
    "\n",
    "random.seed(42)\n",
    "\n",
    "df_sim = (\n",
    "    pd.DataFrame(\n",
    "        data={\n",
    "            'Winner': [random.choice(doors) for _ in range(trials)], \n",
    "            'Choice_1': [random.choice(doors) for _ in range(trials)], \n",
    "            'Open': np.nan,\n",
    "            'Choice_2': np.nan,\n",
    "            'Stay': np.nan,\n",
    "            'Switch': np.nan\n",
    "        },\n",
    "        index=pd.RangeIndex(stop=trials, name='Simulation')\n",
    "    )\n",
    "    .assign(\n",
    "        Open=lambda x: [(doors_set - {w, c}).pop() for w, c in x[['Winner', 'Choice_1']].itertuples(index=False)],\n",
    "        Choice_2=lambda x: [(doors_set - {c, o}).pop() for c, o in x[['Choice_1', 'Open']].itertuples(index=False)],\n",
    "        Stay=lambda x: x['Choice_1'] == x['Winner'],\n",
    "        Switch=lambda x: x['Choice_2'] == x['Winner']        \n",
    "    )\n",
    "    .melt(\n",
    "        value_vars=['Switch', 'Stay'],\n",
    "        var_name='Choice',\n",
    "        value_name='Won')\n",
    ")"
   ]
  },
  {
   "cell_type": "code",
   "execution_count": 7,
   "id": "69fb00ae-8f6f-4939-b9a5-a7d68d835ffd",
   "metadata": {},
   "outputs": [
    {
     "data": {
      "text/html": [
       "<div>\n",
       "<style scoped>\n",
       "    .dataframe tbody tr th:only-of-type {\n",
       "        vertical-align: middle;\n",
       "    }\n",
       "\n",
       "    .dataframe tbody tr th {\n",
       "        vertical-align: top;\n",
       "    }\n",
       "\n",
       "    .dataframe thead th {\n",
       "        text-align: right;\n",
       "    }\n",
       "</style>\n",
       "<table border=\"1\" class=\"dataframe\">\n",
       "  <thead>\n",
       "    <tr style=\"text-align: right;\">\n",
       "      <th></th>\n",
       "      <th>Won</th>\n",
       "    </tr>\n",
       "    <tr>\n",
       "      <th>Choice</th>\n",
       "      <th></th>\n",
       "    </tr>\n",
       "  </thead>\n",
       "  <tbody>\n",
       "    <tr>\n",
       "      <th>Stay</th>\n",
       "      <td>0.3396</td>\n",
       "    </tr>\n",
       "    <tr>\n",
       "      <th>Switch</th>\n",
       "      <td>0.6604</td>\n",
       "    </tr>\n",
       "  </tbody>\n",
       "</table>\n",
       "</div>"
      ],
      "text/plain": [
       "           Won\n",
       "Choice        \n",
       "Stay    0.3396\n",
       "Switch  0.6604"
      ]
     },
     "execution_count": 7,
     "metadata": {},
     "output_type": "execute_result"
    }
   ],
   "source": [
    "(\n",
    "    df_sim\n",
    "    .groupby(by='Choice')\n",
    "    [['Won']]\n",
    "    .mean()\n",
    "    .round(4)\n",
    ")"
   ]
  },
  {
   "cell_type": "markdown",
   "id": "8bb4f3ed-f7e8-4669-a988-7442a5879833",
   "metadata": {},
   "source": [
    "With 10,000 simulations, these results are much more reliable than our class data.\n",
    "They confirm that switching is the better strategy!"
   ]
  },
  {
   "cell_type": "code",
   "execution_count": 8,
   "id": "bc04bbc9-8bd7-40ba-9bd3-0383b7aa15ca",
   "metadata": {},
   "outputs": [
    {
     "data": {
      "image/png": "[encoded data removed]",
      "text/plain": [
       "<Figure size 511.111x500 with 1 Axes>"
      ]
     },
     "metadata": {},
     "output_type": "display_data"
    }
   ],
   "source": [
    "sns.catplot(\n",
    "    data=df_sim.sort_values(by='Choice'),\n",
    "    x='Choice',\n",
    "    y='Won',\n",
    "    kind='bar',\n",
    "    errorbar=('ci', 95)\n",
    ")\n",
    "plt.suptitle(f'Simulated Fraction of Winners ({trials:,.0f} Games)', y=1.05)\n",
    "plt.ylabel('Fraction of Wins')\n",
    "plt.show()"
   ]
  },
  {
   "cell_type": "markdown",
   "id": "8a7aaa21-0642-40f3-94b8-bb2cd134e879",
   "metadata": {},
   "source": [
    "## Conclusion\n",
    "\n",
    "We explored the Monty Hall problem in four different ways, and they all point to the same conclusion:\n",
    "\n",
    "- **Intuition:** Switching transfers the $\\frac{2}{3}$ probability from the other two doors to the remaining door.\n",
    "- **Bayes' Theorem:** The probability of winning by switching is $\\frac{2}{3}$.\n",
    "- **Class Data:** Our 26 games showed that switchers won 57% of the time, compared to 25% for stayers.\n",
    "- **Simulation:** Over 10,000 simulated games, switchers won 67% of the time, compared to 33% for stayers.\n",
    "\n",
    "All these methods agree: you should always switch in the Monty Hall problem to maximize your chance of winning the car, giving you a $\\frac{2}{3}$ probability of success. Staying with your original choice only gives you a $\\frac{1}{3}$ chance. So, next time you're on a game show (or playing an envelope game in class), remember to switch!"
   ]
  },
  {
   "cell_type": "code",
   "execution_count": null,
   "id": "2f5f7cba-2c87-4d2f-93fd-c5d48798d3e6",
   "metadata": {},
   "outputs": [],
   "source": []
  }
 ],
 "metadata": {
  "kernelspec": {
   "display_name": "Python 3 (ipykernel)",
   "language": "python",
   "name": "python3"
  },
  "language_info": {
   "codemirror_mode": {
    "name": "ipython",
    "version": 3
   },
   "file_extension": ".py",
   "mimetype": "text/x-python",
   "name": "python",
   "nbconvert_exporter": "python",
   "pygments_lexer": "ipython3",
   "version": "3.12.9"
  }
 },
 "nbformat": 4,
 "nbformat_minor": 5
}
