{
 "cells": [
  {
   "cell_type": "markdown",
   "metadata": {
    "editable": true,
    "slideshow": {
     "slide_type": ""
    },
    "tags": []
   },
   "source": [
    "# McKinney Chapter 11 - Time Series"
   ]
  },
  {
   "cell_type": "code",
   "execution_count": 1,
   "metadata": {},
   "outputs": [],
   "source": [
    "import matplotlib.pyplot as plt\n",
    "import numpy as np\n",
    "import pandas as pd\n",
    "import pandas_datareader as pdr\n",
    "import yfinance as yf"
   ]
  },
  {
   "cell_type": "code",
   "execution_count": 2,
   "metadata": {},
   "outputs": [],
   "source": [
    "%precision 4\n",
    "pd.options.display.float_format = '{:.4f}'.format\n",
    "# %config InlineBackend.figure_format = 'retina'"
   ]
  },
  {
   "cell_type": "markdown",
   "metadata": {
    "tags": []
   },
   "source": [
    "## Introduction"
   ]
  },
  {
   "cell_type": "markdown",
   "metadata": {
    "tags": []
   },
   "source": [
    "Chapter 11 of @mckinney2022python discusses time series and panel data, which is where pandas *excels!*\n",
    "We will use these time series and panel tools every day for the rest of the course.\n",
    "\n",
    "We will focus on:\n",
    "\n",
    "1. Slicing a data frame or series by date or date range\n",
    "1. Using `.shift()` to create leads and lags of variables\n",
    "1. Using `.resample()` to change the frequency of variables\n",
    "1. Using `.rolling()` to aggregate data over moving or rolling windows\n",
    "\n",
    "***Note:*** \n",
    "Indented block quotes are from @mckinney2022python unless otherwise indicated. \n",
    "The section numbers here differ from @mckinney2022python because we will only discuss some topics."
   ]
  },
  {
   "cell_type": "markdown",
   "metadata": {
    "tags": []
   },
   "source": [
    "## Time Series Basics"
   ]
  },
  {
   "cell_type": "markdown",
   "metadata": {},
   "source": [
    "Let us create a time series to play with."
   ]
  },
  {
   "cell_type": "code",
   "execution_count": 3,
   "metadata": {},
   "outputs": [
    {
     "data": {
      "text/plain": [
       "2011-01-02    0.4967\n",
       "2011-01-05   -0.1383\n",
       "2011-01-07    0.6477\n",
       "2011-01-08    1.5230\n",
       "2011-01-10   -0.2342\n",
       "2011-01-12   -0.2341\n",
       "dtype: float64"
      ]
     },
     "execution_count": 3,
     "metadata": {},
     "output_type": "execute_result"
    }
   ],
   "source": [
    "from datetime import datetime\n",
    "dates = [\n",
    "    datetime(2011, 1, 2), \n",
    "    datetime(2011, 1, 5),\n",
    "    datetime(2011, 1, 7), \n",
    "    datetime(2011, 1, 8),\n",
    "    datetime(2011, 1, 10), \n",
    "    datetime(2011, 1, 12)\n",
    "]\n",
    "np.random.seed(42)\n",
    "ts = pd.Series(np.random.randn(6), index=dates)\n",
    "\n",
    "ts"
   ]
  },
  {
   "cell_type": "markdown",
   "metadata": {},
   "source": [
    "Note that pandas converts the `datetime` objects to a pandas `DatetimeIndex` object and a single index value is a `Timestamp` object."
   ]
  },
  {
   "cell_type": "code",
   "execution_count": 4,
   "metadata": {
    "deletable": true,
    "editable": true,
    "tags": []
   },
   "outputs": [
    {
     "data": {
      "text/plain": [
       "DatetimeIndex(['2011-01-02', '2011-01-05', '2011-01-07', '2011-01-08',\n",
       "               '2011-01-10', '2011-01-12'],\n",
       "              dtype='datetime64[ns]', freq=None)"
      ]
     },
     "execution_count": 4,
     "metadata": {},
     "output_type": "execute_result"
    }
   ],
   "source": [
    "ts.index"
   ]
  },
  {
   "cell_type": "code",
   "execution_count": 5,
   "metadata": {
    "editable": true,
    "tags": []
   },
   "outputs": [
    {
     "data": {
      "text/plain": [
       "Timestamp('2011-01-02 00:00:00')"
      ]
     },
     "execution_count": 5,
     "metadata": {},
     "output_type": "execute_result"
    }
   ],
   "source": [
    "ts.index[0]"
   ]
  },
  {
   "cell_type": "markdown",
   "metadata": {},
   "source": [
    "Recall that pandas automatically aligns objects on indexes."
   ]
  },
  {
   "cell_type": "code",
   "execution_count": 6,
   "metadata": {},
   "outputs": [
    {
     "data": {
      "text/plain": [
       "2011-01-02    0.4967\n",
       "2011-01-05   -0.1383\n",
       "2011-01-07    0.6477\n",
       "2011-01-08    1.5230\n",
       "2011-01-10   -0.2342\n",
       "2011-01-12   -0.2341\n",
       "dtype: float64"
      ]
     },
     "execution_count": 6,
     "metadata": {},
     "output_type": "execute_result"
    }
   ],
   "source": [
    "ts"
   ]
  },
  {
   "cell_type": "code",
   "execution_count": 7,
   "metadata": {},
   "outputs": [
    {
     "data": {
      "text/plain": [
       "2011-01-02    0.4967\n",
       "2011-01-07    0.6477\n",
       "2011-01-10   -0.2342\n",
       "dtype: float64"
      ]
     },
     "execution_count": 7,
     "metadata": {},
     "output_type": "execute_result"
    }
   ],
   "source": [
    "ts.iloc[::2]"
   ]
  },
  {
   "cell_type": "code",
   "execution_count": 8,
   "metadata": {
    "collapsed": false,
    "deletable": true,
    "editable": true,
    "jupyter": {
     "outputs_hidden": false
    }
   },
   "outputs": [
    {
     "data": {
      "text/plain": [
       "2011-01-02    0.9934\n",
       "2011-01-05       NaN\n",
       "2011-01-07    1.2954\n",
       "2011-01-08       NaN\n",
       "2011-01-10   -0.4683\n",
       "2011-01-12       NaN\n",
       "dtype: float64"
      ]
     },
     "execution_count": 8,
     "metadata": {},
     "output_type": "execute_result"
    }
   ],
   "source": [
    "ts + ts.iloc[::2]"
   ]
  },
  {
   "cell_type": "markdown",
   "metadata": {},
   "source": [
    "If we want to assign a default for missing values on the fly, we can use the `.add()` method."
   ]
  },
  {
   "cell_type": "code",
   "execution_count": 9,
   "metadata": {},
   "outputs": [
    {
     "data": {
      "text/plain": [
       "2011-01-02         0.9934\n",
       "2011-01-05    999999.8617\n",
       "2011-01-07         1.2954\n",
       "2011-01-08   1000001.5230\n",
       "2011-01-10        -0.4683\n",
       "2011-01-12    999999.7659\n",
       "dtype: float64"
      ]
     },
     "execution_count": 9,
     "metadata": {},
     "output_type": "execute_result"
    }
   ],
   "source": [
    "ts.add(ts.iloc[::2], fill_value=1_000_000)"
   ]
  },
  {
   "cell_type": "markdown",
   "metadata": {},
   "source": [
    "### Indexing, Selection, Subsetting"
   ]
  },
  {
   "cell_type": "markdown",
   "metadata": {},
   "source": [
    "pandas uses U.S.-style date strings (e.g., \"M/D/Y\") or unambiguous date strings (e.g., \"YYYY-MM-DD\") to select data."
   ]
  },
  {
   "cell_type": "code",
   "execution_count": 10,
   "metadata": {
    "deletable": true,
    "editable": true,
    "tags": []
   },
   "outputs": [
    {
     "data": {
      "text/plain": [
       "-0.2342"
      ]
     },
     "execution_count": 10,
     "metadata": {},
     "output_type": "execute_result"
    }
   ],
   "source": [
    "ts.loc['1/10/2011'] # M/D/YYYY"
   ]
  },
  {
   "cell_type": "code",
   "execution_count": 11,
   "metadata": {},
   "outputs": [
    {
     "data": {
      "text/plain": [
       "-0.2342"
      ]
     },
     "execution_count": 11,
     "metadata": {},
     "output_type": "execute_result"
    }
   ],
   "source": [
    "ts.loc['2011-01-10'] # YYYY-MM-DD"
   ]
  },
  {
   "cell_type": "code",
   "execution_count": 12,
   "metadata": {},
   "outputs": [
    {
     "data": {
      "text/plain": [
       "-0.2342"
      ]
     },
     "execution_count": 12,
     "metadata": {},
     "output_type": "execute_result"
    }
   ],
   "source": [
    "ts.loc['20110110'] # YYYYMMDD"
   ]
  },
  {
   "cell_type": "code",
   "execution_count": 13,
   "metadata": {},
   "outputs": [
    {
     "data": {
      "text/plain": [
       "-0.2342"
      ]
     },
     "execution_count": 13,
     "metadata": {},
     "output_type": "execute_result"
    }
   ],
   "source": [
    "ts.loc['10-Jan-2011'] # D-Mon-YYYY"
   ]
  },
  {
   "cell_type": "code",
   "execution_count": 14,
   "metadata": {},
   "outputs": [
    {
     "data": {
      "text/plain": [
       "-0.2342"
      ]
     },
     "execution_count": 14,
     "metadata": {},
     "output_type": "execute_result"
    }
   ],
   "source": [
    "ts.loc['Jan-10-2011'] # Mon-D-YYYY"
   ]
  },
  {
   "cell_type": "markdown",
   "metadata": {},
   "source": [
    "pandas *does not* use U.K.-style date strings."
   ]
  },
  {
   "cell_type": "code",
   "execution_count": 15,
   "metadata": {
    "collapsed": false,
    "editable": true,
    "jupyter": {
     "outputs_hidden": false
    }
   },
   "outputs": [],
   "source": [
    "# ts.loc['10/1/2011'] # D/M/YYYY # KeyError: '10/1/2011'"
   ]
  },
  {
   "cell_type": "markdown",
   "metadata": {},
   "source": [
    "Let us create a *longer* time series to play with."
   ]
  },
  {
   "cell_type": "code",
   "execution_count": 16,
   "metadata": {},
   "outputs": [],
   "source": [
    "np.random.seed(42)\n",
    "longer_ts = pd.Series(\n",
    "    data=np.random.randn(1000),\n",
    "    index=pd.date_range('1/1/2000', periods=1000)\n",
    ")"
   ]
  },
  {
   "cell_type": "code",
   "execution_count": 17,
   "metadata": {},
   "outputs": [
    {
     "data": {
      "text/plain": [
       "2000-01-01    0.4967\n",
       "2000-01-02   -0.1383\n",
       "2000-01-03    0.6477\n",
       "2000-01-04    1.5230\n",
       "2000-01-05   -0.2342\n",
       "               ...  \n",
       "2002-09-22   -0.2811\n",
       "2002-09-23    1.7977\n",
       "2002-09-24    0.6408\n",
       "2002-09-25   -0.5712\n",
       "2002-09-26    0.5726\n",
       "Freq: D, Length: 1000, dtype: float64"
      ]
     },
     "execution_count": 17,
     "metadata": {},
     "output_type": "execute_result"
    }
   ],
   "source": [
    "longer_ts"
   ]
  },
  {
   "cell_type": "markdown",
   "metadata": {},
   "source": [
    "We can specify a year-month to slice all of the observations in May of 2001."
   ]
  },
  {
   "cell_type": "code",
   "execution_count": 18,
   "metadata": {
    "collapsed": false,
    "deletable": true,
    "editable": true,
    "jupyter": {
     "outputs_hidden": false
    }
   },
   "outputs": [
    {
     "data": {
      "text/plain": [
       "2001-05-01   -0.6466\n",
       "2001-05-02   -1.0815\n",
       "2001-05-03    1.6871\n",
       "2001-05-04    0.8816\n",
       "2001-05-05   -0.0080\n",
       "2001-05-06    1.4799\n",
       "2001-05-07    0.0774\n",
       "2001-05-08   -0.8613\n",
       "2001-05-09    1.5231\n",
       "2001-05-10    0.5389\n",
       "2001-05-11   -1.0372\n",
       "2001-05-12   -0.1903\n",
       "2001-05-13   -0.8756\n",
       "2001-05-14   -1.3828\n",
       "2001-05-15    0.9262\n",
       "2001-05-16    1.9094\n",
       "2001-05-17   -1.3986\n",
       "2001-05-18    0.5630\n",
       "2001-05-19   -0.6506\n",
       "2001-05-20   -0.4871\n",
       "2001-05-21   -0.5924\n",
       "2001-05-22   -0.8640\n",
       "2001-05-23    0.0485\n",
       "2001-05-24   -0.8310\n",
       "2001-05-25    0.2705\n",
       "2001-05-26   -0.0502\n",
       "2001-05-27   -0.2389\n",
       "2001-05-28   -0.9076\n",
       "2001-05-29   -0.5768\n",
       "2001-05-30    0.7554\n",
       "2001-05-31    0.5009\n",
       "Freq: D, dtype: float64"
      ]
     },
     "execution_count": 18,
     "metadata": {},
     "output_type": "execute_result"
    }
   ],
   "source": [
    "longer_ts.loc['2001-05']"
   ]
  },
  {
   "cell_type": "markdown",
   "metadata": {},
   "source": [
    "We can also specify a year to slice all observations in 2001."
   ]
  },
  {
   "cell_type": "code",
   "execution_count": 19,
   "metadata": {},
   "outputs": [
    {
     "data": {
      "text/plain": [
       "2001-01-01    0.2241\n",
       "2001-01-02    0.0126\n",
       "2001-01-03    0.0977\n",
       "2001-01-04   -0.7730\n",
       "2001-01-05    0.0245\n",
       "               ...  \n",
       "2001-12-27    0.0184\n",
       "2001-12-28    0.3476\n",
       "2001-12-29   -0.5398\n",
       "2001-12-30   -0.7783\n",
       "2001-12-31    0.1958\n",
       "Freq: D, Length: 365, dtype: float64"
      ]
     },
     "execution_count": 19,
     "metadata": {},
     "output_type": "execute_result"
    }
   ],
   "source": [
    "longer_ts.loc['2001']"
   ]
  },
  {
   "cell_type": "markdown",
   "metadata": {},
   "source": [
    "If we sort our data chronologically, we can also slice with a range of date strings."
   ]
  },
  {
   "cell_type": "code",
   "execution_count": 20,
   "metadata": {
    "collapsed": false,
    "editable": true,
    "jupyter": {
     "outputs_hidden": false
    }
   },
   "outputs": [
    {
     "data": {
      "text/plain": [
       "2011-01-07    0.6477\n",
       "2011-01-08    1.5230\n",
       "2011-01-10   -0.2342\n",
       "dtype: float64"
      ]
     },
     "execution_count": 20,
     "metadata": {},
     "output_type": "execute_result"
    }
   ],
   "source": [
    "ts.loc['1/6/2011':'1/10/2011']"
   ]
  },
  {
   "cell_type": "markdown",
   "metadata": {},
   "source": [
    "However, we cannot date slice if our data are not sorted chronologically."
   ]
  },
  {
   "cell_type": "code",
   "execution_count": 21,
   "metadata": {},
   "outputs": [],
   "source": [
    "ts2 = ts.sort_values()"
   ]
  },
  {
   "cell_type": "code",
   "execution_count": 22,
   "metadata": {},
   "outputs": [
    {
     "data": {
      "text/plain": [
       "2011-01-10   -0.2342\n",
       "2011-01-12   -0.2341\n",
       "2011-01-05   -0.1383\n",
       "2011-01-02    0.4967\n",
       "2011-01-07    0.6477\n",
       "2011-01-08    1.5230\n",
       "dtype: float64"
      ]
     },
     "execution_count": 22,
     "metadata": {},
     "output_type": "execute_result"
    }
   ],
   "source": [
    "ts2"
   ]
  },
  {
   "cell_type": "markdown",
   "metadata": {},
   "source": [
    "The following date slice fails because `ts2` is not sorted chronologically."
   ]
  },
  {
   "cell_type": "code",
   "execution_count": 23,
   "metadata": {
    "tags": []
   },
   "outputs": [],
   "source": [
    "# ts2.loc['1/6/2011':'1/11/2011'] # KeyError: 'Value based partial slicing on non-monotonic DatetimeIndexes with non-existing keys is not allowed.'"
   ]
  },
  {
   "cell_type": "markdown",
   "metadata": {},
   "source": [
    "We can use the `.sort_index()` method first to allow date slices."
   ]
  },
  {
   "cell_type": "code",
   "execution_count": 24,
   "metadata": {},
   "outputs": [
    {
     "data": {
      "text/plain": [
       "2011-01-07    0.6477\n",
       "2011-01-08    1.5230\n",
       "2011-01-10   -0.2342\n",
       "dtype: float64"
      ]
     },
     "execution_count": 24,
     "metadata": {},
     "output_type": "execute_result"
    }
   ],
   "source": [
    "ts2.sort_index()['1/6/2011':'1/11/2011']"
   ]
  },
  {
   "cell_type": "markdown",
   "metadata": {},
   "source": [
    "*As with label slices, date slices are inclusive on both ends.*"
   ]
  },
  {
   "cell_type": "code",
   "execution_count": 25,
   "metadata": {},
   "outputs": [
    {
     "data": {
      "text/plain": [
       "2001-01-06    0.4980\n",
       "2001-01-07    1.4511\n",
       "2001-01-08    0.9593\n",
       "2001-01-09    2.1532\n",
       "2001-01-10   -0.7673\n",
       "2001-01-11    0.8723\n",
       "Freq: D, dtype: float64"
      ]
     },
     "execution_count": 25,
     "metadata": {},
     "output_type": "execute_result"
    }
   ],
   "source": [
    "longer_ts.loc['1/6/2001':'1/11/2001']"
   ]
  },
  {
   "cell_type": "markdown",
   "metadata": {},
   "source": [
    "*Recall that if we modify a slice, we modify the original series or data frame.*\n",
    "\n",
    "> Remember that slicing in this manner produces views on the source time series like slicing NumPy arrays. This means that no data is copied and modifications on the slice will be reflected in the original data."
   ]
  },
  {
   "cell_type": "code",
   "execution_count": 26,
   "metadata": {},
   "outputs": [],
   "source": [
    "ts3 = ts.copy()"
   ]
  },
  {
   "cell_type": "code",
   "execution_count": 27,
   "metadata": {},
   "outputs": [
    {
     "data": {
      "text/plain": [
       "2011-01-02    0.4967\n",
       "2011-01-05   -0.1383\n",
       "2011-01-07    0.6477\n",
       "2011-01-08    1.5230\n",
       "2011-01-10   -0.2342\n",
       "2011-01-12   -0.2341\n",
       "dtype: float64"
      ]
     },
     "execution_count": 27,
     "metadata": {},
     "output_type": "execute_result"
    }
   ],
   "source": [
    "ts3"
   ]
  },
  {
   "cell_type": "code",
   "execution_count": 28,
   "metadata": {},
   "outputs": [],
   "source": [
    "ts4 = ts3.iloc[:3]"
   ]
  },
  {
   "cell_type": "code",
   "execution_count": 29,
   "metadata": {},
   "outputs": [
    {
     "data": {
      "text/plain": [
       "2011-01-02    0.4967\n",
       "2011-01-05   -0.1383\n",
       "2011-01-07    0.6477\n",
       "dtype: float64"
      ]
     },
     "execution_count": 29,
     "metadata": {},
     "output_type": "execute_result"
    }
   ],
   "source": [
    "ts4"
   ]
  },
  {
   "cell_type": "code",
   "execution_count": 30,
   "metadata": {},
   "outputs": [],
   "source": [
    "ts4.iloc[:] = 2001"
   ]
  },
  {
   "cell_type": "code",
   "execution_count": 31,
   "metadata": {},
   "outputs": [
    {
     "data": {
      "text/plain": [
       "2011-01-02   2001.0000\n",
       "2011-01-05   2001.0000\n",
       "2011-01-07   2001.0000\n",
       "dtype: float64"
      ]
     },
     "execution_count": 31,
     "metadata": {},
     "output_type": "execute_result"
    }
   ],
   "source": [
    "ts4"
   ]
  },
  {
   "cell_type": "code",
   "execution_count": 32,
   "metadata": {},
   "outputs": [
    {
     "data": {
      "text/plain": [
       "2011-01-02   2001.0000\n",
       "2011-01-05   2001.0000\n",
       "2011-01-07   2001.0000\n",
       "2011-01-08      1.5230\n",
       "2011-01-10     -0.2342\n",
       "2011-01-12     -0.2341\n",
       "dtype: float64"
      ]
     },
     "execution_count": 32,
     "metadata": {},
     "output_type": "execute_result"
    }
   ],
   "source": [
    "ts3"
   ]
  },
  {
   "cell_type": "markdown",
   "metadata": {},
   "source": [
    "Series `ts` is unchanged because `ts3` is a *copy* of `ts`!"
   ]
  },
  {
   "cell_type": "code",
   "execution_count": 33,
   "metadata": {},
   "outputs": [
    {
     "data": {
      "text/plain": [
       "2011-01-02    0.4967\n",
       "2011-01-05   -0.1383\n",
       "2011-01-07    0.6477\n",
       "2011-01-08    1.5230\n",
       "2011-01-10   -0.2342\n",
       "2011-01-12   -0.2341\n",
       "dtype: float64"
      ]
     },
     "execution_count": 33,
     "metadata": {},
     "output_type": "execute_result"
    }
   ],
   "source": [
    "ts"
   ]
  },
  {
   "cell_type": "markdown",
   "metadata": {
    "deletable": true,
    "editable": true
   },
   "source": [
    "### Time Series with Duplicate Indices"
   ]
  },
  {
   "cell_type": "markdown",
   "metadata": {},
   "source": [
    "Most our of data in this course will be well-formed with one observation per date-time for series or one observation per individual per date-time for data frames.\n",
    "However, we may later receive poorly-formed data with duplicate observations.\n",
    "Here, series `dup_ts` has three observations on February 2nd."
   ]
  },
  {
   "cell_type": "code",
   "execution_count": 34,
   "metadata": {},
   "outputs": [
    {
     "data": {
      "text/plain": [
       "2000-01-01    0\n",
       "2000-01-02    1\n",
       "2000-01-02    2\n",
       "2000-01-02    3\n",
       "2000-01-03    4\n",
       "dtype: int64"
      ]
     },
     "execution_count": 34,
     "metadata": {},
     "output_type": "execute_result"
    }
   ],
   "source": [
    "dates = pd.DatetimeIndex(['1/1/2000', '1/2/2000', '1/2/2000', '1/2/2000', '1/3/2000'])\n",
    "dup_ts = pd.Series(data=np.arange(5), index=dates)\n",
    "dup_ts"
   ]
  },
  {
   "cell_type": "markdown",
   "metadata": {},
   "source": [
    "The `.is_unique` attribute tells us if an index is unique."
   ]
  },
  {
   "cell_type": "code",
   "execution_count": 35,
   "metadata": {
    "collapsed": false,
    "deletable": true,
    "editable": true,
    "jupyter": {
     "outputs_hidden": false
    }
   },
   "outputs": [
    {
     "data": {
      "text/plain": [
       "False"
      ]
     },
     "execution_count": 35,
     "metadata": {},
     "output_type": "execute_result"
    }
   ],
   "source": [
    "dup_ts.index.is_unique"
   ]
  },
  {
   "cell_type": "code",
   "execution_count": 36,
   "metadata": {
    "collapsed": false,
    "deletable": true,
    "editable": true,
    "jupyter": {
     "outputs_hidden": false
    }
   },
   "outputs": [
    {
     "data": {
      "text/plain": [
       "np.int64(4)"
      ]
     },
     "execution_count": 36,
     "metadata": {},
     "output_type": "execute_result"
    }
   ],
   "source": [
    "dup_ts.loc['1/3/2000'] # not duplicated"
   ]
  },
  {
   "cell_type": "code",
   "execution_count": 37,
   "metadata": {},
   "outputs": [
    {
     "data": {
      "text/plain": [
       "2000-01-02    1\n",
       "2000-01-02    2\n",
       "2000-01-02    3\n",
       "dtype: int64"
      ]
     },
     "execution_count": 37,
     "metadata": {},
     "output_type": "execute_result"
    }
   ],
   "source": [
    "dup_ts.loc['1/2/2000'] # duplicated"
   ]
  },
  {
   "cell_type": "markdown",
   "metadata": {},
   "source": [
    "The solution to duplicate data depends on the context.\n",
    "For example, we may want the mean of all observations on a given date.\n",
    "The `.groupby()`  method can help us here."
   ]
  },
  {
   "cell_type": "code",
   "execution_count": 38,
   "metadata": {
    "collapsed": false,
    "deletable": true,
    "editable": true,
    "jupyter": {
     "outputs_hidden": false
    }
   },
   "outputs": [
    {
     "data": {
      "text/plain": [
       "2000-01-01   0.0000\n",
       "2000-01-02   2.0000\n",
       "2000-01-03   4.0000\n",
       "dtype: float64"
      ]
     },
     "execution_count": 38,
     "metadata": {},
     "output_type": "execute_result"
    }
   ],
   "source": [
    "dup_ts.groupby(level=0).mean()"
   ]
  },
  {
   "cell_type": "raw",
   "metadata": {},
   "source": [
    "Or keep the first value on each date."
   ]
  },
  {
   "cell_type": "code",
   "execution_count": 39,
   "metadata": {
    "collapsed": false,
    "editable": true,
    "jupyter": {
     "outputs_hidden": false
    }
   },
   "outputs": [
    {
     "data": {
      "text/plain": [
       "2000-01-01    0\n",
       "2000-01-02    1\n",
       "2000-01-03    4\n",
       "dtype: int64"
      ]
     },
     "execution_count": 39,
     "metadata": {},
     "output_type": "execute_result"
    }
   ],
   "source": [
    "dup_ts.groupby(level=0).first()"
   ]
  },
  {
   "cell_type": "markdown",
   "metadata": {
    "tags": []
   },
   "source": [
    "## Date Ranges, Frequencies, and Shifting"
   ]
  },
  {
   "cell_type": "markdown",
   "metadata": {},
   "source": [
    "> Generic time series in pandas are assumed to be irregular; that is, they have no fixed frequency. For many applications this is sufficient. However, it’s often desirable to work relative to a fixed frequency, such as daily, monthly, or every 15 minutes, even if that means introducing missing values into a time series. Fortunately pandas has a full suite of standard time series frequencies and tools for resampling, inferring frequencies, and generating fixed-frequency date ranges."
   ]
  },
  {
   "cell_type": "markdown",
   "metadata": {},
   "source": [
    "### Shifting Data"
   ]
  },
  {
   "cell_type": "markdown",
   "metadata": {},
   "source": [
    "*Shifting is an important feature!*\n",
    "Shifting is moving data backward (or forward) through time."
   ]
  },
  {
   "cell_type": "code",
   "execution_count": 40,
   "metadata": {},
   "outputs": [],
   "source": [
    "np.random.seed(42)\n",
    "ts = pd.Series(\n",
    "    data=np.random.randn(4),\n",
    "    index=pd.date_range('1/1/2000', periods=4, freq='ME')\n",
    ")"
   ]
  },
  {
   "cell_type": "code",
   "execution_count": 41,
   "metadata": {},
   "outputs": [
    {
     "data": {
      "text/plain": [
       "2000-01-31    0.4967\n",
       "2000-02-29   -0.1383\n",
       "2000-03-31    0.6477\n",
       "2000-04-30    1.5230\n",
       "Freq: ME, dtype: float64"
      ]
     },
     "execution_count": 41,
     "metadata": {},
     "output_type": "execute_result"
    }
   ],
   "source": [
    "ts"
   ]
  },
  {
   "cell_type": "markdown",
   "metadata": {},
   "source": [
    "If we specify a *positive integer* $N$ to the `.shift()` method:\n",
    "\n",
    "1. The date index remains the same\n",
    "2. Values *shift down* $N$ observations\n",
    "\n",
    "The `.shift()` method defaults to $N=1$."
   ]
  },
  {
   "cell_type": "code",
   "execution_count": 42,
   "metadata": {},
   "outputs": [
    {
     "data": {
      "text/plain": [
       "2000-01-31       NaN\n",
       "2000-02-29    0.4967\n",
       "2000-03-31   -0.1383\n",
       "2000-04-30    0.6477\n",
       "Freq: ME, dtype: float64"
      ]
     },
     "execution_count": 42,
     "metadata": {},
     "output_type": "execute_result"
    }
   ],
   "source": [
    "ts.shift()"
   ]
  },
  {
   "cell_type": "code",
   "execution_count": 43,
   "metadata": {},
   "outputs": [
    {
     "data": {
      "text/plain": [
       "2000-01-31       NaN\n",
       "2000-02-29    0.4967\n",
       "2000-03-31   -0.1383\n",
       "2000-04-30    0.6477\n",
       "Freq: ME, dtype: float64"
      ]
     },
     "execution_count": 43,
     "metadata": {},
     "output_type": "execute_result"
    }
   ],
   "source": [
    "ts.shift(1)"
   ]
  },
  {
   "cell_type": "code",
   "execution_count": 44,
   "metadata": {},
   "outputs": [
    {
     "data": {
      "text/plain": [
       "2000-01-31       NaN\n",
       "2000-02-29       NaN\n",
       "2000-03-31    0.4967\n",
       "2000-04-30   -0.1383\n",
       "Freq: ME, dtype: float64"
      ]
     },
     "execution_count": 44,
     "metadata": {},
     "output_type": "execute_result"
    }
   ],
   "source": [
    "ts.shift(2)"
   ]
  },
  {
   "cell_type": "markdown",
   "metadata": {},
   "source": [
    "If we specify a *negative integer* $N$ to the `.shift()` method, values *shift up* $N$ observations."
   ]
  },
  {
   "cell_type": "code",
   "execution_count": 45,
   "metadata": {},
   "outputs": [
    {
     "data": {
      "text/plain": [
       "2000-01-31   0.6477\n",
       "2000-02-29   1.5230\n",
       "2000-03-31      NaN\n",
       "2000-04-30      NaN\n",
       "Freq: ME, dtype: float64"
      ]
     },
     "execution_count": 45,
     "metadata": {},
     "output_type": "execute_result"
    }
   ],
   "source": [
    "ts.shift(-2)"
   ]
  },
  {
   "cell_type": "markdown",
   "metadata": {},
   "source": [
    "::: {.callout-note}\n",
    "\n",
    "We almost never shift with negative values to prevent a look-ahead bias.\n",
    "That is, assuming chronological sorting, we almost never bring values from the future back to the present.\n",
    "We do not want to assume that financial market participants know the future.\n",
    "\n",
    ":::"
   ]
  },
  {
   "cell_type": "markdown",
   "metadata": {},
   "source": [
    "The `.shift()` examples above shift by $N$ observations without considering time stamps.\n",
    "As a result, the time stamps are unchanged, and values shift down for positive `periods` or up for negative `periods`.\n",
    "However, we can specify the `freq` argument to consider time stamps.\n",
    "With the `freq` argument, time stamps shift by `periods` multiples of the  `freq` argument."
   ]
  },
  {
   "cell_type": "code",
   "execution_count": 46,
   "metadata": {},
   "outputs": [
    {
     "data": {
      "text/plain": [
       "2000-01-31    0.4967\n",
       "2000-02-29   -0.1383\n",
       "2000-03-31    0.6477\n",
       "2000-04-30    1.5230\n",
       "Freq: ME, dtype: float64"
      ]
     },
     "execution_count": 46,
     "metadata": {},
     "output_type": "execute_result"
    }
   ],
   "source": [
    "ts"
   ]
  },
  {
   "cell_type": "code",
   "execution_count": 47,
   "metadata": {
    "collapsed": false,
    "deletable": true,
    "editable": true,
    "jupyter": {
     "outputs_hidden": false
    }
   },
   "outputs": [
    {
     "data": {
      "text/plain": [
       "2000-03-31    0.4967\n",
       "2000-04-30   -0.1383\n",
       "2000-05-31    0.6477\n",
       "2000-06-30    1.5230\n",
       "Freq: ME, dtype: float64"
      ]
     },
     "execution_count": 47,
     "metadata": {},
     "output_type": "execute_result"
    }
   ],
   "source": [
    "ts.shift(periods=2, freq='ME')"
   ]
  },
  {
   "cell_type": "code",
   "execution_count": 48,
   "metadata": {
    "collapsed": false,
    "deletable": true,
    "editable": true,
    "jupyter": {
     "outputs_hidden": false
    }
   },
   "outputs": [
    {
     "data": {
      "text/plain": [
       "2000-02-03    0.4967\n",
       "2000-03-03   -0.1383\n",
       "2000-04-03    0.6477\n",
       "2000-05-03    1.5230\n",
       "dtype: float64"
      ]
     },
     "execution_count": 48,
     "metadata": {},
     "output_type": "execute_result"
    }
   ],
   "source": [
    "ts.shift(periods=3, freq='D')"
   ]
  },
  {
   "cell_type": "markdown",
   "metadata": {},
   "source": [
    "`M` is already months, so `min` is minutes."
   ]
  },
  {
   "cell_type": "code",
   "execution_count": 49,
   "metadata": {},
   "outputs": [
    {
     "data": {
      "text/plain": [
       "2000-01-31 01:30:00    0.4967\n",
       "2000-02-29 01:30:00   -0.1383\n",
       "2000-03-31 01:30:00    0.6477\n",
       "2000-04-30 01:30:00    1.5230\n",
       "dtype: float64"
      ]
     },
     "execution_count": 49,
     "metadata": {},
     "output_type": "execute_result"
    }
   ],
   "source": [
    "ts.shift(periods=1, freq='90min')"
   ]
  },
  {
   "cell_type": "markdown",
   "metadata": {},
   "source": [
    "### Calculating returns"
   ]
  },
  {
   "cell_type": "markdown",
   "metadata": {},
   "source": [
    "We can calculate returns in two ways.\n",
    "First, easily with the `.pct_change()` method."
   ]
  },
  {
   "cell_type": "code",
   "execution_count": 50,
   "metadata": {},
   "outputs": [
    {
     "data": {
      "text/plain": [
       "2000-01-31       NaN\n",
       "2000-02-29   -1.2784\n",
       "2000-03-31   -5.6844\n",
       "2000-04-30    1.3515\n",
       "Freq: ME, dtype: float64"
      ]
     },
     "execution_count": 50,
     "metadata": {},
     "output_type": "execute_result"
    }
   ],
   "source": [
    "ts.pct_change()"
   ]
  },
  {
   "cell_type": "markdown",
   "metadata": {},
   "source": [
    "Second, manaully with the `.shift()` method."
   ]
  },
  {
   "cell_type": "code",
   "execution_count": 51,
   "metadata": {},
   "outputs": [
    {
     "data": {
      "text/plain": [
       "2000-01-31       NaN\n",
       "2000-02-29   -1.2784\n",
       "2000-03-31   -5.6844\n",
       "2000-04-30    1.3515\n",
       "Freq: ME, dtype: float64"
      ]
     },
     "execution_count": 51,
     "metadata": {},
     "output_type": "execute_result"
    }
   ],
   "source": [
    "(ts - ts.shift()) / ts.shift()"
   ]
  },
  {
   "cell_type": "markdown",
   "metadata": {},
   "source": [
    "These two return calculations are the same."
   ]
  },
  {
   "cell_type": "code",
   "execution_count": 52,
   "metadata": {},
   "outputs": [
    {
     "data": {
      "text/plain": [
       "True"
      ]
     },
     "execution_count": 52,
     "metadata": {},
     "output_type": "execute_result"
    }
   ],
   "source": [
    "np.allclose(\n",
    "    a=ts.pct_change(),\n",
    "    b=(ts - ts.shift()) / ts.shift(),\n",
    "    equal_nan=True\n",
    ")"
   ]
  },
  {
   "cell_type": "markdown",
   "metadata": {},
   "source": [
    "Two observations on these return calculations:\n",
    "\n",
    "1. The first percent change is `NaN` because there is no previous value to change from\n",
    "2. The default for `.shift()`  and `.pct_change()` is `periods=1`"
   ]
  },
  {
   "cell_type": "markdown",
   "metadata": {},
   "source": [
    "### Shifting dates with offsets"
   ]
  },
  {
   "cell_type": "markdown",
   "metadata": {},
   "source": [
    "We can also shift time stamps to the beginning or end of a period."
   ]
  },
  {
   "cell_type": "code",
   "execution_count": 53,
   "metadata": {
    "collapsed": false,
    "deletable": true,
    "editable": true,
    "jupyter": {
     "outputs_hidden": false
    }
   },
   "outputs": [],
   "source": [
    "from pandas.tseries.offsets import MonthEnd\n",
    "now = datetime(2011, 11, 17)"
   ]
  },
  {
   "cell_type": "code",
   "execution_count": 54,
   "metadata": {
    "collapsed": false,
    "deletable": true,
    "editable": true,
    "jupyter": {
     "outputs_hidden": false
    }
   },
   "outputs": [
    {
     "data": {
      "text/plain": [
       "datetime.datetime(2011, 11, 17, 0, 0)"
      ]
     },
     "execution_count": 54,
     "metadata": {},
     "output_type": "execute_result"
    }
   ],
   "source": [
    "now"
   ]
  },
  {
   "cell_type": "markdown",
   "metadata": {},
   "source": [
    "`MonthEnd(0)` moves to the end of the month *but does not leave the current month.*"
   ]
  },
  {
   "cell_type": "code",
   "execution_count": 55,
   "metadata": {
    "collapsed": false,
    "deletable": true,
    "editable": true,
    "jupyter": {
     "outputs_hidden": false
    }
   },
   "outputs": [
    {
     "data": {
      "text/plain": [
       "Timestamp('2011-11-30 00:00:00')"
      ]
     },
     "execution_count": 55,
     "metadata": {},
     "output_type": "execute_result"
    }
   ],
   "source": [
    "now + MonthEnd(0)"
   ]
  },
  {
   "cell_type": "markdown",
   "metadata": {},
   "source": [
    "`MonthEnd(1)` moves to the end of the *current* month.\n",
    "If already at the end of the *current* month, it moves to the end of the *next* month."
   ]
  },
  {
   "cell_type": "code",
   "execution_count": 56,
   "metadata": {
    "collapsed": false,
    "editable": true,
    "jupyter": {
     "outputs_hidden": false
    }
   },
   "outputs": [
    {
     "data": {
      "text/plain": [
       "Timestamp('2011-11-30 00:00:00')"
      ]
     },
     "execution_count": 56,
     "metadata": {},
     "output_type": "execute_result"
    }
   ],
   "source": [
    "now + MonthEnd(1)"
   ]
  },
  {
   "cell_type": "code",
   "execution_count": 57,
   "metadata": {
    "collapsed": false,
    "editable": true,
    "jupyter": {
     "outputs_hidden": false
    }
   },
   "outputs": [
    {
     "data": {
      "text/plain": [
       "Timestamp('2011-12-31 00:00:00')"
      ]
     },
     "execution_count": 57,
     "metadata": {},
     "output_type": "execute_result"
    }
   ],
   "source": [
    "now + MonthEnd(1) + MonthEnd(1)"
   ]
  },
  {
   "cell_type": "code",
   "execution_count": 58,
   "metadata": {
    "collapsed": false,
    "editable": true,
    "jupyter": {
     "outputs_hidden": false
    }
   },
   "outputs": [
    {
     "data": {
      "text/plain": [
       "Timestamp('2011-12-31 00:00:00')"
      ]
     },
     "execution_count": 58,
     "metadata": {},
     "output_type": "execute_result"
    }
   ],
   "source": [
    "now + MonthEnd(0) + MonthEnd(1)"
   ]
  },
  {
   "cell_type": "markdown",
   "metadata": {},
   "source": [
    "***Be careful! The `MonthEnd()` default is `n=1`!***"
   ]
  },
  {
   "cell_type": "code",
   "execution_count": 59,
   "metadata": {},
   "outputs": [
    {
     "data": {
      "text/plain": [
       "Timestamp('2021-10-31 00:00:00')"
      ]
     },
     "execution_count": 59,
     "metadata": {},
     "output_type": "execute_result"
    }
   ],
   "source": [
    "datetime(2021, 10, 31) + MonthEnd(0)"
   ]
  },
  {
   "cell_type": "code",
   "execution_count": 60,
   "metadata": {},
   "outputs": [
    {
     "data": {
      "text/plain": [
       "Timestamp('2021-11-30 00:00:00')"
      ]
     },
     "execution_count": 60,
     "metadata": {},
     "output_type": "execute_result"
    }
   ],
   "source": [
    "datetime(2021, 10, 31) + MonthEnd(1)"
   ]
  },
  {
   "cell_type": "code",
   "execution_count": 61,
   "metadata": {},
   "outputs": [
    {
     "data": {
      "text/plain": [
       "Timestamp('2021-11-30 00:00:00')"
      ]
     },
     "execution_count": 61,
     "metadata": {},
     "output_type": "execute_result"
    }
   ],
   "source": [
    "datetime(2021, 10, 31) + MonthEnd()"
   ]
  },
  {
   "cell_type": "markdown",
   "metadata": {},
   "source": [
    "***Always check your output!***"
   ]
  },
  {
   "cell_type": "markdown",
   "metadata": {
    "tags": []
   },
   "source": [
    "## Resampling and Frequency Conversion"
   ]
  },
  {
   "cell_type": "markdown",
   "metadata": {},
   "source": [
    "*Resampling is an important feature!*\n",
    "\n",
    "> Resampling refers to the process of converting a time series from one frequency to\n",
    "another. Aggregating higher frequency data to lower frequency is called \n",
    "downsampling, while converting lower frequency to higher frequency is called upsampling. Not\n",
    "all resampling falls into either of these categories; for example, converting W-WED\n",
    "(weekly on Wednesday) to W-FRI is neither upsampling nor downsampling.\n",
    "\n",
    "We can resample both series and data frames.\n",
    "The `.resample()` method syntax is similar to `.groupby()`."
   ]
  },
  {
   "cell_type": "markdown",
   "metadata": {},
   "source": [
    "### Downsampling"
   ]
  },
  {
   "cell_type": "markdown",
   "metadata": {},
   "source": [
    "> Aggregating data to a regular, lower frequency is a pretty normal time series task. The\n",
    "data you’re aggregating doesn’t need to be fixed frequently; the desired frequency\n",
    "defines bin edges that are used to slice the time series into pieces to aggregate. For\n",
    "example, to convert to monthly, 'M' or 'BM', you need to chop up the data into \n",
    "one-month intervals. Each interval is said to be half-open; a data point can only belong to\n",
    "one interval, and the union of the intervals must make up the whole time frame.\n",
    "There are a couple things to think about when using resample to downsample data:\n",
    ">\n",
    "> - Which side of each interval is closed\n",
    "> - How to label each aggregated bin, either with the start of the interval or the end"
   ]
  },
  {
   "cell_type": "code",
   "execution_count": 62,
   "metadata": {},
   "outputs": [],
   "source": [
    "rng = pd.date_range(start='2000-01-01', periods=12, freq='min')\n",
    "ts = pd.Series(np.arange(12), index=rng)"
   ]
  },
  {
   "cell_type": "code",
   "execution_count": 63,
   "metadata": {},
   "outputs": [
    {
     "data": {
      "text/plain": [
       "2000-01-01 00:00:00     0\n",
       "2000-01-01 00:01:00     1\n",
       "2000-01-01 00:02:00     2\n",
       "2000-01-01 00:03:00     3\n",
       "2000-01-01 00:04:00     4\n",
       "2000-01-01 00:05:00     5\n",
       "2000-01-01 00:06:00     6\n",
       "2000-01-01 00:07:00     7\n",
       "2000-01-01 00:08:00     8\n",
       "2000-01-01 00:09:00     9\n",
       "2000-01-01 00:10:00    10\n",
       "2000-01-01 00:11:00    11\n",
       "Freq: min, dtype: int64"
      ]
     },
     "execution_count": 63,
     "metadata": {},
     "output_type": "execute_result"
    }
   ],
   "source": [
    "ts"
   ]
  },
  {
   "cell_type": "markdown",
   "metadata": {},
   "source": [
    "We can aggregate the one-minute frequency data above to five-minute frequency data.\n",
    "Resampling requires an aggregation method.\n",
    "Here, we use the `.sum()` method."
   ]
  },
  {
   "cell_type": "code",
   "execution_count": 64,
   "metadata": {
    "collapsed": false,
    "editable": true,
    "jupyter": {
     "outputs_hidden": false
    }
   },
   "outputs": [
    {
     "data": {
      "text/plain": [
       "2000-01-01 00:00:00    10\n",
       "2000-01-01 00:05:00    35\n",
       "2000-01-01 00:10:00    21\n",
       "Freq: 5min, dtype: int64"
      ]
     },
     "execution_count": 64,
     "metadata": {},
     "output_type": "execute_result"
    }
   ],
   "source": [
    "ts.resample('5min').sum()"
   ]
  },
  {
   "cell_type": "markdown",
   "metadata": {},
   "source": [
    "When we resample with a minute-frequency:\n",
    "\n",
    "1. Left edges of the resampling interval are closed (included) and right edges are open (excluded)\n",
    "2. Labels are by the left edge of the resampling interval by default\n",
    "\n",
    "In the example above, the first value of 10 at midnight is the sum of values at midnight until 00:05, excluding the value at 00:05.\n",
    "That is, the sums are $10 = 0+1+2+3+4$ at 00:00, $35 = 5+6+7+8+9$ at 00:05, and so on.\n",
    "We can use the `closed` and `label` arguments to change this behavior.\n",
    "\n",
    "In finance, we generally prefer `closed='right'` and `label='right'` to avoid a lookahead bias."
   ]
  },
  {
   "cell_type": "code",
   "execution_count": 65,
   "metadata": {
    "deletable": true,
    "editable": true,
    "tags": []
   },
   "outputs": [
    {
     "data": {
      "text/plain": [
       "2000-01-01 00:00:00     0\n",
       "2000-01-01 00:05:00    15\n",
       "2000-01-01 00:10:00    40\n",
       "2000-01-01 00:15:00    11\n",
       "Freq: 5min, dtype: int64"
      ]
     },
     "execution_count": 65,
     "metadata": {},
     "output_type": "execute_result"
    }
   ],
   "source": [
    "ts.resample('5min', closed='right', label='right').sum() "
   ]
  },
  {
   "cell_type": "markdown",
   "metadata": {},
   "source": [
    "These defaults for minute-frequency data may seem odd, but any choice is arbitrary.\n",
    "The defaults for weekly and lower frequencies are `closed='right'` and `label='right'`, which are corect for finance.\n",
    "Still, we should read the docstring and check our output whenever we use the `.resample()` method!"
   ]
  },
  {
   "cell_type": "markdown",
   "metadata": {},
   "source": [
    "### Upsampling and Interpolation"
   ]
  },
  {
   "cell_type": "markdown",
   "metadata": {},
   "source": [
    "To downsample (i.e., resample from higher to lower frequency), we must aggregate (e.g., `.mean()`, `.sum()`, `.first()`, or `.last()`).\n",
    "To upsample (i.e., resample from lower to higher frequency), we must choose how to fill in the new, higher-frequency observations."
   ]
  },
  {
   "cell_type": "code",
   "execution_count": 66,
   "metadata": {},
   "outputs": [],
   "source": [
    "np.random.seed(42)\n",
    "frame = pd.DataFrame(\n",
    "    data=np.random.randn(2, 4),\n",
    "    index=pd.date_range('1/1/2000', periods=2, freq='W-WED'),\n",
    "    columns=['Colorado', 'Texas', 'New York', 'Ohio']\n",
    ")"
   ]
  },
  {
   "cell_type": "code",
   "execution_count": 67,
   "metadata": {},
   "outputs": [
    {
     "data": {
      "text/html": [
       "<div>\n",
       "<style scoped>\n",
       "    .dataframe tbody tr th:only-of-type {\n",
       "        vertical-align: middle;\n",
       "    }\n",
       "\n",
       "    .dataframe tbody tr th {\n",
       "        vertical-align: top;\n",
       "    }\n",
       "\n",
       "    .dataframe thead th {\n",
       "        text-align: right;\n",
       "    }\n",
       "</style>\n",
       "<table border=\"1\" class=\"dataframe\">\n",
       "  <thead>\n",
       "    <tr style=\"text-align: right;\">\n",
       "      <th></th>\n",
       "      <th>Colorado</th>\n",
       "      <th>Texas</th>\n",
       "      <th>New York</th>\n",
       "      <th>Ohio</th>\n",
       "    </tr>\n",
       "  </thead>\n",
       "  <tbody>\n",
       "    <tr>\n",
       "      <th>2000-01-05</th>\n",
       "      <td>0.4967</td>\n",
       "      <td>-0.1383</td>\n",
       "      <td>0.6477</td>\n",
       "      <td>1.5230</td>\n",
       "    </tr>\n",
       "    <tr>\n",
       "      <th>2000-01-12</th>\n",
       "      <td>-0.2342</td>\n",
       "      <td>-0.2341</td>\n",
       "      <td>1.5792</td>\n",
       "      <td>0.7674</td>\n",
       "    </tr>\n",
       "  </tbody>\n",
       "</table>\n",
       "</div>"
      ],
      "text/plain": [
       "            Colorado   Texas  New York   Ohio\n",
       "2000-01-05    0.4967 -0.1383    0.6477 1.5230\n",
       "2000-01-12   -0.2342 -0.2341    1.5792 0.7674"
      ]
     },
     "execution_count": 67,
     "metadata": {},
     "output_type": "execute_result"
    }
   ],
   "source": [
    "frame"
   ]
  },
  {
   "attachments": {},
   "cell_type": "markdown",
   "metadata": {},
   "source": [
    "We use the `.asfreq()` method to convert to the new frequency and leave the new observations as missing."
   ]
  },
  {
   "cell_type": "code",
   "execution_count": 68,
   "metadata": {},
   "outputs": [],
   "source": [
    "df_daily = frame.resample('D').asfreq()"
   ]
  },
  {
   "cell_type": "code",
   "execution_count": 69,
   "metadata": {},
   "outputs": [
    {
     "data": {
      "text/html": [
       "<div>\n",
       "<style scoped>\n",
       "    .dataframe tbody tr th:only-of-type {\n",
       "        vertical-align: middle;\n",
       "    }\n",
       "\n",
       "    .dataframe tbody tr th {\n",
       "        vertical-align: top;\n",
       "    }\n",
       "\n",
       "    .dataframe thead th {\n",
       "        text-align: right;\n",
       "    }\n",
       "</style>\n",
       "<table border=\"1\" class=\"dataframe\">\n",
       "  <thead>\n",
       "    <tr style=\"text-align: right;\">\n",
       "      <th></th>\n",
       "      <th>Colorado</th>\n",
       "      <th>Texas</th>\n",
       "      <th>New York</th>\n",
       "      <th>Ohio</th>\n",
       "    </tr>\n",
       "  </thead>\n",
       "  <tbody>\n",
       "    <tr>\n",
       "      <th>2000-01-05</th>\n",
       "      <td>0.4967</td>\n",
       "      <td>-0.1383</td>\n",
       "      <td>0.6477</td>\n",
       "      <td>1.5230</td>\n",
       "    </tr>\n",
       "    <tr>\n",
       "      <th>2000-01-06</th>\n",
       "      <td>NaN</td>\n",
       "      <td>NaN</td>\n",
       "      <td>NaN</td>\n",
       "      <td>NaN</td>\n",
       "    </tr>\n",
       "    <tr>\n",
       "      <th>2000-01-07</th>\n",
       "      <td>NaN</td>\n",
       "      <td>NaN</td>\n",
       "      <td>NaN</td>\n",
       "      <td>NaN</td>\n",
       "    </tr>\n",
       "    <tr>\n",
       "      <th>2000-01-08</th>\n",
       "      <td>NaN</td>\n",
       "      <td>NaN</td>\n",
       "      <td>NaN</td>\n",
       "      <td>NaN</td>\n",
       "    </tr>\n",
       "    <tr>\n",
       "      <th>2000-01-09</th>\n",
       "      <td>NaN</td>\n",
       "      <td>NaN</td>\n",
       "      <td>NaN</td>\n",
       "      <td>NaN</td>\n",
       "    </tr>\n",
       "    <tr>\n",
       "      <th>2000-01-10</th>\n",
       "      <td>NaN</td>\n",
       "      <td>NaN</td>\n",
       "      <td>NaN</td>\n",
       "      <td>NaN</td>\n",
       "    </tr>\n",
       "    <tr>\n",
       "      <th>2000-01-11</th>\n",
       "      <td>NaN</td>\n",
       "      <td>NaN</td>\n",
       "      <td>NaN</td>\n",
       "      <td>NaN</td>\n",
       "    </tr>\n",
       "    <tr>\n",
       "      <th>2000-01-12</th>\n",
       "      <td>-0.2342</td>\n",
       "      <td>-0.2341</td>\n",
       "      <td>1.5792</td>\n",
       "      <td>0.7674</td>\n",
       "    </tr>\n",
       "  </tbody>\n",
       "</table>\n",
       "</div>"
      ],
      "text/plain": [
       "            Colorado   Texas  New York   Ohio\n",
       "2000-01-05    0.4967 -0.1383    0.6477 1.5230\n",
       "2000-01-06       NaN     NaN       NaN    NaN\n",
       "2000-01-07       NaN     NaN       NaN    NaN\n",
       "2000-01-08       NaN     NaN       NaN    NaN\n",
       "2000-01-09       NaN     NaN       NaN    NaN\n",
       "2000-01-10       NaN     NaN       NaN    NaN\n",
       "2000-01-11       NaN     NaN       NaN    NaN\n",
       "2000-01-12   -0.2342 -0.2341    1.5792 0.7674"
      ]
     },
     "execution_count": 69,
     "metadata": {},
     "output_type": "execute_result"
    }
   ],
   "source": [
    "df_daily"
   ]
  },
  {
   "cell_type": "markdown",
   "metadata": {},
   "source": [
    "We use the `.ffill()` method to forward fill values to replace missing values."
   ]
  },
  {
   "cell_type": "code",
   "execution_count": 70,
   "metadata": {
    "collapsed": false,
    "deletable": true,
    "editable": true,
    "jupyter": {
     "outputs_hidden": false
    }
   },
   "outputs": [
    {
     "data": {
      "text/html": [
       "<div>\n",
       "<style scoped>\n",
       "    .dataframe tbody tr th:only-of-type {\n",
       "        vertical-align: middle;\n",
       "    }\n",
       "\n",
       "    .dataframe tbody tr th {\n",
       "        vertical-align: top;\n",
       "    }\n",
       "\n",
       "    .dataframe thead th {\n",
       "        text-align: right;\n",
       "    }\n",
       "</style>\n",
       "<table border=\"1\" class=\"dataframe\">\n",
       "  <thead>\n",
       "    <tr style=\"text-align: right;\">\n",
       "      <th></th>\n",
       "      <th>Colorado</th>\n",
       "      <th>Texas</th>\n",
       "      <th>New York</th>\n",
       "      <th>Ohio</th>\n",
       "    </tr>\n",
       "  </thead>\n",
       "  <tbody>\n",
       "    <tr>\n",
       "      <th>2000-01-05</th>\n",
       "      <td>0.4967</td>\n",
       "      <td>-0.1383</td>\n",
       "      <td>0.6477</td>\n",
       "      <td>1.5230</td>\n",
       "    </tr>\n",
       "    <tr>\n",
       "      <th>2000-01-06</th>\n",
       "      <td>0.4967</td>\n",
       "      <td>-0.1383</td>\n",
       "      <td>0.6477</td>\n",
       "      <td>1.5230</td>\n",
       "    </tr>\n",
       "    <tr>\n",
       "      <th>2000-01-07</th>\n",
       "      <td>0.4967</td>\n",
       "      <td>-0.1383</td>\n",
       "      <td>0.6477</td>\n",
       "      <td>1.5230</td>\n",
       "    </tr>\n",
       "    <tr>\n",
       "      <th>2000-01-08</th>\n",
       "      <td>0.4967</td>\n",
       "      <td>-0.1383</td>\n",
       "      <td>0.6477</td>\n",
       "      <td>1.5230</td>\n",
       "    </tr>\n",
       "    <tr>\n",
       "      <th>2000-01-09</th>\n",
       "      <td>0.4967</td>\n",
       "      <td>-0.1383</td>\n",
       "      <td>0.6477</td>\n",
       "      <td>1.5230</td>\n",
       "    </tr>\n",
       "    <tr>\n",
       "      <th>2000-01-10</th>\n",
       "      <td>0.4967</td>\n",
       "      <td>-0.1383</td>\n",
       "      <td>0.6477</td>\n",
       "      <td>1.5230</td>\n",
       "    </tr>\n",
       "    <tr>\n",
       "      <th>2000-01-11</th>\n",
       "      <td>0.4967</td>\n",
       "      <td>-0.1383</td>\n",
       "      <td>0.6477</td>\n",
       "      <td>1.5230</td>\n",
       "    </tr>\n",
       "    <tr>\n",
       "      <th>2000-01-12</th>\n",
       "      <td>-0.2342</td>\n",
       "      <td>-0.2341</td>\n",
       "      <td>1.5792</td>\n",
       "      <td>0.7674</td>\n",
       "    </tr>\n",
       "  </tbody>\n",
       "</table>\n",
       "</div>"
      ],
      "text/plain": [
       "            Colorado   Texas  New York   Ohio\n",
       "2000-01-05    0.4967 -0.1383    0.6477 1.5230\n",
       "2000-01-06    0.4967 -0.1383    0.6477 1.5230\n",
       "2000-01-07    0.4967 -0.1383    0.6477 1.5230\n",
       "2000-01-08    0.4967 -0.1383    0.6477 1.5230\n",
       "2000-01-09    0.4967 -0.1383    0.6477 1.5230\n",
       "2000-01-10    0.4967 -0.1383    0.6477 1.5230\n",
       "2000-01-11    0.4967 -0.1383    0.6477 1.5230\n",
       "2000-01-12   -0.2342 -0.2341    1.5792 0.7674"
      ]
     },
     "execution_count": 70,
     "metadata": {},
     "output_type": "execute_result"
    }
   ],
   "source": [
    "frame.resample('D').ffill()"
   ]
  },
  {
   "cell_type": "code",
   "execution_count": 71,
   "metadata": {
    "collapsed": false,
    "deletable": true,
    "editable": true,
    "jupyter": {
     "outputs_hidden": false
    }
   },
   "outputs": [
    {
     "data": {
      "text/html": [
       "<div>\n",
       "<style scoped>\n",
       "    .dataframe tbody tr th:only-of-type {\n",
       "        vertical-align: middle;\n",
       "    }\n",
       "\n",
       "    .dataframe tbody tr th {\n",
       "        vertical-align: top;\n",
       "    }\n",
       "\n",
       "    .dataframe thead th {\n",
       "        text-align: right;\n",
       "    }\n",
       "</style>\n",
       "<table border=\"1\" class=\"dataframe\">\n",
       "  <thead>\n",
       "    <tr style=\"text-align: right;\">\n",
       "      <th></th>\n",
       "      <th>Colorado</th>\n",
       "      <th>Texas</th>\n",
       "      <th>New York</th>\n",
       "      <th>Ohio</th>\n",
       "    </tr>\n",
       "  </thead>\n",
       "  <tbody>\n",
       "    <tr>\n",
       "      <th>2000-01-05</th>\n",
       "      <td>0.4967</td>\n",
       "      <td>-0.1383</td>\n",
       "      <td>0.6477</td>\n",
       "      <td>1.5230</td>\n",
       "    </tr>\n",
       "    <tr>\n",
       "      <th>2000-01-06</th>\n",
       "      <td>0.4967</td>\n",
       "      <td>-0.1383</td>\n",
       "      <td>0.6477</td>\n",
       "      <td>1.5230</td>\n",
       "    </tr>\n",
       "    <tr>\n",
       "      <th>2000-01-07</th>\n",
       "      <td>0.4967</td>\n",
       "      <td>-0.1383</td>\n",
       "      <td>0.6477</td>\n",
       "      <td>1.5230</td>\n",
       "    </tr>\n",
       "    <tr>\n",
       "      <th>2000-01-08</th>\n",
       "      <td>NaN</td>\n",
       "      <td>NaN</td>\n",
       "      <td>NaN</td>\n",
       "      <td>NaN</td>\n",
       "    </tr>\n",
       "    <tr>\n",
       "      <th>2000-01-09</th>\n",
       "      <td>NaN</td>\n",
       "      <td>NaN</td>\n",
       "      <td>NaN</td>\n",
       "      <td>NaN</td>\n",
       "    </tr>\n",
       "    <tr>\n",
       "      <th>2000-01-10</th>\n",
       "      <td>NaN</td>\n",
       "      <td>NaN</td>\n",
       "      <td>NaN</td>\n",
       "      <td>NaN</td>\n",
       "    </tr>\n",
       "    <tr>\n",
       "      <th>2000-01-11</th>\n",
       "      <td>NaN</td>\n",
       "      <td>NaN</td>\n",
       "      <td>NaN</td>\n",
       "      <td>NaN</td>\n",
       "    </tr>\n",
       "    <tr>\n",
       "      <th>2000-01-12</th>\n",
       "      <td>-0.2342</td>\n",
       "      <td>-0.2341</td>\n",
       "      <td>1.5792</td>\n",
       "      <td>0.7674</td>\n",
       "    </tr>\n",
       "  </tbody>\n",
       "</table>\n",
       "</div>"
      ],
      "text/plain": [
       "            Colorado   Texas  New York   Ohio\n",
       "2000-01-05    0.4967 -0.1383    0.6477 1.5230\n",
       "2000-01-06    0.4967 -0.1383    0.6477 1.5230\n",
       "2000-01-07    0.4967 -0.1383    0.6477 1.5230\n",
       "2000-01-08       NaN     NaN       NaN    NaN\n",
       "2000-01-09       NaN     NaN       NaN    NaN\n",
       "2000-01-10       NaN     NaN       NaN    NaN\n",
       "2000-01-11       NaN     NaN       NaN    NaN\n",
       "2000-01-12   -0.2342 -0.2341    1.5792 0.7674"
      ]
     },
     "execution_count": 71,
     "metadata": {},
     "output_type": "execute_result"
    }
   ],
   "source": [
    "frame.resample('D').ffill(limit=2)"
   ]
  },
  {
   "cell_type": "code",
   "execution_count": 72,
   "metadata": {
    "collapsed": false,
    "deletable": true,
    "editable": true,
    "jupyter": {
     "outputs_hidden": false
    }
   },
   "outputs": [
    {
     "data": {
      "text/html": [
       "<div>\n",
       "<style scoped>\n",
       "    .dataframe tbody tr th:only-of-type {\n",
       "        vertical-align: middle;\n",
       "    }\n",
       "\n",
       "    .dataframe tbody tr th {\n",
       "        vertical-align: top;\n",
       "    }\n",
       "\n",
       "    .dataframe thead th {\n",
       "        text-align: right;\n",
       "    }\n",
       "</style>\n",
       "<table border=\"1\" class=\"dataframe\">\n",
       "  <thead>\n",
       "    <tr style=\"text-align: right;\">\n",
       "      <th></th>\n",
       "      <th>Colorado</th>\n",
       "      <th>Texas</th>\n",
       "      <th>New York</th>\n",
       "      <th>Ohio</th>\n",
       "    </tr>\n",
       "  </thead>\n",
       "  <tbody>\n",
       "    <tr>\n",
       "      <th>2000-01-06</th>\n",
       "      <td>0.4967</td>\n",
       "      <td>-0.1383</td>\n",
       "      <td>0.6477</td>\n",
       "      <td>1.5230</td>\n",
       "    </tr>\n",
       "    <tr>\n",
       "      <th>2000-01-13</th>\n",
       "      <td>-0.2342</td>\n",
       "      <td>-0.2341</td>\n",
       "      <td>1.5792</td>\n",
       "      <td>0.7674</td>\n",
       "    </tr>\n",
       "  </tbody>\n",
       "</table>\n",
       "</div>"
      ],
      "text/plain": [
       "            Colorado   Texas  New York   Ohio\n",
       "2000-01-06    0.4967 -0.1383    0.6477 1.5230\n",
       "2000-01-13   -0.2342 -0.2341    1.5792 0.7674"
      ]
     },
     "execution_count": 72,
     "metadata": {},
     "output_type": "execute_result"
    }
   ],
   "source": [
    "frame.resample('W-THU').ffill()"
   ]
  },
  {
   "cell_type": "markdown",
   "metadata": {
    "tags": []
   },
   "source": [
    "## Moving Window Functions"
   ]
  },
  {
   "cell_type": "markdown",
   "metadata": {},
   "source": [
    "*Moving or rolling window functions are one of the neatest features of pandas.!*"
   ]
  },
  {
   "cell_type": "code",
   "execution_count": 73,
   "metadata": {},
   "outputs": [],
   "source": [
    "df = (\n",
    "    yf.download(\n",
    "        tickers=['AAPL', 'MSFT', 'SPY'],\n",
    "        auto_adjust=False,\n",
    "        progress=False\n",
    "    )\n",
    "    .iloc[:-1]\n",
    ")"
   ]
  },
  {
   "cell_type": "code",
   "execution_count": 74,
   "metadata": {},
   "outputs": [
    {
     "data": {
      "text/html": [
       "<div>\n",
       "<style scoped>\n",
       "    .dataframe tbody tr th:only-of-type {\n",
       "        vertical-align: middle;\n",
       "    }\n",
       "\n",
       "    .dataframe tbody tr th {\n",
       "        vertical-align: top;\n",
       "    }\n",
       "\n",
       "    .dataframe thead tr th {\n",
       "        text-align: left;\n",
       "    }\n",
       "\n",
       "    .dataframe thead tr:last-of-type th {\n",
       "        text-align: right;\n",
       "    }\n",
       "</style>\n",
       "<table border=\"1\" class=\"dataframe\">\n",
       "  <thead>\n",
       "    <tr>\n",
       "      <th>Price</th>\n",
       "      <th colspan=\"3\" halign=\"left\">Adj Close</th>\n",
       "      <th colspan=\"3\" halign=\"left\">Close</th>\n",
       "      <th colspan=\"3\" halign=\"left\">High</th>\n",
       "      <th colspan=\"3\" halign=\"left\">Low</th>\n",
       "      <th colspan=\"3\" halign=\"left\">Open</th>\n",
       "      <th colspan=\"3\" halign=\"left\">Volume</th>\n",
       "    </tr>\n",
       "    <tr>\n",
       "      <th>Ticker</th>\n",
       "      <th>AAPL</th>\n",
       "      <th>MSFT</th>\n",
       "      <th>SPY</th>\n",
       "      <th>AAPL</th>\n",
       "      <th>MSFT</th>\n",
       "      <th>SPY</th>\n",
       "      <th>AAPL</th>\n",
       "      <th>MSFT</th>\n",
       "      <th>SPY</th>\n",
       "      <th>AAPL</th>\n",
       "      <th>MSFT</th>\n",
       "      <th>SPY</th>\n",
       "      <th>AAPL</th>\n",
       "      <th>MSFT</th>\n",
       "      <th>SPY</th>\n",
       "      <th>AAPL</th>\n",
       "      <th>MSFT</th>\n",
       "      <th>SPY</th>\n",
       "    </tr>\n",
       "    <tr>\n",
       "      <th>Date</th>\n",
       "      <th></th>\n",
       "      <th></th>\n",
       "      <th></th>\n",
       "      <th></th>\n",
       "      <th></th>\n",
       "      <th></th>\n",
       "      <th></th>\n",
       "      <th></th>\n",
       "      <th></th>\n",
       "      <th></th>\n",
       "      <th></th>\n",
       "      <th></th>\n",
       "      <th></th>\n",
       "      <th></th>\n",
       "      <th></th>\n",
       "      <th></th>\n",
       "      <th></th>\n",
       "      <th></th>\n",
       "    </tr>\n",
       "  </thead>\n",
       "  <tbody>\n",
       "    <tr>\n",
       "      <th>1980-12-12</th>\n",
       "      <td>0.0987</td>\n",
       "      <td>NaN</td>\n",
       "      <td>NaN</td>\n",
       "      <td>0.1283</td>\n",
       "      <td>NaN</td>\n",
       "      <td>NaN</td>\n",
       "      <td>0.1289</td>\n",
       "      <td>NaN</td>\n",
       "      <td>NaN</td>\n",
       "      <td>0.1283</td>\n",
       "      <td>NaN</td>\n",
       "      <td>NaN</td>\n",
       "      <td>0.1283</td>\n",
       "      <td>NaN</td>\n",
       "      <td>NaN</td>\n",
       "      <td>469033600</td>\n",
       "      <td>NaN</td>\n",
       "      <td>NaN</td>\n",
       "    </tr>\n",
       "    <tr>\n",
       "      <th>1980-12-15</th>\n",
       "      <td>0.0936</td>\n",
       "      <td>NaN</td>\n",
       "      <td>NaN</td>\n",
       "      <td>0.1217</td>\n",
       "      <td>NaN</td>\n",
       "      <td>NaN</td>\n",
       "      <td>0.1222</td>\n",
       "      <td>NaN</td>\n",
       "      <td>NaN</td>\n",
       "      <td>0.1217</td>\n",
       "      <td>NaN</td>\n",
       "      <td>NaN</td>\n",
       "      <td>0.1222</td>\n",
       "      <td>NaN</td>\n",
       "      <td>NaN</td>\n",
       "      <td>175884800</td>\n",
       "      <td>NaN</td>\n",
       "      <td>NaN</td>\n",
       "    </tr>\n",
       "    <tr>\n",
       "      <th>1980-12-16</th>\n",
       "      <td>0.0867</td>\n",
       "      <td>NaN</td>\n",
       "      <td>NaN</td>\n",
       "      <td>0.1127</td>\n",
       "      <td>NaN</td>\n",
       "      <td>NaN</td>\n",
       "      <td>0.1133</td>\n",
       "      <td>NaN</td>\n",
       "      <td>NaN</td>\n",
       "      <td>0.1127</td>\n",
       "      <td>NaN</td>\n",
       "      <td>NaN</td>\n",
       "      <td>0.1133</td>\n",
       "      <td>NaN</td>\n",
       "      <td>NaN</td>\n",
       "      <td>105728000</td>\n",
       "      <td>NaN</td>\n",
       "      <td>NaN</td>\n",
       "    </tr>\n",
       "    <tr>\n",
       "      <th>1980-12-17</th>\n",
       "      <td>0.0889</td>\n",
       "      <td>NaN</td>\n",
       "      <td>NaN</td>\n",
       "      <td>0.1155</td>\n",
       "      <td>NaN</td>\n",
       "      <td>NaN</td>\n",
       "      <td>0.1161</td>\n",
       "      <td>NaN</td>\n",
       "      <td>NaN</td>\n",
       "      <td>0.1155</td>\n",
       "      <td>NaN</td>\n",
       "      <td>NaN</td>\n",
       "      <td>0.1155</td>\n",
       "      <td>NaN</td>\n",
       "      <td>NaN</td>\n",
       "      <td>86441600</td>\n",
       "      <td>NaN</td>\n",
       "      <td>NaN</td>\n",
       "    </tr>\n",
       "    <tr>\n",
       "      <th>1980-12-18</th>\n",
       "      <td>0.0914</td>\n",
       "      <td>NaN</td>\n",
       "      <td>NaN</td>\n",
       "      <td>0.1189</td>\n",
       "      <td>NaN</td>\n",
       "      <td>NaN</td>\n",
       "      <td>0.1194</td>\n",
       "      <td>NaN</td>\n",
       "      <td>NaN</td>\n",
       "      <td>0.1189</td>\n",
       "      <td>NaN</td>\n",
       "      <td>NaN</td>\n",
       "      <td>0.1189</td>\n",
       "      <td>NaN</td>\n",
       "      <td>NaN</td>\n",
       "      <td>73449600</td>\n",
       "      <td>NaN</td>\n",
       "      <td>NaN</td>\n",
       "    </tr>\n",
       "    <tr>\n",
       "      <th>...</th>\n",
       "      <td>...</td>\n",
       "      <td>...</td>\n",
       "      <td>...</td>\n",
       "      <td>...</td>\n",
       "      <td>...</td>\n",
       "      <td>...</td>\n",
       "      <td>...</td>\n",
       "      <td>...</td>\n",
       "      <td>...</td>\n",
       "      <td>...</td>\n",
       "      <td>...</td>\n",
       "      <td>...</td>\n",
       "      <td>...</td>\n",
       "      <td>...</td>\n",
       "      <td>...</td>\n",
       "      <td>...</td>\n",
       "      <td>...</td>\n",
       "      <td>...</td>\n",
       "    </tr>\n",
       "    <tr>\n",
       "      <th>2025-02-21</th>\n",
       "      <td>245.5500</td>\n",
       "      <td>408.2100</td>\n",
       "      <td>599.9400</td>\n",
       "      <td>245.5500</td>\n",
       "      <td>408.2100</td>\n",
       "      <td>599.9400</td>\n",
       "      <td>248.6900</td>\n",
       "      <td>418.0500</td>\n",
       "      <td>610.3000</td>\n",
       "      <td>245.2200</td>\n",
       "      <td>407.8900</td>\n",
       "      <td>599.4700</td>\n",
       "      <td>245.9500</td>\n",
       "      <td>417.3400</td>\n",
       "      <td>610.1600</td>\n",
       "      <td>53197400</td>\n",
       "      <td>27524800.0000</td>\n",
       "      <td>76519800.0000</td>\n",
       "    </tr>\n",
       "    <tr>\n",
       "      <th>2025-02-24</th>\n",
       "      <td>247.1000</td>\n",
       "      <td>404.0000</td>\n",
       "      <td>597.2100</td>\n",
       "      <td>247.1000</td>\n",
       "      <td>404.0000</td>\n",
       "      <td>597.2100</td>\n",
       "      <td>248.8600</td>\n",
       "      <td>409.3700</td>\n",
       "      <td>603.0300</td>\n",
       "      <td>244.4200</td>\n",
       "      <td>399.3200</td>\n",
       "      <td>596.4900</td>\n",
       "      <td>244.9300</td>\n",
       "      <td>408.5100</td>\n",
       "      <td>602.0200</td>\n",
       "      <td>51326400</td>\n",
       "      <td>26443700.0000</td>\n",
       "      <td>50737200.0000</td>\n",
       "    </tr>\n",
       "    <tr>\n",
       "      <th>2025-02-25</th>\n",
       "      <td>247.0400</td>\n",
       "      <td>397.9000</td>\n",
       "      <td>594.2400</td>\n",
       "      <td>247.0400</td>\n",
       "      <td>397.9000</td>\n",
       "      <td>594.2400</td>\n",
       "      <td>250.0000</td>\n",
       "      <td>401.9200</td>\n",
       "      <td>597.8900</td>\n",
       "      <td>244.9100</td>\n",
       "      <td>396.7000</td>\n",
       "      <td>589.5600</td>\n",
       "      <td>248.0000</td>\n",
       "      <td>401.1000</td>\n",
       "      <td>597.1500</td>\n",
       "      <td>48013300</td>\n",
       "      <td>29387400.0000</td>\n",
       "      <td>58266500.0000</td>\n",
       "    </tr>\n",
       "    <tr>\n",
       "      <th>2025-02-26</th>\n",
       "      <td>240.3600</td>\n",
       "      <td>399.7300</td>\n",
       "      <td>594.5400</td>\n",
       "      <td>240.3600</td>\n",
       "      <td>399.7300</td>\n",
       "      <td>594.5400</td>\n",
       "      <td>244.9800</td>\n",
       "      <td>403.6000</td>\n",
       "      <td>599.5800</td>\n",
       "      <td>239.1300</td>\n",
       "      <td>394.2500</td>\n",
       "      <td>591.8600</td>\n",
       "      <td>244.3300</td>\n",
       "      <td>398.0100</td>\n",
       "      <td>595.9300</td>\n",
       "      <td>44433600</td>\n",
       "      <td>19619000.0000</td>\n",
       "      <td>43321600.0000</td>\n",
       "    </tr>\n",
       "    <tr>\n",
       "      <th>2025-02-27</th>\n",
       "      <td>237.3000</td>\n",
       "      <td>392.5300</td>\n",
       "      <td>585.0500</td>\n",
       "      <td>237.3000</td>\n",
       "      <td>392.5300</td>\n",
       "      <td>585.0500</td>\n",
       "      <td>242.4600</td>\n",
       "      <td>405.7400</td>\n",
       "      <td>598.0200</td>\n",
       "      <td>237.0600</td>\n",
       "      <td>392.1700</td>\n",
       "      <td>584.6500</td>\n",
       "      <td>239.4100</td>\n",
       "      <td>401.2700</td>\n",
       "      <td>596.8500</td>\n",
       "      <td>41153600</td>\n",
       "      <td>21127400.0000</td>\n",
       "      <td>74196700.0000</td>\n",
       "    </tr>\n",
       "  </tbody>\n",
       "</table>\n",
       "<p>11143 rows × 18 columns</p>\n",
       "</div>"
      ],
      "text/plain": [
       "Price      Adj Close                      Close                       High  \\\n",
       "Ticker          AAPL     MSFT      SPY     AAPL     MSFT      SPY     AAPL   \n",
       "Date                                                                         \n",
       "1980-12-12    0.0987      NaN      NaN   0.1283      NaN      NaN   0.1289   \n",
       "1980-12-15    0.0936      NaN      NaN   0.1217      NaN      NaN   0.1222   \n",
       "1980-12-16    0.0867      NaN      NaN   0.1127      NaN      NaN   0.1133   \n",
       "1980-12-17    0.0889      NaN      NaN   0.1155      NaN      NaN   0.1161   \n",
       "1980-12-18    0.0914      NaN      NaN   0.1189      NaN      NaN   0.1194   \n",
       "...              ...      ...      ...      ...      ...      ...      ...   \n",
       "2025-02-21  245.5500 408.2100 599.9400 245.5500 408.2100 599.9400 248.6900   \n",
       "2025-02-24  247.1000 404.0000 597.2100 247.1000 404.0000 597.2100 248.8600   \n",
       "2025-02-25  247.0400 397.9000 594.2400 247.0400 397.9000 594.2400 250.0000   \n",
       "2025-02-26  240.3600 399.7300 594.5400 240.3600 399.7300 594.5400 244.9800   \n",
       "2025-02-27  237.3000 392.5300 585.0500 237.3000 392.5300 585.0500 242.4600   \n",
       "\n",
       "Price                             Low                       Open           \\\n",
       "Ticker         MSFT      SPY     AAPL     MSFT      SPY     AAPL     MSFT   \n",
       "Date                                                                        \n",
       "1980-12-12      NaN      NaN   0.1283      NaN      NaN   0.1283      NaN   \n",
       "1980-12-15      NaN      NaN   0.1217      NaN      NaN   0.1222      NaN   \n",
       "1980-12-16      NaN      NaN   0.1127      NaN      NaN   0.1133      NaN   \n",
       "1980-12-17      NaN      NaN   0.1155      NaN      NaN   0.1155      NaN   \n",
       "1980-12-18      NaN      NaN   0.1189      NaN      NaN   0.1189      NaN   \n",
       "...             ...      ...      ...      ...      ...      ...      ...   \n",
       "2025-02-21 418.0500 610.3000 245.2200 407.8900 599.4700 245.9500 417.3400   \n",
       "2025-02-24 409.3700 603.0300 244.4200 399.3200 596.4900 244.9300 408.5100   \n",
       "2025-02-25 401.9200 597.8900 244.9100 396.7000 589.5600 248.0000 401.1000   \n",
       "2025-02-26 403.6000 599.5800 239.1300 394.2500 591.8600 244.3300 398.0100   \n",
       "2025-02-27 405.7400 598.0200 237.0600 392.1700 584.6500 239.4100 401.2700   \n",
       "\n",
       "Price                   Volume                              \n",
       "Ticker          SPY       AAPL          MSFT           SPY  \n",
       "Date                                                        \n",
       "1980-12-12      NaN  469033600           NaN           NaN  \n",
       "1980-12-15      NaN  175884800           NaN           NaN  \n",
       "1980-12-16      NaN  105728000           NaN           NaN  \n",
       "1980-12-17      NaN   86441600           NaN           NaN  \n",
       "1980-12-18      NaN   73449600           NaN           NaN  \n",
       "...             ...        ...           ...           ...  \n",
       "2025-02-21 610.1600   53197400 27524800.0000 76519800.0000  \n",
       "2025-02-24 602.0200   51326400 26443700.0000 50737200.0000  \n",
       "2025-02-25 597.1500   48013300 29387400.0000 58266500.0000  \n",
       "2025-02-26 595.9300   44433600 19619000.0000 43321600.0000  \n",
       "2025-02-27 596.8500   41153600 21127400.0000 74196700.0000  \n",
       "\n",
       "[11143 rows x 18 columns]"
      ]
     },
     "execution_count": 74,
     "metadata": {},
     "output_type": "execute_result"
    }
   ],
   "source": [
    "df"
   ]
  },
  {
   "cell_type": "markdown",
   "metadata": {},
   "source": [
    "The `.rolling()` method accepts a window-width and requires an aggregation method.\n",
    "The following example plots AAPL's observed daily price alongside its 252-trading-day rolling mean, 365-calendar-day rolling mean, and calendar year mean."
   ]
  },
  {
   "cell_type": "code",
   "execution_count": 75,
   "metadata": {
    "collapsed": false,
    "deletable": true,
    "editable": true,
    "jupyter": {
     "outputs_hidden": false
    }
   },
   "outputs": [
    {
     "data": {
      "image/png": "[encoded data removed]",
      "text/plain": [
       "<Figure size 640x480 with 1 Axes>"
      ]
     },
     "metadata": {},
     "output_type": "display_data"
    }
   ],
   "source": [
    "aapl = df.loc['2012':, ('Adj Close', 'AAPL')]\n",
    "aapl.plot(label='Observed')\n",
    "aapl.rolling(window=252).mean().plot(label='252-Trading-Day Mean') # min_periods defaults to 252\n",
    "aapl.rolling(window='365D').mean().plot(label='365-Calendar-Day Mean') # min_periods defaults to 1\n",
    "aapl.resample('YE').mean().plot(style='.', label='Calendar Year Mean')\n",
    "plt.legend()\n",
    "plt.ylabel('AAPL Adjusted Close ($)')\n",
    "plt.title('Comparison of Rolling and Resampling Means')\n",
    "plt.show()"
   ]
  },
  {
   "cell_type": "markdown",
   "metadata": {
    "editable": true,
    "slideshow": {
     "slide_type": ""
    },
    "tags": []
   },
   "source": [
    "::: {.callout-note}\n",
    "\n",
    "If we specify the rolling window width as an integer:\n",
    "\n",
    "1. Each rolling window is that many observations wide and ignores time stamps\n",
    "2. Each rolling window must have that many non-missing observations \n",
    "\n",
    "We can specify `min_periods` to allow incomplete windows.\n",
    "For integer window widths, `min_periods` defaults to the given integer window width.\n",
    "For string date offsets, `min_periods` defaults to `1`.\n",
    "\n",
    ":::"
   ]
  },
  {
   "cell_type": "markdown",
   "metadata": {},
   "source": [
    "### Binary Moving Window Functions"
   ]
  },
  {
   "cell_type": "markdown",
   "metadata": {},
   "source": [
    "Binary moving window functions accept two inputs.\n",
    "The most common example is the rolling correlation between two return series."
   ]
  },
  {
   "cell_type": "code",
   "execution_count": 76,
   "metadata": {},
   "outputs": [],
   "source": [
    "returns = df['Adj Close'].pct_change()"
   ]
  },
  {
   "cell_type": "code",
   "execution_count": 77,
   "metadata": {},
   "outputs": [
    {
     "data": {
      "text/html": [
       "<div>\n",
       "<style scoped>\n",
       "    .dataframe tbody tr th:only-of-type {\n",
       "        vertical-align: middle;\n",
       "    }\n",
       "\n",
       "    .dataframe tbody tr th {\n",
       "        vertical-align: top;\n",
       "    }\n",
       "\n",
       "    .dataframe thead th {\n",
       "        text-align: right;\n",
       "    }\n",
       "</style>\n",
       "<table border=\"1\" class=\"dataframe\">\n",
       "  <thead>\n",
       "    <tr style=\"text-align: right;\">\n",
       "      <th>Ticker</th>\n",
       "      <th>AAPL</th>\n",
       "      <th>MSFT</th>\n",
       "      <th>SPY</th>\n",
       "    </tr>\n",
       "    <tr>\n",
       "      <th>Date</th>\n",
       "      <th></th>\n",
       "      <th></th>\n",
       "      <th></th>\n",
       "    </tr>\n",
       "  </thead>\n",
       "  <tbody>\n",
       "    <tr>\n",
       "      <th>1980-12-12</th>\n",
       "      <td>NaN</td>\n",
       "      <td>NaN</td>\n",
       "      <td>NaN</td>\n",
       "    </tr>\n",
       "    <tr>\n",
       "      <th>1980-12-15</th>\n",
       "      <td>-0.0522</td>\n",
       "      <td>NaN</td>\n",
       "      <td>NaN</td>\n",
       "    </tr>\n",
       "    <tr>\n",
       "      <th>1980-12-16</th>\n",
       "      <td>-0.0734</td>\n",
       "      <td>NaN</td>\n",
       "      <td>NaN</td>\n",
       "    </tr>\n",
       "    <tr>\n",
       "      <th>1980-12-17</th>\n",
       "      <td>0.0248</td>\n",
       "      <td>NaN</td>\n",
       "      <td>NaN</td>\n",
       "    </tr>\n",
       "    <tr>\n",
       "      <th>1980-12-18</th>\n",
       "      <td>0.0290</td>\n",
       "      <td>NaN</td>\n",
       "      <td>NaN</td>\n",
       "    </tr>\n",
       "    <tr>\n",
       "      <th>...</th>\n",
       "      <td>...</td>\n",
       "      <td>...</td>\n",
       "      <td>...</td>\n",
       "    </tr>\n",
       "    <tr>\n",
       "      <th>2025-02-21</th>\n",
       "      <td>-0.0011</td>\n",
       "      <td>-0.0190</td>\n",
       "      <td>-0.0171</td>\n",
       "    </tr>\n",
       "    <tr>\n",
       "      <th>2025-02-24</th>\n",
       "      <td>0.0063</td>\n",
       "      <td>-0.0103</td>\n",
       "      <td>-0.0046</td>\n",
       "    </tr>\n",
       "    <tr>\n",
       "      <th>2025-02-25</th>\n",
       "      <td>-0.0002</td>\n",
       "      <td>-0.0151</td>\n",
       "      <td>-0.0050</td>\n",
       "    </tr>\n",
       "    <tr>\n",
       "      <th>2025-02-26</th>\n",
       "      <td>-0.0270</td>\n",
       "      <td>0.0046</td>\n",
       "      <td>0.0005</td>\n",
       "    </tr>\n",
       "    <tr>\n",
       "      <th>2025-02-27</th>\n",
       "      <td>-0.0127</td>\n",
       "      <td>-0.0180</td>\n",
       "      <td>-0.0160</td>\n",
       "    </tr>\n",
       "  </tbody>\n",
       "</table>\n",
       "<p>11143 rows × 3 columns</p>\n",
       "</div>"
      ],
      "text/plain": [
       "Ticker        AAPL    MSFT     SPY\n",
       "Date                              \n",
       "1980-12-12     NaN     NaN     NaN\n",
       "1980-12-15 -0.0522     NaN     NaN\n",
       "1980-12-16 -0.0734     NaN     NaN\n",
       "1980-12-17  0.0248     NaN     NaN\n",
       "1980-12-18  0.0290     NaN     NaN\n",
       "...            ...     ...     ...\n",
       "2025-02-21 -0.0011 -0.0190 -0.0171\n",
       "2025-02-24  0.0063 -0.0103 -0.0046\n",
       "2025-02-25 -0.0002 -0.0151 -0.0050\n",
       "2025-02-26 -0.0270  0.0046  0.0005\n",
       "2025-02-27 -0.0127 -0.0180 -0.0160\n",
       "\n",
       "[11143 rows x 3 columns]"
      ]
     },
     "execution_count": 77,
     "metadata": {},
     "output_type": "execute_result"
    }
   ],
   "source": [
    "returns"
   ]
  },
  {
   "cell_type": "code",
   "execution_count": 78,
   "metadata": {
    "collapsed": false,
    "deletable": true,
    "editable": true,
    "jupyter": {
     "outputs_hidden": false
    }
   },
   "outputs": [
    {
     "data": {
      "image/png": "[encoded data removed]",
      "text/plain": [
       "<Figure size 640x480 with 1 Axes>"
      ]
     },
     "metadata": {},
     "output_type": "display_data"
    }
   ],
   "source": [
    "(\n",
    "    returns['AAPL']\n",
    "    .rolling(126, min_periods=100)\n",
    "    .corr(returns['SPY'])\n",
    "    .plot()\n",
    ")\n",
    "plt.ylabel('Correlation between AAPL and SPY')\n",
    "plt.title('Rolling Correlation between AAPL and SPY\\n (126-Day Window w/ 100-Day Minimum)')\n",
    "plt.show()"
   ]
  },
  {
   "cell_type": "code",
   "execution_count": 79,
   "metadata": {
    "collapsed": false,
    "deletable": true,
    "editable": true,
    "jupyter": {
     "outputs_hidden": false
    }
   },
   "outputs": [
    {
     "data": {
      "image/png": "[encoded data removed]",
      "text/plain": [
       "<Figure size 640x480 with 1 Axes>"
      ]
     },
     "metadata": {},
     "output_type": "display_data"
    }
   ],
   "source": [
    "(\n",
    "    returns[['AAPL', 'MSFT']]\n",
    "    .rolling(126, min_periods=100)\n",
    "    .corr(returns['SPY'])\n",
    "    .plot()\n",
    ")\n",
    "plt.ylabel('Correlation with SPY')\n",
    "plt.title('Rolling Correlation with SPY\\n (126-Day Window w/ 100-Day Minimum)')\n",
    "plt.show()"
   ]
  },
  {
   "cell_type": "markdown",
   "metadata": {},
   "source": [
    "### User-Defined Moving Window Functions"
   ]
  },
  {
   "cell_type": "markdown",
   "metadata": {},
   "source": [
    "We can define our own moving window functions and use them with the `.apply()` method.\n",
    "However, note that `.apply()` method will be much slower than the optimized methods, like `.mean()` and `.std()`.\n",
    "Here, we will calculate rolling volatility with `.apply()` and `.std()` and compare their speeds."
   ]
  },
  {
   "cell_type": "code",
   "execution_count": 80,
   "metadata": {
    "deletable": true,
    "editable": true,
    "tags": []
   },
   "outputs": [
    {
     "data": {
      "image/png": "[encoded data removed]",
      "text/plain": [
       "<Figure size 640x480 with 1 Axes>"
      ]
     },
     "metadata": {},
     "output_type": "display_data"
    }
   ],
   "source": [
    "(\n",
    "    returns['AAPL']\n",
    "    .rolling(252)\n",
    "    .apply(np.std)\n",
    "    .mul(np.sqrt(252) * 100)\n",
    "    .plot()\n",
    ")\n",
    "plt.ylabel('Volatility (%)')\n",
    "plt.title('Rolling Volatility\\n (252-Day Window w/ 252-Day Minimum)')\n",
    "plt.show()"
   ]
  },
  {
   "cell_type": "markdown",
   "metadata": {},
   "source": [
    "Do not be afraid to use `.apply()`, but realize that `.apply()` is often 1000 times slower than the optimized method!"
   ]
  },
  {
   "cell_type": "code",
   "execution_count": 81,
   "metadata": {},
   "outputs": [
    {
     "name": "stdout",
     "output_type": "stream",
     "text": [
      "2.28 s ± 109 ms per loop (mean ± std. dev. of 7 runs, 1 loop each)\n"
     ]
    }
   ],
   "source": [
    "%timeit returns['AAPL'].rolling(252).apply(np.std)"
   ]
  },
  {
   "cell_type": "code",
   "execution_count": 82,
   "metadata": {},
   "outputs": [
    {
     "name": "stdout",
     "output_type": "stream",
     "text": [
      "613 μs ± 80 μs per loop (mean ± std. dev. of 7 runs, 1,000 loops each)\n"
     ]
    }
   ],
   "source": [
    "%timeit returns['AAPL'].rolling(252).std()"
   ]
  },
  {
   "cell_type": "code",
   "execution_count": null,
   "metadata": {},
   "outputs": [],
   "source": []
  }
 ],
 "metadata": {
  "author": "Richard Herron",
  "kernelspec": {
   "display_name": "Python 3 (ipykernel)",
   "language": "python",
   "name": "python3"
  },
  "language_info": {
   "codemirror_mode": {
    "name": "ipython",
    "version": 3
   },
   "file_extension": ".py",
   "mimetype": "text/x-python",
   "name": "python",
   "nbconvert_exporter": "python",
   "pygments_lexer": "ipython3",
   "version": "3.12.9"
  },
  "title": "McKinney Chapter 11 - Time Series",
  "toc-autonumbering": true
 },
 "nbformat": 4,
 "nbformat_minor": 4
}
