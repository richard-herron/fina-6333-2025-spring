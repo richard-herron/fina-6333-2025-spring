{
 "cells": [
  {
   "cell_type": "markdown",
   "id": "a19afbca-2491-4856-bc17-2959284df2ef",
   "metadata": {},
   "source": [
    "# Project 2"
   ]
  },
  {
   "cell_type": "markdown",
   "id": "38a6df9a-6b91-4aa0-b866-0f505289c504",
   "metadata": {},
   "source": [
    "## Purpose\n",
    "\n",
    "I have two goals for this project:\n",
    "\n",
    "1. Implement and backtest a 52-week high/low breakout strategy in Python\n",
    "2. Compare and contrast performance, *explaining any differences*"
   ]
  },
  {
   "attachments": {},
   "cell_type": "markdown",
   "id": "eac083c1-db59-4412-b0f4-76bad302deee",
   "metadata": {},
   "source": [
    "## Assignment\n",
    "\n",
    "Evaluate a 52-week high/low breakout strategy against a passive buy-and-hold approach.\n",
    "Compare and contrast the strategy on the Dow-Jones Industrial Average (DJIA) ETF, an equal-weighted portfolio of the strategy on the DJIA constituents,[^ew] and buying-and-holding the DJIA ETF (ticker `DIA`).\n",
    "*Explain any differences among the three, and recommend one.*\n",
    "\n",
    "Here is the strategy:\n",
    "\n",
    "- *Long Position:*\n",
    "    - *Entry:* Price at the 52-week high and volume more than 1.5 times the 20-day simple moving average\n",
    "    - *Exit:* Price falls 5% below the entry price or 20 days, whichever comes first\n",
    "- *Short:*\n",
    "    - *Entry:* Price at the 52-week low and volume more than 1.5 times the 20-day simple moving average\n",
    "    - *Exit:* Price rises 5% above the entry price or 20 days, whichever comes first\n",
    "- *Otherwise:*\n",
    "    - Hold cash and earn the risk-free rate of return\n",
    "\n",
    "Here are ideas to consider:\n",
    "\n",
    "1. Use the provided dataset for the current DJIA constituents, a DJIA ETF (ticker `DIA`), and the Fama-French factors\n",
    "2. At a minimum, compare total returns and Sharpe Ratios\n",
    "3. You might also explore maximum drawdowns, subsamples, rolling windows, trade frequencies, the volume confirmation, *plus any other compelling insights*\n",
    "4. Title, label, and caption your figures and tables, referencing them in your summary\n",
    "\n",
    "[^ew]: Here equal-weighted portfolio means that you find the position for all the DJIA constituents.\n",
    "If you are long stocks 1, 2, and 3, and you are short stock 4. then your portfolio return would be:\n",
    "$r_p = \\frac{r_1 + r_2 + r_3 - r_4}{4}$."
   ]
  },
  {
   "cell_type": "markdown",
   "id": "6cc0521f-e6f8-4244-992d-2d1b482e0501",
   "metadata": {},
   "source": [
    "## Criteria\n",
    "\n",
    "@tbl-grading-rubric provides the project grading rubric.\n",
    "The project is worth 200 points.\n",
    "The peer reviews are worth 100 points, and students will receive their median score.\n",
    "Almost all students earn perfect peer review scores, so I will factor that into project scores.\n",
    "For example, a project score *without peer review scores* of $77.5\\%$ converts to a project score *with perfect peer review scores* of $85\\%$ because $\\frac{0.775 \\times 200 + 1.00 \\times 100}{300} = 0.85 = 85\\%$.\n",
    "\n",
    "| Topic | Points |\n",
    "|:------|:-------|\n",
    "| Clarity, correctness, and completeness of calculations          |  60 |\n",
    "| Clarity, correctness, and completeness of visualizations        |  60 |\n",
    "| Clarity, correctness, and completeness of discussions           |  60 |\n",
    "| Correctness of submission according to the deliverables section |  20 |\n",
    "| Total                                                           | 200 |\n",
    "\n",
    ": This table provides the project grading rubric  {#tbl-grading-rubric tbl-colwidths=\"[90,10]\"}"
   ]
  },
  {
   "cell_type": "markdown",
   "id": "0db0e1f5-4f23-469c-b760-041b92fb2195",
   "metadata": {},
   "source": [
    "## Deliverables\n",
    "\n",
    "Upload the following as unzipped files to Canvas by 11:59 PM on 3/28:\n",
    "\n",
    "1. One Jupyter notebook that contains your report and performs *all* your analysis\n",
    "   1. Name this file `project_2.ipynb` for me to run your code\n",
    "   2. Your notebook must run on my computer; I will place the data files in the same folder as your notebook\n",
    "   3. You may not edit the Word documents after you create them\n",
    "2. One Quarto-generated Word document *without code* for our partner to review\n",
    "   1. Name this file `project_2_without_code.docx`\n",
    "   2. Typing `echo: false` in the first cell of this Jupyter notebook hides code in your Word document\n",
    "3. One Quarto-generated Word document *with code* for me to grade\n",
    "   1. Name this file `project_2_with_code.docx`\n",
    "   2. Typing `echo: true` in the first cell of this Jupyter notebook displays code in your Word document\n",
    "\n",
    "Here is some additional guidance:\n",
    "\n",
    "1. Provide an up to three-page executive summary at the start of your report, *which is the only writing I will read*\n",
    "2. Your Word document *without code* must not exceed 15 pages in length\n",
    "3. Your submission must not include your name"
   ]
  },
  {
   "cell_type": "markdown",
   "id": "96638522-6204-46fd-819c-7b572d539f82",
   "metadata": {},
   "source": [
    "## Data\n",
    "\n",
    "This project requires two data files.\n",
    "Save these data files in the same folder as your `project_2.ipynb` notebook file.\n",
    "\n",
    "1. `data_djia.csv` provides long-formatted data from Yahoo! Finance for the current DJIA companies, plus a DJIA ETF (ticker `DIA`), from 1998-01-20 through 2024-12-31\n",
    "2. `data_ff3` provides factor data from Kenneth French's data library (name `F-F_Research_Data_Factors_daily`), for the same period\n",
    "\n",
    "You can read these data files as follows."
   ]
  },
  {
   "cell_type": "code",
   "execution_count": 1,
   "id": "44655170-f842-4440-9123-6cd6d60f81f0",
   "metadata": {},
   "outputs": [],
   "source": [
    "import matplotlib.pyplot as plt\n",
    "import matplotlib.ticker as ticker\n",
    "import numpy as np\n",
    "import pandas as pd"
   ]
  },
  {
   "cell_type": "code",
   "execution_count": 2,
   "id": "dd2c7915-42dc-4a9a-8466-6005e468469a",
   "metadata": {},
   "outputs": [],
   "source": [
    "djia = (\n",
    "    pd.read_csv(\n",
    "        filepath_or_buffer='data_djia.csv',\n",
    "        index_col=['Ticker', 'Date'],\n",
    "        parse_dates=['Date']\n",
    "    )\n",
    "    .sort_index()\n",
    "    .rename_axis(columns=['Variable'])\n",
    ")"
   ]
  },
  {
   "cell_type": "code",
   "execution_count": 3,
   "id": "1c8ea08d-c96b-47cb-9ea1-be9b0b4c9312",
   "metadata": {},
   "outputs": [],
   "source": [
    "ff3 = (\n",
    "    pd.read_csv(\n",
    "        filepath_or_buffer='data_ff3.csv',\n",
    "        index_col=['Date'],\n",
    "        parse_dates=['Date']\n",
    "    )\n",
    "    .sort_index()\n",
    "    .rename_axis(columns=['Variable'])\n",
    ")"
   ]
  },
  {
   "cell_type": "markdown",
   "id": "85ac7768-c425-4cea-97c6-8ae50d25e3e8",
   "metadata": {},
   "source": [
    "## Quarto"
   ]
  },
  {
   "cell_type": "markdown",
   "id": "3aebebb8-049c-4998-ba0c-ab22e43bcd43",
   "metadata": {},
   "source": [
    "### Basics\n",
    "\n",
    "1. Use [Quarto](https://quarto.org/) to generate your Word document from your notebook\n",
    "2. Use `#` to create a title and `##` to create sections\n",
    "3. Use `-` or `1.` to create lists\n",
    "4. Use the first cell in this notebook to hide or display code with `echo=false` or `echo=true`, respectively\n",
    "5. This first cell must be a `raw` cell instead of a `code` or `markdown` cell\n",
    "6. Use `quarto render project_1.ipynb` in the same folder as your notebook to render it to a Word document\n",
    "7. Use the `cd` command in the terminal to change the working directory to the directory with your notebook"
   ]
  },
  {
   "cell_type": "markdown",
   "id": "9c8a7997-d98b-4239-b3b5-3629a88d3dc3",
   "metadata": {},
   "source": [
    "### Examples\n",
    "\n",
    "This section provides a sample analysis highlighting how code and formatting work with Quarto.\n",
    "@fig-line-plot provides a line plot of the value of a $10,000 investment in DIA, the DJIA ETF.\n",
    "Note that `#| label:` and `#| fig-cap:` comments at the top of the figure cell create the figure reference/link and the figure caption, respectively.\n",
    "You can learn more about cross-referencing figures and tables [here](https://quarto.org/docs/authoring/figures.html)."
   ]
  },
  {
   "cell_type": "code",
   "execution_count": 4,
   "id": "02515f5e-07b3-4393-8054-e1f19d0727d5",
   "metadata": {},
   "outputs": [
    {
     "data": {
      "image/png": "[encoded data removed]",
      "text/plain": [
       "<Figure size 640x480 with 1 Axes>"
      ]
     },
     "metadata": {},
     "output_type": "display_data"
    }
   ],
   "source": [
    "#| label: fig-line-plot\n",
    "#| fig-cap: \"This line plot shows the value of a $10,000 investment in the DJIA ETF at the close of its first day of trading\"\n",
    "\n",
    "(\n",
    "    djia\n",
    "    .loc['DIA']\n",
    "    ['Adj Close']\n",
    "    .pct_change()\n",
    "    .add(1)\n",
    "    .cumprod()\n",
    "    .mul(10_000)\n",
    "    .plot()\n",
    ")\n",
    "plt.ylabel('Value ($)')\n",
    "plt.title(f'Value of $10,000 investment in DIA at close on {djia.loc['DIA'].index[0]: %b %d, %Y}')\n",
    "plt.gca().yaxis.set_major_formatter(ticker.FuncFormatter(lambda x, p: format(int(x), ',')))\n",
    "\n",
    "plt.show()"
   ]
  },
  {
   "cell_type": "markdown",
   "id": "544ba12d-662b-4fe9-a16d-fe9d5392e4ac",
   "metadata": {},
   "source": [
    "## Artificial Intelligence (AI)\n",
    "\n",
    "You may use AI (e.g., ChatGPT) to *help* you prepare your analysis and discussion.\n",
    "However:\n",
    "\n",
    "1. AI will not do very well on this project without significant input from your team\n",
    "2. AI will not be a defense against plagiarism because AI should not *write* your code and slides; If you plagiarize an AI that plagiarizes other sources, you are responsible for plagiarizing the AI and its sources"
   ]
  }
 ],
 "metadata": {
  "kernelspec": {
   "display_name": "Python 3 (ipykernel)",
   "language": "python",
   "name": "python3"
  },
  "language_info": {
   "codemirror_mode": {
    "name": "ipython",
    "version": 3
   },
   "file_extension": ".py",
   "mimetype": "text/x-python",
   "name": "python",
   "nbconvert_exporter": "python",
   "pygments_lexer": "ipython3",
   "version": "3.12.9"
  }
 },
 "nbformat": 4,
 "nbformat_minor": 5
}
