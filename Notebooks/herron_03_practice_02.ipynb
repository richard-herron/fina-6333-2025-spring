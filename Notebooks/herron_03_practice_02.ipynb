{
 "cells": [
  {
   "cell_type": "markdown",
   "id": "374accf3-45aa-4494-afb1-098792a3f806",
   "metadata": {},
   "source": [
    "# Herron Topic 3 - Practice - Sec 02"
   ]
  },
  {
   "cell_type": "code",
   "execution_count": 1,
   "id": "abb4803d-b967-4d2b-8a12-6ad8895ff165",
   "metadata": {
    "editable": true
   },
   "outputs": [],
   "source": [
    "import matplotlib.pyplot as plt\n",
    "import numpy as np\n",
    "import pandas as pd\n",
    "import pandas_datareader as pdr\n",
    "import statsmodels.api as sm\n",
    "import yfinance as yf"
   ]
  },
  {
   "cell_type": "code",
   "execution_count": 2,
   "id": "8f68de29-a540-4504-b5bd-45c0c3c8bcae",
   "metadata": {},
   "outputs": [],
   "source": [
    "%precision 4\n",
    "pd.options.display.float_format = '{:.4f}'.format\n",
    "# %config InlineBackend.figure_format = 'retina'"
   ]
  },
  {
   "cell_type": "markdown",
   "id": "c62015a1-03c0-4203-bd5f-efac597f7a32",
   "metadata": {},
   "source": [
    "## Announcements"
   ]
  },
  {
   "cell_type": "markdown",
   "id": "86e03456-51e8-4872-8efc-2399eda709b9",
   "metadata": {},
   "source": [
    "1. Projects:\n",
    "    1. Project 1:\n",
    "        1. I am still grading\n",
    "        2. I plan to finish grading by Friday\n",
    "    2. Project 2:\n",
    "        1. Due on Friday, 3/28, at 11:59 PM\n",
    "        2. We will use class time next week for group work\n",
    "        3. Ask your questions here: <https://northeastern.instructure.com/courses/207607/discussion_topics/2738173>\n",
    "2. Assessments:\n",
    "    1. ***Both assessments are in class on Tuesday, 4/15***\n",
    "    2. Programming assessment: Should take 15 minutes and will be based on the questions here:\n",
    "    3. MSFQ assessment (only for MSFQ students): Should take 45 minutes and based on the 5 required MSFQ courses (standby for a Canvas announcement with more details after I discuss it with the MSFQ program director)"
   ]
  },
  {
   "cell_type": "markdown",
   "id": "fc2d8150-a1f8-4cd6-bd5a-d420b14d7568",
   "metadata": {},
   "source": [
    "## Five-Minute Review"
   ]
  },
  {
   "cell_type": "markdown",
   "id": "221b8e1e-f594-4031-95d4-b2d583bd0893",
   "metadata": {},
   "source": [
    "Quantitative value investing is a systematic investment strategy that combines the principles of value investing with data-driven, quantitative techniques.\n",
    "It involves identifying undervalued securities---those trading below their intrinsic value---using predefined, measurable criteria rather than subjective judgment.\n",
    "Common criteria are price/earnings (P/E) and price/book (P/B) ratios.\n",
    "Here, we will use the book-to-market equity ratio (B/M), which is common in the academic literature and quantitative investing.\n",
    "\n",
    "The key concepts in this topic are creating metrics, forming portfolios, and backtesting the strategy."
   ]
  },
  {
   "cell_type": "markdown",
   "id": "132b1a2f-a854-4c52-8ef8-6d75ed9b720a",
   "metadata": {},
   "source": [
    "##  Practice"
   ]
  },
  {
   "cell_type": "markdown",
   "id": "2d597f7d-b0f9-4f29-95bb-5e66020d9017",
   "metadata": {},
   "source": [
    "### Re-implement the value strategy from the lecture notebook"
   ]
  },
  {
   "cell_type": "markdown",
   "id": "72020b92-16f9-40af-9975-d56fe64c5457",
   "metadata": {},
   "source": [
    "#### Read the data"
   ]
  },
  {
   "cell_type": "markdown",
   "id": "f0e0a877-e173-4b95-a958-da101cfe6244",
   "metadata": {},
   "source": [
    "This code reads stock market data from a file called `crsp.csv` and prepares it for analysis.\n",
    "It loads the data into a data frame, makes sure the dates are in the right format, and marks certain letters (`A`, `B`, and `C`) as missing values.\n",
    "Then, it filters the data to include only records from 1965 or later, sorts it by company and date, and adds two new columns: one for market equity (calculated as the number of shares times the stock price, converted to millions), and another to adjust all dates to the end of each month."
   ]
  },
  {
   "cell_type": "code",
   "execution_count": 3,
   "id": "2394d210-0451-4ede-aa78-0a5013906f5b",
   "metadata": {},
   "outputs": [],
   "source": [
    "crsp = (\n",
    "    pd.read_csv(\n",
    "        filepath_or_buffer='crsp.csv',  # Read data from crsp.csv file\n",
    "        parse_dates=['date'],           # Convert 'date' column to datetime format\n",
    "        na_values=['A', 'B', 'C']       # Treat 'A', 'B', 'C' as missing values (NaN)\n",
    "    )\n",
    "    .query('date >= 1965')              # Filter to keep only data from 1965 onward\n",
    "    .sort_values(['PERMNO', 'date'])    # Sort by company identifier (PERMNO) and date\n",
    "    .assign(\n",
    "        ME=lambda x: x['SHROUT'] * x['PRC'].abs() / 1_000,  # Calculate market equity (ME) as shares outstanding * absolute price / 1000\n",
    "        date=lambda x: x['date'] + pd.offsets.MonthEnd(0)   # Adjust dates to the last day of each month\n",
    "    )\n",
    ")"
   ]
  },
  {
   "cell_type": "code",
   "execution_count": 4,
   "id": "781489a9-e90b-4491-98a1-29edf575af4d",
   "metadata": {},
   "outputs": [
    {
     "data": {
      "text/html": [
       "<div>\n",
       "<style scoped>\n",
       "    .dataframe tbody tr th:only-of-type {\n",
       "        vertical-align: middle;\n",
       "    }\n",
       "\n",
       "    .dataframe tbody tr th {\n",
       "        vertical-align: top;\n",
       "    }\n",
       "\n",
       "    .dataframe thead th {\n",
       "        text-align: right;\n",
       "    }\n",
       "</style>\n",
       "<table border=\"1\" class=\"dataframe\">\n",
       "  <thead>\n",
       "    <tr style=\"text-align: right;\">\n",
       "      <th></th>\n",
       "      <th>PERMNO</th>\n",
       "      <th>date</th>\n",
       "      <th>SHRCD</th>\n",
       "      <th>PRC</th>\n",
       "      <th>RET</th>\n",
       "      <th>SHROUT</th>\n",
       "      <th>ME</th>\n",
       "    </tr>\n",
       "  </thead>\n",
       "  <tbody>\n",
       "    <tr>\n",
       "      <th>0</th>\n",
       "      <td>10000</td>\n",
       "      <td>1986-01-31</td>\n",
       "      <td>10</td>\n",
       "      <td>-4.3750</td>\n",
       "      <td>NaN</td>\n",
       "      <td>3680.0000</td>\n",
       "      <td>16.1000</td>\n",
       "    </tr>\n",
       "    <tr>\n",
       "      <th>1</th>\n",
       "      <td>10000</td>\n",
       "      <td>1986-02-28</td>\n",
       "      <td>10</td>\n",
       "      <td>-3.2500</td>\n",
       "      <td>-0.2571</td>\n",
       "      <td>3680.0000</td>\n",
       "      <td>11.9600</td>\n",
       "    </tr>\n",
       "    <tr>\n",
       "      <th>2</th>\n",
       "      <td>10000</td>\n",
       "      <td>1986-03-31</td>\n",
       "      <td>10</td>\n",
       "      <td>-4.4375</td>\n",
       "      <td>0.3654</td>\n",
       "      <td>3680.0000</td>\n",
       "      <td>16.3300</td>\n",
       "    </tr>\n",
       "    <tr>\n",
       "      <th>3</th>\n",
       "      <td>10000</td>\n",
       "      <td>1986-04-30</td>\n",
       "      <td>10</td>\n",
       "      <td>-4.0000</td>\n",
       "      <td>-0.0986</td>\n",
       "      <td>3793.0000</td>\n",
       "      <td>15.1720</td>\n",
       "    </tr>\n",
       "    <tr>\n",
       "      <th>4</th>\n",
       "      <td>10000</td>\n",
       "      <td>1986-05-31</td>\n",
       "      <td>10</td>\n",
       "      <td>-3.1094</td>\n",
       "      <td>-0.2227</td>\n",
       "      <td>3793.0000</td>\n",
       "      <td>11.7939</td>\n",
       "    </tr>\n",
       "  </tbody>\n",
       "</table>\n",
       "</div>"
      ],
      "text/plain": [
       "   PERMNO       date  SHRCD     PRC     RET    SHROUT      ME\n",
       "0   10000 1986-01-31     10 -4.3750     NaN 3680.0000 16.1000\n",
       "1   10000 1986-02-28     10 -3.2500 -0.2571 3680.0000 11.9600\n",
       "2   10000 1986-03-31     10 -4.4375  0.3654 3680.0000 16.3300\n",
       "3   10000 1986-04-30     10 -4.0000 -0.0986 3793.0000 15.1720\n",
       "4   10000 1986-05-31     10 -3.1094 -0.2227 3793.0000 11.7939"
      ]
     },
     "execution_count": 4,
     "metadata": {},
     "output_type": "execute_result"
    }
   ],
   "source": [
    "crsp.head()"
   ]
  },
  {
   "cell_type": "markdown",
   "id": "a4e6992f-f8fb-466e-aa97-b8cfc035ca73",
   "metadata": {},
   "source": [
    "This code brings in financial data from a file named `compustat.csv` and prepares it for analysis.\n",
    "It loads the data into a data frame, formats dates, and filters out any records before 1965.\n",
    "Then, it sorts the data by company, fiscal year, and date.\n",
    "Finally, it removes any duplicate entries for the same company and fiscal year, keeping only the most recent record."
   ]
  },
  {
   "cell_type": "code",
   "execution_count": 5,
   "id": "943fa488-c76b-4730-8899-57cde5cdef58",
   "metadata": {},
   "outputs": [],
   "source": [
    "compustat = (\n",
    "    pd.read_csv(\n",
    "        filepath_or_buffer='compustat.csv',  # Read data from compustat.csv file\n",
    "        parse_dates=['datadate']              # Convert 'datadate' column to datetime format\n",
    "    )\n",
    "    .query('datadate >= 1965')                # Filter to keep only data from 1965 onward\n",
    "    .sort_values(['LPERMNO', 'fyear', 'datadate'])  # Sort by company identifier (LPERMNO), fiscal year, and date\n",
    "    .drop_duplicates(subset=['LPERMNO', 'fyear'], keep='last')  # Keep only the latest record per company and fiscal year\n",
    ")"
   ]
  },
  {
   "cell_type": "code",
   "execution_count": 6,
   "id": "48888bb1-af76-491e-9a24-09507bb4f302",
   "metadata": {},
   "outputs": [
    {
     "data": {
      "text/html": [
       "<div>\n",
       "<style scoped>\n",
       "    .dataframe tbody tr th:only-of-type {\n",
       "        vertical-align: middle;\n",
       "    }\n",
       "\n",
       "    .dataframe tbody tr th {\n",
       "        vertical-align: top;\n",
       "    }\n",
       "\n",
       "    .dataframe thead th {\n",
       "        text-align: right;\n",
       "    }\n",
       "</style>\n",
       "<table border=\"1\" class=\"dataframe\">\n",
       "  <thead>\n",
       "    <tr style=\"text-align: right;\">\n",
       "      <th></th>\n",
       "      <th>GVKEY</th>\n",
       "      <th>LPERMNO</th>\n",
       "      <th>datadate</th>\n",
       "      <th>fyear</th>\n",
       "      <th>indfmt</th>\n",
       "      <th>consol</th>\n",
       "      <th>popsrc</th>\n",
       "      <th>datafmt</th>\n",
       "      <th>curcd</th>\n",
       "      <th>ceq</th>\n",
       "      <th>ib</th>\n",
       "      <th>costat</th>\n",
       "    </tr>\n",
       "  </thead>\n",
       "  <tbody>\n",
       "    <tr>\n",
       "      <th>165681</th>\n",
       "      <td>13007</td>\n",
       "      <td>10000</td>\n",
       "      <td>1986-10-31</td>\n",
       "      <td>1986.0000</td>\n",
       "      <td>INDL</td>\n",
       "      <td>C</td>\n",
       "      <td>D</td>\n",
       "      <td>STD</td>\n",
       "      <td>USD</td>\n",
       "      <td>0.4180</td>\n",
       "      <td>-0.7300</td>\n",
       "      <td>I</td>\n",
       "    </tr>\n",
       "    <tr>\n",
       "      <th>165586</th>\n",
       "      <td>12994</td>\n",
       "      <td>10001</td>\n",
       "      <td>1986-06-30</td>\n",
       "      <td>1986.0000</td>\n",
       "      <td>INDL</td>\n",
       "      <td>C</td>\n",
       "      <td>D</td>\n",
       "      <td>STD</td>\n",
       "      <td>USD</td>\n",
       "      <td>5.4320</td>\n",
       "      <td>0.6690</td>\n",
       "      <td>I</td>\n",
       "    </tr>\n",
       "    <tr>\n",
       "      <th>165587</th>\n",
       "      <td>12994</td>\n",
       "      <td>10001</td>\n",
       "      <td>1987-06-30</td>\n",
       "      <td>1987.0000</td>\n",
       "      <td>INDL</td>\n",
       "      <td>C</td>\n",
       "      <td>D</td>\n",
       "      <td>STD</td>\n",
       "      <td>USD</td>\n",
       "      <td>5.3690</td>\n",
       "      <td>0.3120</td>\n",
       "      <td>I</td>\n",
       "    </tr>\n",
       "    <tr>\n",
       "      <th>165588</th>\n",
       "      <td>12994</td>\n",
       "      <td>10001</td>\n",
       "      <td>1988-06-30</td>\n",
       "      <td>1988.0000</td>\n",
       "      <td>INDL</td>\n",
       "      <td>C</td>\n",
       "      <td>D</td>\n",
       "      <td>STD</td>\n",
       "      <td>USD</td>\n",
       "      <td>5.5120</td>\n",
       "      <td>0.5420</td>\n",
       "      <td>I</td>\n",
       "    </tr>\n",
       "    <tr>\n",
       "      <th>165589</th>\n",
       "      <td>12994</td>\n",
       "      <td>10001</td>\n",
       "      <td>1989-06-30</td>\n",
       "      <td>1989.0000</td>\n",
       "      <td>INDL</td>\n",
       "      <td>C</td>\n",
       "      <td>D</td>\n",
       "      <td>STD</td>\n",
       "      <td>USD</td>\n",
       "      <td>6.3210</td>\n",
       "      <td>1.2080</td>\n",
       "      <td>I</td>\n",
       "    </tr>\n",
       "  </tbody>\n",
       "</table>\n",
       "</div>"
      ],
      "text/plain": [
       "        GVKEY  LPERMNO   datadate     fyear indfmt consol popsrc datafmt  \\\n",
       "165681  13007    10000 1986-10-31 1986.0000   INDL      C      D     STD   \n",
       "165586  12994    10001 1986-06-30 1986.0000   INDL      C      D     STD   \n",
       "165587  12994    10001 1987-06-30 1987.0000   INDL      C      D     STD   \n",
       "165588  12994    10001 1988-06-30 1988.0000   INDL      C      D     STD   \n",
       "165589  12994    10001 1989-06-30 1989.0000   INDL      C      D     STD   \n",
       "\n",
       "       curcd    ceq      ib costat  \n",
       "165681   USD 0.4180 -0.7300      I  \n",
       "165586   USD 5.4320  0.6690      I  \n",
       "165587   USD 5.3690  0.3120      I  \n",
       "165588   USD 5.5120  0.5420      I  \n",
       "165589   USD 6.3210  1.2080      I  "
      ]
     },
     "execution_count": 6,
     "metadata": {},
     "output_type": "execute_result"
    }
   ],
   "source": [
    "compustat.head()"
   ]
  },
  {
   "cell_type": "markdown",
   "id": "61c6e1d0-ee55-44b6-ab51-664d769a6417",
   "metadata": {},
   "source": [
    "About 64 percent of firm-years have December fiscal-year ends."
   ]
  },
  {
   "cell_type": "code",
   "execution_count": 7,
   "id": "a74e074c-d575-482c-9079-0368922d091e",
   "metadata": {},
   "outputs": [
    {
     "data": {
      "text/plain": [
       "datadate\n",
       "12   0.6401\n",
       "6    0.0723\n",
       "9    0.0609\n",
       "3    0.0518\n",
       "10   0.0341\n",
       "1    0.0334\n",
       "8    0.0203\n",
       "7    0.0187\n",
       "5    0.0187\n",
       "4    0.0179\n",
       "11   0.0173\n",
       "2    0.0146\n",
       "Name: count, dtype: float64"
      ]
     },
     "execution_count": 7,
     "metadata": {},
     "output_type": "execute_result"
    }
   ],
   "source": [
    "compustat['datadate'].dt.month.value_counts() / compustat['datadate'].shape[0]"
   ]
  },
  {
   "cell_type": "markdown",
   "id": "315afb08-aac7-4f84-b958-c1af25aad884",
   "metadata": {},
   "source": [
    "#### Create the interim data frames"
   ]
  },
  {
   "cell_type": "markdown",
   "id": "ed95256c-6101-45c6-8565-648858dbeabf",
   "metadata": {},
   "source": [
    "This code finds the market value of equity (`ME`) as of December each year from the `crsp` data frame (to match with book value of equity `ceq` from the `compustat` data frame below).\n",
    "It filters out any rows where market equity is zero or negative, then sorts the data by company and date.\n",
    "Next, it groups the data by company and year, focusing on December values.\n",
    "Finally, it selects the last market equity value for each company in each year, giving us the December `ME`."
   ]
  },
  {
   "cell_type": "code",
   "execution_count": 8,
   "id": "936bd826-245f-4344-8a4c-7e67fde85136",
   "metadata": {},
   "outputs": [],
   "source": [
    "mve = (\n",
    "    crsp\n",
    "    .query('ME > 0')                            # Filter for positive market equity values\n",
    "    .sort_values(['PERMNO', 'date'])            # Sort by company identifier (PERMNO) and date\n",
    "    .groupby(by=['PERMNO', pd.Grouper(key='date', freq='YE-DEC')])  # Group by company and year-end December\n",
    "    [['ME']]                                    # Select the market equity (ME) column\n",
    "    .last()                                     # Take the last ME value for each group (December value)\n",
    ")"
   ]
  },
  {
   "cell_type": "code",
   "execution_count": 9,
   "id": "3ca704db-94b6-4a41-bfe9-feb9dd283191",
   "metadata": {},
   "outputs": [
    {
     "data": {
      "text/html": [
       "<div>\n",
       "<style scoped>\n",
       "    .dataframe tbody tr th:only-of-type {\n",
       "        vertical-align: middle;\n",
       "    }\n",
       "\n",
       "    .dataframe tbody tr th {\n",
       "        vertical-align: top;\n",
       "    }\n",
       "\n",
       "    .dataframe thead th {\n",
       "        text-align: right;\n",
       "    }\n",
       "</style>\n",
       "<table border=\"1\" class=\"dataframe\">\n",
       "  <thead>\n",
       "    <tr style=\"text-align: right;\">\n",
       "      <th></th>\n",
       "      <th></th>\n",
       "      <th>ME</th>\n",
       "    </tr>\n",
       "    <tr>\n",
       "      <th>PERMNO</th>\n",
       "      <th>date</th>\n",
       "      <th></th>\n",
       "    </tr>\n",
       "  </thead>\n",
       "  <tbody>\n",
       "    <tr>\n",
       "      <th rowspan=\"2\" valign=\"top\">10000</th>\n",
       "      <th>1986-12-31</th>\n",
       "      <td>1.9816</td>\n",
       "    </tr>\n",
       "    <tr>\n",
       "      <th>1987-12-31</th>\n",
       "      <td>0.8516</td>\n",
       "    </tr>\n",
       "    <tr>\n",
       "      <th rowspan=\"3\" valign=\"top\">10001</th>\n",
       "      <th>1986-12-31</th>\n",
       "      <td>6.9370</td>\n",
       "    </tr>\n",
       "    <tr>\n",
       "      <th>1987-12-31</th>\n",
       "      <td>5.8280</td>\n",
       "    </tr>\n",
       "    <tr>\n",
       "      <th>1988-12-31</th>\n",
       "      <td>6.3623</td>\n",
       "    </tr>\n",
       "  </tbody>\n",
       "</table>\n",
       "</div>"
      ],
      "text/plain": [
       "                      ME\n",
       "PERMNO date             \n",
       "10000  1986-12-31 1.9816\n",
       "       1987-12-31 0.8516\n",
       "10001  1986-12-31 6.9370\n",
       "       1987-12-31 5.8280\n",
       "       1988-12-31 6.3623"
      ]
     },
     "execution_count": 9,
     "metadata": {},
     "output_type": "execute_result"
    }
   ],
   "source": [
    "mve.head()"
   ]
  },
  {
   "cell_type": "markdown",
   "id": "c160e438-f3c0-4e9f-ae99-7246bae5293d",
   "metadata": {},
   "source": [
    "This code finds the book value of equity (`ceq`) as of December each year from the `compustat` data frame.\n",
    "It filters out any rows where common equity is zero or negative, then sorts the data by company and date.\n",
    "Next, it groups the data by company and year, focusing on December values.\n",
    "Finally, it selects the last common equity value for each company in each year, giving us the December `ceq`."
   ]
  },
  {
   "cell_type": "code",
   "execution_count": 10,
   "id": "10df54da-0c00-493a-bb5f-30e7184d5e67",
   "metadata": {},
   "outputs": [],
   "source": [
    "bve = (\n",
    "    compustat\n",
    "    .query('ceq > 0')                            # Filter for positive common equity values\n",
    "    .sort_values(['LPERMNO', 'datadate'])        # Sort by company identifier (LPERMNO) and date\n",
    "    .groupby(by=['LPERMNO', pd.Grouper(key='datadate', freq='YE-DEC')])  # Group by company and year-end December\n",
    "    [['ceq']]                                    # Select the common equity (ceq) column\n",
    "    .last()                                      # Take the last CEQ value for each group (December value)\n",
    ")"
   ]
  },
  {
   "cell_type": "code",
   "execution_count": 11,
   "id": "2cc91a28-2310-499d-9750-ee6ec03cff70",
   "metadata": {},
   "outputs": [
    {
     "data": {
      "text/html": [
       "<div>\n",
       "<style scoped>\n",
       "    .dataframe tbody tr th:only-of-type {\n",
       "        vertical-align: middle;\n",
       "    }\n",
       "\n",
       "    .dataframe tbody tr th {\n",
       "        vertical-align: top;\n",
       "    }\n",
       "\n",
       "    .dataframe thead th {\n",
       "        text-align: right;\n",
       "    }\n",
       "</style>\n",
       "<table border=\"1\" class=\"dataframe\">\n",
       "  <thead>\n",
       "    <tr style=\"text-align: right;\">\n",
       "      <th></th>\n",
       "      <th></th>\n",
       "      <th>ceq</th>\n",
       "    </tr>\n",
       "    <tr>\n",
       "      <th>LPERMNO</th>\n",
       "      <th>datadate</th>\n",
       "      <th></th>\n",
       "    </tr>\n",
       "  </thead>\n",
       "  <tbody>\n",
       "    <tr>\n",
       "      <th>10000</th>\n",
       "      <th>1986-12-31</th>\n",
       "      <td>0.4180</td>\n",
       "    </tr>\n",
       "    <tr>\n",
       "      <th rowspan=\"4\" valign=\"top\">10001</th>\n",
       "      <th>1986-12-31</th>\n",
       "      <td>5.4320</td>\n",
       "    </tr>\n",
       "    <tr>\n",
       "      <th>1987-12-31</th>\n",
       "      <td>5.3690</td>\n",
       "    </tr>\n",
       "    <tr>\n",
       "      <th>1988-12-31</th>\n",
       "      <td>5.5120</td>\n",
       "    </tr>\n",
       "    <tr>\n",
       "      <th>1989-12-31</th>\n",
       "      <td>6.3210</td>\n",
       "    </tr>\n",
       "  </tbody>\n",
       "</table>\n",
       "</div>"
      ],
      "text/plain": [
       "                      ceq\n",
       "LPERMNO datadate         \n",
       "10000   1986-12-31 0.4180\n",
       "10001   1986-12-31 5.4320\n",
       "        1987-12-31 5.3690\n",
       "        1988-12-31 5.5120\n",
       "        1989-12-31 6.3210"
      ]
     },
     "execution_count": 11,
     "metadata": {},
     "output_type": "execute_result"
    }
   ],
   "source": [
    "bve.head()"
   ]
  },
  {
   "cell_type": "markdown",
   "id": "63ebfca4-8d3a-4a90-bee7-064e0ed295b0",
   "metadata": {},
   "source": [
    "#### Combine the data frames and form portfolios"
   ]
  },
  {
   "cell_type": "markdown",
   "id": "0aafdd73-0f8b-4620-9f63-5242680c7c95",
   "metadata": {},
   "source": [
    "This code shows a simple example of how to form portfolios using the `pd.qcut()` function.\n",
    "It takes a sequence of numbers from 0 to 9 and splits them into 2 equal groups (quantiles), assigning them to either a low or high category.\n",
    "The `labels=False` argument gives us numeric group identifiers (0 or 1), and adding 1 shifts these to 1 or 2, which can represent portfolio numbers."
   ]
  },
  {
   "cell_type": "code",
   "execution_count": 12,
   "id": "eebc795f-b084-4180-84a2-531dc1e8031e",
   "metadata": {},
   "outputs": [
    {
     "data": {
      "text/plain": [
       "array([1, 1, 1, 1, 1, 2, 2, 2, 2, 2])"
      ]
     },
     "execution_count": 12,
     "metadata": {},
     "output_type": "execute_result"
    }
   ],
   "source": [
    "1 + pd.qcut(x=np.arange(10), q=2, labels=False)"
   ]
  },
  {
   "cell_type": "markdown",
   "id": "5c1ddff6-b782-475b-bb9d-53414f878661",
   "metadata": {},
   "source": [
    "::: {.callout-note}\n",
    "\n",
    "In class, in the following cell, I used multiple cursors to simultaneously type two `.rename_axis(index=['PERMNO', 'Date'])` methods.\n",
    "If you hold down the `CTRL` key, every mouse click will generate a new cursor.\n",
    "Each cursor will do the same action (e.g., typing, highlighting, and deleting).\n",
    "More [here](https://discourse.jupyter.org/t/most-useful-keyboard-shortcuts-for-notebook-lab/18113).\n",
    "\n",
    ":::"
   ]
  },
  {
   "cell_type": "markdown",
   "id": "39b708d7-17d8-4325-ade4-6e6fad0e2b8d",
   "metadata": {},
   "source": [
    "This code creates portfolios based on book-to-market (`BM`) ratios using the `bve` and `mve` data frames.\n",
    "It starts by aligning the company and date indexes of both datasets and merges them, keeping only rows with matching data.\n",
    "Next, it calculates the `BM` ratio by dividing book value of equity (`ceq`) by market value of equity (`ME`).\n",
    "After resetting the index, it shifts the dates forward by 7 months to time the portfolio formation correctly, giving 6 months between `BM` calculation and buying stocks at the end of June to receive July returns.\n",
    "Finally, for each date, it sorts the `BM` ratios into 10 equal groups (deciles) and assigns portfolio numbers from 1 to 10."
   ]
  },
  {
   "cell_type": "code",
   "execution_count": 13,
   "id": "3477e2c1-8ed6-457a-b1d9-4bd94d90727c",
   "metadata": {},
   "outputs": [],
   "source": [
    "portfolios = (\n",
    "    bve\n",
    "    .rename_axis(index=['PERMNO', 'Date'])  # Rename index columns for consistency\n",
    "    .join(\n",
    "        other=mve.rename_axis(index=['PERMNO', 'Date']),  # Merge with market value data using matching company and date\n",
    "        how='inner'                               # Keep only rows where both datasets have data\n",
    "    )\n",
    "    .assign(BM=lambda x: x['ceq'] / x['ME'])      # Calculate book-to-market ratio (BVE / MVE)\n",
    "    .reset_index()                                # Convert index back to columns\n",
    "    .assign(\n",
    "        Date=lambda x: x['Date'] + pd.offsets.MonthEnd(7),  # Shift date forward 7 months to align with portfolio formation\n",
    "        Portfolio=lambda x: x.groupby('Date')['BM'].transform(  # Assign portfolios based on BM quantiles\n",
    "            lambda x: 1 + pd.qcut(x=x, q=10, labels=False)  # Split BM into 10 quantiles (0-9), add 1 to get 1-10\n",
    "        )\n",
    "    )\n",
    ")"
   ]
  },
  {
   "cell_type": "markdown",
   "id": "691e21d7-e7a0-4447-918d-eebee4403523",
   "metadata": {},
   "source": [
    "This code creates a bar chart showing the average book-to-market (`BM`) ratio for each portfolio using the `portfolios` data frame.\n",
    "It groups the data by portfolio number (1 to 10), calculates the mean `BM` ratio for each group, and then plots these averages as bars.\n",
    "As expected, we see that `BM` rises from portfolio 1 to 10."
   ]
  },
  {
   "cell_type": "code",
   "execution_count": 14,
   "id": "ca21f990-3a20-4e47-a1c4-62b9c2a9a172",
   "metadata": {},
   "outputs": [
    {
     "data": {
      "image/png": "[encoded data removed]",
      "text/plain": [
       "<Figure size 640x480 with 1 Axes>"
      ]
     },
     "metadata": {},
     "output_type": "display_data"
    }
   ],
   "source": [
    "(\n",
    "    portfolios\n",
    "    .groupby(by=['Portfolio', 'Date'])  # Group data by portfolio number and date\n",
    "    ['BM']                              # Select the book-to-market (BM) column\n",
    "    .mean()                             # Calculate the mean BM for each portfolio-date combination\n",
    "    .groupby(by='Portfolio')            # Group again by portfolio to average across all dates\n",
    "    .mean()                             # Calculate the time-averaged mean BM for each portfolio\n",
    "    .plot(kind='bar')                   # Plot the results as a bar chart\n",
    ")\n",
    "plt.ylabel('Mean B/M for Equal-Weighted Portfolio')\n",
    "plt.title('Mean B/M for Equal-Weighted Portfolios Formed on B/M')\n",
    "plt.show()"
   ]
  },
  {
   "cell_type": "markdown",
   "id": "509372b5-8ed5-4c04-a95c-ebd7d2561d2b",
   "metadata": {},
   "source": [
    "::: {.callout-note}\n",
    "Start here on Friday!\n",
    ":::"
   ]
  },
  {
   "cell_type": "markdown",
   "id": "683cd178-076c-4409-b717-55aaad93d915",
   "metadata": {},
   "source": [
    "#### Backtest the strategy"
   ]
  },
  {
   "cell_type": "markdown",
   "id": "88405561-a6ec-472e-8187-a0401b29bd64",
   "metadata": {},
   "source": [
    "### Re-implement the value strategy from the lecture notebook *with value-weighted portfolios*"
   ]
  },
  {
   "cell_type": "markdown",
   "id": "6fe448dd-ddd3-4073-93b9-7b5cb329ffd2",
   "metadata": {},
   "source": [
    "### Estimate the $\\alpha$s of the equal-weighted and value-weighted portfolios"
   ]
  },
  {
   "cell_type": "markdown",
   "id": "268ef3bf-b566-4e70-843d-0acc7a52f42c",
   "metadata": {},
   "source": [
    "### Implement a momentum strategy\n",
    "\n",
    "Form deciles on the 11-month returns from months $t-12$ to month $t-1$."
   ]
  },
  {
   "cell_type": "code",
   "execution_count": null,
   "id": "6d8181c4-19ac-4de1-bc11-7b4b6746d4bc",
   "metadata": {},
   "outputs": [],
   "source": []
  }
 ],
 "metadata": {
  "kernelspec": {
   "display_name": "Python 3 (ipykernel)",
   "language": "python",
   "name": "python3"
  },
  "language_info": {
   "codemirror_mode": {
    "name": "ipython",
    "version": 3
   },
   "file_extension": ".py",
   "mimetype": "text/x-python",
   "name": "python",
   "nbconvert_exporter": "python",
   "pygments_lexer": "ipython3",
   "version": "3.12.9"
  }
 },
 "nbformat": 4,
 "nbformat_minor": 5
}
