{
 "cells": [
  {
   "cell_type": "markdown",
   "id": "8178742d-2457-4e82-b936-265ef2bde302",
   "metadata": {},
   "source": [
    "# McKinney Chapter 10 - Practice - Sec 03"
   ]
  },
  {
   "cell_type": "code",
   "execution_count": 1,
   "id": "ed2aa618-2dc0-4f23-b6e7-aa219c563652",
   "metadata": {},
   "outputs": [],
   "source": [
    "import matplotlib.pyplot as plt\n",
    "import numpy as np\n",
    "import pandas as pd\n",
    "import pandas_datareader as pdr\n",
    "import yfinance as yf"
   ]
  },
  {
   "cell_type": "code",
   "execution_count": 2,
   "id": "8463b282-660a-411e-bc73-6bb3e9a8da54",
   "metadata": {},
   "outputs": [],
   "source": [
    "%precision 4\n",
    "pd.options.display.float_format = '{:.4f}'.format\n",
    "%config InlineBackend.figure_format = 'retina'"
   ]
  },
  {
   "cell_type": "markdown",
   "id": "2abe814c-82cc-4cfd-b77a-7b4d48d7bddd",
   "metadata": {},
   "source": [
    "## Announcements"
   ]
  },
  {
   "cell_type": "markdown",
   "id": "572a12de-f36d-4069-893b-0bfcf73d278a",
   "metadata": {},
   "source": [
    "1. Please join your project group today. Otherwise, I will randomly assign you to a group tonight.\n",
    "2. Please vote for students' choice topics.\n",
    "3. Please complete a week-5 survey; see the announcement on Canvas."
   ]
  },
  {
   "cell_type": "markdown",
   "id": "f33dc355-dec6-4e3f-8d5e-da9a62448c14",
   "metadata": {},
   "source": [
    "## Five-Minute Review"
   ]
  },
  {
   "cell_type": "markdown",
   "id": "feb01797-5f4e-4a98-9565-0550c6b06695",
   "metadata": {},
   "source": [
    "We will focus on 3 topics from chapter 10 of McKinney:\n",
    "\n",
    "1. *GroupBy Mechanics:* We will use the `.groupby()` method to perform \"split-apply-combine\" calculations in pandas, which let us aggregate data by one of more columns or indexes.\n",
    "2. *Data Aggregation:* We will combine optimized methods, like `.count()`, `.sum()`, `.mean()`, etc., with `.groupby()` to quickly aggregate data. We will combine the `.agg()` or `.aggregate()` method with `.groupby()` when we want to apply more than one aggregation function.\n",
    "3. *Pivot Tables:* We can use the `.pivot_table()` method to aggregate data with a syntax similar to Excel’s pivot tables. We can almost always get the same output with the `.groupby()`, `.agg()`, and `.unstack()` methods."
   ]
  },
  {
   "cell_type": "markdown",
   "id": "1dd7f11d-884e-45a0-a263-20ae9cf74b17",
   "metadata": {
    "editable": true,
    "slideshow": {
     "slide_type": ""
    },
    "tags": []
   },
   "source": [
    "## Practice"
   ]
  },
  {
   "cell_type": "markdown",
   "id": "6092dec9-76d7-4f2b-af8d-db0d2859b6b4",
   "metadata": {},
   "source": [
    "### Replicate the following `.pivot_table()` output with `.groupby()`"
   ]
  },
  {
   "cell_type": "code",
   "execution_count": 3,
   "id": "d6605f4c-9478-4aef-a6bf-36700e4f5040",
   "metadata": {},
   "outputs": [
    {
     "name": "stderr",
     "output_type": "stream",
     "text": [
      "\r",
      "[**********************83%***************        ]  5 of 6 completed"
     ]
    },
    {
     "name": "stderr",
     "output_type": "stream",
     "text": [
      "\r",
      "[*********************100%***********************]  6 of 6 completed"
     ]
    },
    {
     "name": "stderr",
     "output_type": "stream",
     "text": [
      "\n"
     ]
    }
   ],
   "source": [
    "ind = (\n",
    "    yf.download(\n",
    "        tickers='^GSPC ^DJI ^IXIC ^FTSE ^N225 ^HSI',\n",
    "        auto_adjust=False,\n",
    "        progress=False\n",
    "    )\n",
    "    .iloc[:-1]\n",
    "    .stack(future_stack=True)\n",
    ")"
   ]
  },
  {
   "cell_type": "code",
   "execution_count": 4,
   "id": "ee582ce4-7e12-47ab-ae97-6fbd4f8e8afb",
   "metadata": {},
   "outputs": [
    {
     "data": {
      "text/html": [
       "<div>\n",
       "<style scoped>\n",
       "    .dataframe tbody tr th:only-of-type {\n",
       "        vertical-align: middle;\n",
       "    }\n",
       "\n",
       "    .dataframe tbody tr th {\n",
       "        vertical-align: top;\n",
       "    }\n",
       "\n",
       "    .dataframe thead th {\n",
       "        text-align: right;\n",
       "    }\n",
       "</style>\n",
       "<table border=\"1\" class=\"dataframe\">\n",
       "  <thead>\n",
       "    <tr style=\"text-align: right;\">\n",
       "      <th></th>\n",
       "      <th>Price</th>\n",
       "      <th>Adj Close</th>\n",
       "      <th>Close</th>\n",
       "      <th>High</th>\n",
       "      <th>Low</th>\n",
       "      <th>Open</th>\n",
       "      <th>Volume</th>\n",
       "    </tr>\n",
       "    <tr>\n",
       "      <th>Date</th>\n",
       "      <th>Ticker</th>\n",
       "      <th></th>\n",
       "      <th></th>\n",
       "      <th></th>\n",
       "      <th></th>\n",
       "      <th></th>\n",
       "      <th></th>\n",
       "    </tr>\n",
       "  </thead>\n",
       "  <tbody>\n",
       "    <tr>\n",
       "      <th rowspan=\"5\" valign=\"top\">1927-12-30</th>\n",
       "      <th>^DJI</th>\n",
       "      <td>NaN</td>\n",
       "      <td>NaN</td>\n",
       "      <td>NaN</td>\n",
       "      <td>NaN</td>\n",
       "      <td>NaN</td>\n",
       "      <td>NaN</td>\n",
       "    </tr>\n",
       "    <tr>\n",
       "      <th>^FTSE</th>\n",
       "      <td>NaN</td>\n",
       "      <td>NaN</td>\n",
       "      <td>NaN</td>\n",
       "      <td>NaN</td>\n",
       "      <td>NaN</td>\n",
       "      <td>NaN</td>\n",
       "    </tr>\n",
       "    <tr>\n",
       "      <th>^GSPC</th>\n",
       "      <td>17.6600</td>\n",
       "      <td>17.6600</td>\n",
       "      <td>17.6600</td>\n",
       "      <td>17.6600</td>\n",
       "      <td>17.6600</td>\n",
       "      <td>0.0000</td>\n",
       "    </tr>\n",
       "    <tr>\n",
       "      <th>^HSI</th>\n",
       "      <td>NaN</td>\n",
       "      <td>NaN</td>\n",
       "      <td>NaN</td>\n",
       "      <td>NaN</td>\n",
       "      <td>NaN</td>\n",
       "      <td>NaN</td>\n",
       "    </tr>\n",
       "    <tr>\n",
       "      <th>^IXIC</th>\n",
       "      <td>NaN</td>\n",
       "      <td>NaN</td>\n",
       "      <td>NaN</td>\n",
       "      <td>NaN</td>\n",
       "      <td>NaN</td>\n",
       "      <td>NaN</td>\n",
       "    </tr>\n",
       "    <tr>\n",
       "      <th>...</th>\n",
       "      <th>...</th>\n",
       "      <td>...</td>\n",
       "      <td>...</td>\n",
       "      <td>...</td>\n",
       "      <td>...</td>\n",
       "      <td>...</td>\n",
       "      <td>...</td>\n",
       "    </tr>\n",
       "    <tr>\n",
       "      <th rowspan=\"5\" valign=\"top\">2025-02-11</th>\n",
       "      <th>^FTSE</th>\n",
       "      <td>8777.4004</td>\n",
       "      <td>8777.4004</td>\n",
       "      <td>8789.5996</td>\n",
       "      <td>8750.5000</td>\n",
       "      <td>8767.7998</td>\n",
       "      <td>900729100.0000</td>\n",
       "    </tr>\n",
       "    <tr>\n",
       "      <th>^GSPC</th>\n",
       "      <td>6068.5000</td>\n",
       "      <td>6068.5000</td>\n",
       "      <td>6076.2798</td>\n",
       "      <td>6042.3398</td>\n",
       "      <td>6049.3198</td>\n",
       "      <td>4324880000.0000</td>\n",
       "    </tr>\n",
       "    <tr>\n",
       "      <th>^HSI</th>\n",
       "      <td>21294.8594</td>\n",
       "      <td>21294.8594</td>\n",
       "      <td>21682.4102</td>\n",
       "      <td>21279.3691</td>\n",
       "      <td>21656.8203</td>\n",
       "      <td>3583400000.0000</td>\n",
       "    </tr>\n",
       "    <tr>\n",
       "      <th>^IXIC</th>\n",
       "      <td>19643.8594</td>\n",
       "      <td>19643.8594</td>\n",
       "      <td>19731.9297</td>\n",
       "      <td>19579.7695</td>\n",
       "      <td>19602.1094</td>\n",
       "      <td>9269380000.0000</td>\n",
       "    </tr>\n",
       "    <tr>\n",
       "      <th>^N225</th>\n",
       "      <td>NaN</td>\n",
       "      <td>NaN</td>\n",
       "      <td>NaN</td>\n",
       "      <td>NaN</td>\n",
       "      <td>NaN</td>\n",
       "      <td>NaN</td>\n",
       "    </tr>\n",
       "  </tbody>\n",
       "</table>\n",
       "<p>149346 rows × 6 columns</p>\n",
       "</div>"
      ],
      "text/plain": [
       "Price              Adj Close      Close       High        Low       Open  \\\n",
       "Date       Ticker                                                          \n",
       "1927-12-30 ^DJI          NaN        NaN        NaN        NaN        NaN   \n",
       "           ^FTSE         NaN        NaN        NaN        NaN        NaN   \n",
       "           ^GSPC     17.6600    17.6600    17.6600    17.6600    17.6600   \n",
       "           ^HSI          NaN        NaN        NaN        NaN        NaN   \n",
       "           ^IXIC         NaN        NaN        NaN        NaN        NaN   \n",
       "...                      ...        ...        ...        ...        ...   \n",
       "2025-02-11 ^FTSE   8777.4004  8777.4004  8789.5996  8750.5000  8767.7998   \n",
       "           ^GSPC   6068.5000  6068.5000  6076.2798  6042.3398  6049.3198   \n",
       "           ^HSI   21294.8594 21294.8594 21682.4102 21279.3691 21656.8203   \n",
       "           ^IXIC  19643.8594 19643.8594 19731.9297 19579.7695 19602.1094   \n",
       "           ^N225         NaN        NaN        NaN        NaN        NaN   \n",
       "\n",
       "Price                      Volume  \n",
       "Date       Ticker                  \n",
       "1927-12-30 ^DJI               NaN  \n",
       "           ^FTSE              NaN  \n",
       "           ^GSPC           0.0000  \n",
       "           ^HSI               NaN  \n",
       "           ^IXIC              NaN  \n",
       "...                           ...  \n",
       "2025-02-11 ^FTSE   900729100.0000  \n",
       "           ^GSPC  4324880000.0000  \n",
       "           ^HSI   3583400000.0000  \n",
       "           ^IXIC  9269380000.0000  \n",
       "           ^N225              NaN  \n",
       "\n",
       "[149346 rows x 6 columns]"
      ]
     },
     "execution_count": 4,
     "metadata": {},
     "output_type": "execute_result"
    }
   ],
   "source": [
    "ind"
   ]
  },
  {
   "cell_type": "code",
   "execution_count": 5,
   "id": "fcdf14d6-1440-4752-907f-78a609d46627",
   "metadata": {},
   "outputs": [],
   "source": [
    "a = (\n",
    "    ind\n",
    "    .loc['2015':]\n",
    "    .reset_index()\n",
    "    .pivot_table(\n",
    "        values='Close',\n",
    "        index=pd.Grouper(key='Date', freq='YE'),\n",
    "        columns='Ticker',\n",
    "        aggfunc=['min', 'max']\n",
    "    )\n",
    ")"
   ]
  },
  {
   "cell_type": "code",
   "execution_count": 6,
   "id": "66f78cda-605e-48e4-88de-eb68fed6679e",
   "metadata": {},
   "outputs": [
    {
     "data": {
      "text/html": [
       "<div>\n",
       "<style scoped>\n",
       "    .dataframe tbody tr th:only-of-type {\n",
       "        vertical-align: middle;\n",
       "    }\n",
       "\n",
       "    .dataframe tbody tr th {\n",
       "        vertical-align: top;\n",
       "    }\n",
       "\n",
       "    .dataframe thead tr th {\n",
       "        text-align: left;\n",
       "    }\n",
       "\n",
       "    .dataframe thead tr:last-of-type th {\n",
       "        text-align: right;\n",
       "    }\n",
       "</style>\n",
       "<table border=\"1\" class=\"dataframe\">\n",
       "  <thead>\n",
       "    <tr>\n",
       "      <th></th>\n",
       "      <th colspan=\"6\" halign=\"left\">min</th>\n",
       "      <th colspan=\"6\" halign=\"left\">max</th>\n",
       "    </tr>\n",
       "    <tr>\n",
       "      <th>Ticker</th>\n",
       "      <th>^DJI</th>\n",
       "      <th>^FTSE</th>\n",
       "      <th>^GSPC</th>\n",
       "      <th>^HSI</th>\n",
       "      <th>^IXIC</th>\n",
       "      <th>^N225</th>\n",
       "      <th>^DJI</th>\n",
       "      <th>^FTSE</th>\n",
       "      <th>^GSPC</th>\n",
       "      <th>^HSI</th>\n",
       "      <th>^IXIC</th>\n",
       "      <th>^N225</th>\n",
       "    </tr>\n",
       "    <tr>\n",
       "      <th>Date</th>\n",
       "      <th></th>\n",
       "      <th></th>\n",
       "      <th></th>\n",
       "      <th></th>\n",
       "      <th></th>\n",
       "      <th></th>\n",
       "      <th></th>\n",
       "      <th></th>\n",
       "      <th></th>\n",
       "      <th></th>\n",
       "      <th></th>\n",
       "      <th></th>\n",
       "    </tr>\n",
       "  </thead>\n",
       "  <tbody>\n",
       "    <tr>\n",
       "      <th>2015-12-31</th>\n",
       "      <td>15666.4404</td>\n",
       "      <td>5874.1001</td>\n",
       "      <td>1867.6100</td>\n",
       "      <td>20556.5996</td>\n",
       "      <td>4506.4902</td>\n",
       "      <td>16795.9609</td>\n",
       "      <td>18312.3906</td>\n",
       "      <td>7104.0000</td>\n",
       "      <td>2130.8201</td>\n",
       "      <td>28442.7500</td>\n",
       "      <td>5218.8599</td>\n",
       "      <td>20868.0293</td>\n",
       "    </tr>\n",
       "    <tr>\n",
       "      <th>2016-12-31</th>\n",
       "      <td>15660.1797</td>\n",
       "      <td>5537.0000</td>\n",
       "      <td>1829.0800</td>\n",
       "      <td>18319.5801</td>\n",
       "      <td>4266.8398</td>\n",
       "      <td>14952.0195</td>\n",
       "      <td>19974.6191</td>\n",
       "      <td>7142.7998</td>\n",
       "      <td>2271.7200</td>\n",
       "      <td>24099.6992</td>\n",
       "      <td>5487.4399</td>\n",
       "      <td>19494.5293</td>\n",
       "    </tr>\n",
       "    <tr>\n",
       "      <th>2017-12-31</th>\n",
       "      <td>19732.4004</td>\n",
       "      <td>7099.2002</td>\n",
       "      <td>2257.8301</td>\n",
       "      <td>22134.4707</td>\n",
       "      <td>5429.0801</td>\n",
       "      <td>18335.6309</td>\n",
       "      <td>24837.5098</td>\n",
       "      <td>7687.7998</td>\n",
       "      <td>2690.1599</td>\n",
       "      <td>30003.4902</td>\n",
       "      <td>6994.7598</td>\n",
       "      <td>22939.1797</td>\n",
       "    </tr>\n",
       "    <tr>\n",
       "      <th>2018-12-31</th>\n",
       "      <td>21792.1992</td>\n",
       "      <td>6584.7002</td>\n",
       "      <td>2351.1001</td>\n",
       "      <td>24585.5293</td>\n",
       "      <td>6192.9199</td>\n",
       "      <td>19155.7402</td>\n",
       "      <td>26828.3906</td>\n",
       "      <td>7877.5000</td>\n",
       "      <td>2930.7500</td>\n",
       "      <td>33154.1211</td>\n",
       "      <td>8109.6899</td>\n",
       "      <td>24270.6191</td>\n",
       "    </tr>\n",
       "    <tr>\n",
       "      <th>2019-12-31</th>\n",
       "      <td>22686.2207</td>\n",
       "      <td>6692.7002</td>\n",
       "      <td>2447.8899</td>\n",
       "      <td>25064.3594</td>\n",
       "      <td>6463.5000</td>\n",
       "      <td>19561.9609</td>\n",
       "      <td>28645.2598</td>\n",
       "      <td>7686.6001</td>\n",
       "      <td>3240.0200</td>\n",
       "      <td>30157.4902</td>\n",
       "      <td>9022.3896</td>\n",
       "      <td>24066.1191</td>\n",
       "    </tr>\n",
       "  </tbody>\n",
       "</table>\n",
       "</div>"
      ],
      "text/plain": [
       "                  min                                                      \\\n",
       "Ticker           ^DJI     ^FTSE     ^GSPC       ^HSI     ^IXIC      ^N225   \n",
       "Date                                                                        \n",
       "2015-12-31 15666.4404 5874.1001 1867.6100 20556.5996 4506.4902 16795.9609   \n",
       "2016-12-31 15660.1797 5537.0000 1829.0800 18319.5801 4266.8398 14952.0195   \n",
       "2017-12-31 19732.4004 7099.2002 2257.8301 22134.4707 5429.0801 18335.6309   \n",
       "2018-12-31 21792.1992 6584.7002 2351.1001 24585.5293 6192.9199 19155.7402   \n",
       "2019-12-31 22686.2207 6692.7002 2447.8899 25064.3594 6463.5000 19561.9609   \n",
       "\n",
       "                  max                                                      \n",
       "Ticker           ^DJI     ^FTSE     ^GSPC       ^HSI     ^IXIC      ^N225  \n",
       "Date                                                                       \n",
       "2015-12-31 18312.3906 7104.0000 2130.8201 28442.7500 5218.8599 20868.0293  \n",
       "2016-12-31 19974.6191 7142.7998 2271.7200 24099.6992 5487.4399 19494.5293  \n",
       "2017-12-31 24837.5098 7687.7998 2690.1599 30003.4902 6994.7598 22939.1797  \n",
       "2018-12-31 26828.3906 7877.5000 2930.7500 33154.1211 8109.6899 24270.6191  \n",
       "2019-12-31 28645.2598 7686.6001 3240.0200 30157.4902 9022.3896 24066.1191  "
      ]
     },
     "execution_count": 6,
     "metadata": {},
     "output_type": "execute_result"
    }
   ],
   "source": [
    "a.head()"
   ]
  },
  {
   "cell_type": "code",
   "execution_count": 7,
   "id": "ad675c2e-c55d-4cc2-af95-b18345f6718e",
   "metadata": {},
   "outputs": [],
   "source": [
    "b = (\n",
    "    ind\n",
    "    .loc['2015':]\n",
    "    .reset_index()\n",
    "    .groupby([pd.Grouper(key='Date', freq='YE'), 'Ticker'])\n",
    "    ['Close']\n",
    "    .agg(['min', 'max'])\n",
    "    .unstack()\n",
    ")"
   ]
  },
  {
   "cell_type": "code",
   "execution_count": 8,
   "id": "fb563427-f294-435e-a6c5-88e019fa7453",
   "metadata": {},
   "outputs": [
    {
     "data": {
      "text/html": [
       "<div>\n",
       "<style scoped>\n",
       "    .dataframe tbody tr th:only-of-type {\n",
       "        vertical-align: middle;\n",
       "    }\n",
       "\n",
       "    .dataframe tbody tr th {\n",
       "        vertical-align: top;\n",
       "    }\n",
       "\n",
       "    .dataframe thead tr th {\n",
       "        text-align: left;\n",
       "    }\n",
       "\n",
       "    .dataframe thead tr:last-of-type th {\n",
       "        text-align: right;\n",
       "    }\n",
       "</style>\n",
       "<table border=\"1\" class=\"dataframe\">\n",
       "  <thead>\n",
       "    <tr>\n",
       "      <th></th>\n",
       "      <th colspan=\"6\" halign=\"left\">min</th>\n",
       "      <th colspan=\"6\" halign=\"left\">max</th>\n",
       "    </tr>\n",
       "    <tr>\n",
       "      <th>Ticker</th>\n",
       "      <th>^DJI</th>\n",
       "      <th>^FTSE</th>\n",
       "      <th>^GSPC</th>\n",
       "      <th>^HSI</th>\n",
       "      <th>^IXIC</th>\n",
       "      <th>^N225</th>\n",
       "      <th>^DJI</th>\n",
       "      <th>^FTSE</th>\n",
       "      <th>^GSPC</th>\n",
       "      <th>^HSI</th>\n",
       "      <th>^IXIC</th>\n",
       "      <th>^N225</th>\n",
       "    </tr>\n",
       "    <tr>\n",
       "      <th>Date</th>\n",
       "      <th></th>\n",
       "      <th></th>\n",
       "      <th></th>\n",
       "      <th></th>\n",
       "      <th></th>\n",
       "      <th></th>\n",
       "      <th></th>\n",
       "      <th></th>\n",
       "      <th></th>\n",
       "      <th></th>\n",
       "      <th></th>\n",
       "      <th></th>\n",
       "    </tr>\n",
       "  </thead>\n",
       "  <tbody>\n",
       "    <tr>\n",
       "      <th>2015-12-31</th>\n",
       "      <td>15666.4404</td>\n",
       "      <td>5874.1001</td>\n",
       "      <td>1867.6100</td>\n",
       "      <td>20556.5996</td>\n",
       "      <td>4506.4902</td>\n",
       "      <td>16795.9609</td>\n",
       "      <td>18312.3906</td>\n",
       "      <td>7104.0000</td>\n",
       "      <td>2130.8201</td>\n",
       "      <td>28442.7500</td>\n",
       "      <td>5218.8599</td>\n",
       "      <td>20868.0293</td>\n",
       "    </tr>\n",
       "    <tr>\n",
       "      <th>2016-12-31</th>\n",
       "      <td>15660.1797</td>\n",
       "      <td>5537.0000</td>\n",
       "      <td>1829.0800</td>\n",
       "      <td>18319.5801</td>\n",
       "      <td>4266.8398</td>\n",
       "      <td>14952.0195</td>\n",
       "      <td>19974.6191</td>\n",
       "      <td>7142.7998</td>\n",
       "      <td>2271.7200</td>\n",
       "      <td>24099.6992</td>\n",
       "      <td>5487.4399</td>\n",
       "      <td>19494.5293</td>\n",
       "    </tr>\n",
       "    <tr>\n",
       "      <th>2017-12-31</th>\n",
       "      <td>19732.4004</td>\n",
       "      <td>7099.2002</td>\n",
       "      <td>2257.8301</td>\n",
       "      <td>22134.4707</td>\n",
       "      <td>5429.0801</td>\n",
       "      <td>18335.6309</td>\n",
       "      <td>24837.5098</td>\n",
       "      <td>7687.7998</td>\n",
       "      <td>2690.1599</td>\n",
       "      <td>30003.4902</td>\n",
       "      <td>6994.7598</td>\n",
       "      <td>22939.1797</td>\n",
       "    </tr>\n",
       "    <tr>\n",
       "      <th>2018-12-31</th>\n",
       "      <td>21792.1992</td>\n",
       "      <td>6584.7002</td>\n",
       "      <td>2351.1001</td>\n",
       "      <td>24585.5293</td>\n",
       "      <td>6192.9199</td>\n",
       "      <td>19155.7402</td>\n",
       "      <td>26828.3906</td>\n",
       "      <td>7877.5000</td>\n",
       "      <td>2930.7500</td>\n",
       "      <td>33154.1211</td>\n",
       "      <td>8109.6899</td>\n",
       "      <td>24270.6191</td>\n",
       "    </tr>\n",
       "    <tr>\n",
       "      <th>2019-12-31</th>\n",
       "      <td>22686.2207</td>\n",
       "      <td>6692.7002</td>\n",
       "      <td>2447.8899</td>\n",
       "      <td>25064.3594</td>\n",
       "      <td>6463.5000</td>\n",
       "      <td>19561.9609</td>\n",
       "      <td>28645.2598</td>\n",
       "      <td>7686.6001</td>\n",
       "      <td>3240.0200</td>\n",
       "      <td>30157.4902</td>\n",
       "      <td>9022.3896</td>\n",
       "      <td>24066.1191</td>\n",
       "    </tr>\n",
       "  </tbody>\n",
       "</table>\n",
       "</div>"
      ],
      "text/plain": [
       "                  min                                                      \\\n",
       "Ticker           ^DJI     ^FTSE     ^GSPC       ^HSI     ^IXIC      ^N225   \n",
       "Date                                                                        \n",
       "2015-12-31 15666.4404 5874.1001 1867.6100 20556.5996 4506.4902 16795.9609   \n",
       "2016-12-31 15660.1797 5537.0000 1829.0800 18319.5801 4266.8398 14952.0195   \n",
       "2017-12-31 19732.4004 7099.2002 2257.8301 22134.4707 5429.0801 18335.6309   \n",
       "2018-12-31 21792.1992 6584.7002 2351.1001 24585.5293 6192.9199 19155.7402   \n",
       "2019-12-31 22686.2207 6692.7002 2447.8899 25064.3594 6463.5000 19561.9609   \n",
       "\n",
       "                  max                                                      \n",
       "Ticker           ^DJI     ^FTSE     ^GSPC       ^HSI     ^IXIC      ^N225  \n",
       "Date                                                                       \n",
       "2015-12-31 18312.3906 7104.0000 2130.8201 28442.7500 5218.8599 20868.0293  \n",
       "2016-12-31 19974.6191 7142.7998 2271.7200 24099.6992 5487.4399 19494.5293  \n",
       "2017-12-31 24837.5098 7687.7998 2690.1599 30003.4902 6994.7598 22939.1797  \n",
       "2018-12-31 26828.3906 7877.5000 2930.7500 33154.1211 8109.6899 24270.6191  \n",
       "2019-12-31 28645.2598 7686.6001 3240.0200 30157.4902 9022.3896 24066.1191  "
      ]
     },
     "execution_count": 8,
     "metadata": {},
     "output_type": "execute_result"
    }
   ],
   "source": [
    "b.head()"
   ]
  },
  {
   "cell_type": "code",
   "execution_count": 9,
   "id": "dbfe3a76-effc-44f6-ae56-d46fc93276e4",
   "metadata": {},
   "outputs": [
    {
     "data": {
      "text/plain": [
       "True"
      ]
     },
     "execution_count": 9,
     "metadata": {},
     "output_type": "execute_result"
    }
   ],
   "source": [
    "a.equals(b)"
   ]
  },
  {
   "cell_type": "code",
   "execution_count": 10,
   "id": "05f17d4b-8a2f-44fe-b0a6-edfe5e224ed3",
   "metadata": {},
   "outputs": [
    {
     "data": {
      "text/plain": [
       "True"
      ]
     },
     "execution_count": 10,
     "metadata": {},
     "output_type": "execute_result"
    }
   ],
   "source": [
    "np.allclose(a, b)"
   ]
  },
  {
   "cell_type": "code",
   "execution_count": 11,
   "id": "049911d9-4c43-4c7f-a703-23522fb7538c",
   "metadata": {},
   "outputs": [
    {
     "data": {
      "text/plain": [
       "np.True_"
      ]
     },
     "execution_count": 11,
     "metadata": {},
     "output_type": "execute_result"
    }
   ],
   "source": [
    "(a == b).all().all()"
   ]
  },
  {
   "cell_type": "markdown",
   "id": "dbc813ae-f054-42ef-8af9-52399356e544",
   "metadata": {},
   "source": [
    "### Calulate the mean and standard deviation of returns by ticker for the MATANA (MSFT, AAPL, TSLA, AMZN, NVDA, and GOOG) stocks"
   ]
  },
  {
   "cell_type": "markdown",
   "id": "bee430a8-9f9f-4993-abc5-42c6e025f037",
   "metadata": {},
   "source": [
    "Consider only dates with complete returns data.\n",
    "Try this calculation with wide and long data frames, and confirm your results are the same."
   ]
  },
  {
   "cell_type": "code",
   "execution_count": 12,
   "id": "596ded4c-7924-4bc7-96c9-233dde1dee56",
   "metadata": {},
   "outputs": [
    {
     "name": "stderr",
     "output_type": "stream",
     "text": [
      "\r",
      "[**********************83%***************        ]  5 of 6 completed"
     ]
    },
    {
     "name": "stderr",
     "output_type": "stream",
     "text": [
      "\r",
      "[*********************100%***********************]  6 of 6 completed"
     ]
    },
    {
     "name": "stderr",
     "output_type": "stream",
     "text": [
      "\n"
     ]
    }
   ],
   "source": [
    "matana = (\n",
    "    yf.download(\n",
    "        tickers='MSFT AAPL TSLA AMZN NVDA GOOG',\n",
    "        auto_adjust=False,\n",
    "        progress=False\n",
    "    )\n",
    "    .iloc[:-1]\n",
    ")"
   ]
  },
  {
   "cell_type": "code",
   "execution_count": 13,
   "id": "665cc995-047a-4d4b-b7ef-1aee574b2570",
   "metadata": {},
   "outputs": [],
   "source": [
    "columns = pd.MultiIndex.from_product([['Return'], matana['Adj Close'].columns])\n",
    "matana[columns] = matana['Adj Close'].pct_change()"
   ]
  },
  {
   "cell_type": "code",
   "execution_count": 14,
   "id": "27c7b5a6-0b43-415a-b9ac-e9e42138ad0a",
   "metadata": {},
   "outputs": [
    {
     "data": {
      "text/html": [
       "<div>\n",
       "<style scoped>\n",
       "    .dataframe tbody tr th:only-of-type {\n",
       "        vertical-align: middle;\n",
       "    }\n",
       "\n",
       "    .dataframe tbody tr th {\n",
       "        vertical-align: top;\n",
       "    }\n",
       "\n",
       "    .dataframe thead th {\n",
       "        text-align: right;\n",
       "    }\n",
       "</style>\n",
       "<table border=\"1\" class=\"dataframe\">\n",
       "  <thead>\n",
       "    <tr style=\"text-align: right;\">\n",
       "      <th>Ticker</th>\n",
       "      <th>AAPL</th>\n",
       "      <th>AMZN</th>\n",
       "      <th>GOOG</th>\n",
       "      <th>MSFT</th>\n",
       "      <th>NVDA</th>\n",
       "      <th>TSLA</th>\n",
       "    </tr>\n",
       "  </thead>\n",
       "  <tbody>\n",
       "    <tr>\n",
       "      <th>mean</th>\n",
       "      <td>0.0011</td>\n",
       "      <td>0.0012</td>\n",
       "      <td>0.0009</td>\n",
       "      <td>0.0010</td>\n",
       "      <td>0.0021</td>\n",
       "      <td>0.0021</td>\n",
       "    </tr>\n",
       "    <tr>\n",
       "      <th>std</th>\n",
       "      <td>0.0175</td>\n",
       "      <td>0.0205</td>\n",
       "      <td>0.0173</td>\n",
       "      <td>0.0162</td>\n",
       "      <td>0.0288</td>\n",
       "      <td>0.0361</td>\n",
       "    </tr>\n",
       "  </tbody>\n",
       "</table>\n",
       "</div>"
      ],
      "text/plain": [
       "Ticker   AAPL   AMZN   GOOG   MSFT   NVDA   TSLA\n",
       "mean   0.0011 0.0012 0.0009 0.0010 0.0021 0.0021\n",
       "std    0.0175 0.0205 0.0173 0.0162 0.0288 0.0361"
      ]
     },
     "execution_count": 14,
     "metadata": {},
     "output_type": "execute_result"
    }
   ],
   "source": [
    "matana['Return'].dropna().agg(['mean', 'std'])"
   ]
  },
  {
   "cell_type": "code",
   "execution_count": 15,
   "id": "528db13a-63d5-41d8-bcc3-e58bc2347350",
   "metadata": {},
   "outputs": [
    {
     "data": {
      "text/html": [
       "<div>\n",
       "<style scoped>\n",
       "    .dataframe tbody tr th:only-of-type {\n",
       "        vertical-align: middle;\n",
       "    }\n",
       "\n",
       "    .dataframe tbody tr th {\n",
       "        vertical-align: top;\n",
       "    }\n",
       "\n",
       "    .dataframe thead th {\n",
       "        text-align: right;\n",
       "    }\n",
       "</style>\n",
       "<table border=\"1\" class=\"dataframe\">\n",
       "  <thead>\n",
       "    <tr style=\"text-align: right;\">\n",
       "      <th>Ticker</th>\n",
       "      <th>AAPL</th>\n",
       "      <th>AMZN</th>\n",
       "      <th>GOOG</th>\n",
       "      <th>MSFT</th>\n",
       "      <th>NVDA</th>\n",
       "      <th>TSLA</th>\n",
       "    </tr>\n",
       "  </thead>\n",
       "  <tbody>\n",
       "    <tr>\n",
       "      <th>&lt;lambda&gt;</th>\n",
       "      <td>0.2720</td>\n",
       "      <td>0.3105</td>\n",
       "      <td>0.2299</td>\n",
       "      <td>0.2485</td>\n",
       "      <td>0.5365</td>\n",
       "      <td>0.5289</td>\n",
       "    </tr>\n",
       "    <tr>\n",
       "      <th>&lt;lambda&gt;</th>\n",
       "      <td>0.2775</td>\n",
       "      <td>0.3258</td>\n",
       "      <td>0.2739</td>\n",
       "      <td>0.2564</td>\n",
       "      <td>0.4571</td>\n",
       "      <td>0.5738</td>\n",
       "    </tr>\n",
       "  </tbody>\n",
       "</table>\n",
       "</div>"
      ],
      "text/plain": [
       "Ticker     AAPL   AMZN   GOOG   MSFT   NVDA   TSLA\n",
       "<lambda> 0.2720 0.3105 0.2299 0.2485 0.5365 0.5289\n",
       "<lambda> 0.2775 0.3258 0.2739 0.2564 0.4571 0.5738"
      ]
     },
     "execution_count": 15,
     "metadata": {},
     "output_type": "execute_result"
    }
   ],
   "source": [
    "matana['Return'].dropna().agg([lambda x: 252 * x.mean(), lambda x: np.sqrt(252) * x.std()])"
   ]
  },
  {
   "cell_type": "markdown",
   "id": "6a98e0ba-03a9-4ecc-9adf-6aefb5c3a55d",
   "metadata": {},
   "source": [
    "### Calculate the mean and standard deviation of returns and the maximum of closing prices by ticker for the MATANA stocks"
   ]
  },
  {
   "cell_type": "markdown",
   "id": "6038bd49-9fea-415d-8ec0-ece18a9a152e",
   "metadata": {},
   "source": [
    "### Calculate monthly means and volatilities for SPY and GOOG returns"
   ]
  },
  {
   "cell_type": "markdown",
   "id": "b1ba36ef-e562-4ea6-9b26-ee9544d51164",
   "metadata": {},
   "source": [
    "### Plot the monthly means and volatilities from the previous exercise"
   ]
  },
  {
   "cell_type": "markdown",
   "id": "f8f54ffb-d9ef-4d72-a37c-7775e1e435cb",
   "metadata": {},
   "source": [
    "### Assign the Dow Jones stocks to five portfolios based on the *preceding* month's volatility"
   ]
  },
  {
   "cell_type": "markdown",
   "id": "8ff6ea59-b219-4fb7-bcd3-c9dc7dfff04c",
   "metadata": {},
   "source": [
    "### Plot the time-series volatilities of these five portfolios"
   ]
  },
  {
   "cell_type": "markdown",
   "id": "02e6c4ca-386b-43cf-9f2e-cac5b52e6a10",
   "metadata": {},
   "source": [
    "### Calculate the *mean* monthly correlation between the Dow Jones stocks"
   ]
  },
  {
   "cell_type": "markdown",
   "id": "c0727db7-d7f6-4a0e-824f-c83966be9300",
   "metadata": {},
   "source": [
    "### Is market volatility higher during wars?"
   ]
  },
  {
   "cell_type": "markdown",
   "id": "79ff000c-beeb-44d8-a4a6-05c6e8f8b235",
   "metadata": {},
   "source": [
    "Here is some guidance:\n",
    "\n",
    "1. Download the daily factor data from Ken French's website\n",
    "1. Calculate daily market returns by summing the market risk premium and risk-free rates (`Mkt-RF` and `RF`, respectively)\n",
    "1. Calculate the volatility (standard deviation) of daily returns *every month* by combining `pd.Grouper()` and `.groupby()`)\n",
    "1. Multiply by $\\sqrt{252}$ to annualize these volatilities of daily returns\n",
    "1. Plot these annualized volatilities\n",
    "\n",
    "Is market volatility higher during wars?\n",
    "Consider the following dates:\n",
    "\n",
    "1. WWII: December 1941 to September 1945\n",
    "1. Korean War: 1950 to 1953\n",
    "1. Viet Nam War: 1959 to 1975\n",
    "1. Gulf War: 1990 to 1991\n",
    "1. War in Afghanistan: 2001 to 2021"
   ]
  }
 ],
 "metadata": {
  "author": "Richard Herron",
  "kernelspec": {
   "display_name": "Python 3 (ipykernel)",
   "language": "python",
   "name": "python3"
  },
  "language_info": {
   "codemirror_mode": {
    "name": "ipython",
    "version": 3
   },
   "file_extension": ".py",
   "mimetype": "text/x-python",
   "name": "python",
   "nbconvert_exporter": "python",
   "pygments_lexer": "ipython3",
   "version": "3.13.1"
  },
  "title": "McKinney Chapter 10 - Practice"
 },
 "nbformat": 4,
 "nbformat_minor": 5
}
