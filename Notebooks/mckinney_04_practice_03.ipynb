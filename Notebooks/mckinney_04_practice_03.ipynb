{
 "cells": [
  {
   "cell_type": "markdown",
   "id": "dd06e180-4b25-481d-86df-1dc7ef1982c2",
   "metadata": {},
   "source": [
    "# McKinney Chapter 4 - Practice - Sec 03"
   ]
  },
  {
   "cell_type": "code",
   "execution_count": 1,
   "id": "fdb4fcba-377a-44d8-8e61-e1776e85e576",
   "metadata": {},
   "outputs": [],
   "source": [
    "import numpy as np"
   ]
  },
  {
   "cell_type": "code",
   "execution_count": 2,
   "id": "75108745-b205-4f3c-be46-9eb72e00abcb",
   "metadata": {
    "editable": true,
    "slideshow": {
     "slide_type": ""
    },
    "tags": []
   },
   "outputs": [
    {
     "data": {
      "text/plain": [
       "'%.4f'"
      ]
     },
     "execution_count": 2,
     "metadata": {},
     "output_type": "execute_result"
    }
   ],
   "source": [
    "%precision 4"
   ]
  },
  {
   "cell_type": "markdown",
   "id": "7f3fc1cd-437b-46ba-835f-e11cdec6bb90",
   "metadata": {},
   "source": [
    "## Announcements"
   ]
  },
  {
   "cell_type": "markdown",
   "id": "4c18b5d0-9710-4152-b5c9-0256850a5b23",
   "metadata": {},
   "source": [
    "1. Keep signing up for project teams on [Canvas > People > Projects](https://northeastern.instructure.com/courses/207607/groups#tab-55294)\n",
    "2. Claim a team, then ask to increase its limit if you want more than four teammates\n",
    "3. Keep adding and voting for [students choice topics](https://northeastern.instructure.com/courses/207607/discussion_topics/2622636)"
   ]
  },
  {
   "cell_type": "markdown",
   "id": "096f3c1f-16b5-4f18-8ab5-5e8bb068bf68",
   "metadata": {},
   "source": [
    "## Five-Minute Review"
   ]
  },
  {
   "cell_type": "markdown",
   "id": "448c9d8c-d842-49a6-a04c-46ca2ec7da8c",
   "metadata": {},
   "source": [
    "NumPy is the foundation of scientific computing in Python!\n",
    "NumPy is also the foundation of pandas, so all these tools in this notebook are relevant to pandas, too!"
   ]
  },
  {
   "cell_type": "markdown",
   "id": "62025d6d-f3fa-4d90-b3bd-211efdef9715",
   "metadata": {},
   "source": [
    "Here are some random data for us to quickly review NumPy with.\n",
    "The `np.random.seed()` function makes our random number draws repeatable."
   ]
  },
  {
   "cell_type": "code",
   "execution_count": 3,
   "id": "41d93542-0733-4f74-9839-84cad5cbfa5e",
   "metadata": {},
   "outputs": [
    {
     "data": {
      "text/plain": [
       "array([[ 0.4967, -0.1383,  0.6477,  1.523 , -0.2342],\n",
       "       [-0.2341,  1.5792,  0.7674, -0.4695,  0.5426],\n",
       "       [-0.4634, -0.4657,  0.242 , -1.9133, -1.7249]])"
      ]
     },
     "execution_count": 3,
     "metadata": {},
     "output_type": "execute_result"
    }
   ],
   "source": [
    "np.random.seed(42)\n",
    "my_arr = np.random.randn(3, 5)\n",
    "my_arr"
   ]
  },
  {
   "cell_type": "markdown",
   "id": "567776b5-34b5-430b-b760-db5a58a49437",
   "metadata": {},
   "source": [
    "Slicing works the same as with lists and tuples.\n",
    "As well, we can replace chained slices, like `[i][j][k]`, with a Matlab notation, like `[i. j. k]`"
   ]
  },
  {
   "cell_type": "code",
   "execution_count": 4,
   "id": "d6610070-b65e-431e-a3b9-6494f18935fe",
   "metadata": {},
   "outputs": [
    {
     "data": {
      "text/plain": [
       "-1.7249"
      ]
     },
     "execution_count": 4,
     "metadata": {},
     "output_type": "execute_result"
    }
   ],
   "source": [
    "my_arr[2][4]"
   ]
  },
  {
   "cell_type": "code",
   "execution_count": 5,
   "id": "05e76a14-5d07-4a8a-a6e1-818964fef627",
   "metadata": {},
   "outputs": [
    {
     "data": {
      "text/plain": [
       "-1.7249"
      ]
     },
     "execution_count": 5,
     "metadata": {},
     "output_type": "execute_result"
    }
   ],
   "source": [
    "my_arr[2, 4]"
   ]
  },
  {
   "cell_type": "markdown",
   "id": "258e4456-a4e6-4de7-a000-48a5bb41d872",
   "metadata": {},
   "source": [
    "What if we want the *first two rows?*"
   ]
  },
  {
   "cell_type": "code",
   "execution_count": 6,
   "id": "4f350907-1928-4698-85bb-4ae76c521b7e",
   "metadata": {},
   "outputs": [
    {
     "data": {
      "text/plain": [
       "array([[ 0.4967, -0.1383,  0.6477,  1.523 , -0.2342],\n",
       "       [-0.2341,  1.5792,  0.7674, -0.4695,  0.5426]])"
      ]
     },
     "execution_count": 6,
     "metadata": {},
     "output_type": "execute_result"
    }
   ],
   "source": [
    "my_arr[:2]"
   ]
  },
  {
   "cell_type": "markdown",
   "id": "e6e175ff-7d20-459f-8bd7-c6b77a025ee2",
   "metadata": {},
   "source": [
    "What if we want the *first two columns?*"
   ]
  },
  {
   "cell_type": "code",
   "execution_count": 7,
   "id": "af2811db-1ba2-48fc-b0d2-5a97508a1cad",
   "metadata": {},
   "outputs": [
    {
     "data": {
      "text/plain": [
       "array([[ 0.4967, -0.1383],\n",
       "       [-0.2341,  1.5792],\n",
       "       [-0.4634, -0.4657]])"
      ]
     },
     "execution_count": 7,
     "metadata": {},
     "output_type": "execute_result"
    }
   ],
   "source": [
    "my_arr[:, :2]"
   ]
  },
  {
   "cell_type": "markdown",
   "id": "c1667c68-d3a3-472b-8628-2b2c0b05fa15",
   "metadata": {},
   "source": [
    "What about linear algebra in NumPy?"
   ]
  },
  {
   "cell_type": "code",
   "execution_count": 8,
   "id": "9d0cf93b-edf8-4ccc-9b5d-0120acec6279",
   "metadata": {},
   "outputs": [
    {
     "data": {
      "text/plain": [
       "array([[1, 2, 3],\n",
       "       [4, 5, 6]])"
      ]
     },
     "execution_count": 8,
     "metadata": {},
     "output_type": "execute_result"
    }
   ],
   "source": [
    "A = np.array([[1, 2, 3], [4, 5, 6]])\n",
    "A"
   ]
  },
  {
   "cell_type": "code",
   "execution_count": 9,
   "id": "05c737d4-fac0-487b-b50b-d008ad31c62b",
   "metadata": {},
   "outputs": [
    {
     "data": {
      "text/plain": [
       "array([[1, 2, 3],\n",
       "       [4, 5, 6]])"
      ]
     },
     "execution_count": 9,
     "metadata": {},
     "output_type": "execute_result"
    }
   ],
   "source": [
    "B = np.array([[1, 2, 3], [4, 5, 6]])\n",
    "B"
   ]
  },
  {
   "cell_type": "markdown",
   "id": "1a4f7fb9-94ca-4740-9f28-8de4279ad73d",
   "metadata": {},
   "source": [
    "We can use the `.dot()` method to chain matrix multiplication."
   ]
  },
  {
   "cell_type": "code",
   "execution_count": 10,
   "id": "bc2182d5-9d4a-47fb-9372-34453b195ea8",
   "metadata": {},
   "outputs": [
    {
     "data": {
      "text/plain": [
       "array([[14, 32],\n",
       "       [32, 77]])"
      ]
     },
     "execution_count": 10,
     "metadata": {},
     "output_type": "execute_result"
    }
   ],
   "source": [
    "A.dot(B.T)"
   ]
  },
  {
   "cell_type": "markdown",
   "id": "b3b5f782-0eb0-47ba-998b-4e27dc05d8b4",
   "metadata": {},
   "source": [
    "The `@` operator is matrix multiplication with NumPy arrays."
   ]
  },
  {
   "cell_type": "code",
   "execution_count": 11,
   "id": "cb9dbd70-c288-448a-a9b7-5f6a8a959969",
   "metadata": {},
   "outputs": [
    {
     "data": {
      "text/plain": [
       "array([[14, 32],\n",
       "       [32, 77]])"
      ]
     },
     "execution_count": 11,
     "metadata": {},
     "output_type": "execute_result"
    }
   ],
   "source": [
    "A @ B.T"
   ]
  },
  {
   "cell_type": "markdown",
   "id": "4ef591ab-18e3-4031-85c7-6941c39d6415",
   "metadata": {},
   "source": [
    "The `*` symbol is *elementwise* multiplication."
   ]
  },
  {
   "cell_type": "code",
   "execution_count": 12,
   "id": "0ac93445-431a-4c07-8fe5-91ba4cd027fc",
   "metadata": {},
   "outputs": [
    {
     "data": {
      "text/plain": [
       "array([[ 1,  4,  9],\n",
       "       [16, 25, 36]])"
      ]
     },
     "execution_count": 12,
     "metadata": {},
     "output_type": "execute_result"
    }
   ],
   "source": [
    "A * B"
   ]
  },
  {
   "cell_type": "markdown",
   "id": "7c6009f3-e888-46a8-b530-9697f17bbec1",
   "metadata": {},
   "source": [
    "There is *another* way, too!\n",
    "The `np.matmul()` function is similar to the `.dot()` method!"
   ]
  },
  {
   "cell_type": "code",
   "execution_count": 13,
   "id": "16713163-9037-415e-905c-a5bba6175e79",
   "metadata": {},
   "outputs": [
    {
     "data": {
      "text/plain": [
       "array([[14, 32],\n",
       "       [32, 77]])"
      ]
     },
     "execution_count": 13,
     "metadata": {},
     "output_type": "execute_result"
    }
   ],
   "source": [
    "np.matmul(A, B.T)"
   ]
  },
  {
   "cell_type": "markdown",
   "id": "3ba54d3f-58e2-41df-9a20-5e455e85af05",
   "metadata": {},
   "source": [
    "The `np.where()` and `np.select()` functions are the NumPy equivalents of Excel's `if()`."
   ]
  },
  {
   "cell_type": "markdown",
   "id": "e1156ef2-aced-4e0a-8c70-f5b120b1b676",
   "metadata": {},
   "source": [
    "Say we want to replace values in `my_arr` greater than 0.5 with 0.5."
   ]
  },
  {
   "cell_type": "code",
   "execution_count": 14,
   "id": "c33a6f19-b429-4e70-a723-4b1637d3b43a",
   "metadata": {},
   "outputs": [
    {
     "data": {
      "text/plain": [
       "array([[ 0.4967, -0.1383,  0.6477,  1.523 , -0.2342],\n",
       "       [-0.2341,  1.5792,  0.7674, -0.4695,  0.5426],\n",
       "       [-0.4634, -0.4657,  0.242 , -1.9133, -1.7249]])"
      ]
     },
     "execution_count": 14,
     "metadata": {},
     "output_type": "execute_result"
    }
   ],
   "source": [
    "my_arr"
   ]
  },
  {
   "cell_type": "code",
   "execution_count": 15,
   "id": "6e129748-15a3-4499-b6b1-4c79ff7224d4",
   "metadata": {},
   "outputs": [
    {
     "data": {
      "text/plain": [
       "array([[ 0.4967, -0.1383,  0.5   ,  0.5   , -0.2342],\n",
       "       [-0.2341,  0.5   ,  0.5   , -0.4695,  0.5   ],\n",
       "       [-0.4634, -0.4657,  0.242 , -1.9133, -1.7249]])"
      ]
     },
     "execution_count": 15,
     "metadata": {},
     "output_type": "execute_result"
    }
   ],
   "source": [
    "np.where(my_arr>0.5, 0.5, my_arr)"
   ]
  },
  {
   "cell_type": "markdown",
   "id": "2faaff6f-af7c-46cd-9db5-89e261ca3d39",
   "metadata": {},
   "source": [
    "Or, we could use `np.minimum()` instead."
   ]
  },
  {
   "cell_type": "code",
   "execution_count": 16,
   "id": "7f8b5019-63fc-438a-b661-ba6a7e7f7172",
   "metadata": {},
   "outputs": [
    {
     "data": {
      "text/plain": [
       "array([[ 0.4967, -0.1383,  0.5   ,  0.5   , -0.2342],\n",
       "       [-0.2341,  0.5   ,  0.5   , -0.4695,  0.5   ],\n",
       "       [-0.4634, -0.4657,  0.242 , -1.9133, -1.7249]])"
      ]
     },
     "execution_count": 16,
     "metadata": {},
     "output_type": "execute_result"
    }
   ],
   "source": [
    "np.minimum(0.5, my_arr)"
   ]
  },
  {
   "cell_type": "markdown",
   "id": "fc7348c0-3752-4db7-a283-8cabf3b38bbb",
   "metadata": {},
   "source": [
    "Now, say we want to replace values in `my_arr` greater than 0 with 0 and greater than 0.5 with 0.5."
   ]
  },
  {
   "cell_type": "code",
   "execution_count": 17,
   "id": "3bfcc4c3-8344-43bf-ae1b-c538948f14e8",
   "metadata": {},
   "outputs": [
    {
     "data": {
      "text/plain": [
       "array([[ 0.    , -0.1383,  0.5   ,  0.5   , -0.2342],\n",
       "       [-0.2341,  0.5   ,  0.5   , -0.4695,  0.5   ],\n",
       "       [-0.4634, -0.4657,  0.    , -1.9133, -1.7249]])"
      ]
     },
     "execution_count": 17,
     "metadata": {},
     "output_type": "execute_result"
    }
   ],
   "source": [
    "np.where(\n",
    "    my_arr>0.5, # first condition is most restrictive\n",
    "    0.5, # if first condition True\n",
    "    np.where( # otherwise\n",
    "        my_arr>0, # second condition is less restrictive\n",
    "        0, # if second condition True\n",
    "        my_arr # otherwise\n",
    "    )\n",
    ")"
   ]
  },
  {
   "cell_type": "markdown",
   "id": "9d4c999b-7abd-4e51-ac3a-64a167bf72dd",
   "metadata": {},
   "source": [
    "We have a better way to test more than one condition!\n",
    "`np.select()`!"
   ]
  },
  {
   "cell_type": "code",
   "execution_count": 18,
   "id": "fe3ec693-fdf3-4c60-854a-1f43677d4b6f",
   "metadata": {},
   "outputs": [
    {
     "data": {
      "text/plain": [
       "array([[ 0.    , -0.1383,  0.5   ,  0.5   , -0.2342],\n",
       "       [-0.2341,  0.5   ,  0.5   , -0.4695,  0.5   ],\n",
       "       [-0.4634, -0.4657,  0.    , -1.9133, -1.7249]])"
      ]
     },
     "execution_count": 18,
     "metadata": {},
     "output_type": "execute_result"
    }
   ],
   "source": [
    "np.select(\n",
    "    condlist=[my_arr>0.5, my_arr>0],\n",
    "    choicelist=[0.5, 0],\n",
    "    default=my_arr\n",
    ")"
   ]
  },
  {
   "cell_type": "markdown",
   "id": "e74f334a-49b9-4dc3-a2ee-d87a514b1ee5",
   "metadata": {
    "editable": true,
    "slideshow": {
     "slide_type": ""
    },
    "tags": []
   },
   "source": [
    "## Practice"
   ]
  },
  {
   "cell_type": "markdown",
   "id": "bd998b0b-6cb1-45c7-adec-48bb1fc62f9f",
   "metadata": {
    "tags": []
   },
   "source": [
    "### Create a 1-dimensional array `a1` that counts from 0 to 24 by 1."
   ]
  },
  {
   "cell_type": "code",
   "execution_count": 19,
   "id": "05addc26-212d-42e7-ace1-7f7e4cef4c2d",
   "metadata": {},
   "outputs": [
    {
     "data": {
      "text/plain": [
       "array([ 0,  1,  2,  3,  4,  5,  6,  7,  8,  9, 10, 11, 12, 13, 14, 15, 16,\n",
       "       17, 18, 19, 20, 21, 22, 23, 24])"
      ]
     },
     "execution_count": 19,
     "metadata": {},
     "output_type": "execute_result"
    }
   ],
   "source": [
    "np.array(range(25))"
   ]
  },
  {
   "cell_type": "code",
   "execution_count": 20,
   "id": "d7498b03-61ff-4e50-af94-54f3af0884bb",
   "metadata": {},
   "outputs": [
    {
     "data": {
      "text/plain": [
       "array([ 0,  1,  2,  3,  4,  5,  6,  7,  8,  9, 10, 11, 12, 13, 14, 15, 16,\n",
       "       17, 18, 19, 20, 21, 22, 23, 24])"
      ]
     },
     "execution_count": 20,
     "metadata": {},
     "output_type": "execute_result"
    }
   ],
   "source": [
    "a1 = np.arange(25)\n",
    "a1"
   ]
  },
  {
   "cell_type": "markdown",
   "id": "2bf711fc-5690-42ed-bfa8-5788b2af1320",
   "metadata": {},
   "source": [
    "### Create a 1-dimentional array `a2` that counts from 0 to 24 by 3."
   ]
  },
  {
   "cell_type": "code",
   "execution_count": 21,
   "id": "9fe7e8ce-bf54-4697-a700-af722511e36c",
   "metadata": {},
   "outputs": [
    {
     "data": {
      "text/plain": [
       "array([ 0,  3,  6,  9, 12, 15, 18, 21, 24])"
      ]
     },
     "execution_count": 21,
     "metadata": {},
     "output_type": "execute_result"
    }
   ],
   "source": [
    "a2 = np.arange(0, 25, 3)\n",
    "a2"
   ]
  },
  {
   "cell_type": "markdown",
   "id": "ca4c0603-53bc-41e4-8be4-234b5d223033",
   "metadata": {},
   "source": [
    "### Create a 1-dimentional array `a3` that counts from 0 to 100 by multiples of 3 or 5."
   ]
  },
  {
   "cell_type": "code",
   "execution_count": 22,
   "id": "92e2eb54-11a6-434d-91e7-31e9b4609e80",
   "metadata": {},
   "outputs": [
    {
     "data": {
      "text/plain": [
       "array([  0,   3,   5,   6,   9,  10,  12,  15,  18,  20,  21,  24,  25,\n",
       "        27,  30,  33,  35,  36,  39,  40,  42,  45,  48,  50,  51,  54,\n",
       "        55,  57,  60,  63,  65,  66,  69,  70,  72,  75,  78,  80,  81,\n",
       "        84,  85,  87,  90,  93,  95,  96,  99, 100])"
      ]
     },
     "execution_count": 22,
     "metadata": {},
     "output_type": "execute_result"
    }
   ],
   "source": [
    "a3 = np.array([i for i in range(101) if (i%3==0) | (i%5==0)])\n",
    "a3"
   ]
  },
  {
   "cell_type": "code",
   "execution_count": 23,
   "id": "af435ddf-7f30-4cf9-a0ba-51f9dc230da3",
   "metadata": {},
   "outputs": [
    {
     "data": {
      "text/plain": [
       "array([  0,   3,   5,   6,   9,  10,  12,  15,  18,  20,  21,  24,  25,\n",
       "        27,  30,  33,  35,  36,  39,  40,  42,  45,  48,  50,  51,  54,\n",
       "        55,  57,  60,  63,  65,  66,  69,  70,  72,  75,  78,  80,  81,\n",
       "        84,  85,  87,  90,  93,  95,  96,  99, 100])"
      ]
     },
     "execution_count": 23,
     "metadata": {},
     "output_type": "execute_result"
    }
   ],
   "source": [
    "zero_to_100 = np.arange(101)\n",
    "a3_alt = zero_to_100[(zero_to_100 % 3 == 0) | (zero_to_100 % 5 == 0)]\n",
    "a3_alt"
   ]
  },
  {
   "cell_type": "code",
   "execution_count": 24,
   "id": "4668b197-83a1-4526-89ff-d61ca2fa82f2",
   "metadata": {},
   "outputs": [
    {
     "data": {
      "text/plain": [
       "np.True_"
      ]
     },
     "execution_count": 24,
     "metadata": {},
     "output_type": "execute_result"
    }
   ],
   "source": [
    "(a3 == a3_alt).all()"
   ]
  },
  {
   "cell_type": "code",
   "execution_count": 25,
   "id": "04527fd5-b4f3-426e-a881-2f0997820e70",
   "metadata": {},
   "outputs": [
    {
     "data": {
      "text/plain": [
       "True"
      ]
     },
     "execution_count": 25,
     "metadata": {},
     "output_type": "execute_result"
    }
   ],
   "source": [
    "np.allclose(a3, a3_alt)"
   ]
  },
  {
   "cell_type": "markdown",
   "id": "5d8094be-53ca-4fce-a493-e8ba05051e9a",
   "metadata": {},
   "source": [
    "### Create a 1-dimensional array `a4` that contains the squares of the even integers through 100,000."
   ]
  },
  {
   "cell_type": "code",
   "execution_count": 26,
   "id": "8e2cd36b-d3cf-4a26-bdb0-ba1dd5bea53e",
   "metadata": {},
   "outputs": [
    {
     "name": "stdout",
     "output_type": "stream",
     "text": [
      "43.3 μs ± 10.3 μs per loop (mean ± std. dev. of 7 runs, 10,000 loops each)\n"
     ]
    },
    {
     "data": {
      "text/plain": [
       "array([          0,           4,          16, ...,  9999200016,\n",
       "        9999600004, 10000000000], shape=(50001,))"
      ]
     },
     "execution_count": 26,
     "metadata": {},
     "output_type": "execute_result"
    }
   ],
   "source": [
    "%timeit np.arange(0, 100_001, 2) ** 2\n",
    "a4 = np.arange(0, 100_001, 2) ** 2\n",
    "a4"
   ]
  },
  {
   "cell_type": "code",
   "execution_count": 27,
   "id": "c9ad4aca-e067-4b40-84c0-2227754fe52f",
   "metadata": {},
   "outputs": [
    {
     "name": "stdout",
     "output_type": "stream",
     "text": [
      "29.5 ms ± 2.69 ms per loop (mean ± std. dev. of 7 runs, 100 loops each)\n"
     ]
    },
    {
     "data": {
      "text/plain": [
       "array([          0,           4,          16, ...,  9999200016,\n",
       "        9999600004, 10000000000], shape=(50001,))"
      ]
     },
     "execution_count": 27,
     "metadata": {},
     "output_type": "execute_result"
    }
   ],
   "source": [
    "%timeit a4_alt = np.array([i**2 for i in range(100_001) if i%2==0])\n",
    "a4_alt = np.array([i**2 for i in range(100_001) if i%2==0])\n",
    "a4_alt"
   ]
  },
  {
   "cell_type": "code",
   "execution_count": 28,
   "id": "3f5f04c7-33f2-46e9-8a20-38b226e5e257",
   "metadata": {},
   "outputs": [
    {
     "data": {
      "text/plain": [
       "np.True_"
      ]
     },
     "execution_count": 28,
     "metadata": {},
     "output_type": "execute_result"
    }
   ],
   "source": [
    "(a4 == a4_alt).all()"
   ]
  },
  {
   "cell_type": "code",
   "execution_count": 29,
   "id": "5c9ca058-6ec1-4cbd-98e6-35165cafa1de",
   "metadata": {},
   "outputs": [
    {
     "data": {
      "text/plain": [
       "True"
      ]
     },
     "execution_count": 29,
     "metadata": {},
     "output_type": "execute_result"
    }
   ],
   "source": [
    "np.allclose(a4, a4_alt*1.0000001)"
   ]
  },
  {
   "cell_type": "markdown",
   "id": "daa77654-df00-4f92-8b4e-158b62e27c0e",
   "metadata": {},
   "source": [
    "### Write a function `calc_pv()` that mimic Excel's `PV` function."
   ]
  },
  {
   "cell_type": "markdown",
   "id": "9bda9989-f237-4b61-be05-1c52d955ddad",
   "metadata": {},
   "source": [
    "Excel's present value function is:\n",
    "`=PV(rate, nper, pmt, [fv], [type])`\n",
    "\n",
    "The present value of an annuity payment is:\n",
    "$PV_{pmt} = \\frac{pmt}{rate} \\times \\left(1 - \\frac{1}{(1+rate)^{nper}} \\right)$\n",
    "\n",
    "The present value of a lump sum is:\n",
    "$PV_{fv} = \\frac{fv}{(1+rate)^{nper}}$"
   ]
  },
  {
   "cell_type": "code",
   "execution_count": 30,
   "id": "ef39caa5-8235-4e65-ab30-37294dc5d51c",
   "metadata": {},
   "outputs": [],
   "source": [
    "def calc_pv(rate, nper, pmt=None, fv=None, type=0):\n",
    "    # or we could set the pmt and fv defaults to 0\n",
    "    if pmt is None:\n",
    "        pmt = 0\n",
    "    if fv is None:\n",
    "        fv = 0\n",
    "    if type not in [0, 1]:\n",
    "        raise ValueError(f'type must be 0 or 1; you provided {type}')\n",
    "\n",
    "    pv_pmt = (pmt / rate) * (1 - (1 + rate)**(-nper))\n",
    "    pv_fv = fv * (1 + rate)**(-nper)\n",
    "    pv = pv_pmt + pv_fv\n",
    "    \n",
    "    if type == 1:\n",
    "        pv *= 1 + rate\n",
    "\n",
    "    return -pv"
   ]
  },
  {
   "cell_type": "code",
   "execution_count": 31,
   "id": "3d9bb38a-747f-4523-ba4b-7a4f8d9088f5",
   "metadata": {},
   "outputs": [
    {
     "data": {
      "text/plain": [
       "-100.0000"
      ]
     },
     "execution_count": 31,
     "metadata": {},
     "output_type": "execute_result"
    }
   ],
   "source": [
    "calc_pv(rate=0.1, nper=10, pmt=10, fv=100)"
   ]
  },
  {
   "cell_type": "code",
   "execution_count": 32,
   "id": "e286e1a1-ba5e-4f02-bf77-eda681129942",
   "metadata": {},
   "outputs": [
    {
     "data": {
      "text/plain": [
       "-110.0000"
      ]
     },
     "execution_count": 32,
     "metadata": {},
     "output_type": "execute_result"
    }
   ],
   "source": [
    "calc_pv(rate=0.1, nper=10, pmt=10, fv=100, type=1)"
   ]
  },
  {
   "cell_type": "markdown",
   "id": "99aab945-099d-48fb-8390-71fca4b22c2e",
   "metadata": {},
   "source": [
    "### Write a function `calc_fv()` that mimic Excel's `FV` function."
   ]
  },
  {
   "cell_type": "markdown",
   "id": "456ba70e-3edd-4920-b77e-51fc7c7f4204",
   "metadata": {},
   "source": [
    "Excel's future value function is:\n",
    "`=FV(rate, nper, pmt, [pv], [type])`"
   ]
  },
  {
   "cell_type": "code",
   "execution_count": 33,
   "id": "973533ab-6dcd-4392-82ed-24c8bb4d8ed3",
   "metadata": {},
   "outputs": [],
   "source": [
    "def calc_fv(rate, nper, pmt=None, pv=None, type='END'):\n",
    "    if pmt is None:\n",
    "        pmt = 0\n",
    "    if pv is None:\n",
    "        pv = 0\n",
    "    if type not in ['BGN', 'END']:\n",
    "        raise ValueError('type must be BGN or END')\n",
    "    \n",
    "    fv_pmt = (pmt / rate) * ((1 + rate)**nper - 1)\n",
    "    fv_pv = pv * (1 + rate)**nper\n",
    "    fv = fv_pmt + fv_pv\n",
    "    \n",
    "    if type == 'BGN':\n",
    "        fv *= 1 + rate\n",
    "        \n",
    "    return -fv"
   ]
  },
  {
   "cell_type": "code",
   "execution_count": 34,
   "id": "d093c2a1-7ec0-47a4-8fff-e0f2bdf0bff6",
   "metadata": {},
   "outputs": [
    {
     "data": {
      "text/plain": [
       "100.0000"
      ]
     },
     "execution_count": 34,
     "metadata": {},
     "output_type": "execute_result"
    }
   ],
   "source": [
    "calc_fv(rate=0.1, nper=10, pmt=10, pv=-100)"
   ]
  },
  {
   "cell_type": "markdown",
   "id": "d55e2173-bec9-43ab-9f98-8d3eec704dcc",
   "metadata": {},
   "source": [
    "The rule of 72!"
   ]
  },
  {
   "cell_type": "code",
   "execution_count": 35,
   "id": "7920f382-2c07-484d-b86e-940411148771",
   "metadata": {},
   "outputs": [
    {
     "data": {
      "text/plain": [
       "200.4231"
      ]
     },
     "execution_count": 35,
     "metadata": {},
     "output_type": "execute_result"
    }
   ],
   "source": [
    "calc_fv(rate=0.072, nper=10, pmt=0, pv=-100)"
   ]
  },
  {
   "cell_type": "markdown",
   "id": "9c479549-c910-4bf6-843c-f263d81520e5",
   "metadata": {},
   "source": [
    "### Replace the negative values in `data` with -1 and positive values with +1."
   ]
  },
  {
   "cell_type": "code",
   "execution_count": 36,
   "id": "8ff5649d-fac1-40f6-bb1d-22b4ebac727e",
   "metadata": {},
   "outputs": [
    {
     "data": {
      "text/plain": [
       "array([[ 0.4967, -0.1383,  0.6477,  1.523 ],\n",
       "       [-0.2342, -0.2341,  1.5792,  0.7674],\n",
       "       [-0.4695,  0.5426, -0.4634, -0.4657],\n",
       "       [ 0.242 , -1.9133, -1.7249, -0.5623]])"
      ]
     },
     "execution_count": 36,
     "metadata": {},
     "output_type": "execute_result"
    }
   ],
   "source": [
    "np.random.seed(42)\n",
    "data = np.random.randn(4, 4)\n",
    "\n",
    "data"
   ]
  },
  {
   "cell_type": "markdown",
   "id": "ddc2ea05-c3a6-4b74-81e2-c81feb40c6db",
   "metadata": {},
   "source": [
    "We have at least three good solutions!\n",
    "\n",
    "1. Slicing and brodacsting\n",
    "2. `np.where()`\n",
    "3. `np.select()`"
   ]
  },
  {
   "cell_type": "markdown",
   "id": "4f2db2c7-c641-4b1a-a482-beb8f07e7f87",
   "metadata": {},
   "source": [
    "***First,*** here is the slicing and broadcasting solution."
   ]
  },
  {
   "cell_type": "code",
   "execution_count": 37,
   "id": "db03e5f5-9569-4bde-b94e-edf862a5eacd",
   "metadata": {},
   "outputs": [
    {
     "data": {
      "text/plain": [
       "array([[ 1., -1.,  1.,  1.],\n",
       "       [-1., -1.,  1.,  1.],\n",
       "       [-1.,  1., -1., -1.],\n",
       "       [ 1., -1., -1., -1.]])"
      ]
     },
     "execution_count": 37,
     "metadata": {},
     "output_type": "execute_result"
    }
   ],
   "source": [
    "data[data < 0] = -1\n",
    "data[data > 0] = +1\n",
    "\n",
    "data # here \"1.\" and \"-1.\" indicate that these values are floats"
   ]
  },
  {
   "cell_type": "markdown",
   "id": "71657be4-f885-461d-8845-e5f1214cefde",
   "metadata": {},
   "source": [
    "***Second,*** here is the `np.where()` solution.\n",
    "NumPy's `np.where()` function has the same logic as Excel's `if()` function!\n",
    "I will recreate `data` so we start from the same point."
   ]
  },
  {
   "cell_type": "code",
   "execution_count": 38,
   "id": "4c9123f6-2d24-4603-aa29-bdb0107da86d",
   "metadata": {},
   "outputs": [
    {
     "data": {
      "text/plain": [
       "array([[ 1., -1.,  1.,  1.],\n",
       "       [-1., -1.,  1.,  1.],\n",
       "       [-1.,  1., -1., -1.],\n",
       "       [ 1., -1., -1., -1.]])"
      ]
     },
     "execution_count": 38,
     "metadata": {},
     "output_type": "execute_result"
    }
   ],
   "source": [
    "np.random.seed(42)\n",
    "data = np.random.randn(4, 4)\n",
    "\n",
    "np.where(data < 0, -1, np.where(data > 0, +1, data))"
   ]
  },
  {
   "cell_type": "markdown",
   "id": "d5130941-5e5f-4224-a211-76703fff4104",
   "metadata": {},
   "source": [
    "The nested `np.where()` function calls can get confusing!\n",
    "An option is to insert white space!"
   ]
  },
  {
   "cell_type": "code",
   "execution_count": 39,
   "id": "c8a5f2ce-973c-47e8-9c61-dc2a5648a4d0",
   "metadata": {},
   "outputs": [
    {
     "data": {
      "text/plain": [
       "array([[ 1., -1.,  1.,  1.],\n",
       "       [-1., -1.,  1.,  1.],\n",
       "       [-1.,  1., -1., -1.],\n",
       "       [ 1., -1., -1., -1.]])"
      ]
     },
     "execution_count": 39,
     "metadata": {},
     "output_type": "execute_result"
    }
   ],
   "source": [
    "np.random.seed(42)\n",
    "data = np.random.randn(4, 4)\n",
    "\n",
    "np.where(\n",
    "    data < 0, # condition\n",
    "    -1, # result if True\n",
    "    np.where(data > 0, +1, data) # result if False\n",
    ")"
   ]
  },
  {
   "cell_type": "markdown",
   "id": "214d31a9-82a1-4642-86bd-1827922751f3",
   "metadata": {},
   "source": [
    "***Third,*** here is the `np.select()` solution.\n",
    "NumPy's `np.select()` function lets us test *many* conditions!\n",
    "I will recreate `data` so we start from the same point."
   ]
  },
  {
   "cell_type": "code",
   "execution_count": 40,
   "id": "f2b786b7-1891-428d-8f0d-2efc5edecb55",
   "metadata": {},
   "outputs": [
    {
     "data": {
      "text/plain": [
       "array([[ 1., -1.,  1.,  1.],\n",
       "       [-1., -1.,  1.,  1.],\n",
       "       [-1.,  1., -1., -1.],\n",
       "       [ 1., -1., -1., -1.]])"
      ]
     },
     "execution_count": 40,
     "metadata": {},
     "output_type": "execute_result"
    }
   ],
   "source": [
    "np.random.seed(42)\n",
    "data = np.random.randn(4, 4)\n",
    "\n",
    "np.select(\n",
    "    condlist=[data<0, data>0],\n",
    "    choicelist=[-1, +1],\n",
    "    default=data\n",
    ")"
   ]
  },
  {
   "cell_type": "markdown",
   "id": "784da531-3f16-4afd-b0bb-0d800c116540",
   "metadata": {},
   "source": [
    "### Write a function `calc_n()` that calculates the number of payments that generate `x`% of the present value of a perpetuity."
   ]
  },
  {
   "cell_type": "markdown",
   "id": "d275e333-9bcf-463b-a39d-9ea8a2eade3e",
   "metadata": {},
   "source": [
    "The present value of a growing perpetuity is $PV = \\frac{C_1}{r - g}$, and the present value of a growing annuity is $PV = \\frac{C_1}{r - g}\\left[ 1 - \\left( \\frac{1 + g}{1 + r} \\right)^t \\right]$."
   ]
  },
  {
   "cell_type": "markdown",
   "id": "25725476-bfff-489f-ac11-6a3742d4d4d8",
   "metadata": {},
   "source": [
    "We can use the growing annuity and perpetuity formulas to show: $x = \\left[ 1 - \\left( \\frac{1 + g}{1 + r} \\right)^t \\right]$. \n",
    "\n",
    "Then: $1 - x = \\left( \\frac{1 + g}{1 + r} \\right)^t$.\n",
    "\n",
    "Finally: $t = \\frac{\\log(1-x)}{\\log\\left(\\frac{1 + g}{1 + r}\\right)}$\n",
    "\n",
    "***We do not need to accept an argument `c1` because $C_1$ cancels out!***"
   ]
  },
  {
   "cell_type": "code",
   "execution_count": 41,
   "id": "509a5788-67d6-46b5-a7d9-e95a795b97a4",
   "metadata": {},
   "outputs": [],
   "source": [
    "def npmts(x, r, g):\n",
    "    return np.log(1-x) / np.log((1 + g) / (1 + r))"
   ]
  },
  {
   "cell_type": "code",
   "execution_count": 42,
   "id": "7464bb1c-0476-4464-942a-47ea96c10f74",
   "metadata": {},
   "outputs": [
    {
     "data": {
      "text/plain": [
       "14.9000"
      ]
     },
     "execution_count": 42,
     "metadata": {},
     "output_type": "execute_result"
    }
   ],
   "source": [
    "npmts(0.5, 0.1, 0.05)"
   ]
  },
  {
   "cell_type": "markdown",
   "id": "c350c919-5358-414c-a106-ca845a1149ff",
   "metadata": {},
   "source": [
    "### Write a function that calculates the internal rate of return of a NumPy array of cash flows."
   ]
  },
  {
   "cell_type": "markdown",
   "id": "1e76c1f8-1058-47ae-8dcb-c4bd21dc8822",
   "metadata": {},
   "source": [
    "Let us pick a set of cash flows `c` where we know the internal rate of return!\n",
    "For the following `c`, the IRR is 10%."
   ]
  },
  {
   "cell_type": "code",
   "execution_count": 43,
   "id": "50d68499-8abd-498f-9afb-e1b2a0b655a7",
   "metadata": {},
   "outputs": [],
   "source": [
    "c = np.array([-100, 110])\n",
    "r = 0.1"
   ]
  },
  {
   "attachments": {},
   "cell_type": "markdown",
   "id": "7c6cdf6c-baed-4bef-8687-44b93f9869e2",
   "metadata": {},
   "source": [
    "First we need an function to calculate net present value (NPV) from `c` and `r`!\n",
    "The `npv()` function below uses NumPy arrays to calculate NPV as:\n",
    "$$NPV = \\sum_{t=0}^T \\frac{c_t}{(1+r)^t}$$"
   ]
  },
  {
   "cell_type": "code",
   "execution_count": 44,
   "id": "7a206dd2-3640-4aff-9f58-4c320fbff2a7",
   "metadata": {},
   "outputs": [],
   "source": [
    "def calc_npv(r, c):\n",
    "    t = np.arange(len(c))\n",
    "    return np.sum(c / (1 + r)**t)"
   ]
  },
  {
   "cell_type": "code",
   "execution_count": 45,
   "id": "bdcbfb82-0301-43ce-bce8-565bd058ccb0",
   "metadata": {},
   "outputs": [
    {
     "data": {
      "text/plain": [
       "-0.0000"
      ]
     },
     "execution_count": 45,
     "metadata": {},
     "output_type": "execute_result"
    }
   ],
   "source": [
    "calc_npv(r=r, c=c)"
   ]
  },
  {
   "cell_type": "code",
   "execution_count": 46,
   "id": "58218290-690b-4f68-9e54-eedcb920b491",
   "metadata": {},
   "outputs": [],
   "source": [
    "def calc_irr(c, guess=0, step=1e-6, tol=1e-6, max_iter=1_000, verbose=False):\n",
    "    irr = guess\n",
    "    for i in range(max_iter):\n",
    "        npv = calc_npv(r=irr, c=c)\n",
    "        if abs(npv) < tol:\n",
    "            if verbose:\n",
    "                print(f'IRR: {irr:0.4f}\\nNPV: {npv:0.4f}\\nIterations: {i+1:d}')\n",
    "            return irr\n",
    "        deriv = (calc_npv(r=irr+step, c=c) - npv) / step\n",
    "        irr -= npv / deriv\n",
    "\n",
    "    raise ValueError(f'NPV did not converge to zero after {i+1:d} iterations')"
   ]
  },
  {
   "cell_type": "code",
   "execution_count": 47,
   "id": "fae316e2-ffb1-48c2-9ae5-2a01419efa6e",
   "metadata": {},
   "outputs": [
    {
     "name": "stdout",
     "output_type": "stream",
     "text": [
      "IRR: 0.1000\n",
      "NPV: 0.0000\n",
      "Iterations: 4\n"
     ]
    },
    {
     "data": {
      "text/plain": [
       "0.1000"
      ]
     },
     "execution_count": 47,
     "metadata": {},
     "output_type": "execute_result"
    }
   ],
   "source": [
    "calc_irr(c=c, verbose=True)"
   ]
  },
  {
   "cell_type": "code",
   "execution_count": 48,
   "id": "881eff8e-e621-4950-af65-da9d8f914730",
   "metadata": {},
   "outputs": [
    {
     "name": "stdout",
     "output_type": "stream",
     "text": [
      "IRR: 0.1000\n",
      "NPV: 0.0000\n",
      "Iterations: 5\n"
     ]
    },
    {
     "data": {
      "text/plain": [
       "0.1000"
      ]
     },
     "execution_count": 48,
     "metadata": {},
     "output_type": "execute_result"
    }
   ],
   "source": [
    "calc_irr(c=np.array([-100, 10, 10, 10, 10, 110]), verbose=True)"
   ]
  },
  {
   "cell_type": "code",
   "execution_count": 49,
   "id": "3f24687c-0867-49f3-a0ad-19f10294d24e",
   "metadata": {},
   "outputs": [],
   "source": [
    "# calc_irr(c=np.array([-2000, 1000, -500]))"
   ]
  },
  {
   "cell_type": "markdown",
   "id": "3bbc1ce3-1962-469e-bc58-f8c13b512961",
   "metadata": {},
   "source": [
    "### Write a function `calc_returns()` that accepts *NumPy arrays* of prices and dividends and returns a *NumPy array* of returns."
   ]
  },
  {
   "cell_type": "code",
   "execution_count": 50,
   "id": "a0cddc6d-6efd-40b5-8747-aba48243558f",
   "metadata": {},
   "outputs": [],
   "source": [
    "prices = np.array([100, 150, 100, 50, 100, 150, 100, 150])\n",
    "dividends = np.array([1, 1, 1, 1, 2, 2, 2, 2])"
   ]
  },
  {
   "cell_type": "markdown",
   "id": "d620cd20-1611-4891-937d-bd6f305e8a2a",
   "metadata": {},
   "source": [
    "We want to slice our arrays to \"lag\" or \"shift\" them!\n",
    "For example, we slice the `prices` array to calculate capital gains as follows."
   ]
  },
  {
   "cell_type": "code",
   "execution_count": 51,
   "id": "9a673a9a-020a-4957-8b21-c86399e111b6",
   "metadata": {},
   "outputs": [
    {
     "data": {
      "text/plain": [
       "array([ 50, -50, -50,  50,  50, -50,  50])"
      ]
     },
     "execution_count": 51,
     "metadata": {},
     "output_type": "execute_result"
    }
   ],
   "source": [
    "prices[1:] - prices[:-1]"
   ]
  },
  {
   "cell_type": "code",
   "execution_count": 52,
   "id": "dc2a8177-eb4a-43c2-bba0-4ed174943599",
   "metadata": {},
   "outputs": [],
   "source": [
    "def calc_returns(p, d):\n",
    "    return (p[1:] - p[:-1] + d[1:]) / p[:-1]"
   ]
  },
  {
   "cell_type": "code",
   "execution_count": 53,
   "id": "a895ef53-ec90-4982-9780-e096a0e19f1c",
   "metadata": {},
   "outputs": [
    {
     "data": {
      "text/plain": [
       "array([ 0.51  , -0.3267, -0.49  ,  1.04  ,  0.52  , -0.32  ,  0.52  ])"
      ]
     },
     "execution_count": 53,
     "metadata": {},
     "output_type": "execute_result"
    }
   ],
   "source": [
    "calc_returns(p=prices, d=dividends)"
   ]
  },
  {
   "cell_type": "markdown",
   "id": "31b6c657-3164-46a0-9160-7c868714c76b",
   "metadata": {},
   "source": [
    "### Rewrite the function `calc_returns()` as `calc_returns_2()` so it returns *NumPy arrays* of returns, capital gains yields, and dividend yields."
   ]
  },
  {
   "cell_type": "code",
   "execution_count": 54,
   "id": "e2756a5e-c1de-44d6-94ca-89a9902252a9",
   "metadata": {},
   "outputs": [],
   "source": [
    "def calc_returns_2(p, d):\n",
    "    cg = p[1:] / p[:-1] - 1\n",
    "    dp = d[1:] / p[:-1]\n",
    "    r = cg + dp\n",
    "    return {'r': r, 'cg': cg, 'dp': dp}"
   ]
  },
  {
   "cell_type": "code",
   "execution_count": 55,
   "id": "528e88aa-bd68-442f-b22d-64b5e6e2650c",
   "metadata": {},
   "outputs": [
    {
     "data": {
      "text/plain": [
       "{'r': array([ 0.51  , -0.3267, -0.49  ,  1.04  ,  0.52  , -0.32  ,  0.52  ]),\n",
       " 'cg': array([ 0.5   , -0.3333, -0.5   ,  1.    ,  0.5   , -0.3333,  0.5   ]),\n",
       " 'dp': array([0.01  , 0.0067, 0.01  , 0.04  , 0.02  , 0.0133, 0.02  ])}"
      ]
     },
     "execution_count": 55,
     "metadata": {},
     "output_type": "execute_result"
    }
   ],
   "source": [
    "calc_returns_2(p=prices, d=dividends)"
   ]
  },
  {
   "cell_type": "markdown",
   "id": "d8bd7ca3-163d-4283-89bd-3902139b42a8",
   "metadata": {},
   "source": [
    "### Write a function `rescale()` to rescale and shift numbers so that they cover the range [0, 1]"
   ]
  },
  {
   "cell_type": "markdown",
   "id": "fadb2aee-d90a-4493-bfbb-d6b5b85fa829",
   "metadata": {},
   "source": [
    "Input: `np.array([18.5, 17.0, 18.0, 19.0, 18.0])` \\\n",
    "Output: `np.array([0.75, 0.0, 0.5, 1.0, 0.5])`"
   ]
  },
  {
   "cell_type": "code",
   "execution_count": 56,
   "id": "04f44b13-5dbe-488a-b329-f05c7f9fa705",
   "metadata": {},
   "outputs": [
    {
     "data": {
      "text/plain": [
       "array([18.5, 17. , 18. , 19. , 18. ])"
      ]
     },
     "execution_count": 56,
     "metadata": {},
     "output_type": "execute_result"
    }
   ],
   "source": [
    "x = np.array([18.5, 17.0, 18.0, 19.0, 18.0])\n",
    "x"
   ]
  },
  {
   "cell_type": "code",
   "execution_count": 57,
   "id": "41b40c2b-551e-4523-8715-5faf79c51138",
   "metadata": {},
   "outputs": [],
   "source": [
    "def rescale(x):\n",
    "    return (x - x.min()) / (x.max() - x.min())"
   ]
  },
  {
   "cell_type": "code",
   "execution_count": 58,
   "id": "264f845f-3ce2-4090-b6a0-37821d6cc2cd",
   "metadata": {},
   "outputs": [
    {
     "data": {
      "text/plain": [
       "array([0.75, 0.  , 0.5 , 1.  , 0.5 ])"
      ]
     },
     "execution_count": 58,
     "metadata": {},
     "output_type": "execute_result"
    }
   ],
   "source": [
    "rescale(x=x)"
   ]
  },
  {
   "cell_type": "markdown",
   "id": "6b56d214-fa08-4bdf-bf1a-d4d87c4e0364",
   "metadata": {},
   "source": [
    "### Write a function `calc_portval()` that accepts a dictionary of prices and share holdings and returns the portfolio value"
   ]
  },
  {
   "cell_type": "markdown",
   "id": "25d8ba43-da1d-47b0-9b8a-dc3c8df1fc3e",
   "metadata": {},
   "source": [
    "First convert your dictionary to a NumPy array with one column for prices and another for shares."
   ]
  },
  {
   "cell_type": "code",
   "execution_count": 59,
   "id": "39a69ba1-79d0-4a43-ad7e-3fcfd8429ab0",
   "metadata": {},
   "outputs": [],
   "source": [
    "data = {\n",
    "    \"AAPL\": (150.25, 10),  # (price, shares)\n",
    "    \"GOOGL\": (2750.00, 2),\n",
    "    \"MSFT\": (300.75, 5)\n",
    "}"
   ]
  },
  {
   "cell_type": "code",
   "execution_count": 60,
   "id": "db5d4502-03b8-42a3-8b61-67306bdc05b7",
   "metadata": {},
   "outputs": [],
   "source": [
    "def calc_portval(data):\n",
    "    x = np.array(list(data.values()))\n",
    "    return x.prod(axis=1).sum()"
   ]
  },
  {
   "cell_type": "code",
   "execution_count": 61,
   "id": "485313d2-2b00-467a-94f7-a7b05cc416c4",
   "metadata": {},
   "outputs": [
    {
     "data": {
      "text/plain": [
       "8506.2500"
      ]
     },
     "execution_count": 61,
     "metadata": {},
     "output_type": "execute_result"
    }
   ],
   "source": [
    "calc_portval(data=data)"
   ]
  },
  {
   "cell_type": "markdown",
   "id": "b2840013-143b-4c27-842b-737269192f17",
   "metadata": {},
   "source": [
    "### Write functions `calc_var()` and `calc_std()` that calculate variance and standard deviation."
   ]
  },
  {
   "cell_type": "markdown",
   "id": "892d8f7d-c891-42fc-877c-d2dee982200d",
   "metadata": {},
   "source": [
    "NumPy's `.var()` and `.std()` methods return *population* statistics (i.e., denominators of $n$).\n",
    "The pandas equivalents return *sample* statistics (denominators of $n-1$), which are more appropriate for financial data analysis where we have a sample instead of a population.\n",
    "\n",
    "\n",
    "Your `calc_var()` and `calc_std()` functions should have a `sample` argument that is `True` by default so both functions return sample statistics by default."
   ]
  },
  {
   "cell_type": "code",
   "execution_count": 62,
   "id": "a385d011-e6d4-478e-a2cb-f05058845294",
   "metadata": {},
   "outputs": [],
   "source": [
    "def calc_var(x, sample=True):\n",
    "    sq_err = (x - x.mean()) ** 2\n",
    "    den = len(x)\n",
    "    if sample:\n",
    "        den -= 1\n",
    "    return sq_err.sum() / den"
   ]
  },
  {
   "cell_type": "markdown",
   "id": "2294110f-5539-493b-b4b3-944e9c14a814",
   "metadata": {},
   "source": [
    "We can re-use `calc_var()` in our `calc_std()` function."
   ]
  },
  {
   "cell_type": "code",
   "execution_count": 63,
   "id": "c2007cb9-8e4d-484d-a48d-10d361011083",
   "metadata": {},
   "outputs": [],
   "source": [
    "def calc_std(x, sample=True):\n",
    "    return calc_var(x=x, sample=sample) ** 0.5"
   ]
  },
  {
   "cell_type": "code",
   "execution_count": 64,
   "id": "0b0d4e7c-e211-4aca-8330-72b3829e83a7",
   "metadata": {},
   "outputs": [
    {
     "data": {
      "text/plain": [
       "array([ 0.4967, -0.1383,  0.6477, ..., -0.113 ,  1.4691,  0.4764],\n",
       "      shape=(1000000,))"
      ]
     },
     "execution_count": 64,
     "metadata": {},
     "output_type": "execute_result"
    }
   ],
   "source": [
    "np.random.seed(42)\n",
    "arr = np.random.randn(1_000_000)\n",
    "arr"
   ]
  },
  {
   "cell_type": "code",
   "execution_count": 65,
   "id": "a861b836-a7ca-4ac2-865e-e9f48892b04b",
   "metadata": {},
   "outputs": [
    {
     "data": {
      "text/plain": [
       "1.0004"
      ]
     },
     "execution_count": 65,
     "metadata": {},
     "output_type": "execute_result"
    }
   ],
   "source": [
    "calc_var(arr)"
   ]
  },
  {
   "cell_type": "code",
   "execution_count": 66,
   "id": "9dd9649a-8eaa-4252-91f8-c39d69359c54",
   "metadata": {},
   "outputs": [
    {
     "data": {
      "text/plain": [
       "1.0002"
      ]
     },
     "execution_count": 66,
     "metadata": {},
     "output_type": "execute_result"
    }
   ],
   "source": [
    "calc_std(arr)"
   ]
  },
  {
   "cell_type": "code",
   "execution_count": 67,
   "id": "f75abd89-22b6-4a2b-977f-d0e8ad6e1001",
   "metadata": {},
   "outputs": [
    {
     "data": {
      "text/plain": [
       "np.True_"
      ]
     },
     "execution_count": 67,
     "metadata": {},
     "output_type": "execute_result"
    }
   ],
   "source": [
    "arr.var(ddof=1) == calc_var(arr)"
   ]
  },
  {
   "cell_type": "code",
   "execution_count": 68,
   "id": "8a20afc1-e92c-49fc-a493-0ba4f0320619",
   "metadata": {},
   "outputs": [
    {
     "data": {
      "text/plain": [
       "np.True_"
      ]
     },
     "execution_count": 68,
     "metadata": {},
     "output_type": "execute_result"
    }
   ],
   "source": [
    "arr.std(ddof=1) == calc_std(arr)"
   ]
  },
  {
   "cell_type": "markdown",
   "id": "fa8e0ead-4a0e-4c97-9bc9-1ed7078b3924",
   "metadata": {},
   "source": [
    "### Write a function `calc_ret()` to convert quantitative returns to qualitative returns"
   ]
  },
  {
   "cell_type": "markdown",
   "id": "65b18598-27e9-46f9-98d2-f2255d0235b0",
   "metadata": {},
   "source": [
    "Returns within one standard deviation of the mean are \"Medium\".\n",
    "Returns less than one standard deviation below the mean are \"Low\", and returns greater than one standard deviation above the mean are \"High\"."
   ]
  },
  {
   "cell_type": "code",
   "execution_count": 69,
   "id": "0df991fb-0942-4cb0-9c4f-fe871a43ea47",
   "metadata": {},
   "outputs": [],
   "source": [
    "np.random.seed(42)\n",
    "returns = np.random.randn(10)"
   ]
  },
  {
   "cell_type": "code",
   "execution_count": 70,
   "id": "dfcd6b29-19f8-4afa-ad7a-6b8e62908b81",
   "metadata": {},
   "outputs": [],
   "source": [
    "def calc_ret(r):\n",
    "    mu = r.mean()\n",
    "    sigma = r.std(ddof=1)\n",
    "    return np.select(\n",
    "        condlist=[\n",
    "            r<(mu-sigma),\n",
    "            r<=(mu+sigma),\n",
    "            r>(mu+sigma)\n",
    "        ],\n",
    "        choicelist=[\n",
    "            'Low',\n",
    "            'Medium',\n",
    "            'High'\n",
    "        ],\n",
    "        default=''\n",
    "    )"
   ]
  },
  {
   "cell_type": "code",
   "execution_count": 71,
   "id": "facfebeb-db51-4842-b58b-1057ac001ac7",
   "metadata": {},
   "outputs": [
    {
     "data": {
      "text/plain": [
       "array(['Medium', 'Medium', 'Medium', 'High', 'Medium', 'Medium', 'High',\n",
       "       'Medium', 'Low', 'Medium'], dtype='<U6')"
      ]
     },
     "execution_count": 71,
     "metadata": {},
     "output_type": "execute_result"
    }
   ],
   "source": [
    "calc_ret(returns)"
   ]
  }
 ],
 "metadata": {
  "author": "Richard Herron",
  "kernelspec": {
   "display_name": "Python 3 (ipykernel)",
   "language": "python",
   "name": "python3"
  },
  "language_info": {
   "codemirror_mode": {
    "name": "ipython",
    "version": 3
   },
   "file_extension": ".py",
   "mimetype": "text/x-python",
   "name": "python",
   "nbconvert_exporter": "python",
   "pygments_lexer": "ipython3",
   "version": "3.13.1"
  },
  "title": "McKinney Chapter 4 - Practice"
 },
 "nbformat": 4,
 "nbformat_minor": 5
}
