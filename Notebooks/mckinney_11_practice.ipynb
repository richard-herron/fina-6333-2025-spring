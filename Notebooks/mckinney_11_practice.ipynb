{
 "cells": [
  {
   "cell_type": "markdown",
   "id": "4660c66c-e02d-4f08-a478-475f8bafb27c",
   "metadata": {},
   "source": [
    "# McKinney Chapter 11 - Practice - Blank"
   ]
  },
  {
   "cell_type": "code",
   "execution_count": 1,
   "id": "a2b2499c-eab5-4ed2-88e3-228817c43b24",
   "metadata": {
    "editable": true,
    "slideshow": {
     "slide_type": ""
    },
    "tags": []
   },
   "outputs": [],
   "source": [
    "import matplotlib.pyplot as plt\n",
    "import numpy as np\n",
    "import pandas as pd\n",
    "import pandas_datareader as pdr\n",
    "import yfinance as yf"
   ]
  },
  {
   "cell_type": "code",
   "execution_count": 2,
   "id": "44c845ed-b764-405c-ba01-e0c60fa7653a",
   "metadata": {},
   "outputs": [],
   "source": [
    "%precision 4\n",
    "pd.options.display.float_format = '{:.4f}'.format\n",
    "%config InlineBackend.figure_format = 'retina'"
   ]
  },
  {
   "cell_type": "markdown",
   "id": "1cb3d38b-f61e-486f-beb5-dfd3f9b188ac",
   "metadata": {},
   "source": [
    "## Announcements"
   ]
  },
  {
   "cell_type": "markdown",
   "id": "1c6ab070-e880-47d3-89b9-be40339b90be",
   "metadata": {},
   "source": [
    "## Five-Minute Review"
   ]
  },
  {
   "cell_type": "markdown",
   "id": "cbde7d5c-e616-4c24-8037-a2c5615ecc70",
   "metadata": {},
   "source": [
    "##  Practice"
   ]
  },
  {
   "cell_type": "markdown",
   "id": "56562947-7e19-4534-a989-4d97b554c9ce",
   "metadata": {},
   "source": [
    "### Download daily returns for ten portfolios formed on book-to-market ratios"
   ]
  },
  {
   "cell_type": "markdown",
   "id": "7cff415a-e9e0-47ff-bd2c-fe296325efe7",
   "metadata": {},
   "source": [
    "### Plot cumulative returns for all available data"
   ]
  },
  {
   "cell_type": "markdown",
   "id": "0307df92-3a63-4ce0-92d1-937b57b67ab1",
   "metadata": {},
   "source": [
    "### Calculate total returns for each calendar year"
   ]
  },
  {
   "cell_type": "markdown",
   "id": "1aa7ee5b-c49a-44cd-b14e-bf8781e076ef",
   "metadata": {},
   "source": [
    "### Calculate total returns for all 252-trading-day windows"
   ]
  },
  {
   "cell_type": "markdown",
   "id": "43b22731-8505-4593-9e4e-9841769868d8",
   "metadata": {},
   "source": [
    "### Calculate total returns for 12-months windows with monthly data"
   ]
  },
  {
   "cell_type": "markdown",
   "id": "fc3afbef-5f29-42ab-90a2-b840723a629f",
   "metadata": {},
   "source": [
    "### Calculate Sharpe Ratios for each calendar year"
   ]
  },
  {
   "cell_type": "markdown",
   "id": "d62e36f8-4b19-4293-a096-169c6766fa27",
   "metadata": {
    "tags": []
   },
   "source": [
    "### Calculate rolling betas"
   ]
  },
  {
   "cell_type": "markdown",
   "id": "9bde2247-3e72-4f2e-912d-5949ffa682a3",
   "metadata": {
    "tags": []
   },
   "source": [
    "We can calculate CAPM betas as: $\\beta_i = \\frac{Cov(r_i - r_f, r_M - r_f)}{Var(r_M - r_f)}$"
   ]
  },
  {
   "cell_type": "markdown",
   "id": "744c876b-4e67-438d-88de-d36f12e071ea",
   "metadata": {
    "tags": []
   },
   "source": [
    "### Calculate rolling Sharpe Ratios"
   ]
  }
 ],
 "metadata": {
  "author": "Richard Herron",
  "kernelspec": {
   "display_name": "Python 3 (ipykernel)",
   "language": "python",
   "name": "python3"
  },
  "language_info": {
   "codemirror_mode": {
    "name": "ipython",
    "version": 3
   },
   "file_extension": ".py",
   "mimetype": "text/x-python",
   "name": "python",
   "nbconvert_exporter": "python",
   "pygments_lexer": "ipython3",
   "version": "3.13.1"
  },
  "title": "McKinney Chapter 11 - Practice"
 },
 "nbformat": 4,
 "nbformat_minor": 5
}
