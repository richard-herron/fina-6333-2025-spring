{
 "cells": [
  {
   "cell_type": "markdown",
   "id": "374accf3-45aa-4494-afb1-098792a3f806",
   "metadata": {},
   "source": [
    "# Herron Topic 3 - Practice - Blank"
   ]
  },
  {
   "cell_type": "code",
   "execution_count": 1,
   "id": "abb4803d-b967-4d2b-8a12-6ad8895ff165",
   "metadata": {
    "editable": true
   },
   "outputs": [],
   "source": [
    "import matplotlib.pyplot as plt\n",
    "import numpy as np\n",
    "import pandas as pd\n",
    "import pandas_datareader as pdr\n",
    "import statsmodels.api as sm\n",
    "import yfinance as yf"
   ]
  },
  {
   "cell_type": "code",
   "execution_count": 2,
   "id": "8f68de29-a540-4504-b5bd-45c0c3c8bcae",
   "metadata": {},
   "outputs": [],
   "source": [
    "%precision 4\n",
    "pd.options.display.float_format = '{:.4f}'.format\n",
    "# %config InlineBackend.figure_format = 'retina'"
   ]
  },
  {
   "cell_type": "markdown",
   "id": "c62015a1-03c0-4203-bd5f-efac597f7a32",
   "metadata": {},
   "source": [
    "## Announcements"
   ]
  },
  {
   "cell_type": "markdown",
   "id": "fc2d8150-a1f8-4cd6-bd5a-d420b14d7568",
   "metadata": {},
   "source": [
    "## Five-Minute Review"
   ]
  },
  {
   "cell_type": "markdown",
   "id": "132b1a2f-a854-4c52-8ef8-6d75ed9b720a",
   "metadata": {},
   "source": [
    "##  Practice"
   ]
  },
  {
   "cell_type": "markdown",
   "id": "2d597f7d-b0f9-4f29-95bb-5e66020d9017",
   "metadata": {},
   "source": [
    "### Re-implement the value strategy from the lecture notebook"
   ]
  },
  {
   "cell_type": "markdown",
   "id": "72020b92-16f9-40af-9975-d56fe64c5457",
   "metadata": {},
   "source": [
    "#### Read the data"
   ]
  },
  {
   "cell_type": "markdown",
   "id": "315afb08-aac7-4f84-b958-c1af25aad884",
   "metadata": {},
   "source": [
    "#### Create the interim data frames"
   ]
  },
  {
   "cell_type": "markdown",
   "id": "63ebfca4-8d3a-4a90-bee7-064e0ed295b0",
   "metadata": {},
   "source": [
    "#### Combine the data frames and form portfolios"
   ]
  },
  {
   "cell_type": "markdown",
   "id": "683cd178-076c-4409-b717-55aaad93d915",
   "metadata": {},
   "source": [
    "#### Backtest the strategy"
   ]
  },
  {
   "cell_type": "markdown",
   "id": "88405561-a6ec-472e-8187-a0401b29bd64",
   "metadata": {},
   "source": [
    "### Re-implement the value strategy from the lecture notebook *with value-weighted portfolios*"
   ]
  },
  {
   "cell_type": "markdown",
   "id": "6fe448dd-ddd3-4073-93b9-7b5cb329ffd2",
   "metadata": {},
   "source": [
    "### Estimate the $\\alpha$s of the equal-weighted and value-weighted portfolios"
   ]
  },
  {
   "cell_type": "markdown",
   "id": "268ef3bf-b566-4e70-843d-0acc7a52f42c",
   "metadata": {},
   "source": [
    "### Implement a momentum strategy\n",
    "\n",
    "Form deciles on the 11-month returns from months $t-12$ to month $t-1$."
   ]
  },
  {
   "cell_type": "code",
   "execution_count": null,
   "id": "6d8181c4-19ac-4de1-bc11-7b4b6746d4bc",
   "metadata": {},
   "outputs": [],
   "source": []
  }
 ],
 "metadata": {
  "kernelspec": {
   "display_name": "Python 3 (ipykernel)",
   "language": "python",
   "name": "python3"
  },
  "language_info": {
   "codemirror_mode": {
    "name": "ipython",
    "version": 3
   },
   "file_extension": ".py",
   "mimetype": "text/x-python",
   "name": "python",
   "nbconvert_exporter": "python",
   "pygments_lexer": "ipython3",
   "version": "3.13.1"
  }
 },
 "nbformat": 4,
 "nbformat_minor": 5
}
