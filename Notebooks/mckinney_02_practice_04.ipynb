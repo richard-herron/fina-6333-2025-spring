{
 "cells": [
  {
   "cell_type": "markdown",
   "id": "84f5567b-2c05-41c7-9cb3-498ecd6e4c00",
   "metadata": {},
   "source": [
    "# McKinney Chapter 2 - Practice - Sec 04"
   ]
  },
  {
   "cell_type": "markdown",
   "id": "cdf38659-da00-46d5-98d7-632d4f5aee6f",
   "metadata": {},
   "source": [
    "HELLO! NIRAMAY!"
   ]
  },
  {
   "cell_type": "markdown",
   "id": "696cccbf-46d5-4b60-8bb2-d73db8ceb6f3",
   "metadata": {},
   "source": [
    "## Announcements"
   ]
  },
  {
   "cell_type": "markdown",
   "id": "55db6f5f-8a29-4755-9c97-dee43dc7df85",
   "metadata": {},
   "source": [
    "1. Check your email inbox for an invitation to a free six-month subscription to DataCamp\n",
    "   1. I added a few short courses to our course group\n",
    "   1. These short courses are completely optional\n",
    "   1. DataCamp has lots of resources to help you learn Python, R, SQL, Excel, etc.\n",
    "2. Here are links to a few finance newsletters I strongly suggest:\n",
    "   1. Matt Levine: <https://www.bloomberg.com/account/newsletters/money-stuff>\n",
    "   1. Byrne Hobart: <https://capitalgains.thediff.co/subscribe?ref=I0N1NGdmJq&_bhlid=7fecfad9eb7fd8bcdb529e945e11346b5897acdc>\n",
    "   1. Clifford Asness: <https://www.aqr.com/Insights/Perspectives>\n",
    "   1. Owen Lamont: <https://www.acadian-asset.com/investment-insights/owenomics#>"
   ]
  },
  {
   "cell_type": "markdown",
   "id": "b659c84b-15ae-40de-a5b9-751b1d513f7e",
   "metadata": {},
   "source": [
    "## Five-Minute Review"
   ]
  },
  {
   "cell_type": "markdown",
   "id": "a419f454-5ac5-491e-899c-c6287402371c",
   "metadata": {
    "editable": true,
    "slideshow": {
     "slide_type": ""
    },
    "tags": []
   },
   "source": [
    "## Practice"
   ]
  },
  {
   "cell_type": "markdown",
   "id": "7373fbfc-3994-4c15-bc09-91e9599291e1",
   "metadata": {},
   "source": [
    "### Extract the year, month, and day from an 8-digit date (i.e., YYYYMMDD format) using `//` (integer division) and `%` (modulo division)."
   ]
  },
  {
   "cell_type": "code",
   "execution_count": 1,
   "id": "bc222bdb-7c7a-4964-9357-6d0ae1a07511",
   "metadata": {},
   "outputs": [],
   "source": [
    "lb = 20080915"
   ]
  },
  {
   "cell_type": "code",
   "execution_count": 2,
   "id": "c49d2f74-07f8-4254-91e6-7366c2f66f88",
   "metadata": {},
   "outputs": [
    {
     "data": {
      "text/plain": [
       "20080915"
      ]
     },
     "execution_count": 2,
     "metadata": {},
     "output_type": "execute_result"
    }
   ],
   "source": [
    "lb"
   ]
  },
  {
   "cell_type": "code",
   "execution_count": 3,
   "id": "92686694-18c2-4464-a0cc-0e202df5d998",
   "metadata": {},
   "outputs": [
    {
     "data": {
      "text/plain": [
       "2008"
      ]
     },
     "execution_count": 3,
     "metadata": {},
     "output_type": "execute_result"
    }
   ],
   "source": [
    "lb // 10_000 # // is integer division"
   ]
  },
  {
   "cell_type": "code",
   "execution_count": 4,
   "id": "058d9ab6-9dbc-4bc7-ad95-0cf390886c41",
   "metadata": {},
   "outputs": [
    {
     "data": {
      "text/plain": [
       "915"
      ]
     },
     "execution_count": 4,
     "metadata": {},
     "output_type": "execute_result"
    }
   ],
   "source": [
    "lb % 10_000 # % is modulo or remainder division"
   ]
  },
  {
   "cell_type": "code",
   "execution_count": 5,
   "id": "e5690b23-6383-4e77-a89e-37b0f144bd87",
   "metadata": {},
   "outputs": [
    {
     "data": {
      "text/plain": [
       "9"
      ]
     },
     "execution_count": 5,
     "metadata": {},
     "output_type": "execute_result"
    }
   ],
   "source": [
    "(lb % 10_000) // 100"
   ]
  },
  {
   "cell_type": "code",
   "execution_count": 6,
   "id": "3eb7c9ba-8627-48ab-84e4-017c4902f39e",
   "metadata": {},
   "outputs": [
    {
     "data": {
      "text/plain": [
       "15"
      ]
     },
     "execution_count": 6,
     "metadata": {},
     "output_type": "execute_result"
    }
   ],
   "source": [
    "lb % 100"
   ]
  },
  {
   "cell_type": "markdown",
   "id": "cb2da60b-810a-4a3e-adf1-275906bc3603",
   "metadata": {},
   "source": [
    "What happened here?\n",
    "\n",
    "- Floor or integer division `//` drops the digits on the right side (one digit per zero)\n",
    "- Modulo or remainder division `%` keeps the diggits on the right side (one digit per zero)"
   ]
  },
  {
   "cell_type": "markdown",
   "id": "8528e3a3-64a6-4ede-b360-e475d290db42",
   "metadata": {},
   "source": [
    "---"
   ]
  },
  {
   "cell_type": "markdown",
   "id": "39a93ffe-ebde-4b60-88b0-e25a6fa3f5a6",
   "metadata": {},
   "source": [
    "Here is solution that approximates Excel's `LEFT()`, `MID()`, and `RIGHT()`.\n",
    "This works, but is not very Pythonic."
   ]
  },
  {
   "cell_type": "code",
   "execution_count": 7,
   "id": "712318ed-4f81-4f72-9e81-d9fe40fcc5cd",
   "metadata": {},
   "outputs": [
    {
     "data": {
      "text/plain": [
       "2008"
      ]
     },
     "execution_count": 7,
     "metadata": {},
     "output_type": "execute_result"
    }
   ],
   "source": [
    "int(str(lb)[:4])"
   ]
  },
  {
   "cell_type": "code",
   "execution_count": 8,
   "id": "57dbb1e4-1d10-4e49-9ed9-a9654fdd96c5",
   "metadata": {},
   "outputs": [
    {
     "data": {
      "text/plain": [
       "9"
      ]
     },
     "execution_count": 8,
     "metadata": {},
     "output_type": "execute_result"
    }
   ],
   "source": [
    "int(str(lb)[4:6])"
   ]
  },
  {
   "cell_type": "code",
   "execution_count": 9,
   "id": "ce543fb1-02be-4a0f-99f6-29eec2668cd6",
   "metadata": {},
   "outputs": [
    {
     "data": {
      "text/plain": [
       "5"
      ]
     },
     "execution_count": 9,
     "metadata": {},
     "output_type": "execute_result"
    }
   ],
   "source": [
    "int(str(lb)[7:8])"
   ]
  },
  {
   "cell_type": "markdown",
   "id": "6e033fcb-33c5-4ae2-98b5-24a04e975e0a",
   "metadata": {},
   "source": [
    "---"
   ]
  },
  {
   "cell_type": "markdown",
   "id": "be060ebd-93d7-4c2e-b57a-a4ff9a6d2a93",
   "metadata": {},
   "source": [
    "### Write a function `date` that takes an 8-digit date argument and returns a year, month, and date tuple (e.g., `return (year, month, day)`)."
   ]
  },
  {
   "cell_type": "code",
   "execution_count": 10,
   "id": "1d4a2079-0ead-401d-9081-0bdbe963b152",
   "metadata": {},
   "outputs": [
    {
     "name": "stdout",
     "output_type": "stream",
     "text": [
      "The Zen of Python, by Tim Peters\n",
      "\n",
      "Beautiful is better than ugly.\n",
      "Explicit is better than implicit.\n",
      "Simple is better than complex.\n",
      "Complex is better than complicated.\n",
      "Flat is better than nested.\n",
      "Sparse is better than dense.\n",
      "Readability counts.\n",
      "Special cases aren't special enough to break the rules.\n",
      "Although practicality beats purity.\n",
      "Errors should never pass silently.\n",
      "Unless explicitly silenced.\n",
      "In the face of ambiguity, refuse the temptation to guess.\n",
      "There should be one-- and preferably only one --obvious way to do it.\n",
      "Although that way may not be obvious at first unless you're Dutch.\n",
      "Now is better than never.\n",
      "Although never is often better than *right* now.\n",
      "If the implementation is hard to explain, it's a bad idea.\n",
      "If the implementation is easy to explain, it may be a good idea.\n",
      "Namespaces are one honking great idea -- let's do more of those!\n"
     ]
    }
   ],
   "source": [
    "import this"
   ]
  },
  {
   "cell_type": "code",
   "execution_count": 11,
   "id": "5ef597f5-ae18-4a52-b371-945113e943d4",
   "metadata": {},
   "outputs": [],
   "source": [
    "def date(ymd):\n",
    "    year = ymd // 10_000 # // is integer division\n",
    "    month = (ymd % 10_000) // 100\n",
    "    day = ymd % 100\n",
    "    return (year, month, day)"
   ]
  },
  {
   "cell_type": "code",
   "execution_count": 12,
   "id": "91d08282-9770-417d-b5f9-4d6f4104dc5e",
   "metadata": {},
   "outputs": [
    {
     "data": {
      "text/plain": [
       "20080915"
      ]
     },
     "execution_count": 12,
     "metadata": {},
     "output_type": "execute_result"
    }
   ],
   "source": [
    "lb"
   ]
  },
  {
   "cell_type": "code",
   "execution_count": 13,
   "id": "61f0f010-8991-4221-a645-eae015a220e2",
   "metadata": {},
   "outputs": [
    {
     "name": "stdout",
     "output_type": "stream",
     "text": [
      "date\t lb\t ojs_define\t this\t \n"
     ]
    }
   ],
   "source": [
    "%who"
   ]
  },
  {
   "cell_type": "code",
   "execution_count": 14,
   "id": "da336d56-3b24-4f1b-93dc-2abe53574136",
   "metadata": {},
   "outputs": [
    {
     "data": {
      "text/plain": [
       "(2008, 9, 15)"
      ]
     },
     "execution_count": 14,
     "metadata": {},
     "output_type": "execute_result"
    }
   ],
   "source": [
    "date(lb)"
   ]
  },
  {
   "cell_type": "code",
   "execution_count": 15,
   "id": "1cd06977-5e87-4103-afc2-c915116c0133",
   "metadata": {},
   "outputs": [
    {
     "data": {
      "text/plain": [
       "(2025, 1, 10)"
      ]
     },
     "execution_count": 15,
     "metadata": {},
     "output_type": "execute_result"
    }
   ],
   "source": [
    "date(20250110)"
   ]
  },
  {
   "cell_type": "code",
   "execution_count": 16,
   "id": "d185b027-eac6-47d3-bd08-03bbd9116d39",
   "metadata": {},
   "outputs": [
    {
     "data": {
      "text/plain": [
       "tuple"
      ]
     },
     "execution_count": 16,
     "metadata": {},
     "output_type": "execute_result"
    }
   ],
   "source": [
    "type(date(20250110))"
   ]
  },
  {
   "cell_type": "markdown",
   "id": "89e332f5-1f05-479a-a055-188098f0d9dd",
   "metadata": {},
   "source": [
    "### Write a function `date_2` that takes an 8-digit date as either integer or string."
   ]
  },
  {
   "cell_type": "code",
   "execution_count": 17,
   "id": "7d60f878-7812-4b3d-9092-6cc8c2bc2189",
   "metadata": {},
   "outputs": [],
   "source": [
    "def date_2(ymd):\n",
    "    # if type(ymd) is str:\n",
    "    if isinstance(ymd, str):\n",
    "        ymd = int(ymd)\n",
    "    return date(ymd)"
   ]
  },
  {
   "cell_type": "code",
   "execution_count": 18,
   "id": "46dd7564-ba2d-4e82-b7ae-695427a973df",
   "metadata": {},
   "outputs": [
    {
     "data": {
      "text/plain": [
       "(2008, 9, 15)"
      ]
     },
     "execution_count": 18,
     "metadata": {},
     "output_type": "execute_result"
    }
   ],
   "source": [
    "date_2(lb)"
   ]
  },
  {
   "cell_type": "code",
   "execution_count": 19,
   "id": "9047882c-7d73-4c5a-b046-ebbbe3f6fbcd",
   "metadata": {},
   "outputs": [
    {
     "data": {
      "text/plain": [
       "(2008, 9, 15)"
      ]
     },
     "execution_count": 19,
     "metadata": {},
     "output_type": "execute_result"
    }
   ],
   "source": [
    "date_2(str(lb))"
   ]
  },
  {
   "cell_type": "code",
   "execution_count": 20,
   "id": "9a01b3b7-bf91-4589-bc18-1b4627d32b67",
   "metadata": {},
   "outputs": [
    {
     "data": {
      "text/plain": [
       "(2025, 1, 10)"
      ]
     },
     "execution_count": 20,
     "metadata": {},
     "output_type": "execute_result"
    }
   ],
   "source": [
    "date_2(20250110)"
   ]
  },
  {
   "cell_type": "code",
   "execution_count": 21,
   "id": "d72ef897-86ca-4365-ab7b-cc9a77615956",
   "metadata": {},
   "outputs": [
    {
     "data": {
      "text/plain": [
       "(2025, 1, 10)"
      ]
     },
     "execution_count": 21,
     "metadata": {},
     "output_type": "execute_result"
    }
   ],
   "source": [
    "date_2('20250110')"
   ]
  },
  {
   "cell_type": "markdown",
   "id": "7ea1b963-efc2-40ef-b81c-24f0fc4a48d0",
   "metadata": {},
   "source": [
    "### Write a function `date_3` that takes a list of 8-digit dates as integers or strings."
   ]
  },
  {
   "cell_type": "code",
   "execution_count": 22,
   "id": "d2da0d80-b5d4-4bc5-8e66-d90b40015121",
   "metadata": {},
   "outputs": [
    {
     "data": {
      "text/plain": [
       "[20080915, '20250110']"
      ]
     },
     "execution_count": 22,
     "metadata": {},
     "output_type": "execute_result"
    }
   ],
   "source": [
    "ymds = [20080915, '20250110']\n",
    "ymds"
   ]
  },
  {
   "cell_type": "markdown",
   "id": "9b51a9bd-1501-4acc-8eec-f2f84d765cc9",
   "metadata": {},
   "source": [
    "This markdown cell is for *italicized* and **bold** text!"
   ]
  },
  {
   "cell_type": "code",
   "execution_count": 23,
   "id": "e39e9e22-d7cb-4284-a0ce-7a6bc384f359",
   "metadata": {},
   "outputs": [],
   "source": [
    "def date_3(ymds):\n",
    "    ymds_out = []\n",
    "    for ymd in ymds:\n",
    "        ymds_out.append(date_2(ymd))\n",
    "    \n",
    "    return ymds_out"
   ]
  },
  {
   "cell_type": "code",
   "execution_count": 24,
   "id": "703761ee-2357-47cd-853f-7d5af8910cdd",
   "metadata": {},
   "outputs": [
    {
     "data": {
      "text/plain": [
       "[(2008, 9, 15), (2025, 1, 10)]"
      ]
     },
     "execution_count": 24,
     "metadata": {},
     "output_type": "execute_result"
    }
   ],
   "source": [
    "date_3(ymds)"
   ]
  },
  {
   "cell_type": "markdown",
   "id": "629e8239-27c2-48f4-ba1c-7e97da177f01",
   "metadata": {},
   "source": [
    "### Write a for loop that prints the squares of integers from 1 to 10."
   ]
  },
  {
   "cell_type": "code",
   "execution_count": 25,
   "id": "337f4a93-30f5-463f-91fc-0112144bb18f",
   "metadata": {},
   "outputs": [
    {
     "name": "stdout",
     "output_type": "stream",
     "text": [
      "1---2---3\n"
     ]
    }
   ],
   "source": [
    "print(1, 2, 3, sep='---')"
   ]
  },
  {
   "cell_type": "code",
   "execution_count": 26,
   "id": "4e89fbab-551a-4e78-bae8-b79a4a20ebf9",
   "metadata": {},
   "outputs": [
    {
     "name": "stdout",
     "output_type": "stream",
     "text": [
      "1 4 9 16 25 36 49 64 81 100 "
     ]
    }
   ],
   "source": [
    "for i in range(1, 11):\n",
    "    print(i**2, end=' ')"
   ]
  },
  {
   "cell_type": "markdown",
   "id": "a9d5310a-f19a-448e-976f-44ffbecad467",
   "metadata": {},
   "source": [
    "### Write a for loop that prints the squares of *even* integers from 1 to 10."
   ]
  },
  {
   "cell_type": "code",
   "execution_count": 27,
   "id": "721edea8-6dd6-4007-8a87-7ae04477b83b",
   "metadata": {},
   "outputs": [
    {
     "name": "stdout",
     "output_type": "stream",
     "text": [
      "4 16 36 64 100 "
     ]
    }
   ],
   "source": [
    "for i in range(1, 11):\n",
    "    if i % 2 == 0:\n",
    "        print(i**2, end=' ')"
   ]
  },
  {
   "cell_type": "code",
   "execution_count": 28,
   "id": "a6dce1e8-e5ab-47ed-8acd-050d39654617",
   "metadata": {},
   "outputs": [
    {
     "name": "stdout",
     "output_type": "stream",
     "text": [
      "4 16 36 64 100 "
     ]
    }
   ],
   "source": [
    "for i in range(2, 11, 2):\n",
    "    print(i**2, end=' ')"
   ]
  },
  {
   "cell_type": "markdown",
   "id": "fca2f010-cd87-4c0f-8a47-c849a8f26cc2",
   "metadata": {},
   "source": [
    "### Write a for loop that sums the squares of integers from 1 to 10."
   ]
  },
  {
   "cell_type": "code",
   "execution_count": 29,
   "id": "a40e2622-52ea-471d-98fe-84cd92edb347",
   "metadata": {},
   "outputs": [
    {
     "data": {
      "text/plain": [
       "385"
      ]
     },
     "execution_count": 29,
     "metadata": {},
     "output_type": "execute_result"
    }
   ],
   "source": [
    "total = 0\n",
    "for i in range(1, 11):\n",
    "    total += i**2\n",
    "\n",
    "total"
   ]
  },
  {
   "cell_type": "markdown",
   "id": "4f59f13f-ba78-4212-bf00-b060756b4320",
   "metadata": {},
   "source": [
    "### Write a for loop that sums the squares of integers from 1 to 10 but stops before the sum exceeds 50."
   ]
  },
  {
   "cell_type": "code",
   "execution_count": 30,
   "id": "7a1f9714-eefd-45af-a10e-b569520e2992",
   "metadata": {},
   "outputs": [
    {
     "data": {
      "text/plain": [
       "30"
      ]
     },
     "execution_count": 30,
     "metadata": {},
     "output_type": "execute_result"
    }
   ],
   "source": [
    "total = 0  # Initialize sum to zero\n",
    "\n",
    "for i in range(1, 11):  # Loop from 1 to 10\n",
    "    # Check if adding the square of i would exceed 50\n",
    "    if (total + i**2) > 50:\n",
    "        # 'break' exits the loop completely, stopping further iterations\n",
    "        # 'continue' would skip to the next iteration without executing further code in this cycle\n",
    "        break  \n",
    "    \n",
    "    # Add the square of i to total\n",
    "    total += i**2\n",
    "\n",
    "# Print the final sum (implicit return in this case since it is the last line in the code cell)\n",
    "total"
   ]
  },
  {
   "cell_type": "markdown",
   "id": "a20e8300-46ab-43e5-88d3-d03ea8c909f6",
   "metadata": {},
   "source": [
    "### FizzBuzz"
   ]
  },
  {
   "cell_type": "markdown",
   "id": "f89665c4-ecb9-48ae-97a7-fa6999aebfeb",
   "metadata": {},
   "source": [
    "Solve [FizzBuzz](https://en.wikipedia.org/wiki/Fizz_buzz#Programming)."
   ]
  },
  {
   "cell_type": "markdown",
   "id": "ca2053a4-024c-4cb6-9ed4-59103441aa90",
   "metadata": {},
   "source": [
    "Here is some pseudo code.\n",
    "The test for multiples of 3 and 5 must come first, otherwise it would never run!"
   ]
  },
  {
   "cell_type": "code",
   "execution_count": 31,
   "id": "feeea326-140f-4b49-b24e-498e11b4c4c3",
   "metadata": {},
   "outputs": [],
   "source": [
    "# for i in range(1, 101):\n",
    "#     # test for multiple of 3 & 5\n",
    "#     #     print fizzbuzz\n",
    "#     # test for multiple of 3\n",
    "#     #     print fizz\n",
    "#     # test for multiple of 5\n",
    "#     #     print buzz\n",
    "#     # otherwise print i"
   ]
  },
  {
   "cell_type": "markdown",
   "id": "e9353208-ffd6-46e7-84f9-2ad7f0ae7e7f",
   "metadata": {},
   "source": [
    "Here is my favorite FizzBuzz solution."
   ]
  },
  {
   "cell_type": "code",
   "execution_count": 32,
   "id": "ab33be17-d02a-4f80-9dbb-037493546bc1",
   "metadata": {},
   "outputs": [
    {
     "name": "stdout",
     "output_type": "stream",
     "text": [
      "1 2 Fizz 4 Buzz Fizz 7 8 Fizz Buzz 11 Fizz 13 14 FizzBuzz 16 17 Fizz 19 Buzz Fizz 22 23 Fizz Buzz 26 Fizz 28 29 FizzBuzz 31 32 Fizz 34 Buzz Fizz 37 38 Fizz Buzz 41 Fizz 43 44 FizzBuzz 46 47 Fizz 49 Buzz Fizz 52 53 Fizz Buzz 56 Fizz 58 59 FizzBuzz 61 62 Fizz 64 Buzz Fizz 67 68 Fizz Buzz 71 Fizz 73 74 FizzBuzz 76 77 Fizz 79 Buzz Fizz 82 83 Fizz Buzz 86 Fizz 88 89 FizzBuzz 91 92 Fizz 94 Buzz Fizz 97 98 Fizz Buzz "
     ]
    }
   ],
   "source": [
    "for i in range(1, 101):\n",
    "    if (i % 3 == 0) & (i % 5 == 0):\n",
    "        print('FizzBuzz', end=' ')\n",
    "    elif (i % 3 == 0):\n",
    "        print('Fizz', end=' ')\n",
    "    elif (i % 5 == 0):\n",
    "        print('Buzz', end=' ')\n",
    "    else:\n",
    "        print(i, end=' ')"
   ]
  },
  {
   "cell_type": "markdown",
   "id": "8591f12f-5ac3-43e4-829d-05f28d8467fc",
   "metadata": {},
   "source": [
    "### Use ternary expressions to make your FizzBuzz solution more compact."
   ]
  },
  {
   "cell_type": "markdown",
   "id": "e6b5b0be-03d7-4251-ac7e-d1683a85422c",
   "metadata": {},
   "source": [
    "Here is a compact FizzBuzz solution.\n",
    "I consider the solution above easier to read and troubleshoot.\n",
    "The compact solution below uses the trick that we can multiply a string by `True` to return the string itself or by or `False` to return an empty string."
   ]
  },
  {
   "cell_type": "code",
   "execution_count": 33,
   "id": "67fee4bf-3d49-4bf3-ad9b-bc9ebfd515ce",
   "metadata": {},
   "outputs": [
    {
     "name": "stdout",
     "output_type": "stream",
     "text": [
      "1 2 Fizz 4 Buzz Fizz 7 8 Fizz Buzz 11 Fizz 13 14 FizzBuzz 16 17 Fizz 19 Buzz Fizz 22 23 Fizz Buzz 26 Fizz 28 29 FizzBuzz 31 32 Fizz 34 Buzz Fizz 37 38 Fizz Buzz 41 Fizz 43 44 FizzBuzz 46 47 Fizz 49 Buzz Fizz 52 53 Fizz Buzz 56 Fizz 58 59 FizzBuzz 61 62 Fizz 64 Buzz Fizz 67 68 Fizz Buzz 71 Fizz 73 74 FizzBuzz 76 77 Fizz 79 Buzz Fizz 82 83 Fizz Buzz 86 Fizz 88 89 FizzBuzz 91 92 Fizz 94 Buzz Fizz 97 98 Fizz Buzz "
     ]
    }
   ],
   "source": [
    "for i in range(1, 101):\n",
    "    print('Fizz'*(i%3==0) + 'Buzz'*(i%5==0) if (i%3==0) or (i%5==0) else i, end=' ')"
   ]
  },
  {
   "attachments": {},
   "cell_type": "markdown",
   "id": "a3200883-0583-4842-bf47-c934ba39e298",
   "metadata": {},
   "source": [
    "Here is *an even more compact* FizzBuzz solution.\n",
    "The trick below is that Python's `or` returns its first truthy value.\n",
    "- If the concatenated string (`'Fizz'*(i%3==0) + 'Buzz'*(i%5==0)`) is not an empty string, which is falsy in Python, the `or` evaluates to that string.\n",
    "- If the string is empty, which means `i` is not divisible by 3 or 5, the `or` evaluates to `i`."
   ]
  },
  {
   "cell_type": "code",
   "execution_count": 34,
   "id": "9339882f-4d2a-41fc-aa90-632880a0f1ad",
   "metadata": {},
   "outputs": [
    {
     "name": "stdout",
     "output_type": "stream",
     "text": [
      "1 2 Fizz 4 Buzz Fizz 7 8 Fizz Buzz 11 Fizz 13 14 FizzBuzz 16 17 Fizz 19 Buzz Fizz 22 23 Fizz Buzz 26 Fizz 28 29 FizzBuzz 31 32 Fizz 34 Buzz Fizz 37 38 Fizz Buzz 41 Fizz 43 44 FizzBuzz 46 47 Fizz 49 Buzz Fizz 52 53 Fizz Buzz 56 Fizz 58 59 FizzBuzz 61 62 Fizz 64 Buzz Fizz 67 68 Fizz Buzz 71 Fizz 73 74 FizzBuzz 76 77 Fizz 79 Buzz Fizz 82 83 Fizz Buzz 86 Fizz 88 89 FizzBuzz 91 92 Fizz 94 Buzz Fizz 97 98 Fizz Buzz "
     ]
    }
   ],
   "source": [
    "for i in range(1, 101):\n",
    "    print('Fizz'*(i%3==0) + 'Buzz'*(i%5==0) or i, end=' ')"
   ]
  },
  {
   "cell_type": "markdown",
   "id": "c0530579-cecd-4aa3-ab05-e3b5ce37e114",
   "metadata": {},
   "source": [
    "### Triangle"
   ]
  },
  {
   "cell_type": "markdown",
   "id": "ad21a183-dfc3-49ac-8bfa-5545c935a2e3",
   "metadata": {},
   "source": [
    "Write a function `triangle` that accepts a positive integer $N$ and prints a numerical triangle of height $N-1$.\n",
    "For example, `triangle(N=6)` should print:\n",
    "\n",
    "```\n",
    "1\n",
    "22\n",
    "333\n",
    "4444\n",
    "55555\n",
    "```"
   ]
  },
  {
   "cell_type": "code",
   "execution_count": 35,
   "id": "ed7051f2-7c49-4f48-88a0-2b021ecfadd9",
   "metadata": {},
   "outputs": [],
   "source": [
    "def triangle(N):\n",
    "    for i in range(1, N):\n",
    "        print(str(i) * i)"
   ]
  },
  {
   "cell_type": "code",
   "execution_count": 36,
   "id": "17012f65-5860-4100-89c1-5f6ef7759c81",
   "metadata": {},
   "outputs": [
    {
     "name": "stdout",
     "output_type": "stream",
     "text": [
      "1\n",
      "22\n",
      "333\n",
      "4444\n",
      "55555\n"
     ]
    }
   ],
   "source": [
    "triangle(6)"
   ]
  },
  {
   "cell_type": "markdown",
   "id": "8696e695-9f40-4c72-a8d5-57b658c91bfd",
   "metadata": {},
   "source": [
    "The solution above works because a multiplying a string by `i` concatenates `i` copies of that string."
   ]
  },
  {
   "cell_type": "code",
   "execution_count": 37,
   "id": "7fa1599f-01c1-461a-bdb2-8fdcf3e8c9ac",
   "metadata": {},
   "outputs": [
    {
     "data": {
      "text/plain": [
       "'TestTestTest'"
      ]
     },
     "execution_count": 37,
     "metadata": {},
     "output_type": "execute_result"
    }
   ],
   "source": [
    "'Test' + 'Test' + 'Test'"
   ]
  },
  {
   "cell_type": "code",
   "execution_count": 38,
   "id": "fad043af-28cc-48ea-a79b-f8eed0fad964",
   "metadata": {},
   "outputs": [
    {
     "data": {
      "text/plain": [
       "'TestTestTest'"
      ]
     },
     "execution_count": 38,
     "metadata": {},
     "output_type": "execute_result"
    }
   ],
   "source": [
    "'Test' * 3"
   ]
  },
  {
   "cell_type": "markdown",
   "id": "3069ac01-da9e-4ec4-94dd-350d555ccab8",
   "metadata": {},
   "source": [
    "### Two Sum"
   ]
  },
  {
   "cell_type": "markdown",
   "id": "20a56bc8-b4bf-4360-b4e9-87a15c64bb5a",
   "metadata": {},
   "source": [
    "Write a function `two_sum` that does the following.\n",
    "\n",
    "Given a list of integers `nums` and an integer `target`, return the indices of the two numbers that add up to target.\n",
    "\n",
    "You may assume that each input would have exactly one solution, and you may not use the same element twice.\n",
    "\n",
    "You can return the answer in any order.\n",
    "\n",
    "Here are some examples:\n",
    "\n",
    "Example 1:\n",
    "\n",
    "Input: `nums = [2,7,11,15]`, `target = 9` \\\n",
    "Output: `[0,1]` \\\n",
    "Explanation: Because `nums[0] + nums[1] == 9`, we return `[0, 1]`.\n",
    "\n",
    "Example 2:\n",
    "\n",
    "Input: `nums = [3,2,4]`, `target = 6` \\\n",
    "Output: `[1,2]`\n",
    "\n",
    "Example 3:\n",
    "\n",
    "Input: `nums = [3,3]`, `target = 6` \\\n",
    "Output: `[0,1]`\n",
    "\n",
    "I saw this question on [LeetCode](https://leetcode.com/problems/two-sum/description/)."
   ]
  },
  {
   "cell_type": "code",
   "execution_count": 39,
   "id": "ae4685f0-b0fc-41ed-9331-2fdd4a6f1bd8",
   "metadata": {},
   "outputs": [],
   "source": [
    "def two_sum(nums, target):\n",
    "    for i in range(1, len(nums)):\n",
    "        for j in range(i):\n",
    "            if nums[i] + nums[j] == target:\n",
    "                return [j, i]"
   ]
  },
  {
   "cell_type": "code",
   "execution_count": 40,
   "id": "b0a77aff-5543-4ec9-9b6d-d51ebe710951",
   "metadata": {},
   "outputs": [
    {
     "data": {
      "text/plain": [
       "[0, 1]"
      ]
     },
     "execution_count": 40,
     "metadata": {},
     "output_type": "execute_result"
    }
   ],
   "source": [
    "two_sum(nums = [2,7,11,15], target = 9)"
   ]
  },
  {
   "cell_type": "code",
   "execution_count": 41,
   "id": "ef584a12-083c-41b0-b587-399bf9550517",
   "metadata": {},
   "outputs": [
    {
     "data": {
      "text/plain": [
       "[1, 2]"
      ]
     },
     "execution_count": 41,
     "metadata": {},
     "output_type": "execute_result"
    }
   ],
   "source": [
    "two_sum(nums = [3,2,4], target = 6)"
   ]
  },
  {
   "cell_type": "code",
   "execution_count": 42,
   "id": "044ed094-0b8c-4bc8-b7ec-d2d0403dabe2",
   "metadata": {},
   "outputs": [
    {
     "data": {
      "text/plain": [
       "[0, 1]"
      ]
     },
     "execution_count": 42,
     "metadata": {},
     "output_type": "execute_result"
    }
   ],
   "source": [
    "two_sum(nums = [3,3], target = 6)"
   ]
  },
  {
   "cell_type": "markdown",
   "id": "0f5eb205-a7b8-4078-9d31-fefa5b8b91be",
   "metadata": {},
   "source": [
    "### Best Time"
   ]
  },
  {
   "cell_type": "markdown",
   "id": "6721b0a1-d5a1-4a8f-baa3-72b276c40543",
   "metadata": {},
   "source": [
    "Write a function `best_time` that solves the following.\n",
    "\n",
    "You are given a list `prices` where `prices[i]` is the price of a given stock on the $i^{th}$ day.\n",
    "\n",
    "You want to maximize your profit by choosing a single day to buy one stock and choosing a different day in the future to sell that stock.\n",
    "\n",
    "Return the maximum profit you can achieve from this transaction. If you cannot achieve any profit, return 0.\n",
    "\n",
    "Here are some examples:\n",
    "\n",
    "Example 1:\n",
    "\n",
    "Input: `prices = [7,1,5,3,6,4]` \\\n",
    "Output: `5` \\\n",
    "Explanation: Buy on day 2 (price = 1) and sell on day 5 (price = 6), profit = 6-1 = 5.\n",
    "Note that buying on day 2 and selling on day 1 is not allowed because you must buy before you sell.\n",
    "\n",
    "Example 2:\n",
    "\n",
    "Input: `prices = [7,6,4,3,1]` \\\n",
    "Output: `0` \\\n",
    "Explanation: In this case, no transactions are done and the max profit = 0.\n",
    "\n",
    "I saw this question on [LeetCode](https://leetcode.com/problems/best-time-to-buy-and-sell-stock/)."
   ]
  },
  {
   "cell_type": "code",
   "execution_count": 43,
   "id": "b7520b4c-e220-4c5d-94ad-5c3dfe2782e4",
   "metadata": {},
   "outputs": [],
   "source": [
    "def max_profit(prices):\n",
    "    # We start by assuming the first price is the lowest we've seen so far\n",
    "    min_price = prices[0]\n",
    "    \n",
    "    # We initialize our maximum profit to zero, as no profit has been calculated yet\n",
    "    max_profit = 0\n",
    "    \n",
    "    # Loop through each price in the list of prices\n",
    "    for price in prices:\n",
    "        # If the current price is lower than our lowest price seen, update min_price\n",
    "        min_price = price if price < min_price else min_price\n",
    "        \n",
    "        # Calculate the profit if we were to sell at the current price\n",
    "        profit = price - min_price\n",
    "        \n",
    "        # If this profit is better than our max profit so far, update max_profit\n",
    "        max_profit = profit if profit > max_profit else max_profit\n",
    "    \n",
    "    # After checking all prices, return the maximum profit we've found\n",
    "    return max_profit"
   ]
  },
  {
   "cell_type": "code",
   "execution_count": 44,
   "id": "fb7aa9b5-3d33-4284-9865-5c714505011e",
   "metadata": {},
   "outputs": [
    {
     "data": {
      "text/plain": [
       "5"
      ]
     },
     "execution_count": 44,
     "metadata": {},
     "output_type": "execute_result"
    }
   ],
   "source": [
    "max_profit(prices=[7,1,5,3,6,4])"
   ]
  },
  {
   "cell_type": "code",
   "execution_count": 45,
   "id": "b1e75142-ce26-47ea-b1ff-02ae1fb5d22f",
   "metadata": {},
   "outputs": [
    {
     "data": {
      "text/plain": [
       "0"
      ]
     },
     "execution_count": 45,
     "metadata": {},
     "output_type": "execute_result"
    }
   ],
   "source": [
    "max_profit(prices=[7,6,4,3,1])"
   ]
  },
  {
   "cell_type": "markdown",
   "id": "dce7daeb-5b35-461f-9f2d-61c4340f2e8e",
   "metadata": {},
   "source": [
    "We could replace the ternary statements with the `min()` and `max()` functions for a little more compact code."
   ]
  },
  {
   "cell_type": "code",
   "execution_count": 46,
   "id": "44dd674d-c9e2-49fb-a677-33ee7901be61",
   "metadata": {},
   "outputs": [],
   "source": [
    "def max_profit_2(prices):\n",
    "    min_price = prices[0]\n",
    "    max_profit = 0\n",
    "    \n",
    "    for price in prices:\n",
    "        # Update min_price if current price is lower\n",
    "        min_price = min(min_price, price)\n",
    "        \n",
    "        # Calculate profit by selling at the current price\n",
    "        current_profit = price - min_price\n",
    "        \n",
    "        # Update max_profit if the current_profit is higher\n",
    "        max_profit = max(max_profit, current_profit)\n",
    "    \n",
    "    return max_profit"
   ]
  },
  {
   "cell_type": "code",
   "execution_count": 47,
   "id": "87b77ec7-0917-4cd6-b4cd-2d303fecc0b8",
   "metadata": {},
   "outputs": [
    {
     "data": {
      "text/plain": [
       "5"
      ]
     },
     "execution_count": 47,
     "metadata": {},
     "output_type": "execute_result"
    }
   ],
   "source": [
    "max_profit_2(prices=[7,1,5,3,6,4])"
   ]
  },
  {
   "cell_type": "code",
   "execution_count": 48,
   "id": "29c22a16-7d1e-4637-9c84-aff9d511c7d6",
   "metadata": {},
   "outputs": [
    {
     "data": {
      "text/plain": [
       "0"
      ]
     },
     "execution_count": 48,
     "metadata": {},
     "output_type": "execute_result"
    }
   ],
   "source": [
    "max_profit_2(prices=[7,6,4,3,1])"
   ]
  }
 ],
 "metadata": {
  "author": "Richard Herron",
  "kernelspec": {
   "display_name": "Python 3 (ipykernel)",
   "language": "python",
   "name": "python3"
  },
  "language_info": {
   "codemirror_mode": {
    "name": "ipython",
    "version": 3
   },
   "file_extension": ".py",
   "mimetype": "text/x-python",
   "name": "python",
   "nbconvert_exporter": "python",
   "pygments_lexer": "ipython3",
   "version": "3.13.1"
  },
  "title": "McKinney Chapter 2 - Practice",
  "toc-autonumbering": true
 },
 "nbformat": 4,
 "nbformat_minor": 5
}
