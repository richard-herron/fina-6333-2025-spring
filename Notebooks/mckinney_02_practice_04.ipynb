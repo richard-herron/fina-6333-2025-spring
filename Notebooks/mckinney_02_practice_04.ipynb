{
 "cells": [
  {
   "cell_type": "markdown",
   "id": "84f5567b-2c05-41c7-9cb3-498ecd6e4c00",
   "metadata": {},
   "source": [
    "# McKinney Chapter 2 - Practice - Sec 04"
   ]
  },
  {
   "cell_type": "markdown",
   "id": "696cccbf-46d5-4b60-8bb2-d73db8ceb6f3",
   "metadata": {},
   "source": [
    "## Announcements"
   ]
  },
  {
   "cell_type": "markdown",
   "id": "b659c84b-15ae-40de-a5b9-751b1d513f7e",
   "metadata": {},
   "source": [
    "## Five-Minute Review"
   ]
  },
  {
   "cell_type": "markdown",
   "id": "a419f454-5ac5-491e-899c-c6287402371c",
   "metadata": {
    "editable": true,
    "slideshow": {
     "slide_type": ""
    },
    "tags": []
   },
   "source": [
    "## Practice"
   ]
  },
  {
   "cell_type": "markdown",
   "id": "7373fbfc-3994-4c15-bc09-91e9599291e1",
   "metadata": {},
   "source": [
    "### Extract the year, month, and day from an 8-digit date (i.e., YYYYMMDD format) using `//` (integer division) and `%` (modulo division)."
   ]
  },
  {
   "cell_type": "code",
   "execution_count": 1,
   "id": "bc222bdb-7c7a-4964-9357-6d0ae1a07511",
   "metadata": {},
   "outputs": [],
   "source": [
    "lb = 20080915"
   ]
  },
  {
   "cell_type": "code",
   "execution_count": 2,
   "id": "c49d2f74-07f8-4254-91e6-7366c2f66f88",
   "metadata": {},
   "outputs": [
    {
     "data": {
      "text/plain": [
       "20080915"
      ]
     },
     "execution_count": 2,
     "metadata": {},
     "output_type": "execute_result"
    }
   ],
   "source": [
    "lb"
   ]
  },
  {
   "cell_type": "code",
   "execution_count": 3,
   "id": "92686694-18c2-4464-a0cc-0e202df5d998",
   "metadata": {},
   "outputs": [
    {
     "data": {
      "text/plain": [
       "2008"
      ]
     },
     "execution_count": 3,
     "metadata": {},
     "output_type": "execute_result"
    }
   ],
   "source": [
    "lb // 10_000 # // is integer division"
   ]
  },
  {
   "cell_type": "code",
   "execution_count": 4,
   "id": "058d9ab6-9dbc-4bc7-ad95-0cf390886c41",
   "metadata": {},
   "outputs": [
    {
     "data": {
      "text/plain": [
       "915"
      ]
     },
     "execution_count": 4,
     "metadata": {},
     "output_type": "execute_result"
    }
   ],
   "source": [
    "lb % 10_000 # % is modulo or remainder division"
   ]
  },
  {
   "cell_type": "code",
   "execution_count": 5,
   "id": "e5690b23-6383-4e77-a89e-37b0f144bd87",
   "metadata": {},
   "outputs": [
    {
     "data": {
      "text/plain": [
       "9"
      ]
     },
     "execution_count": 5,
     "metadata": {},
     "output_type": "execute_result"
    }
   ],
   "source": [
    "(lb % 10_000) // 100"
   ]
  },
  {
   "cell_type": "code",
   "execution_count": 6,
   "id": "3eb7c9ba-8627-48ab-84e4-017c4902f39e",
   "metadata": {},
   "outputs": [
    {
     "data": {
      "text/plain": [
       "15"
      ]
     },
     "execution_count": 6,
     "metadata": {},
     "output_type": "execute_result"
    }
   ],
   "source": [
    "lb % 100"
   ]
  },
  {
   "cell_type": "markdown",
   "id": "cb2da60b-810a-4a3e-adf1-275906bc3603",
   "metadata": {},
   "source": [
    "What happened here?\n",
    "\n",
    "- Floor or integer division `//` drops the digits on the right side (one digit per zero)\n",
    "- Modulo or remainder division `%` keeps the diggits on the right side (one digit per zero)"
   ]
  },
  {
   "cell_type": "markdown",
   "id": "8528e3a3-64a6-4ede-b360-e475d290db42",
   "metadata": {},
   "source": [
    "---"
   ]
  },
  {
   "cell_type": "markdown",
   "id": "39a93ffe-ebde-4b60-88b0-e25a6fa3f5a6",
   "metadata": {},
   "source": [
    "Here is solution that approximates Excel's `LEFT()`, `MID()`, and `RIGHT()`.\n",
    "This works, but is not very Pythonic."
   ]
  },
  {
   "cell_type": "code",
   "execution_count": 7,
   "id": "712318ed-4f81-4f72-9e81-d9fe40fcc5cd",
   "metadata": {},
   "outputs": [
    {
     "data": {
      "text/plain": [
       "2008"
      ]
     },
     "execution_count": 7,
     "metadata": {},
     "output_type": "execute_result"
    }
   ],
   "source": [
    "int(str(lb)[:4])"
   ]
  },
  {
   "cell_type": "code",
   "execution_count": 8,
   "id": "57dbb1e4-1d10-4e49-9ed9-a9654fdd96c5",
   "metadata": {},
   "outputs": [
    {
     "data": {
      "text/plain": [
       "9"
      ]
     },
     "execution_count": 8,
     "metadata": {},
     "output_type": "execute_result"
    }
   ],
   "source": [
    "int(str(lb)[4:6])"
   ]
  },
  {
   "cell_type": "code",
   "execution_count": 9,
   "id": "ce543fb1-02be-4a0f-99f6-29eec2668cd6",
   "metadata": {},
   "outputs": [
    {
     "data": {
      "text/plain": [
       "5"
      ]
     },
     "execution_count": 9,
     "metadata": {},
     "output_type": "execute_result"
    }
   ],
   "source": [
    "int(str(lb)[7:8])"
   ]
  },
  {
   "cell_type": "markdown",
   "id": "6e033fcb-33c5-4ae2-98b5-24a04e975e0a",
   "metadata": {},
   "source": [
    "---"
   ]
  },
  {
   "cell_type": "markdown",
   "id": "be060ebd-93d7-4c2e-b57a-a4ff9a6d2a93",
   "metadata": {},
   "source": [
    "### Write a function `date` that takes an 8-digit date argument and returns a year, month, and date tuple (e.g., `return (year, month, day)`)."
   ]
  },
  {
   "cell_type": "markdown",
   "id": "89e332f5-1f05-479a-a055-188098f0d9dd",
   "metadata": {},
   "source": [
    "### Write a function `date_2` that takes an 8-digit date as either integer or string."
   ]
  },
  {
   "cell_type": "markdown",
   "id": "7ea1b963-efc2-40ef-b81c-24f0fc4a48d0",
   "metadata": {},
   "source": [
    "### Write a function `date_3` that takes a list of 8-digit dates as integers or strings."
   ]
  },
  {
   "cell_type": "markdown",
   "id": "629e8239-27c2-48f4-ba1c-7e97da177f01",
   "metadata": {},
   "source": [
    "### Write a for loop that prints the squares of integers from 1 to 10."
   ]
  },
  {
   "cell_type": "markdown",
   "id": "a9d5310a-f19a-448e-976f-44ffbecad467",
   "metadata": {},
   "source": [
    "### Write a for loop that prints the squares of *even* integers from 1 to 10."
   ]
  },
  {
   "cell_type": "markdown",
   "id": "fca2f010-cd87-4c0f-8a47-c849a8f26cc2",
   "metadata": {},
   "source": [
    "### Write a for loop that sums the squares of integers from 1 to 10."
   ]
  },
  {
   "cell_type": "markdown",
   "id": "4f59f13f-ba78-4212-bf00-b060756b4320",
   "metadata": {},
   "source": [
    "### Write a for loop that sums the squares of integers from 1 to 10 but stops before the sum exceeds 50."
   ]
  },
  {
   "cell_type": "markdown",
   "id": "fc5e524f-358b-45cb-876d-6d4ebc082757",
   "metadata": {},
   "source": [
    "### FizzBuzz"
   ]
  },
  {
   "cell_type": "markdown",
   "id": "424ea2cc-db7e-4ea9-9f0e-b533ae8973de",
   "metadata": {},
   "source": [
    "Solve [FizzBuzz](https://en.wikipedia.org/wiki/Fizz_buzz#Programming)."
   ]
  },
  {
   "cell_type": "markdown",
   "id": "9f07719a-e80d-4ddd-8d4f-ea87397d6d09",
   "metadata": {},
   "source": [
    "### Use ternary expressions to make your FizzBuzz solution more compact."
   ]
  },
  {
   "cell_type": "markdown",
   "id": "761d1e1f-7255-4811-b2c9-a6af246b50c6",
   "metadata": {},
   "source": [
    "### Triangle"
   ]
  },
  {
   "cell_type": "markdown",
   "id": "c76b23e0-a42d-4843-9723-3986a506f89e",
   "metadata": {},
   "source": [
    "Write a function `triangle` that accepts a positive integer $N$ and prints a numerical triangle of height $N-1$.\n",
    "For example, `triangle(N=6)` should print:\n",
    "\n",
    "```\n",
    "1\n",
    "22\n",
    "333\n",
    "4444\n",
    "55555\n",
    "```"
   ]
  },
  {
   "cell_type": "markdown",
   "id": "7e2eb64d-444f-4f05-a133-1e4b7f026b31",
   "metadata": {},
   "source": [
    "### Two Sum"
   ]
  },
  {
   "cell_type": "markdown",
   "id": "e60568ec-e02d-4639-b6b5-a9816d3454d7",
   "metadata": {},
   "source": [
    "Write a function `two_sum` that does the following.\n",
    "\n",
    "Given a list of integers `nums` and an integer `target`, return the indices of the two numbers that add up to target.\n",
    "\n",
    "You may assume that each input would have exactly one solution, and you may not use the same element twice.\n",
    "\n",
    "You can return the answer in any order.\n",
    "\n",
    "Here are some examples:\n",
    "\n",
    "Example 1:\n",
    "\n",
    "Input: `nums = [2,7,11,15]`, `target = 9` \\\n",
    "Output: `[0,1]` \\\n",
    "Explanation: Because `nums[0] + nums[1] == 9`, we return `[0, 1]`.\n",
    "\n",
    "Example 2:\n",
    "\n",
    "Input: `nums = [3,2,4]`, `target = 6` \\\n",
    "Output: `[1,2]` \\\n",
    "\n",
    "Example 3:\n",
    "\n",
    "Input: `nums = [3,3]`, `target = 6` \\\n",
    "Output: `[0,1]` \\\n",
    "\n",
    "I saw this question on [LeetCode](https://leetcode.com/problems/two-sum/description/)."
   ]
  },
  {
   "cell_type": "markdown",
   "id": "92beb628-50bf-4071-b133-1f2d4c2f4ff2",
   "metadata": {},
   "source": [
    "### Best Time"
   ]
  },
  {
   "cell_type": "markdown",
   "id": "4356132c-54c0-419a-aacd-55b6766dd774",
   "metadata": {},
   "source": [
    "Write a function `best_time` that solves the following.\n",
    "\n",
    "You are given a list `prices` where `prices[i]` is the price of a given stock on the $i^{th}$ day.\n",
    "\n",
    "You want to maximize your profit by choosing a single day to buy one stock and choosing a different day in the future to sell that stock.\n",
    "\n",
    "Return the maximum profit you can achieve from this transaction. If you cannot achieve any profit, return 0.\n",
    "\n",
    "Here are some examples:\n",
    "\n",
    "Example 1:\n",
    "\n",
    "Input: `prices = [7,1,5,3,6,4]` \\\n",
    "Output: `5` \\\n",
    "Explanation: Buy on day 2 (price = 1) and sell on day 5 (price = 6), profit = 6-1 = 5.\n",
    "Note that buying on day 2 and selling on day 1 is not allowed because you must buy before you sell.\n",
    "\n",
    "Example 2:\n",
    "\n",
    "Input: `prices = [7,6,4,3,1]` \\\n",
    "Output: `0` \\\n",
    "Explanation: In this case, no transactions are done and the max profit = 0.\n",
    "\n",
    "I saw this question on [LeetCode](https://leetcode.com/problems/best-time-to-buy-and-sell-stock/)."
   ]
  }
 ],
 "metadata": {
  "author": "Richard Herron",
  "kernelspec": {
   "display_name": "Python 3 (ipykernel)",
   "language": "python",
   "name": "python3"
  },
  "language_info": {
   "codemirror_mode": {
    "name": "ipython",
    "version": 3
   },
   "file_extension": ".py",
   "mimetype": "text/x-python",
   "name": "python",
   "nbconvert_exporter": "python",
   "pygments_lexer": "ipython3",
   "version": "3.13.1"
  },
  "title": "McKinney Chapter 2 - Practice",
  "toc-autonumbering": true
 },
 "nbformat": 4,
 "nbformat_minor": 5
}
