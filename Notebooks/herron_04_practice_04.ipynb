{
 "cells": [
  {
   "cell_type": "markdown",
   "id": "22b59adb-864b-49c7-99dc-5f498ced59c2",
   "metadata": {},
   "source": [
    "# Herron Topic 4 - Practice - Sec 04"
   ]
  },
  {
   "cell_type": "code",
   "execution_count": 1,
   "id": "bd883b50-bc86-472c-a4e9-908b34c9cc9b",
   "metadata": {
    "editable": true
   },
   "outputs": [],
   "source": [
    "import matplotlib.pyplot as plt\n",
    "import numpy as np\n",
    "import pandas as pd\n",
    "import pandas_datareader as pdr\n",
    "import scipy.optimize as sco # new addition for portfolio optimization\n",
    "import yfinance as yf"
   ]
  },
  {
   "cell_type": "code",
   "execution_count": 2,
   "id": "5a6642ce-7cfd-4ada-aae4-f91bc49bab6d",
   "metadata": {},
   "outputs": [],
   "source": [
    "%precision 4\n",
    "pd.options.display.float_format = '{:.4f}'.format\n",
    "# %config InlineBackend.figure_format = 'retina'"
   ]
  },
  {
   "cell_type": "markdown",
   "id": "ca12c5e2-aa46-4c23-ba8a-6ad3f6d316a1",
   "metadata": {},
   "source": [
    "## Announcements"
   ]
  },
  {
   "cell_type": "markdown",
   "id": "d94ea345-74ec-4ae6-9c05-0f0b1efd7f63",
   "metadata": {},
   "source": [
    "1. Please complete TRACE! I use TRACE to improve my treaching and courses, and I value your feedback. More here: <https://northeastern.instructure.com/courses/207607/discussion_topics/2753925>\n",
    "2. Please plan for the in-class programming and MSFQ assessments on Tuesday, 4/15"
   ]
  },
  {
   "cell_type": "markdown",
   "id": "e6e19941-52e2-47a2-91a7-b6c64ba6633c",
   "metadata": {},
   "source": [
    "## Five-Minute Recap"
   ]
  },
  {
   "cell_type": "markdown",
   "id": "e279002f-e2b8-4561-b4b1-6d66314e91fa",
   "metadata": {},
   "source": [
    "Please see the lecture notebook for an in-depth explanation of how we will use `sco.minimize()` for portfolio optimization.\n",
    "Here are the key arguments to `sco.minimize()`:\n",
    "\n",
    "1. `fun`: Name of function whose output we want to *minimize*\n",
    "2. `x0`: First guess at inputs that *minimize* the output of the function in `fun`\n",
    "3. `args`: A tuple of additional arguments to the function in `fun`\n",
    "4. `bounds`: A list or tuple of tuples; For example, `((0, 1), (0, 1))` bounds inputs to fall between 0 and 1\n",
    "5. `constraints`: A tuple of dictionaries with functions to constrain our inputs; For example, `{'type': 'eq', 'fun': lambda w: w.sum() - 1}` constraints te sum or our inputs to 1"
   ]
  },
  {
   "cell_type": "markdown",
   "id": "837fbfec-079d-4190-b763-7cf5e73ec3e2",
   "metadata": {},
   "source": [
    "##  Practice"
   ]
  },
  {
   "cell_type": "markdown",
   "id": "37b59c94-48f2-41fb-a50f-9c8eb794de9e",
   "metadata": {
    "tags": []
   },
   "source": [
    "### Find the maximum Sharpe Ratio portfolio of Mag 7 stocks over the last three years"
   ]
  },
  {
   "cell_type": "markdown",
   "id": "32619c40-d1a6-405f-a23a-daa8fc19ea04",
   "metadata": {},
   "source": [
    "Note that `sco.minimize()` finds *minimums*, so you need to minimize the *negative* Sharpe Ratio."
   ]
  },
  {
   "cell_type": "code",
   "execution_count": 3,
   "id": "86b5ff40-e4a4-41ac-b1dd-dd4eeb54b524",
   "metadata": {},
   "outputs": [],
   "source": [
    "mag7 = (\n",
    "    yf.download(\n",
    "        tickers='GOOGL AAPL AMZN META MSFT NVDA TSLA',\n",
    "        auto_adjust=False,\n",
    "        progress=False\n",
    "    )\n",
    "    .iloc[:-1]\n",
    ")"
   ]
  },
  {
   "cell_type": "code",
   "execution_count": 4,
   "id": "78d2aa8a-edca-496c-9c6c-f9b5516434b7",
   "metadata": {},
   "outputs": [],
   "source": [
    "returns = mag7['Adj Close'].pct_change().iloc[-756:]"
   ]
  },
  {
   "cell_type": "markdown",
   "id": "60fe369e-ab32-428b-87dc-badd5792dd1a",
   "metadata": {},
   "source": [
    "We need the risk-free rate of return to calculate Sharpe ratios.\n",
    "French provides the risk-free rate of return as `RF` in most of his data sets."
   ]
  },
  {
   "cell_type": "code",
   "execution_count": 5,
   "id": "11a03a17-cf77-4bac-8c20-678c4857b19c",
   "metadata": {},
   "outputs": [
    {
     "name": "stderr",
     "output_type": "stream",
     "text": [
      "C:\\Users\\r.herron\\AppData\\Local\\Temp\\ipykernel_12592\\582763811.py:2: FutureWarning: The argument 'date_parser' is deprecated and will be removed in a future version. Please use 'date_format' instead, or read your data in as 'object' dtype and then call 'to_datetime'.\n",
      "  pdr.DataReader(\n"
     ]
    }
   ],
   "source": [
    "ff3 = (\n",
    "    pdr.DataReader(\n",
    "        name='F-F_Research_Data_Factors_daily',\n",
    "        data_source='famafrench',\n",
    "        start='1900'\n",
    "    )\n",
    "    [0]\n",
    "    .div(100)\n",
    ")"
   ]
  },
  {
   "cell_type": "markdown",
   "id": "8a91fd3b-535c-475a-a84d-47704ca2b8b2",
   "metadata": {},
   "source": [
    "The Sharpe ratio is the ratio of the mean portfolio *excess* return to the volatility of portfolio *excess* returns.\n",
    "$$\n",
    "S_p = \\frac{\\overline{r_p - r_f}}{\\sigma(r_p - r_f)}\n",
    "$$\n",
    "We can simplify this calculation if we calculate a data frame of *excess* returns.\n",
    "Then, we can use this data frame of excess returns to define the covariance matrix and mean returns."
   ]
  },
  {
   "cell_type": "code",
   "execution_count": 6,
   "id": "7a6e9b8d-59e2-4bbe-b544-50133bd0f8b4",
   "metadata": {},
   "outputs": [],
   "source": [
    "returns_excess = returns.sub(ff3['RF'], axis=0)\n",
    "Sigma_excess = returns_excess.cov()\n",
    "mu_excess = returns_excess.mean()"
   ]
  },
  {
   "cell_type": "code",
   "execution_count": 7,
   "id": "51978ae4-ee0d-4f07-a055-df6373ab1736",
   "metadata": {},
   "outputs": [],
   "source": [
    "def Sharpe(w, Sigma_excess, mu_excess, ppy=252):\n",
    "    top = ppy * w.T @ mu_excess\n",
    "    bot = np.sqrt(ppy * w.T @ Sigma_excess @ w)\n",
    "    return top / bot"
   ]
  },
  {
   "cell_type": "code",
   "execution_count": 8,
   "id": "30a4429c-8b20-4f63-bf29-4bd6094c48e6",
   "metadata": {},
   "outputs": [],
   "source": [
    "def Sharpe_neg(w, Sigma_excess, mu_excess, ppy=252):\n",
    "    return -1 * Sharpe(w=w, Sigma_excess=Sigma_excess, mu_excess=mu_excess, ppy=252)"
   ]
  },
  {
   "cell_type": "code",
   "execution_count": 9,
   "id": "9b277160-a55d-4a28-b266-47f9088b58a7",
   "metadata": {},
   "outputs": [],
   "source": [
    "def equal_weights(n):\n",
    "    return np.ones(n) / n"
   ]
  },
  {
   "cell_type": "code",
   "execution_count": 10,
   "id": "4d2d174f-6e73-40a7-947d-757d4ec95f57",
   "metadata": {},
   "outputs": [
    {
     "data": {
      "text/plain": [
       "array([0.1429, 0.1429, 0.1429, 0.1429, 0.1429, 0.1429, 0.1429])"
      ]
     },
     "execution_count": 10,
     "metadata": {},
     "output_type": "execute_result"
    }
   ],
   "source": [
    "equal_weights(Sigma_excess.shape[0])"
   ]
  },
  {
   "cell_type": "code",
   "execution_count": 11,
   "id": "6cdc5868-0866-4846-8437-475ae4212919",
   "metadata": {},
   "outputs": [
    {
     "data": {
      "text/plain": [
       "[(0, 1), (0, 1), (0, 1), (0, 1), (0, 1), (0, 1), (0, 1)]"
      ]
     },
     "execution_count": 11,
     "metadata": {},
     "output_type": "execute_result"
    }
   ],
   "source": [
    "[(0, 1) for _ in range(Sigma_excess.shape[0])]"
   ]
  },
  {
   "cell_type": "markdown",
   "id": "536c9b62-4c20-417b-b693-f9eb34cf43d0",
   "metadata": {},
   "source": [
    "We can store our `minimize()` results in `res_X` and increment `X` for each of the following practices."
   ]
  },
  {
   "cell_type": "code",
   "execution_count": 12,
   "id": "ae90c90c-9706-4fb7-be83-0b173313eae0",
   "metadata": {},
   "outputs": [],
   "source": [
    "res_1 = sco.minimize(\n",
    "    fun=Sharpe_neg,\n",
    "    x0=equal_weights(Sigma_excess.shape[0]),\n",
    "    args=(Sigma_excess, mu_excess),\n",
    "    bounds=[(0, 1) for _ in range(Sigma_excess.shape[0])],\n",
    "    constraints=(\n",
    "        {'type': 'eq', 'fun': lambda w: w.sum() - 1}\n",
    "    )\n",
    ")"
   ]
  },
  {
   "cell_type": "markdown",
   "id": "da74260e-dacd-4be7-be14-a7354f99d324",
   "metadata": {},
   "source": [
    "We want to make sure that `minimize()` finds a solution (i.e., `res_1['success']` is `True`).\n",
    "The *negative* Sharpe ratio is the value for the `fun` key, and the portfolio weights are the value for the `x` key."
   ]
  },
  {
   "cell_type": "code",
   "execution_count": 13,
   "id": "2945fddb-4a25-41e7-8fea-060b38cec9d4",
   "metadata": {},
   "outputs": [
    {
     "data": {
      "text/plain": [
       " message: Optimization terminated successfully\n",
       " success: True\n",
       "  status: 0\n",
       "     fun: -1.2870714577713982\n",
       "       x: [ 3.868e-17  0.000e+00  0.000e+00  3.112e-01  0.000e+00\n",
       "            6.888e-01  2.186e-17]\n",
       "     nit: 5\n",
       "     jac: [ 1.513e-01  3.676e-01  2.966e-01 -3.821e-04  2.482e-01\n",
       "            1.726e-04  3.065e-01]\n",
       "    nfev: 40\n",
       "    njev: 5"
      ]
     },
     "execution_count": 13,
     "metadata": {},
     "output_type": "execute_result"
    }
   ],
   "source": [
    "res_1"
   ]
  },
  {
   "cell_type": "markdown",
   "id": "102e1009-1767-49b9-a991-f1402a94bee5",
   "metadata": {},
   "source": [
    "We can save these results to a data frame for easy updating and plotting."
   ]
  },
  {
   "cell_type": "code",
   "execution_count": 14,
   "id": "51c80e43-0c7e-4e61-88d0-244f8423b6b5",
   "metadata": {},
   "outputs": [],
   "source": [
    "res_df = pd.DataFrame(\n",
    "    data={'Long Only': res_1['x']},\n",
    "    index=Sigma_excess.columns\n",
    ")"
   ]
  },
  {
   "cell_type": "code",
   "execution_count": 15,
   "id": "19392479-2f93-4658-885a-91c8662b19f9",
   "metadata": {},
   "outputs": [
    {
     "data": {
      "image/png": "[encoded data removed]",
      "text/plain": [
       "<Figure size 640x480 with 1 Axes>"
      ]
     },
     "metadata": {},
     "output_type": "display_data"
    }
   ],
   "source": [
    "res_df.plot(kind='barh')\n",
    "plt.title('Maximum Sharpe Ratio Portfolio Weights')\n",
    "plt.xlabel('Portfolio Weight')\n",
    "plt.show()"
   ]
  },
  {
   "cell_type": "markdown",
   "id": "a859d74b-2cc5-4e7c-81f7-e8cb77aceb05",
   "metadata": {},
   "source": [
    "### Find the maximum Sharpe Ratio portfolio of Mag 7 stocks over the last three years, but allow short weights up to 10% on each stock"
   ]
  },
  {
   "cell_type": "markdown",
   "id": "4551b526-76d7-4a38-9804-6cba4cf430da",
   "metadata": {},
   "source": [
    "We see that the long-only constraint was binding, and relaxing it leads to several short positions and bigger positions in NVDA and META."
   ]
  },
  {
   "cell_type": "code",
   "execution_count": 16,
   "id": "e464d87d-6165-4839-b804-c6829f0d7644",
   "metadata": {},
   "outputs": [],
   "source": [
    "res_2 = sco.minimize(\n",
    "    fun=Sharpe_neg,\n",
    "    x0=equal_weights(Sigma_excess.shape[0]),\n",
    "    args=(Sigma_excess, mu_excess),\n",
    "    bounds=[(-0.1, 1.6) for _ in range(Sigma_excess.shape[0])],\n",
    "    constraints=(\n",
    "        {'type': 'eq', 'fun': lambda w: w.sum() - 1}\n",
    "    )\n",
    ")"
   ]
  },
  {
   "cell_type": "code",
   "execution_count": 17,
   "id": "864ad9a0-d56b-47c1-9a89-52903467f56f",
   "metadata": {},
   "outputs": [],
   "source": [
    "res_df['Shorts up to 10% Each'] = res_2['x']"
   ]
  },
  {
   "cell_type": "code",
   "execution_count": 18,
   "id": "df411e6b-5d40-461c-8168-790721c0288e",
   "metadata": {},
   "outputs": [
    {
     "data": {
      "image/png": "[encoded data removed]",
      "text/plain": [
       "<Figure size 640x480 with 1 Axes>"
      ]
     },
     "metadata": {},
     "output_type": "display_data"
    }
   ],
   "source": [
    "res_df.plot(kind='barh')\n",
    "plt.title('Maximum Sharpe Ratio Portfolio Weights')\n",
    "plt.xlabel('Portfolio Weight')\n",
    "plt.show()"
   ]
  },
  {
   "cell_type": "markdown",
   "id": "3e391bdd-72b8-4b87-bec1-c1345cd4c1de",
   "metadata": {},
   "source": [
    "### Find the maximum Sharpe Ratio portfolio of Mag 7 stocks over the last three years, but allow total short weights of up to 30%"
   ]
  },
  {
   "cell_type": "code",
   "execution_count": 19,
   "id": "8e482f7a-7146-4df5-98c0-fa21dc959e7f",
   "metadata": {},
   "outputs": [],
   "source": [
    "toy = np.arange(-2, 3)"
   ]
  },
  {
   "cell_type": "code",
   "execution_count": 20,
   "id": "959af4ce-c960-4084-a816-103e845d3c00",
   "metadata": {},
   "outputs": [
    {
     "data": {
      "text/plain": [
       "np.int64(-3)"
      ]
     },
     "execution_count": 20,
     "metadata": {},
     "output_type": "execute_result"
    }
   ],
   "source": [
    "toy[toy < 0].sum()"
   ]
  },
  {
   "cell_type": "code",
   "execution_count": 21,
   "id": "7b5559e1-3293-4204-8778-7b36423634fd",
   "metadata": {},
   "outputs": [],
   "source": [
    "res_3 = sco.minimize(\n",
    "    fun=Sharpe_neg,\n",
    "    x0=equal_weights(Sigma_excess.shape[0]),\n",
    "    args=(Sigma_excess, mu_excess),\n",
    "    bounds=[(-0.3, 1.3) for _ in range(Sigma_excess.shape[0])],\n",
    "    constraints=(\n",
    "        {'type': 'eq', 'fun': lambda w: w.sum() - 1},\n",
    "        {'type': 'ineq', 'fun': lambda w: w[w < 0].sum() + 0.3}\n",
    "    )\n",
    ")"
   ]
  },
  {
   "cell_type": "code",
   "execution_count": 22,
   "id": "d9fe4a5a-b51a-4844-9646-7f1708f76340",
   "metadata": {},
   "outputs": [],
   "source": [
    "res_df['Shorts up to 30% Total'] = res_3['x']"
   ]
  },
  {
   "cell_type": "code",
   "execution_count": 23,
   "id": "c1e09821-e05a-4659-9cb0-3a4eeac791c8",
   "metadata": {},
   "outputs": [
    {
     "data": {
      "image/png": "[encoded data removed]",
      "text/plain": [
       "<Figure size 640x480 with 1 Axes>"
      ]
     },
     "metadata": {},
     "output_type": "display_data"
    }
   ],
   "source": [
    "res_df.plot(kind='barh')\n",
    "plt.title('Maximum Sharpe Ratio Portfolio Weights')\n",
    "plt.xlabel('Portfolio Weight')\n",
    "plt.show()"
   ]
  },
  {
   "cell_type": "markdown",
   "id": "11c0d201-f690-4c6a-b632-38b3adafa4e8",
   "metadata": {},
   "source": [
    "::: {.callout-note}\n",
    "Try the next two practices before we meet on Friday.\n",
    ":::"
   ]
  },
  {
   "cell_type": "markdown",
   "id": "00a10e0f-4c68-47db-af9e-8ff3dbe8e2fa",
   "metadata": {},
   "source": [
    "### Find the maximum Sharpe Ratio portfolio of Mag 7 stocks over the last three years, but do not allow any weight to exceed 30% in magnitude"
   ]
  },
  {
   "cell_type": "markdown",
   "id": "a28263c2-e22e-4099-a799-b0822e2cc854",
   "metadata": {},
   "source": [
    "### Find the minimum 95% Value at Risk (Var) portfolio of Mag 7 stocks over the last three years"
   ]
  },
  {
   "cell_type": "markdown",
   "id": "1acca0a3-691e-4405-a330-86afc9cddcda",
   "metadata": {},
   "source": [
    "More on VaR [here](https://en.wikipedia.org/wiki/Value_at_risk)."
   ]
  },
  {
   "cell_type": "markdown",
   "id": "60cc19d8-c3ca-4f12-bc64-342b87e74754",
   "metadata": {},
   "source": [
    "### Find the minimum draw down portfolio of Mag 7 stocks over the last three years"
   ]
  },
  {
   "cell_type": "markdown",
   "id": "66e4e425-1ec4-4f4a-890d-dac809818c39",
   "metadata": {},
   "source": [
    "### Find the minimum draw down portfolio for the sample with complete data for the current Dow-Jones Industrial Average (DJIA) stocks"
   ]
  },
  {
   "cell_type": "markdown",
   "id": "af036246-bea7-4324-ae0c-bfb8cafe7951",
   "metadata": {},
   "source": [
    "You can find the [DJIA tickers on Wikipedia](https://en.wikipedia.org/wiki/Dow_Jones_Industrial_Average)."
   ]
  },
  {
   "cell_type": "markdown",
   "id": "564991c1-0cee-4668-8dd5-ce025575cdf7",
   "metadata": {},
   "source": [
    "### Plot the minimum-variance frontier for the sample with complete data for the current the DJIA stocks"
   ]
  },
  {
   "cell_type": "markdown",
   "id": "7f58fcc6-c41e-447d-aef5-0c9d601374eb",
   "metadata": {},
   "source": [
    "### Find the maximum Sharpe Ratio portfolio for the sample with complete data for the current the DJIA stocks"
   ]
  },
  {
   "cell_type": "code",
   "execution_count": null,
   "id": "9f634793-1908-4a51-957d-fbb023b34852",
   "metadata": {},
   "outputs": [],
   "source": []
  }
 ],
 "metadata": {
  "author": "Richard Herron",
  "kernelspec": {
   "display_name": "Python 3 (ipykernel)",
   "language": "python",
   "name": "python3"
  },
  "language_info": {
   "codemirror_mode": {
    "name": "ipython",
    "version": 3
   },
   "file_extension": ".py",
   "mimetype": "text/x-python",
   "name": "python",
   "nbconvert_exporter": "python",
   "pygments_lexer": "ipython3",
   "version": "3.12.9"
  },
  "title": "Herron Topic 4 - Practice"
 },
 "nbformat": 4,
 "nbformat_minor": 5
}
