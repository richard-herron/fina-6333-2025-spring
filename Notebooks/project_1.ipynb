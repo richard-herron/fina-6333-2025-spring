{
 "cells": [
  {
   "cell_type": "markdown",
   "id": "a19afbca-2491-4856-bc17-2959284df2ef",
   "metadata": {},
   "source": [
    "# Project 1"
   ]
  },
  {
   "cell_type": "markdown",
   "id": "38a6df9a-6b91-4aa0-b866-0f505289c504",
   "metadata": {},
   "source": [
    "## Purpose\n",
    "\n",
    "I have two goals for this project:\n",
    "\n",
    "1. Help you learn to compare two different foreign exchange (forex) trading strategies in Python\n",
    "2. Help you work on a real-world task that an industry partner considers interesting and worthwhile"
   ]
  },
  {
   "attachments": {},
   "cell_type": "markdown",
   "id": "eac083c1-db59-4412-b0f4-76bad302deee",
   "metadata": {},
   "source": [
    "## Assignment\n",
    "\n",
    "Our industry partner trades forex for a multinational client.\n",
    "This client wants our partner to compare its current active trading approach to a new zero-basis banking approach with passive or automatic trading.\n",
    "\n",
    "***Our assignment:***\n",
    "Analyze these two approaches, summarize their advantages and disadvantages, and recommend a plan of action for our partner.\n",
    "Your plan should include an executive summary and supporting figures and tables.\n",
    "Here are ideas to consider:\n",
    "\n",
    "1. Our partner provided her thought process in `Student Python Research.docx` and plans to visit one section virtually\n",
    "2. Consider only the USD/CAD pair\n",
    "3. ~~Consider all transaction costs~~\n",
    "    1. ~~Use a variable `spread` to account for transaction costs that increase linearly with trade size (e.g., market orders pay one-half of the bid-ask spread or `0.5 * spread * size`)~~\n",
    "    2. ~~Use a variable `gamma` to account for transaction costs that increase with trade size *squared* (e.g., large orders have market impacts that increase quickly with size or `gamma * size * size`)~~\n",
    "    3. ~~Set `spread` and `gamma` to 0.0001 to approximate the real world~~\n",
    "5. At a minimum, compare the final dollar values with both approaches\n",
    "6. You might also consider the best final dollar value that an active trader could achieve, *plus any other interesting aspects of these data*\n",
    "7. Consider all scenarios that our industry partner provides\n",
    "8. Title, label, and caption your figures and tables and reference them in your report"
   ]
  },
  {
   "cell_type": "markdown",
   "id": "6cc0521f-e6f8-4244-992d-2d1b482e0501",
   "metadata": {},
   "source": [
    "## Criteria\n",
    "\n",
    "@tbl-grading-rubric provides the project grading rubric.\n",
    "The project is worth 200 points.\n",
    "The peer reviews are worth 100 points, and students will receive their median score.\n",
    "Almost all students earn perfect peer review scores, so I will factor that into project scores.\n",
    "For example, a project score *without peer review scores* of $77.5\\%$ converts to a project score *with perfect peer review scores* of $85\\%$ because $\\frac{0.775 \\times 200 + 1.00 \\times 100}{300} = 0.85 = 85\\%$.\n",
    "\n",
    "| Topic | Points |\n",
    "|:------|:-------|\n",
    "| Clarity, correctness, and completeness of calculations          |  60 |\n",
    "| Clarity, correctness, and completeness of visualizations        |  60 |\n",
    "| Clarity, correctness, and completeness of discussions           |  60 |\n",
    "| Correctness of submission according to the deliverables section |  20 |\n",
    "| Total                                                           | 200 |\n",
    "\n",
    ": This table provides the project grading rubric  {#tbl-grading-rubric tbl-colwidths=\"[90,10]\"}"
   ]
  },
  {
   "cell_type": "markdown",
   "id": "0db0e1f5-4f23-469c-b760-041b92fb2195",
   "metadata": {},
   "source": [
    "## Deliverables\n",
    "\n",
    "Upload the following as unzipped files to Canvas by 11:59 PM on 2/28:\n",
    "\n",
    "1. One Jupyter notebook that contains your report and performs *all* your analysis\n",
    "   1. Name this file `project_1.ipynb` for me to run your code\n",
    "   2. Your notebook must run on my computer; I will place the data file in the same folder as your notebook\n",
    "   3. You may not edit the Word documents after you create them\n",
    "2. One Quarto-generated Word document *without code* for our partner to review\n",
    "   1. Name this file `project_1_without_code.docx`\n",
    "   2. Typing `echo: false` in the first cell of this Jupyter notebook hides code in your Word document\n",
    "3. One Quarto-generated Word document *with code* for me to grade\n",
    "   1. Name this file `project_1_with_code.docx`\n",
    "   2. Typing `echo: true` in the first cell of this Jupyter notebook displays code in your Word document\n",
    "\n",
    "Here is some additional guidance:\n",
    "\n",
    "1. Provide a one-page executive summary on your first page; this summary can run up to halfway down the second page to avoid having to render your notebook several times to check lengths\n",
    "2. Your Word document must not exceed 15 pages in length\n",
    "3. Do not include your names anywhere in your submission"
   ]
  },
  {
   "cell_type": "markdown",
   "id": "96638522-6204-46fd-819c-7b572d539f82",
   "metadata": {},
   "source": [
    "## Data\n",
    "\n",
    "This project requires two data files.\n",
    "\n",
    "1. `USDCAD 021345.xlsx` provides recent prices of US dollars in terms of Canadian dollars. For example, $1.3875$ indicates that $1.3875$ Canadian dollars buy $1$ US dollar\n",
    "2. `NE University Trades.xlsx` provides a summary of our industry partner's trades\n",
    "\n",
    "We need to install the `openpyxl` package to read these files.\n",
    "To install it, follow these steps:\n",
    "\n",
    "1. `conda activate fina6333` (activate your course environment)\n",
    "2. `conda install openpyxl` (install `openpyxl` into your course environment\n",
    "3. `jupyter lab` (open JupyterLab to begin your analysis)\n",
    "\n",
    "We can use `pd.read_excel()` to read these files.\n",
    "For example, the following code reads the exchange rate file:"
   ]
  },
  {
   "cell_type": "code",
   "execution_count": 1,
   "id": "44655170-f842-4440-9123-6cd6d60f81f0",
   "metadata": {},
   "outputs": [],
   "source": [
    "import matplotlib.pyplot as plt\n",
    "import matplotlib.ticker as ticker\n",
    "import numpy as np\n",
    "import pandas as pd\n",
    "import yfinance as yf"
   ]
  },
  {
   "cell_type": "markdown",
   "id": "516f0b24-58a4-466d-b4bb-b30caaa34d86",
   "metadata": {},
   "source": [
    "*Edit 2025-02-24:*\n",
    "I tweaked this code cell to set `Date` as the index and added comments."
   ]
  },
  {
   "cell_type": "code",
   "execution_count": 2,
   "id": "5405548a-bcb2-4173-ba19-b62cefb25151",
   "metadata": {},
   "outputs": [],
   "source": [
    "df_1 = (\n",
    "    pd.read_excel(  # Load data from an Excel file into a pandas DataFrame\n",
    "        io='USDCAD 021325.xlsx',  # Specify the file path or name of the Excel file to read\n",
    "        sheet_name='Sheet1',  # Select the specific sheet in the Excel file (Sheet1) to load\n",
    "        names=['Date', 'USDCAD'],  # Assign custom column names 'Date' and 'USDCAD' to the data (overrides any headers in the file)\n",
    "        parse_dates=['Date'],  # Tell pandas to automatically parse the 'Date' column as datetime objects during loading\n",
    "    )\n",
    "    .assign(  # Add or modify columns in the DataFrame\n",
    "        Date=lambda x: x['Date'].dt.tz_localize('UTC')  # Take the 'Date' column, already a datetime, and assign it the UTC timezone\n",
    "        # 'x' is the DataFrame; .dt accesses datetime properties; .tz_localize('UTC') makes it timezone-aware as UTC\n",
    "    )\n",
    "    .set_index('Date')  # Set the 'Date' column (now UTC timezone-aware) as the DataFrame's index for time-based analysis\n",
    ")"
   ]
  },
  {
   "cell_type": "code",
   "execution_count": 3,
   "id": "71e8d430-70c0-49d0-8714-5012964db30c",
   "metadata": {},
   "outputs": [
    {
     "data": {
      "text/html": [
       "<div>\n",
       "<style scoped>\n",
       "    .dataframe tbody tr th:only-of-type {\n",
       "        vertical-align: middle;\n",
       "    }\n",
       "\n",
       "    .dataframe tbody tr th {\n",
       "        vertical-align: top;\n",
       "    }\n",
       "\n",
       "    .dataframe thead th {\n",
       "        text-align: right;\n",
       "    }\n",
       "</style>\n",
       "<table border=\"1\" class=\"dataframe\">\n",
       "  <thead>\n",
       "    <tr style=\"text-align: right;\">\n",
       "      <th></th>\n",
       "      <th>USDCAD</th>\n",
       "    </tr>\n",
       "    <tr>\n",
       "      <th>Date</th>\n",
       "      <th></th>\n",
       "    </tr>\n",
       "  </thead>\n",
       "  <tbody>\n",
       "    <tr>\n",
       "      <th>2024-08-01 17:05:00+00:00</th>\n",
       "      <td>1.3877</td>\n",
       "    </tr>\n",
       "    <tr>\n",
       "      <th>2024-08-01 17:10:00+00:00</th>\n",
       "      <td>1.3877</td>\n",
       "    </tr>\n",
       "    <tr>\n",
       "      <th>2024-08-01 17:15:00+00:00</th>\n",
       "      <td>1.3875</td>\n",
       "    </tr>\n",
       "    <tr>\n",
       "      <th>2024-08-01 17:20:00+00:00</th>\n",
       "      <td>1.3874</td>\n",
       "    </tr>\n",
       "    <tr>\n",
       "      <th>2024-08-01 17:25:00+00:00</th>\n",
       "      <td>1.3875</td>\n",
       "    </tr>\n",
       "  </tbody>\n",
       "</table>\n",
       "</div>"
      ],
      "text/plain": [
       "                           USDCAD\n",
       "Date                             \n",
       "2024-08-01 17:05:00+00:00  1.3877\n",
       "2024-08-01 17:10:00+00:00  1.3877\n",
       "2024-08-01 17:15:00+00:00  1.3875\n",
       "2024-08-01 17:20:00+00:00  1.3874\n",
       "2024-08-01 17:25:00+00:00  1.3875"
      ]
     },
     "execution_count": 3,
     "metadata": {},
     "output_type": "execute_result"
    }
   ],
   "source": [
    "df_1.head()"
   ]
  },
  {
   "cell_type": "markdown",
   "id": "80734692-d4a0-462b-b152-f1a4a4dfe847",
   "metadata": {},
   "source": [
    "*Edit 2025-02-24:*\n",
    "I added this code to parse the trades spreadsheet."
   ]
  },
  {
   "cell_type": "code",
   "execution_count": 4,
   "id": "70e2546c-581b-4a3b-9102-8c25bd961506",
   "metadata": {},
   "outputs": [],
   "source": [
    "df_2 = (\n",
    "    pd.read_excel(  # Load data from an Excel file into a pandas DataFrame\n",
    "        io='NE University Trades.xlsx',  # Specify the file path or name of the Excel file\n",
    "        sheet_name='Sheet1',  # Select the specific sheet in the Excel file to read\n",
    "        usecols='A:I',  # Read only columns A through I (first 9 columns) to focus on relevant data\n",
    "        skiprows=2,  # Skip the first 2 rows (e.g., headers or metadata) to get to the actual data\n",
    "    )\n",
    "    .assign(  # Add or modify columns in the DataFrame\n",
    "        Date=lambda x: (  # Create or overwrite the 'Date' column using a lambda function; 'x' represents the DataFrame\n",
    "            pd.to_datetime(  # Convert a string to a pandas datetime object\n",
    "                x['Date'].astype(str) + ' ' +  # Convert the 'Date' column to strings and add a space\n",
    "                x['Time CST'].apply(lambda t: t.strftime('%H:%M:%S'))  # Convert 'Time CST' (Excel time objects) to 'HH:MM:SS' strings\n",
    "            )  # The result is a combined string like '2025-02-04 15:28:09'\n",
    "            .dt.tz_localize('America/Chicago')  # Assign the 'America/Chicago' timezone (CST/CDT) to the datetime\n",
    "            .dt.tz_convert('UTC')  # Convert the timezone-aware datetime from CST/CDT to UTC (e.g., adds 6 hours in winter)\n",
    "        )  # The 'Date' column now holds UTC timestamps\n",
    "    )\n",
    "    .set_index('Date')  # Set the 'Date' column (now in UTC) as the DataFrame's index for time-based operations\n",
    "    .drop(columns='Time CST')  # Remove the original 'Time CST' column since it’s now part of the 'Date' index\n",
    ")"
   ]
  },
  {
   "cell_type": "code",
   "execution_count": 5,
   "id": "65affe10-0ad8-40f9-9a7b-016c6b4185f8",
   "metadata": {},
   "outputs": [
    {
     "data": {
      "text/html": [
       "<div>\n",
       "<style scoped>\n",
       "    .dataframe tbody tr th:only-of-type {\n",
       "        vertical-align: middle;\n",
       "    }\n",
       "\n",
       "    .dataframe tbody tr th {\n",
       "        vertical-align: top;\n",
       "    }\n",
       "\n",
       "    .dataframe thead th {\n",
       "        text-align: right;\n",
       "    }\n",
       "</style>\n",
       "<table border=\"1\" class=\"dataframe\">\n",
       "  <thead>\n",
       "    <tr style=\"text-align: right;\">\n",
       "      <th></th>\n",
       "      <th>Interbank Rate</th>\n",
       "      <th>Value Date</th>\n",
       "      <th>Client Rate</th>\n",
       "      <th>Sell CAD</th>\n",
       "      <th>Buy USD</th>\n",
       "      <th>Spread BPS</th>\n",
       "      <th>Spread as %</th>\n",
       "    </tr>\n",
       "    <tr>\n",
       "      <th>Date</th>\n",
       "      <th></th>\n",
       "      <th></th>\n",
       "      <th></th>\n",
       "      <th></th>\n",
       "      <th></th>\n",
       "      <th></th>\n",
       "      <th></th>\n",
       "    </tr>\n",
       "  </thead>\n",
       "  <tbody>\n",
       "    <tr>\n",
       "      <th>2025-02-04 21:28:09+00:00</th>\n",
       "      <td>1.4329</td>\n",
       "      <td>2025-02-05</td>\n",
       "      <td>1.4374</td>\n",
       "      <td>2M</td>\n",
       "      <td>1391420.50</td>\n",
       "      <td>31</td>\n",
       "      <td>0.31</td>\n",
       "    </tr>\n",
       "    <tr>\n",
       "      <th>2025-02-12 15:42:37+00:00</th>\n",
       "      <td>1.4295</td>\n",
       "      <td>2025-02-12</td>\n",
       "      <td>1.4341</td>\n",
       "      <td>2M</td>\n",
       "      <td>1394641.79</td>\n",
       "      <td>32</td>\n",
       "      <td>0.32</td>\n",
       "    </tr>\n",
       "    <tr>\n",
       "      <th>2025-01-29 14:29:55+00:00</th>\n",
       "      <td>1.4453</td>\n",
       "      <td>2025-01-29</td>\n",
       "      <td>1.4496</td>\n",
       "      <td>1M</td>\n",
       "      <td>689840.72</td>\n",
       "      <td>29</td>\n",
       "      <td>0.29</td>\n",
       "    </tr>\n",
       "    <tr>\n",
       "      <th>2025-01-28 16:18:07+00:00</th>\n",
       "      <td>1.4394</td>\n",
       "      <td>2025-01-29</td>\n",
       "      <td>1.4438</td>\n",
       "      <td>1M</td>\n",
       "      <td>692616.71</td>\n",
       "      <td>30</td>\n",
       "      <td>0.30</td>\n",
       "    </tr>\n",
       "  </tbody>\n",
       "</table>\n",
       "</div>"
      ],
      "text/plain": [
       "                           Interbank Rate Value Date  Client Rate Sell CAD  \\\n",
       "Date                                                                         \n",
       "2025-02-04 21:28:09+00:00          1.4329 2025-02-05       1.4374       2M   \n",
       "2025-02-12 15:42:37+00:00          1.4295 2025-02-12       1.4341       2M   \n",
       "2025-01-29 14:29:55+00:00          1.4453 2025-01-29       1.4496       1M   \n",
       "2025-01-28 16:18:07+00:00          1.4394 2025-01-29       1.4438       1M   \n",
       "\n",
       "                              Buy USD  Spread BPS  Spread as %  \n",
       "Date                                                            \n",
       "2025-02-04 21:28:09+00:00  1391420.50          31         0.31  \n",
       "2025-02-12 15:42:37+00:00  1394641.79          32         0.32  \n",
       "2025-01-29 14:29:55+00:00   689840.72          29         0.29  \n",
       "2025-01-28 16:18:07+00:00   692616.71          30         0.30  "
      ]
     },
     "execution_count": 5,
     "metadata": {},
     "output_type": "execute_result"
    }
   ],
   "source": [
    "df_2"
   ]
  },
  {
   "cell_type": "markdown",
   "id": "85ac7768-c425-4cea-97c6-8ae50d25e3e8",
   "metadata": {},
   "source": [
    "## Quarto"
   ]
  },
  {
   "cell_type": "markdown",
   "id": "3aebebb8-049c-4998-ba0c-ab22e43bcd43",
   "metadata": {},
   "source": [
    "### Basics\n",
    "\n",
    "1. Use [Quarto](https://quarto.org/) to generate your Word document from your notebook\n",
    "2. Use `#` to create a title and `##` to create sections\n",
    "3. Use `-` or `1.` to create lists\n",
    "4. Use the first cell in this notebook to hide or display code with `echo=false` or `echo=true`, respectively\n",
    "5. This first cell must be a `raw` cell instead of a `code` or `markdown` cell\n",
    "6. Use `quarto render project_1.ipynb` in the same folder as your notebook to render it to a Word document\n",
    "7. Use the `cd` command in the terminal to change the working directory to the directory with your notebook"
   ]
  },
  {
   "cell_type": "markdown",
   "id": "9c8a7997-d98b-4239-b3b5-3629a88d3dc3",
   "metadata": {},
   "source": [
    "### Examples\n",
    "\n",
    "This section provides a sample analysis highlighting how code and formatting work with Quarto.\n",
    "@fig-line-plot provides a line plot of the value of a $10,000 investment in SPY, the S&P 500 SPDR ETF.\n",
    "Note that `#| label:` and `#| fig-cap:` comments at the top of the figure cell create the figure reference/link and the figure caption, respectively.\n",
    "You can learn more about cross-referencing figures and tables [here](https://quarto.org/docs/authoring/figures.html)."
   ]
  },
  {
   "cell_type": "code",
   "execution_count": 6,
   "id": "1c50c013-99fc-48f8-9815-8d056f3f5427",
   "metadata": {},
   "outputs": [],
   "source": [
    "data = (\n",
    "    yf.download(tickers='SPY', auto_adjust=False, progress=False)\n",
    "    .assign(\n",
    "        ret=lambda x: x['Adj Close'].pct_change(),\n",
    "        value=lambda x: x['ret'].pipe(np.log1p).cumsum().pipe(np.exp).mul(10_000)\n",
    "    )\n",
    ")"
   ]
  },
  {
   "cell_type": "code",
   "execution_count": 7,
   "id": "02515f5e-07b3-4393-8054-e1f19d0727d5",
   "metadata": {},
   "outputs": [
    {
     "data": {
      "image/png": "[encoded data removed]",
      "text/plain": [
       "<Figure size 640x480 with 1 Axes>"
      ]
     },
     "metadata": {},
     "output_type": "display_data"
    }
   ],
   "source": [
    "#| label: fig-line-plot\n",
    "#| fig-cap: \"This line plot shows the value of a $10,000 investment in the S&P 500 SPDR ETF at the close of its first day of trading\"\n",
    "\n",
    "data['value'].plot()\n",
    "plt.ylabel('Value ($)')\n",
    "plt.suptitle('Value of $10,000 Investment in SPY')\n",
    "plt.title(f'Investment made at the market close on {data.index[0]: %b %d, %Y}')\n",
    "plt.gca().yaxis.set_major_formatter(ticker.FuncFormatter(lambda x, p: format(int(x), ',')))\n",
    "\n",
    "plt.show()"
   ]
  },
  {
   "cell_type": "markdown",
   "id": "544ba12d-662b-4fe9-a16d-fe9d5392e4ac",
   "metadata": {},
   "source": [
    "## Artificial Intelligence (AI)\n",
    "\n",
    "You may use AI (e.g., ChatGPT) to *help* you prepare your analysis and discussion.\n",
    "However:\n",
    "\n",
    "1. AI will not do very well on this project without significant input from your team\n",
    "2. AI will not be a defense against plagiarism because AI should not *write* your code and slides; If you plagiarize an AI that plagiarizes other sources, you are responsible for plagiarizing the AI and its sources"
   ]
  }
 ],
 "metadata": {
  "kernelspec": {
   "display_name": "Python 3 (ipykernel)",
   "language": "python",
   "name": "python3"
  },
  "language_info": {
   "codemirror_mode": {
    "name": "ipython",
    "version": 3
   },
   "file_extension": ".py",
   "mimetype": "text/x-python",
   "name": "python",
   "nbconvert_exporter": "python",
   "pygments_lexer": "ipython3",
   "version": "3.12.9"
  }
 },
 "nbformat": 4,
 "nbformat_minor": 5
}
