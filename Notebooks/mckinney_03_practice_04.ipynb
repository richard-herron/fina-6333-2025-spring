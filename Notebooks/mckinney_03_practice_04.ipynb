{
 "cells": [
  {
   "cell_type": "markdown",
   "id": "e1ac131b-4292-4bd1-860b-de2f34443775",
   "metadata": {},
   "source": [
    "# McKinney Chapter 3 - Practice - Blank"
   ]
  },
  {
   "cell_type": "markdown",
   "id": "33492d9e-dd23-4069-8c43-fd5c14ef5b34",
   "metadata": {},
   "source": [
    "## Announcements"
   ]
  },
  {
   "cell_type": "markdown",
   "id": "fa9d9e65-0890-4e5c-85e3-c1b21227ea0e",
   "metadata": {},
   "source": [
    "1. Keep forming groups on Canvas under *People* in the left sidebar\n",
    "2. You must ask me for groups larger than four students"
   ]
  },
  {
   "cell_type": "markdown",
   "id": "e7f4029d-1a0a-4174-a765-419b5bb0f932",
   "metadata": {},
   "source": [
    "## Five-Minute Review"
   ]
  },
  {
   "cell_type": "markdown",
   "id": "6f6a4ae1-5b0d-4c25-ab79-5000ad00b052",
   "metadata": {},
   "source": [
    "### List"
   ]
  },
  {
   "cell_type": "markdown",
   "id": "b4b967d4-52e7-455c-a3f5-8c1963918bd8",
   "metadata": {},
   "source": [
    "A list is an ordered collection of objects that is changeable (mutable).\n",
    "You can create an empty list using either `[]` or `list()`."
   ]
  },
  {
   "cell_type": "code",
   "execution_count": 1,
   "id": "fea8f8c4-6669-4a30-8beb-67a9155aa87a",
   "metadata": {},
   "outputs": [
    {
     "data": {
      "text/plain": [
       "[1, 2, 3, [1, 2, 3, [1, 2, 3]]]"
      ]
     },
     "execution_count": 1,
     "metadata": {},
     "output_type": "execute_result"
    }
   ],
   "source": [
    "my_list = [1, 2, 3, [1, 2, 3, [1, 2, 3]]]\n",
    "my_list"
   ]
  },
  {
   "cell_type": "markdown",
   "id": "162dd20f-d646-4c2a-bc19-5a3e0ec984c2",
   "metadata": {},
   "source": [
    "***Python is zero-indexed!***"
   ]
  },
  {
   "cell_type": "code",
   "execution_count": 2,
   "id": "1367f7f1-2879-4fcd-a873-88612fcc0ab9",
   "metadata": {},
   "outputs": [
    {
     "data": {
      "text/plain": [
       "1"
      ]
     },
     "execution_count": 2,
     "metadata": {},
     "output_type": "execute_result"
    }
   ],
   "source": [
    "my_list[0]"
   ]
  },
  {
   "cell_type": "code",
   "execution_count": 3,
   "id": "ae4a8b61-da89-422b-a1ff-d8b6e82b35a1",
   "metadata": {},
   "outputs": [
    {
     "data": {
      "text/plain": [
       "[1, 2, 3]"
      ]
     },
     "execution_count": 3,
     "metadata": {},
     "output_type": "execute_result"
    }
   ],
   "source": [
    "my_list[:3] # to get first 3 objects, :3"
   ]
  },
  {
   "cell_type": "code",
   "execution_count": 4,
   "id": "cac448d9-43bd-4535-a4b1-0743bb06b781",
   "metadata": {},
   "outputs": [
    {
     "data": {
      "text/plain": [
       "[2, 3, [1, 2, 3, [1, 2, 3]]]"
      ]
     },
     "execution_count": 4,
     "metadata": {},
     "output_type": "execute_result"
    }
   ],
   "source": [
    "my_list[1:4] # to get next 3 objects from 1, go from 1 to 1+3 or 1:3"
   ]
  },
  {
   "cell_type": "markdown",
   "id": "891da522-ba67-47c6-ae74-6a7514a889aa",
   "metadata": {},
   "source": [
    "### Tuple"
   ]
  },
  {
   "cell_type": "markdown",
   "id": "9b6293d8-ed12-45df-9598-ef6215aae3be",
   "metadata": {},
   "source": [
    "A tuple is similar to a list but un-changeable (immutable).\n",
    "You can create a tuple using parentheses `()` or the `tuple()` function."
   ]
  },
  {
   "cell_type": "code",
   "execution_count": 5,
   "id": "c529bb80-332a-4768-a16b-bb1b8707dae0",
   "metadata": {},
   "outputs": [
    {
     "data": {
      "text/plain": [
       "(1, 2, 3, (1, 2, 3, (1, 2, 3)))"
      ]
     },
     "execution_count": 5,
     "metadata": {},
     "output_type": "execute_result"
    }
   ],
   "source": [
    "my_tuple = (1, 2, 3, (1, 2, 3, (1, 2, 3)))\n",
    "my_tuple"
   ]
  },
  {
   "cell_type": "markdown",
   "id": "b0c71885-2351-4c72-8b26-f9d6e51bc93b",
   "metadata": {},
   "source": [
    "***Python is zero-indexed!***"
   ]
  },
  {
   "cell_type": "code",
   "execution_count": 6,
   "id": "7a683f24-efe7-4af5-8f72-3c836218395c",
   "metadata": {},
   "outputs": [
    {
     "data": {
      "text/plain": [
       "1"
      ]
     },
     "execution_count": 6,
     "metadata": {},
     "output_type": "execute_result"
    }
   ],
   "source": [
    "my_tuple[0]"
   ]
  },
  {
   "cell_type": "markdown",
   "id": "f624be84-73be-495e-ad3c-0541d8c7677d",
   "metadata": {},
   "source": [
    "***Tuples are immutable, so they cannot be changed!***"
   ]
  },
  {
   "cell_type": "code",
   "execution_count": 7,
   "id": "7b41acf0-5635-435b-8e31-2acd8e874ad5",
   "metadata": {},
   "outputs": [],
   "source": [
    "# my_tuple[0] = 2_001\n",
    "# # ---------------------------------------------------------------------------\n",
    "# # TypeError                                 Traceback (most recent call last)\n",
    "# # Cell In[10], line 1\n",
    "# # ----> 1 my_tuple[0] = 2_001\n",
    "\n",
    "# # TypeError: 'tuple' object does not support item assignment"
   ]
  },
  {
   "cell_type": "markdown",
   "id": "d03f80d6-c90f-4579-869b-e97884f06d5d",
   "metadata": {},
   "source": [
    "### Dictionary"
   ]
  },
  {
   "cell_type": "markdown",
   "id": "d655dc41-d261-4320-b4e7-649708b3608b",
   "metadata": {},
   "source": [
    "A dictionary is an ordered collection of key-value pairs that are changeable (mutable).\n",
    "You can create an empty dictionary using either `{}` or the `dict()` function. "
   ]
  },
  {
   "cell_type": "code",
   "execution_count": 8,
   "id": "06cecc84-090e-4baf-aef6-be2711e776a3",
   "metadata": {},
   "outputs": [
    {
     "data": {
      "text/plain": [
       "{'wb': 'Warren Buffett', 'sk': 'Seth Klarman'}"
      ]
     },
     "execution_count": 8,
     "metadata": {},
     "output_type": "execute_result"
    }
   ],
   "source": [
    "my_dict = {'wb': 'Warren Buffett', 'sk': 'Seth Klarman'}\n",
    "my_dict"
   ]
  },
  {
   "cell_type": "markdown",
   "id": "3278ffa2-515e-418b-9b57-06afd1b41f94",
   "metadata": {},
   "source": [
    "- The *key* can be anything hashable (string, integer, tuple), but I (almost) always make the key a string\n",
    "- The *value* can be any python object"
   ]
  },
  {
   "cell_type": "code",
   "execution_count": 9,
   "id": "326be8dc-91fb-4b7a-9296-c26f02cd97cd",
   "metadata": {},
   "outputs": [
    {
     "data": {
      "text/plain": [
       "'Warren Buffett'"
      ]
     },
     "execution_count": 9,
     "metadata": {},
     "output_type": "execute_result"
    }
   ],
   "source": [
    "my_dict['wb']"
   ]
  },
  {
   "cell_type": "code",
   "execution_count": 10,
   "id": "99d64f37-3ef1-4713-842a-05d1ce4e6e8d",
   "metadata": {},
   "outputs": [
    {
     "data": {
      "text/plain": [
       "{'wb': 'Warren Buffett', 'sk': 'Seth Klarman', 'pl': 'Peter Lynch'}"
      ]
     },
     "execution_count": 10,
     "metadata": {},
     "output_type": "execute_result"
    }
   ],
   "source": [
    "my_dict['pl'] = 'Peter Lynch'\n",
    "my_dict"
   ]
  },
  {
   "cell_type": "code",
   "execution_count": 11,
   "id": "5110e0b7-6331-4ed2-884f-04d32a9e3917",
   "metadata": {},
   "outputs": [
    {
     "data": {
      "text/plain": [
       "{'wb': 'Warren Buffett',\n",
       " 'sk': 'Seth Klarman',\n",
       " 'pl': 'Peter Lynch',\n",
       " (0, 1, 2): {'ad': 'Another dictionary!'}}"
      ]
     },
     "execution_count": 11,
     "metadata": {},
     "output_type": "execute_result"
    }
   ],
   "source": [
    "my_dict[(0, 1, 2)] = {'ad': 'Another dictionary!'}\n",
    "my_dict"
   ]
  },
  {
   "cell_type": "markdown",
   "id": "78f06d8a-2ec7-4712-a0b7-74c06b1e1d58",
   "metadata": {},
   "source": [
    "### List Comprehension"
   ]
  },
  {
   "cell_type": "markdown",
   "id": "de94f879-83c8-41d8-a67f-91a40c5bd6b5",
   "metadata": {},
   "source": [
    "A list comprehension is a concise way of creating a new list by iterating over an existing list or other iterable object.\n",
    "It is more time and space-efficient than traditional for loops and offers a cleaner syntax.\n",
    "The basic syntax of a list comprehension is `new_list = [expression for item in iterable if condition]` where: \n",
    "\n",
    "1. `expression` is the operation to be performed on each element of the iterable\n",
    "1. `item` is the current element being processed\n",
    "1. `iterable` is the list or other iterable object being iterated over\n",
    "1. `condition` is an optional filter that only accepts items that evaluate to True.\n",
    "    \n",
    "For example, we can use the following list comprehension to create a new list of even numbers from 0 to 8: `even_numbers = [x for x in range(9) if x % 2 == 0]`\n",
    "\n",
    "List comprehensions are a powerful tool in Python that can help you write more efficient and readable code (i.e., more Pythonic code)."
   ]
  },
  {
   "cell_type": "markdown",
   "id": "32b8335f-80c9-4a98-a5aa-2ebda16e9029",
   "metadata": {},
   "source": [
    "What if we wanted multiples of 3 or 5 from 1 to 25?"
   ]
  },
  {
   "cell_type": "code",
   "execution_count": 12,
   "id": "4086aea4-3e74-445a-beed-8e0945d9b185",
   "metadata": {},
   "outputs": [
    {
     "data": {
      "text/plain": [
       "[3, 5, 6, 9, 10, 12, 15, 18, 20, 21, 24, 25]"
      ]
     },
     "execution_count": 12,
     "metadata": {},
     "output_type": "execute_result"
    }
   ],
   "source": [
    "threes_fives = [i for i in range(1, 26) if (i%3==0) | (i%5==0)]\n",
    "threes_fives"
   ]
  },
  {
   "cell_type": "code",
   "execution_count": 13,
   "id": "09ed2280-820c-4e24-bb9a-39123f07c786",
   "metadata": {},
   "outputs": [
    {
     "name": "stdout",
     "output_type": "stream",
     "text": [
      "3\n",
      "5\n",
      "6\n",
      "9\n",
      "10\n",
      "12\n",
      "15\n",
      "18\n",
      "20\n",
      "21\n",
      "24\n",
      "25\n"
     ]
    },
    {
     "data": {
      "text/plain": [
       "[None, None, None, None, None, None, None, None, None, None, None, None]"
      ]
     },
     "execution_count": 13,
     "metadata": {},
     "output_type": "execute_result"
    }
   ],
   "source": [
    "threes_fives_2 = [print(i) for i in range(1, 26) if (i%3==0) | (i%5==0)]\n",
    "threes_fives_2"
   ]
  },
  {
   "cell_type": "markdown",
   "id": "35ee69aa-e5b3-4f9b-8891-de06cf8a2a06",
   "metadata": {
    "editable": true,
    "slideshow": {
     "slide_type": ""
    },
    "tags": []
   },
   "source": [
    "## Practice"
   ]
  },
  {
   "cell_type": "markdown",
   "id": "280ff089-3829-41e3-b0e3-7ef0a99b1616",
   "metadata": {},
   "source": [
    "### Swap the values assigned to `a` and `b` using a third variable `c`."
   ]
  },
  {
   "cell_type": "code",
   "execution_count": 14,
   "id": "5a8ae035-8c7e-49e1-a1d8-65153bfc46b2",
   "metadata": {},
   "outputs": [],
   "source": [
    "a = 1\n",
    "b = 2"
   ]
  },
  {
   "cell_type": "code",
   "execution_count": 15,
   "id": "095bf354-5598-4dcc-beb1-2bfbd6d793a3",
   "metadata": {},
   "outputs": [],
   "source": [
    "c = a\n",
    "a = b\n",
    "b = c"
   ]
  },
  {
   "cell_type": "code",
   "execution_count": 16,
   "id": "9a6ca65f-be85-42ac-902b-8c836d7732da",
   "metadata": {},
   "outputs": [
    {
     "name": "stdout",
     "output_type": "stream",
     "text": [
      "a is 2 and b is 1\n"
     ]
    }
   ],
   "source": [
    "print(f'a is {a} and b is {b}')"
   ]
  },
  {
   "cell_type": "markdown",
   "id": "0be6296b-9c2a-406a-aded-194f2104a06a",
   "metadata": {},
   "source": [
    "---\n",
    "\n",
    "***More on f-strings!***\n",
    "\n",
    "F-strings offer a concise way to embed expressions inside string literals, using curly braces `{}`.\n",
    "Prefixed with `f` or `F`, these strings allow for easy formatting of variables, numbers, and expressions. For example:\n",
    "\n",
    "```{python}\n",
    "name = \"Alice\"\n",
    "print(f\"Hello, {name}!\")\n",
    "```\n",
    "\n",
    "This outputs \"Hello, Alice!\".\n",
    "F-strings simplify complex formatting, making code more readable.\n",
    "For a deeper understanding and more examples:\n",
    "<https://realpython.com/python-f-strings/>\n",
    "\n",
    "---"
   ]
  },
  {
   "cell_type": "markdown",
   "id": "04886f77-e0ae-4ab0-9263-2f0c36b8b4df",
   "metadata": {},
   "source": [
    "### Swap the values assigned to `a` and `b` ***without*** using a third variable `c`."
   ]
  },
  {
   "cell_type": "code",
   "execution_count": 17,
   "id": "ad3f305c-d725-41b3-9eee-a61f47e0e0ae",
   "metadata": {},
   "outputs": [],
   "source": [
    "a = 1\n",
    "b = 2"
   ]
  },
  {
   "cell_type": "code",
   "execution_count": 18,
   "id": "cc9d023e-a612-4fc2-a4dc-32d3825c8c97",
   "metadata": {},
   "outputs": [],
   "source": [
    "b, a = a, b"
   ]
  },
  {
   "cell_type": "code",
   "execution_count": 19,
   "id": "867d0b4c-8a0b-4ebf-a119-85f0e19e5756",
   "metadata": {},
   "outputs": [
    {
     "name": "stdout",
     "output_type": "stream",
     "text": [
      "a is 2 and b is 1\n"
     ]
    }
   ],
   "source": [
    "print(f'a is {a} and b is {b}')"
   ]
  },
  {
   "cell_type": "markdown",
   "id": "090450f0-6545-496e-8a5f-6e5fa6e35b80",
   "metadata": {},
   "source": [
    "### What is the output of the following code and why?"
   ]
  },
  {
   "cell_type": "code",
   "execution_count": 20,
   "id": "980b0ed9-ab91-47c9-86fe-f4c485a08d77",
   "metadata": {},
   "outputs": [
    {
     "data": {
      "text/plain": [
       "(1, 1, False)"
      ]
     },
     "execution_count": 20,
     "metadata": {},
     "output_type": "execute_result"
    }
   ],
   "source": [
    "1, 1, 1 == (1, 1, 1)"
   ]
  },
  {
   "cell_type": "markdown",
   "id": "caee4efe-fcfe-49e7-bab8-c03b53c7a2dd",
   "metadata": {},
   "source": [
    "Without parentheses `()`, Python reads the final element in the tuple as `1 == (1, 1, 1)`, which is `False`.\n",
    "We can use parentheses `()` to force Python to do what we want!"
   ]
  },
  {
   "cell_type": "code",
   "execution_count": 21,
   "id": "7f0c78f6-601b-409a-9584-d039d4be5300",
   "metadata": {},
   "outputs": [
    {
     "data": {
      "text/plain": [
       "True"
      ]
     },
     "execution_count": 21,
     "metadata": {},
     "output_type": "execute_result"
    }
   ],
   "source": [
    "(1, 1, 1) == (1, 1, 1)"
   ]
  },
  {
   "cell_type": "markdown",
   "id": "ef57da57-bcde-4c4c-9131-2fdab489bcff",
   "metadata": {},
   "source": [
    "For this example, we must use parentheses `()` to be unambiguous!"
   ]
  },
  {
   "cell_type": "markdown",
   "id": "14746ac1-7e63-4673-a0ee-7eefc66838e1",
   "metadata": {},
   "source": [
    "### Create a list `l1` of integers from 1 to 100."
   ]
  },
  {
   "cell_type": "code",
   "execution_count": 22,
   "id": "323491e6-2429-466f-8183-43026bf22162",
   "metadata": {},
   "outputs": [
    {
     "data": {
      "text/plain": [
       "[1, 2, 3, 4, 5]"
      ]
     },
     "execution_count": 22,
     "metadata": {},
     "output_type": "execute_result"
    }
   ],
   "source": [
    "l1 = list(range(1, 101))\n",
    "l1[:5]"
   ]
  },
  {
   "cell_type": "markdown",
   "id": "8c8cc667-78cf-4628-921d-10c96888e48c",
   "metadata": {},
   "source": [
    "### Slice `l1` to create a list `l2` of integers from 60 to 50 (inclusive)."
   ]
  },
  {
   "cell_type": "code",
   "execution_count": 23,
   "id": "533c6a4e-f19d-40e6-9736-1449e649180f",
   "metadata": {},
   "outputs": [
    {
     "data": {
      "text/plain": [
       "59"
      ]
     },
     "execution_count": 23,
     "metadata": {},
     "output_type": "execute_result"
    }
   ],
   "source": [
    "l1.index(60)"
   ]
  },
  {
   "cell_type": "code",
   "execution_count": 24,
   "id": "c4d8434b-6b1c-4efb-beeb-7a646597963e",
   "metadata": {},
   "outputs": [
    {
     "data": {
      "text/plain": [
       "[60, 59, 58, 57, 56, 55, 54, 53, 52, 51, 50]"
      ]
     },
     "execution_count": 24,
     "metadata": {},
     "output_type": "execute_result"
    }
   ],
   "source": [
    "l2 = l1[59:48:-1]\n",
    "l2"
   ]
  },
  {
   "cell_type": "code",
   "execution_count": 25,
   "id": "9b58d0a8-0d6a-4c12-9d3d-37676f926953",
   "metadata": {},
   "outputs": [
    {
     "data": {
      "text/plain": [
       "[60, 59, 58, 57, 56, 55, 54, 53, 52, 51, 50]"
      ]
     },
     "execution_count": 25,
     "metadata": {},
     "output_type": "execute_result"
    }
   ],
   "source": [
    "l2_alt_1 = l1[49:60]\n",
    "l2_alt_1.reverse()\n",
    "l2_alt_1"
   ]
  },
  {
   "cell_type": "code",
   "execution_count": 26,
   "id": "33d55075-db03-4c94-b784-4e0647ea8ade",
   "metadata": {},
   "outputs": [
    {
     "data": {
      "text/plain": [
       "[60, 59, 58, 57, 56, 55, 54, 53, 52, 51, 50]"
      ]
     },
     "execution_count": 26,
     "metadata": {},
     "output_type": "execute_result"
    }
   ],
   "source": [
    "l2_alt_2 = l1[49:60]\n",
    "l2_alt_2.sort(reverse=True)\n",
    "l2_alt_2"
   ]
  },
  {
   "cell_type": "code",
   "execution_count": 27,
   "id": "effbdf2f-6167-4a93-8e13-cd01dd4a0ec2",
   "metadata": {},
   "outputs": [
    {
     "data": {
      "text/plain": [
       "[60, 59, 58, 57, 56, 55, 54, 53, 52, 51, 50]"
      ]
     },
     "execution_count": 27,
     "metadata": {},
     "output_type": "execute_result"
    }
   ],
   "source": [
    "l1[49:60][::-1]"
   ]
  },
  {
   "cell_type": "markdown",
   "id": "230d0817-c32b-4448-9052-f2128240549e",
   "metadata": {},
   "source": [
    "### Create a list `l3` of odd integers from 1 to 21."
   ]
  },
  {
   "cell_type": "code",
   "execution_count": 28,
   "id": "1a044d86-f5e1-42de-97ac-24ed60da153c",
   "metadata": {},
   "outputs": [
    {
     "data": {
      "text/plain": [
       "[1, 3, 5, 7, 9, 11, 13, 15, 17, 19, 21]"
      ]
     },
     "execution_count": 28,
     "metadata": {},
     "output_type": "execute_result"
    }
   ],
   "source": [
    "l3 = list(range(1, 22, 2))\n",
    "l3"
   ]
  },
  {
   "cell_type": "code",
   "execution_count": 29,
   "id": "1064350e-6bf0-411b-88d3-ec2f6fe97ab6",
   "metadata": {},
   "outputs": [
    {
     "data": {
      "text/plain": [
       "[1, 3, 5, 7, 9, 11, 13, 15, 17, 19, 21]"
      ]
     },
     "execution_count": 29,
     "metadata": {},
     "output_type": "execute_result"
    }
   ],
   "source": [
    "l3_alt_1 = []\n",
    "for i in range(1, 22):\n",
    "    if i%2 != 0:\n",
    "        l3_alt_1.append(i)        \n",
    "\n",
    "l3_alt_1"
   ]
  },
  {
   "cell_type": "code",
   "execution_count": 30,
   "id": "417ba6af-8cd3-4fbe-bad2-0c7abd5af649",
   "metadata": {},
   "outputs": [
    {
     "data": {
      "text/plain": [
       "[1, 3, 5, 7, 9, 11, 13, 15, 17, 19, 21]"
      ]
     },
     "execution_count": 30,
     "metadata": {},
     "output_type": "execute_result"
    }
   ],
   "source": [
    "l3_alt_2 = [i for i in range(1, 22) if i%2!=0]\n",
    "l3_alt_2"
   ]
  },
  {
   "cell_type": "markdown",
   "id": "f1d41431-74bd-41c7-8e41-e14f7c4189fe",
   "metadata": {},
   "source": [
    "### Create a list `l4` of the squares of integers from 1 to 100."
   ]
  },
  {
   "cell_type": "code",
   "execution_count": 31,
   "id": "23cfae81-d78e-4215-bd83-02e47a25177f",
   "metadata": {},
   "outputs": [
    {
     "data": {
      "text/plain": [
       "[1, 4, 9, 16, 25]"
      ]
     },
     "execution_count": 31,
     "metadata": {},
     "output_type": "execute_result"
    }
   ],
   "source": [
    "l4 = [i**2 for i in range(1, 101)]\n",
    "l4[:5]"
   ]
  },
  {
   "cell_type": "markdown",
   "id": "d07ccc33-f6e6-4810-8dfc-5549efb30648",
   "metadata": {},
   "source": [
    "### Create a list `l5` that contains the squares of ***odd*** integers from 1 to 100."
   ]
  },
  {
   "cell_type": "code",
   "execution_count": 32,
   "id": "bb7a0d91-a9f4-4715-baca-593f32effec0",
   "metadata": {},
   "outputs": [
    {
     "data": {
      "text/plain": [
       "[1, 9, 25, 49, 81]"
      ]
     },
     "execution_count": 32,
     "metadata": {},
     "output_type": "execute_result"
    }
   ],
   "source": [
    "l5 = [i**2 for i in range(1, 101) if i%2!=0]\n",
    "l5[:5]"
   ]
  },
  {
   "cell_type": "code",
   "execution_count": 33,
   "id": "c0e401a6-0448-4b13-be8e-955ca2b11c90",
   "metadata": {},
   "outputs": [
    {
     "data": {
      "text/plain": [
       "[1, 9, 25, 49, 81]"
      ]
     },
     "execution_count": 33,
     "metadata": {},
     "output_type": "execute_result"
    }
   ],
   "source": [
    "l5_alt = [i**2 for i in range(1, 101, 2)]\n",
    "l5_alt[:5]"
   ]
  },
  {
   "cell_type": "code",
   "execution_count": 34,
   "id": "e8631dac-1c03-494a-a857-105889ba7128",
   "metadata": {},
   "outputs": [
    {
     "data": {
      "text/plain": [
       "True"
      ]
     },
     "execution_count": 34,
     "metadata": {},
     "output_type": "execute_result"
    }
   ],
   "source": [
    "l5 == l5_alt"
   ]
  },
  {
   "cell_type": "markdown",
   "id": "a8d0afa5-64ef-486e-96a7-6063c78a18ce",
   "metadata": {},
   "source": [
    "Which one is faster?!"
   ]
  },
  {
   "cell_type": "code",
   "execution_count": 35,
   "id": "9f8f7dbf-ba11-4c90-90e4-9343d5676a67",
   "metadata": {},
   "outputs": [
    {
     "name": "stdout",
     "output_type": "stream",
     "text": [
      "5 μs ± 248 ns per loop (mean ± std. dev. of 7 runs, 100,000 loops each)\n"
     ]
    }
   ],
   "source": [
    "%timeit [i**2 for i in range(1, 101) if i%2!=0]"
   ]
  },
  {
   "cell_type": "code",
   "execution_count": 36,
   "id": "ebb3c1f2-743f-4ccf-a847-d77bac743314",
   "metadata": {},
   "outputs": [
    {
     "name": "stdout",
     "output_type": "stream",
     "text": [
      "2.35 μs ± 406 ns per loop (mean ± std. dev. of 7 runs, 100,000 loops each)\n"
     ]
    }
   ],
   "source": [
    "%timeit [i**2 for i in range(1, 101, 2)]"
   ]
  },
  {
   "cell_type": "markdown",
   "id": "1a4a49d2-fcdc-4bf2-95ec-b8089b62ac84",
   "metadata": {},
   "source": [
    "> Premature optimization is the root of all evil\n",
    "> \n",
    ">                                 - Donald Knuth"
   ]
  },
  {
   "cell_type": "markdown",
   "id": "c7ec67de-3972-42ce-873f-40a7aaa57442",
   "metadata": {},
   "source": [
    "### Use a lambda function to sort `strings` by the last letter in each string."
   ]
  },
  {
   "cell_type": "code",
   "execution_count": 37,
   "id": "f4681bd7-f6e4-4640-ac4f-1cb873630dcb",
   "metadata": {},
   "outputs": [],
   "source": [
    "strings = ['Pillsbury', 'Shubrick', 'Clemson', 'Hinson']"
   ]
  },
  {
   "cell_type": "code",
   "execution_count": 38,
   "id": "04502af2-2ab4-4fe2-8e84-2b959383a382",
   "metadata": {},
   "outputs": [
    {
     "data": {
      "text/plain": [
       "['Clemson', 'Hinson', 'Pillsbury', 'Shubrick']"
      ]
     },
     "execution_count": 38,
     "metadata": {},
     "output_type": "execute_result"
    }
   ],
   "source": [
    "strings.sort()\n",
    "strings"
   ]
  },
  {
   "cell_type": "code",
   "execution_count": 39,
   "id": "90b25147-86a1-48d7-bc4b-3104ce74ab45",
   "metadata": {},
   "outputs": [
    {
     "data": {
      "text/plain": [
       "9"
      ]
     },
     "execution_count": 39,
     "metadata": {},
     "output_type": "execute_result"
    }
   ],
   "source": [
    "len('Pillsbury')"
   ]
  },
  {
   "cell_type": "code",
   "execution_count": 40,
   "id": "243ced3d-0b5f-4862-bc8f-154b71a9fac5",
   "metadata": {},
   "outputs": [
    {
     "data": {
      "text/plain": [
       "['Hinson', 'Clemson', 'Shubrick', 'Pillsbury']"
      ]
     },
     "execution_count": 40,
     "metadata": {},
     "output_type": "execute_result"
    }
   ],
   "source": [
    "strings.sort(key=len)\n",
    "strings"
   ]
  },
  {
   "cell_type": "code",
   "execution_count": 41,
   "id": "574ee2a5-a35f-4ae8-baff-9b0c67519d72",
   "metadata": {},
   "outputs": [
    {
     "data": {
      "text/plain": [
       "'y'"
      ]
     },
     "execution_count": 41,
     "metadata": {},
     "output_type": "execute_result"
    }
   ],
   "source": [
    "'Pillsbury'[-1]"
   ]
  },
  {
   "cell_type": "code",
   "execution_count": 42,
   "id": "7f671ce7-ed02-4644-aa66-05e0a0d70272",
   "metadata": {},
   "outputs": [
    {
     "data": {
      "text/plain": [
       "['Shubrick', 'Hinson', 'Clemson', 'Pillsbury']"
      ]
     },
     "execution_count": 42,
     "metadata": {},
     "output_type": "execute_result"
    }
   ],
   "source": [
    "strings.sort(key=lambda x: x[-1])\n",
    "strings"
   ]
  },
  {
   "cell_type": "markdown",
   "id": "c1243f61-c1db-4907-92af-d4145531b49e",
   "metadata": {},
   "source": [
    "### Given an integer array `nums` and an integer `k`, write a function to return the $k^{th}$ largest element in the array."
   ]
  },
  {
   "cell_type": "markdown",
   "id": "18a32df2-94dc-4b2c-8efa-c108d23a105e",
   "metadata": {},
   "source": [
    "Note that it is the $k^{th}$ largest element in the sorted order, not the $k^{th}$ distinct element.\n",
    "\n",
    "Example 1:\n",
    "\n",
    "Input: `nums = [3,2,1,5,6,4]`, `k = 2` \\\n",
    "Output: `5`\n",
    "\n",
    "Example 2:\n",
    "\n",
    "Input: `nums = [3,2,3,1,2,4,5,5,6]`, `k = 4` \\\n",
    "Output: `4`\n",
    "\n",
    "I saw this question on [LeetCode](https://leetcode.com/problems/kth-largest-element-in-an-array/)."
   ]
  },
  {
   "cell_type": "code",
   "execution_count": 43,
   "id": "68b74dd6-7c10-4090-9306-45b07cc8443b",
   "metadata": {},
   "outputs": [],
   "source": [
    "nums = [3,2,3,1,2,4,5,5,6]\n",
    "k = 4"
   ]
  },
  {
   "cell_type": "markdown",
   "id": "9ba84409-fb2d-47dc-a650-a5cde7463d7b",
   "metadata": {},
   "source": [
    "### Given an integer array `nums` and an integer `k`, write a function to return the `k` most frequent elements. "
   ]
  },
  {
   "cell_type": "markdown",
   "id": "f16ea5ed-5667-401e-855f-bce485671316",
   "metadata": {},
   "source": [
    "You may return the answer in any order.\n",
    "\n",
    "Example 1:\n",
    "\n",
    "Input: `nums = [1,1,1,2,2,3]`, `k = 2` \\\n",
    "Output: `[1,2]`\n",
    "\n",
    "Example 2:\n",
    "\n",
    "Input: `nums = [1]`, `k = 1` \\\n",
    "Output: `[1]`\n",
    "\n",
    "I saw this question on [LeetCode](https://leetcode.com/problems/top-k-frequent-elements/)."
   ]
  },
  {
   "cell_type": "code",
   "execution_count": 44,
   "id": "2624ee5a-ed92-4b87-8f4f-52641e7d5852",
   "metadata": {},
   "outputs": [],
   "source": [
    "nums = [1,1,1,2,2,3]\n",
    "k = 2"
   ]
  },
  {
   "cell_type": "markdown",
   "id": "2960dfdb-8dad-48cd-ae6c-171a1467af4c",
   "metadata": {},
   "source": [
    "### Test whether the given strings are palindromes."
   ]
  },
  {
   "cell_type": "markdown",
   "id": "b4cd9be1-9f78-417b-ba8d-fedd1d2c6605",
   "metadata": {},
   "source": [
    "Input: `[\"aba\", \"no\"]` \\\n",
    "Output: `[True, False]`"
   ]
  },
  {
   "cell_type": "code",
   "execution_count": 45,
   "id": "67b51b8f-ed97-4e48-bd84-e40039eb7721",
   "metadata": {},
   "outputs": [],
   "source": [
    "tickers = [\"AAPL\", \"GOOG\", \"XOX\", \"XOM\"]"
   ]
  },
  {
   "cell_type": "markdown",
   "id": "e999107f-269e-4f58-b64d-32c188ae2725",
   "metadata": {},
   "source": [
    "### Write a function `calc_returns()` that accepts lists of prices and dividends and returns a list of returns."
   ]
  },
  {
   "cell_type": "code",
   "execution_count": 46,
   "id": "876346e1-ebea-41e4-a2e1-e9143b67b54b",
   "metadata": {},
   "outputs": [],
   "source": [
    "prices = [100, 150, 100, 50, 100, 150, 100, 150]\n",
    "dividends = [1, 1, 1, 1, 2, 2, 2, 2]"
   ]
  },
  {
   "cell_type": "markdown",
   "id": "59f6e878-8cb4-4bf8-8ff1-f883f8581a5d",
   "metadata": {},
   "source": [
    "### Rewrite the function `calc_returns()` as `calc_returns_2()` so it returns lists of returns, capital gains yields, and dividend yields."
   ]
  },
  {
   "cell_type": "markdown",
   "id": "7eb026c8-a42b-4eef-b237-57cade6897ed",
   "metadata": {},
   "source": [
    "### Write a function `rescale()` to rescale and shift numbers so that they cover the range `[0, 1]`."
   ]
  },
  {
   "cell_type": "markdown",
   "id": "b373f8e6-cb9d-4d91-8432-2e77f69ec7ca",
   "metadata": {},
   "source": [
    "Input: `[18.5, 17.0, 18.0, 19.0, 18.0]` \\\n",
    "Output: `[0.75, 0.0, 0.5, 1.0, 0.5]`"
   ]
  },
  {
   "cell_type": "code",
   "execution_count": 47,
   "id": "685d0c02-25b6-4e4a-9877-1db1d1234c78",
   "metadata": {},
   "outputs": [],
   "source": [
    "nums = [18.5, 17.0, 18.0, 19.0, 18.0]"
   ]
  }
 ],
 "metadata": {
  "author": "Richard Herron",
  "kernelspec": {
   "display_name": "Python 3 (ipykernel)",
   "language": "python",
   "name": "python3"
  },
  "language_info": {
   "codemirror_mode": {
    "name": "ipython",
    "version": 3
   },
   "file_extension": ".py",
   "mimetype": "text/x-python",
   "name": "python",
   "nbconvert_exporter": "python",
   "pygments_lexer": "ipython3",
   "version": "3.13.1"
  },
  "title": "McKinney Chapter 3 - Practice"
 },
 "nbformat": 4,
 "nbformat_minor": 5
}
