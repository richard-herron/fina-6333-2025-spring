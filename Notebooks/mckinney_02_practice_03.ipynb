{
 "cells": [
  {
   "cell_type": "markdown",
   "id": "84f5567b-2c05-41c7-9cb3-498ecd6e4c00",
   "metadata": {},
   "source": [
    "# McKinney Chapter 2 - Practice - Sec 03"
   ]
  },
  {
   "cell_type": "markdown",
   "id": "696cccbf-46d5-4b60-8bb2-d73db8ceb6f3",
   "metadata": {},
   "source": [
    "## Announcements"
   ]
  },
  {
   "cell_type": "markdown",
   "id": "ffcbb145-dde3-4645-a198-da564b411e0a",
   "metadata": {},
   "source": [
    "1. Check your email inbox for an invitation to a free six-month subscription to DataCamp\n",
    "   1. I added a few short courses to our course group\n",
    "   1. These short courses are completely optional\n",
    "   1. DataCamp has lots of resources to help you learn Python, R, SQL, Excel, etc.\n",
    "2. Here are links to a few finance newsletters I strongly suggest:\n",
    "   1. Matt Levine: <https://www.bloomberg.com/account/newsletters/money-stuff>\n",
    "   1. Byrne Hobart: <https://capitalgains.thediff.co/subscribe?ref=I0N1NGdmJq&_bhlid=7fecfad9eb7fd8bcdb529e945e11346b5897acdc>\n",
    "   1. Clifford Asness: <https://www.aqr.com/Insights/Perspectives>\n",
    "   1. Owen Lamont: <https://www.acadian-asset.com/investment-insights/owenomics#>"
   ]
  },
  {
   "cell_type": "markdown",
   "id": "b659c84b-15ae-40de-a5b9-751b1d513f7e",
   "metadata": {},
   "source": [
    "## Five-Minute Review"
   ]
  },
  {
   "cell_type": "markdown",
   "id": "a419f454-5ac5-491e-899c-c6287402371c",
   "metadata": {
    "editable": true,
    "slideshow": {
     "slide_type": ""
    },
    "tags": []
   },
   "source": [
    "## Practice"
   ]
  },
  {
   "cell_type": "markdown",
   "id": "7373fbfc-3994-4c15-bc09-91e9599291e1",
   "metadata": {},
   "source": [
    "### Extract the year, month, and day from an 8-digit date (i.e., YYYYMMDD format) using `//` (integer division) and `%` (modulo division)."
   ]
  },
  {
   "cell_type": "code",
   "execution_count": 1,
   "id": "bc222bdb-7c7a-4964-9357-6d0ae1a07511",
   "metadata": {},
   "outputs": [],
   "source": [
    "lb = 20080915"
   ]
  },
  {
   "cell_type": "code",
   "execution_count": 2,
   "id": "819c0b8e-9767-4584-b6c2-d0729cb4bd50",
   "metadata": {},
   "outputs": [
    {
     "data": {
      "text/plain": [
       "20080915"
      ]
     },
     "execution_count": 2,
     "metadata": {},
     "output_type": "execute_result"
    }
   ],
   "source": [
    "lb"
   ]
  },
  {
   "cell_type": "code",
   "execution_count": 3,
   "id": "630ce476-bf95-473d-ab5c-505b146a3939",
   "metadata": {},
   "outputs": [
    {
     "data": {
      "text/plain": [
       "2008"
      ]
     },
     "execution_count": 3,
     "metadata": {},
     "output_type": "execute_result"
    }
   ],
   "source": [
    "lb // 10_000 # // is integer division"
   ]
  },
  {
   "cell_type": "code",
   "execution_count": 4,
   "id": "90a6a106-153f-4a92-804f-02b151f146a5",
   "metadata": {},
   "outputs": [
    {
     "data": {
      "text/plain": [
       "915"
      ]
     },
     "execution_count": 4,
     "metadata": {},
     "output_type": "execute_result"
    }
   ],
   "source": [
    "lb % 10_000 # % is modulo or remainder division"
   ]
  },
  {
   "cell_type": "code",
   "execution_count": 5,
   "id": "e5690b23-6383-4e77-a89e-37b0f144bd87",
   "metadata": {},
   "outputs": [
    {
     "data": {
      "text/plain": [
       "9"
      ]
     },
     "execution_count": 5,
     "metadata": {},
     "output_type": "execute_result"
    }
   ],
   "source": [
    "(lb % 10_000) // 100"
   ]
  },
  {
   "cell_type": "code",
   "execution_count": 6,
   "id": "3eb7c9ba-8627-48ab-84e4-017c4902f39e",
   "metadata": {},
   "outputs": [
    {
     "data": {
      "text/plain": [
       "15"
      ]
     },
     "execution_count": 6,
     "metadata": {},
     "output_type": "execute_result"
    }
   ],
   "source": [
    "lb % 100"
   ]
  },
  {
   "cell_type": "markdown",
   "id": "cb2da60b-810a-4a3e-adf1-275906bc3603",
   "metadata": {},
   "source": [
    "What happened here?\n",
    "\n",
    "- Floor or integer division `//` drops the digits on the right side (one digit per zero)\n",
    "- Modulo or remainder division `%` keeps the diggits on the right side (one digit per zero)"
   ]
  },
  {
   "cell_type": "markdown",
   "id": "8528e3a3-64a6-4ede-b360-e475d290db42",
   "metadata": {},
   "source": [
    "---"
   ]
  },
  {
   "cell_type": "markdown",
   "id": "39a93ffe-ebde-4b60-88b0-e25a6fa3f5a6",
   "metadata": {},
   "source": [
    "Here is solution that approximates Excel's `LEFT()`, `MID()`, and `RIGHT()`.\n",
    "This works, but is not very Pythonic."
   ]
  },
  {
   "cell_type": "code",
   "execution_count": 7,
   "id": "712318ed-4f81-4f72-9e81-d9fe40fcc5cd",
   "metadata": {},
   "outputs": [
    {
     "data": {
      "text/plain": [
       "2008"
      ]
     },
     "execution_count": 7,
     "metadata": {},
     "output_type": "execute_result"
    }
   ],
   "source": [
    "int(str(lb)[:4])"
   ]
  },
  {
   "cell_type": "code",
   "execution_count": 8,
   "id": "57dbb1e4-1d10-4e49-9ed9-a9654fdd96c5",
   "metadata": {},
   "outputs": [
    {
     "data": {
      "text/plain": [
       "9"
      ]
     },
     "execution_count": 8,
     "metadata": {},
     "output_type": "execute_result"
    }
   ],
   "source": [
    "int(str(lb)[4:6])"
   ]
  },
  {
   "cell_type": "code",
   "execution_count": 9,
   "id": "ce543fb1-02be-4a0f-99f6-29eec2668cd6",
   "metadata": {},
   "outputs": [
    {
     "data": {
      "text/plain": [
       "5"
      ]
     },
     "execution_count": 9,
     "metadata": {},
     "output_type": "execute_result"
    }
   ],
   "source": [
    "int(str(lb)[7:8])"
   ]
  },
  {
   "cell_type": "markdown",
   "id": "6e033fcb-33c5-4ae2-98b5-24a04e975e0a",
   "metadata": {},
   "source": [
    "---"
   ]
  },
  {
   "cell_type": "markdown",
   "id": "be060ebd-93d7-4c2e-b57a-a4ff9a6d2a93",
   "metadata": {},
   "source": [
    "### Write a function `date` that takes an 8-digit date argument and returns a year, month, and date tuple (e.g., `return (year, month, day)`)."
   ]
  },
  {
   "cell_type": "code",
   "execution_count": 10,
   "id": "c868c718-2708-4d01-ab6c-65a02a441fc6",
   "metadata": {},
   "outputs": [],
   "source": [
    "def date(x):\n",
    "    year = x // 10_000 # // is integer division\n",
    "    month = (x % 10_000) // 100\n",
    "    day = x % 100\n",
    "    return (year, month, day)"
   ]
  },
  {
   "cell_type": "code",
   "execution_count": 11,
   "id": "2616ff98-8da6-4d46-a27c-62b61ea9945b",
   "metadata": {},
   "outputs": [
    {
     "data": {
      "text/plain": [
       "(2025, 1, 7)"
      ]
     },
     "execution_count": 11,
     "metadata": {},
     "output_type": "execute_result"
    }
   ],
   "source": [
    "date(20250107)"
   ]
  },
  {
   "cell_type": "markdown",
   "id": "89e332f5-1f05-479a-a055-188098f0d9dd",
   "metadata": {},
   "source": [
    "### Write a function `date_2` that takes an 8-digit date as either integer or string."
   ]
  },
  {
   "cell_type": "code",
   "execution_count": 12,
   "id": "6f4b11e7-5c0e-49d0-aeef-cd1455a1f23f",
   "metadata": {},
   "outputs": [],
   "source": [
    "def date_2(x):\n",
    "    # if type(x) is str:\n",
    "    if isinstance(x, str):\n",
    "        x = int(x)\n",
    "    \n",
    "    return date(x)"
   ]
  },
  {
   "cell_type": "code",
   "execution_count": 13,
   "id": "2dfe7063-d318-4de2-bd58-7616e7e6c029",
   "metadata": {},
   "outputs": [
    {
     "data": {
      "text/plain": [
       "(2008, 9, 15)"
      ]
     },
     "execution_count": 13,
     "metadata": {},
     "output_type": "execute_result"
    }
   ],
   "source": [
    "date_2(str(lb))"
   ]
  },
  {
   "cell_type": "code",
   "execution_count": 14,
   "id": "1e96597d-ec7e-4ebb-98c5-369e9258dfcf",
   "metadata": {},
   "outputs": [
    {
     "data": {
      "text/plain": [
       "(2008, 9, 15)"
      ]
     },
     "execution_count": 14,
     "metadata": {},
     "output_type": "execute_result"
    }
   ],
   "source": [
    "date_2(lb)"
   ]
  },
  {
   "cell_type": "code",
   "execution_count": 15,
   "id": "f4595d87-fe0d-4baa-be86-7683dd1b073e",
   "metadata": {},
   "outputs": [
    {
     "data": {
      "text/plain": [
       "(2025, 1, 10)"
      ]
     },
     "execution_count": 15,
     "metadata": {},
     "output_type": "execute_result"
    }
   ],
   "source": [
    "date_2('20250110')"
   ]
  },
  {
   "cell_type": "markdown",
   "id": "7ea1b963-efc2-40ef-b81c-24f0fc4a48d0",
   "metadata": {},
   "source": [
    "### Write a function `date_3` that takes a list of 8-digit dates as integers or strings."
   ]
  },
  {
   "cell_type": "code",
   "execution_count": 16,
   "id": "d2da0d80-b5d4-4bc5-8e66-d90b40015121",
   "metadata": {},
   "outputs": [
    {
     "data": {
      "text/plain": [
       "[20080915, '20250110']"
      ]
     },
     "execution_count": 16,
     "metadata": {},
     "output_type": "execute_result"
    }
   ],
   "source": [
    "ymds = [20080915, '20250110']\n",
    "ymds"
   ]
  },
  {
   "cell_type": "markdown",
   "id": "9b51a9bd-1501-4acc-8eec-f2f84d765cc9",
   "metadata": {},
   "source": [
    "This markdown cell is for *italicized* and **bold** text!"
   ]
  },
  {
   "cell_type": "code",
   "execution_count": 17,
   "id": "e39e9e22-d7cb-4284-a0ce-7a6bc384f359",
   "metadata": {},
   "outputs": [],
   "source": [
    "def date_3(ymds):\n",
    "    ymds_out = []\n",
    "    for ymd in ymds:\n",
    "        ymds_out.append(date_2(ymd))\n",
    "    \n",
    "    return ymds_out"
   ]
  },
  {
   "cell_type": "code",
   "execution_count": 18,
   "id": "703761ee-2357-47cd-853f-7d5af8910cdd",
   "metadata": {},
   "outputs": [
    {
     "data": {
      "text/plain": [
       "[(2008, 9, 15), (2025, 1, 10)]"
      ]
     },
     "execution_count": 18,
     "metadata": {},
     "output_type": "execute_result"
    }
   ],
   "source": [
    "date_3(ymds)"
   ]
  },
  {
   "cell_type": "markdown",
   "id": "629e8239-27c2-48f4-ba1c-7e97da177f01",
   "metadata": {},
   "source": [
    "### Write a for loop that prints the squares of integers from 1 to 10."
   ]
  },
  {
   "cell_type": "code",
   "execution_count": 19,
   "id": "07a0754d-39df-401c-8975-4d0f765515bf",
   "metadata": {},
   "outputs": [
    {
     "name": "stdout",
     "output_type": "stream",
     "text": [
      "a---b---c\n"
     ]
    }
   ],
   "source": [
    "print('a', 'b', 'c', sep = '---')"
   ]
  },
  {
   "cell_type": "code",
   "execution_count": 20,
   "id": "e5dda579-35bc-4423-afa2-cea1a15252e7",
   "metadata": {},
   "outputs": [
    {
     "name": "stdout",
     "output_type": "stream",
     "text": [
      "1 4 9 16 25 36 49 64 81 100 "
     ]
    }
   ],
   "source": [
    "for i in range(1, 11):\n",
    "    print(i**2, end=' ')"
   ]
  },
  {
   "cell_type": "markdown",
   "id": "a9d5310a-f19a-448e-976f-44ffbecad467",
   "metadata": {},
   "source": [
    "### Write a for loop that prints the squares of *even* integers from 1 to 10."
   ]
  },
  {
   "cell_type": "code",
   "execution_count": 21,
   "id": "de9fd518-fa9b-4dbb-b12a-3ae505acc66c",
   "metadata": {},
   "outputs": [
    {
     "name": "stdout",
     "output_type": "stream",
     "text": [
      "4 16 36 64 100 "
     ]
    }
   ],
   "source": [
    "for i in range(1, 11):\n",
    "    if i % 2 == 0:\n",
    "        print(i**2, end=' ')"
   ]
  },
  {
   "cell_type": "code",
   "execution_count": 22,
   "id": "6afdee7e-8166-44f6-b163-913ce740393d",
   "metadata": {},
   "outputs": [
    {
     "name": "stdout",
     "output_type": "stream",
     "text": [
      "4 16 36 64 100 "
     ]
    }
   ],
   "source": [
    "for i in range(2, 11, 2):\n",
    "    print(i**2, end=' ')"
   ]
  },
  {
   "cell_type": "markdown",
   "id": "fca2f010-cd87-4c0f-8a47-c849a8f26cc2",
   "metadata": {},
   "source": [
    "### Write a for loop that sums the squares of integers from 1 to 10."
   ]
  },
  {
   "cell_type": "code",
   "execution_count": 23,
   "id": "a40e2622-52ea-471d-98fe-84cd92edb347",
   "metadata": {},
   "outputs": [
    {
     "data": {
      "text/plain": [
       "385"
      ]
     },
     "execution_count": 23,
     "metadata": {},
     "output_type": "execute_result"
    }
   ],
   "source": [
    "total = 0\n",
    "for i in range(1, 11):\n",
    "    total += i**2\n",
    "\n",
    "total"
   ]
  },
  {
   "cell_type": "markdown",
   "id": "4f59f13f-ba78-4212-bf00-b060756b4320",
   "metadata": {},
   "source": [
    "### Write a for loop that sums the squares of integers from 1 to 10 but stops before the sum exceeds 50."
   ]
  },
  {
   "cell_type": "code",
   "execution_count": 24,
   "id": "7a1f9714-eefd-45af-a10e-b569520e2992",
   "metadata": {},
   "outputs": [
    {
     "data": {
      "text/plain": [
       "30"
      ]
     },
     "execution_count": 24,
     "metadata": {},
     "output_type": "execute_result"
    }
   ],
   "source": [
    "total = 0  # Initialize sum to zero\n",
    "\n",
    "for i in range(1, 11):  # Loop from 1 to 10\n",
    "    # Check if adding the square of i would exceed 50\n",
    "    if (total + i**2) > 50:\n",
    "        # 'break' exits the loop completely, stopping further iterations\n",
    "        # 'continue' would skip to the next iteration without executing further code in this cycle\n",
    "        break  \n",
    "    \n",
    "    # Add the square of i to total\n",
    "    total += i**2\n",
    "\n",
    "# Print the final sum (implicit return in this case since it is the last line in the code cell)\n",
    "total"
   ]
  },
  {
   "cell_type": "markdown",
   "id": "93955b40-e560-4558-ae26-417e8f7cac7c",
   "metadata": {},
   "source": [
    "### FizzBuzz"
   ]
  },
  {
   "cell_type": "markdown",
   "id": "2d30e838-0c8a-4164-854d-7a5a9a24a184",
   "metadata": {},
   "source": [
    "Solve [FizzBuzz](https://en.wikipedia.org/wiki/Fizz_buzz#Programming)."
   ]
  },
  {
   "cell_type": "markdown",
   "id": "9b23071c-bc2b-45e4-aa54-e500e98c2e6b",
   "metadata": {},
   "source": [
    "Here is some pseudo code.\n",
    "The test for multiples of 3 and 5 must come first, otherwise it would never run!"
   ]
  },
  {
   "cell_type": "code",
   "execution_count": 25,
   "id": "d8ab5bbd-ca4e-4be0-99c0-1d4cb421b518",
   "metadata": {},
   "outputs": [],
   "source": [
    "# for i in range(1, 101):\n",
    "#     # test for multiple of 3 & 5\n",
    "#     #     print fizzbuzz\n",
    "#     # test for multiple of 3\n",
    "#     #     print fizz\n",
    "#     # test for multiple of 5\n",
    "#     #     print buzz\n",
    "#     # otherwise print i"
   ]
  },
  {
   "cell_type": "markdown",
   "id": "cde3c336-dade-4a54-b8da-f9a64df5af37",
   "metadata": {},
   "source": [
    "Here is my favorite FizzBuzz solution."
   ]
  },
  {
   "cell_type": "code",
   "execution_count": 26,
   "id": "cc5a6d1b-abc1-4a28-8ff8-85138eefbf9e",
   "metadata": {},
   "outputs": [
    {
     "name": "stdout",
     "output_type": "stream",
     "text": [
      "1 2 Fizz 4 Buzz Fizz 7 8 Fizz Buzz 11 Fizz 13 14 FizzBuzz 16 17 Fizz 19 Buzz Fizz 22 23 Fizz Buzz 26 Fizz 28 29 FizzBuzz 31 32 Fizz 34 Buzz Fizz 37 38 Fizz Buzz 41 Fizz 43 44 FizzBuzz 46 47 Fizz 49 Buzz Fizz 52 53 Fizz Buzz 56 Fizz 58 59 FizzBuzz 61 62 Fizz 64 Buzz Fizz 67 68 Fizz Buzz 71 Fizz 73 74 FizzBuzz 76 77 Fizz 79 Buzz Fizz 82 83 Fizz Buzz 86 Fizz 88 89 FizzBuzz 91 92 Fizz 94 Buzz Fizz 97 98 Fizz Buzz "
     ]
    }
   ],
   "source": [
    "for i in range(1, 101):\n",
    "    if (i % 3 == 0) & (i % 5 == 0):\n",
    "        print('FizzBuzz', end=' ')\n",
    "    elif (i % 3 == 0):\n",
    "        print('Fizz', end=' ')\n",
    "    elif (i % 5 == 0):\n",
    "        print('Buzz', end=' ')\n",
    "    else:\n",
    "        print(i, end=' ')"
   ]
  },
  {
   "cell_type": "markdown",
   "id": "7f115e0f-f7e5-419e-a5a7-0841f9fd2642",
   "metadata": {},
   "source": [
    "### Use ternary expressions to make your FizzBuzz solution more compact."
   ]
  },
  {
   "cell_type": "markdown",
   "id": "162abd7b-8e68-42e0-87af-a97588541250",
   "metadata": {},
   "source": [
    "Here is a compact FizzBuzz solution.\n",
    "I consider the solution above easier to read and troubleshoot.\n",
    "The compact solution below uses the trick that we can multiply a string by `True` to return the string itself or by or `False` to return an empty string."
   ]
  },
  {
   "cell_type": "code",
   "execution_count": 27,
   "id": "342a5680-152b-44fe-b054-1c3df1a7aa51",
   "metadata": {},
   "outputs": [
    {
     "name": "stdout",
     "output_type": "stream",
     "text": [
      "1 2 Fizz 4 Buzz Fizz 7 8 Fizz Buzz 11 Fizz 13 14 FizzBuzz 16 17 Fizz 19 Buzz Fizz 22 23 Fizz Buzz 26 Fizz 28 29 FizzBuzz 31 32 Fizz 34 Buzz Fizz 37 38 Fizz Buzz 41 Fizz 43 44 FizzBuzz 46 47 Fizz 49 Buzz Fizz 52 53 Fizz Buzz 56 Fizz 58 59 FizzBuzz 61 62 Fizz 64 Buzz Fizz 67 68 Fizz Buzz 71 Fizz 73 74 FizzBuzz 76 77 Fizz 79 Buzz Fizz 82 83 Fizz Buzz 86 Fizz 88 89 FizzBuzz 91 92 Fizz 94 Buzz Fizz 97 98 Fizz Buzz "
     ]
    }
   ],
   "source": [
    "for i in range(1, 101):\n",
    "    print('Fizz'*(i%3==0) + 'Buzz'*(i%5==0) if (i%3==0) or (i%5==0) else i, end=' ')"
   ]
  },
  {
   "attachments": {},
   "cell_type": "markdown",
   "id": "c6b56f8c-12c9-4db7-be3f-9195eb2d4dca",
   "metadata": {},
   "source": [
    "Here is *an even more compact* FizzBuzz solution.\n",
    "The trick below is that Python's `or` returns its first truthy value.\n",
    "- If the concatenated string (`'Fizz'*(i%3==0) + 'Buzz'*(i%5==0)`) is not an empty string, which is falsy in Python, the `or` evaluates to that string.\n",
    "- If the string is empty, which means `i` is not divisible by 3 or 5, the `or` evaluates to `i`."
   ]
  },
  {
   "cell_type": "code",
   "execution_count": 28,
   "id": "420c2b25-2a5a-46f6-8fbc-6cee59747c79",
   "metadata": {},
   "outputs": [
    {
     "name": "stdout",
     "output_type": "stream",
     "text": [
      "1 2 Fizz 4 Buzz Fizz 7 8 Fizz Buzz 11 Fizz 13 14 FizzBuzz 16 17 Fizz 19 Buzz Fizz 22 23 Fizz Buzz 26 Fizz 28 29 FizzBuzz 31 32 Fizz 34 Buzz Fizz 37 38 Fizz Buzz 41 Fizz 43 44 FizzBuzz 46 47 Fizz 49 Buzz Fizz 52 53 Fizz Buzz 56 Fizz 58 59 FizzBuzz 61 62 Fizz 64 Buzz Fizz 67 68 Fizz Buzz 71 Fizz 73 74 FizzBuzz 76 77 Fizz 79 Buzz Fizz 82 83 Fizz Buzz 86 Fizz 88 89 FizzBuzz 91 92 Fizz 94 Buzz Fizz 97 98 Fizz Buzz "
     ]
    }
   ],
   "source": [
    "for i in range(1, 101):\n",
    "    print('Fizz'*(i%3==0) + 'Buzz'*(i%5==0) or i, end=' ')"
   ]
  },
  {
   "cell_type": "markdown",
   "id": "04dba1d2-fb15-4459-9a32-47961b4ae4cc",
   "metadata": {},
   "source": [
    "### Triangle"
   ]
  },
  {
   "cell_type": "markdown",
   "id": "bb675666-6589-4908-8a2b-26aacccf4950",
   "metadata": {},
   "source": [
    "Write a function `triangle` that accepts a positive integer $N$ and prints a numerical triangle of height $N-1$.\n",
    "For example, `triangle(N=6)` should print:\n",
    "\n",
    "```\n",
    "1\n",
    "22\n",
    "333\n",
    "4444\n",
    "55555\n",
    "```"
   ]
  },
  {
   "cell_type": "code",
   "execution_count": 29,
   "id": "8577d47c-2b05-4b67-ae7d-5e8dd550e049",
   "metadata": {},
   "outputs": [],
   "source": [
    "def triangle(N):\n",
    "    for i in range(1, N):\n",
    "        print(str(i) * i)"
   ]
  },
  {
   "cell_type": "code",
   "execution_count": 30,
   "id": "ea4ab84c-822e-4e97-a121-511828343e05",
   "metadata": {},
   "outputs": [
    {
     "name": "stdout",
     "output_type": "stream",
     "text": [
      "1\n",
      "22\n",
      "333\n",
      "4444\n",
      "55555\n"
     ]
    }
   ],
   "source": [
    "triangle(6)"
   ]
  },
  {
   "cell_type": "markdown",
   "id": "a0836869-d647-44c8-9717-6b3e1b2dfc53",
   "metadata": {},
   "source": [
    "The solution above works because a multiplying a string by `i` concatenates `i` copies of that string."
   ]
  },
  {
   "cell_type": "code",
   "execution_count": 31,
   "id": "a4d6f1f3-8ea1-45a2-9222-1c61a64bb8e6",
   "metadata": {},
   "outputs": [
    {
     "data": {
      "text/plain": [
       "'TestTestTest'"
      ]
     },
     "execution_count": 31,
     "metadata": {},
     "output_type": "execute_result"
    }
   ],
   "source": [
    "'Test' + 'Test' + 'Test'"
   ]
  },
  {
   "cell_type": "code",
   "execution_count": 32,
   "id": "5ab414f9-3dd6-4e68-b9f5-8711f88f6908",
   "metadata": {},
   "outputs": [
    {
     "data": {
      "text/plain": [
       "'TestTestTest'"
      ]
     },
     "execution_count": 32,
     "metadata": {},
     "output_type": "execute_result"
    }
   ],
   "source": [
    "'Test' * 3"
   ]
  },
  {
   "cell_type": "markdown",
   "id": "7881bad1-5832-4cfc-aa42-b17ecb142bcd",
   "metadata": {},
   "source": [
    "### Two Sum"
   ]
  },
  {
   "cell_type": "markdown",
   "id": "fb58d13c-3cc5-4c9d-ae38-4dc48dd77d50",
   "metadata": {},
   "source": [
    "Write a function `two_sum` that does the following.\n",
    "\n",
    "Given a list of integers `nums` and an integer `target`, return the indices of the two numbers that add up to target.\n",
    "\n",
    "You may assume that each input would have exactly one solution, and you may not use the same element twice.\n",
    "\n",
    "You can return the answer in any order.\n",
    "\n",
    "Here are some examples:\n",
    "\n",
    "Example 1:\n",
    "\n",
    "Input: `nums = [2,7,11,15]`, `target = 9` \\\n",
    "Output: `[0,1]` \\\n",
    "Explanation: Because `nums[0] + nums[1] == 9`, we return `[0, 1]`.\n",
    "\n",
    "Example 2:\n",
    "\n",
    "Input: `nums = [3,2,4]`, `target = 6` \\\n",
    "Output: `[1,2]`\n",
    "\n",
    "Example 3:\n",
    "\n",
    "Input: `nums = [3,3]`, `target = 6` \\\n",
    "Output: `[0,1]`\n",
    "\n",
    "I saw this question on [LeetCode](https://leetcode.com/problems/two-sum/description/)."
   ]
  },
  {
   "cell_type": "code",
   "execution_count": 33,
   "id": "0f8e03fa-0ec2-40ff-94b9-386116c1e8ab",
   "metadata": {},
   "outputs": [],
   "source": [
    "def two_sum(nums, target):\n",
    "    for i in range(1, len(nums)):\n",
    "        for j in range(i):\n",
    "            if nums[i] + nums[j] == target:\n",
    "                return [j, i]"
   ]
  },
  {
   "cell_type": "code",
   "execution_count": 34,
   "id": "44b1c998-c4f1-4794-a9e9-549d46bf26d4",
   "metadata": {},
   "outputs": [
    {
     "data": {
      "text/plain": [
       "[0, 1]"
      ]
     },
     "execution_count": 34,
     "metadata": {},
     "output_type": "execute_result"
    }
   ],
   "source": [
    "two_sum(nums = [2,7,11,15], target = 9)"
   ]
  },
  {
   "cell_type": "code",
   "execution_count": 35,
   "id": "68bb9c02-985a-4170-aa9e-6704d884d785",
   "metadata": {},
   "outputs": [
    {
     "data": {
      "text/plain": [
       "[1, 2]"
      ]
     },
     "execution_count": 35,
     "metadata": {},
     "output_type": "execute_result"
    }
   ],
   "source": [
    "two_sum(nums = [3,2,4], target = 6)"
   ]
  },
  {
   "cell_type": "code",
   "execution_count": 36,
   "id": "0469cd25-9514-48bf-acc5-6e5d5fbebbae",
   "metadata": {},
   "outputs": [
    {
     "data": {
      "text/plain": [
       "[0, 1]"
      ]
     },
     "execution_count": 36,
     "metadata": {},
     "output_type": "execute_result"
    }
   ],
   "source": [
    "two_sum(nums = [3,3], target = 6)"
   ]
  },
  {
   "cell_type": "markdown",
   "id": "e5ca7c1d-7323-4d1d-bc08-9ce9c5a301fb",
   "metadata": {},
   "source": [
    "### Best Time"
   ]
  },
  {
   "cell_type": "markdown",
   "id": "d3206c53-a45a-4259-bd71-65f89038be7b",
   "metadata": {},
   "source": [
    "Write a function `best_time` that solves the following.\n",
    "\n",
    "You are given a list `prices` where `prices[i]` is the price of a given stock on the $i^{th}$ day.\n",
    "\n",
    "You want to maximize your profit by choosing a single day to buy one stock and choosing a different day in the future to sell that stock.\n",
    "\n",
    "Return the maximum profit you can achieve from this transaction. If you cannot achieve any profit, return 0.\n",
    "\n",
    "Here are some examples:\n",
    "\n",
    "Example 1:\n",
    "\n",
    "Input: `prices = [7,1,5,3,6,4]` \\\n",
    "Output: `5` \\\n",
    "Explanation: Buy on day 2 (price = 1) and sell on day 5 (price = 6), profit = 6-1 = 5.\n",
    "Note that buying on day 2 and selling on day 1 is not allowed because you must buy before you sell.\n",
    "\n",
    "Example 2:\n",
    "\n",
    "Input: `prices = [7,6,4,3,1]` \\\n",
    "Output: `0` \\\n",
    "Explanation: In this case, no transactions are done and the max profit = 0.\n",
    "\n",
    "I saw this question on [LeetCode](https://leetcode.com/problems/best-time-to-buy-and-sell-stock/)."
   ]
  },
  {
   "cell_type": "code",
   "execution_count": 37,
   "id": "65d07625-3355-4aa1-981a-a56306b9a98f",
   "metadata": {},
   "outputs": [],
   "source": [
    "def max_profit(prices):\n",
    "    # We start by assuming the first price is the lowest we've seen so far\n",
    "    min_price = prices[0]\n",
    "    \n",
    "    # We initialize our maximum profit to zero, as no profit has been calculated yet\n",
    "    max_profit = 0\n",
    "    \n",
    "    # Loop through each price in the list of prices\n",
    "    for price in prices:\n",
    "        # If the current price is lower than our lowest price seen, update min_price\n",
    "        min_price = price if price < min_price else min_price\n",
    "        \n",
    "        # Calculate the profit if we were to sell at the current price\n",
    "        profit = price - min_price\n",
    "        \n",
    "        # If this profit is better than our max profit so far, update max_profit\n",
    "        max_profit = profit if profit > max_profit else max_profit\n",
    "    \n",
    "    # After checking all prices, return the maximum profit we've found\n",
    "    return max_profit"
   ]
  },
  {
   "cell_type": "code",
   "execution_count": 38,
   "id": "90e3c68f-f3a2-4839-afeb-5548e6070968",
   "metadata": {},
   "outputs": [
    {
     "data": {
      "text/plain": [
       "5"
      ]
     },
     "execution_count": 38,
     "metadata": {},
     "output_type": "execute_result"
    }
   ],
   "source": [
    "max_profit(prices=[7,1,5,3,6,4])"
   ]
  },
  {
   "cell_type": "code",
   "execution_count": 39,
   "id": "59091157-a0c6-49c3-97c6-14e439883a84",
   "metadata": {},
   "outputs": [
    {
     "data": {
      "text/plain": [
       "0"
      ]
     },
     "execution_count": 39,
     "metadata": {},
     "output_type": "execute_result"
    }
   ],
   "source": [
    "max_profit(prices=[7,6,4,3,1])"
   ]
  },
  {
   "cell_type": "markdown",
   "id": "4bc8042c-f22e-45ff-a860-e90ea1c1a029",
   "metadata": {},
   "source": [
    "We could replace the ternary statements with the `min()` and `max()` functions for a little more compact code."
   ]
  },
  {
   "cell_type": "code",
   "execution_count": 40,
   "id": "fddb8db6-f1e5-405b-95c1-889f498f877e",
   "metadata": {},
   "outputs": [],
   "source": [
    "def max_profit_2(prices):\n",
    "    min_price = prices[0]\n",
    "    max_profit = 0\n",
    "    \n",
    "    for price in prices:\n",
    "        # Update min_price if current price is lower\n",
    "        min_price = min(min_price, price)\n",
    "        \n",
    "        # Calculate profit by selling at the current price\n",
    "        current_profit = price - min_price\n",
    "        \n",
    "        # Update max_profit if the current_profit is higher\n",
    "        max_profit = max(max_profit, current_profit)\n",
    "    \n",
    "    return max_profit"
   ]
  },
  {
   "cell_type": "code",
   "execution_count": 41,
   "id": "880002c9-28f8-4927-8842-444763729b7a",
   "metadata": {},
   "outputs": [
    {
     "data": {
      "text/plain": [
       "5"
      ]
     },
     "execution_count": 41,
     "metadata": {},
     "output_type": "execute_result"
    }
   ],
   "source": [
    "max_profit_2(prices=[7,1,5,3,6,4])"
   ]
  },
  {
   "cell_type": "code",
   "execution_count": 42,
   "id": "444054d1-1b7c-4c69-a322-8afd38319dae",
   "metadata": {},
   "outputs": [
    {
     "data": {
      "text/plain": [
       "0"
      ]
     },
     "execution_count": 42,
     "metadata": {},
     "output_type": "execute_result"
    }
   ],
   "source": [
    "max_profit_2(prices=[7,6,4,3,1])"
   ]
  },
  {
   "cell_type": "code",
   "execution_count": null,
   "id": "f8929961-f14c-4f83-9288-8da3ae91361c",
   "metadata": {},
   "outputs": [],
   "source": []
  }
 ],
 "metadata": {
  "author": "Richard Herron",
  "kernelspec": {
   "display_name": "Python 3 (ipykernel)",
   "language": "python",
   "name": "python3"
  },
  "language_info": {
   "codemirror_mode": {
    "name": "ipython",
    "version": 3
   },
   "file_extension": ".py",
   "mimetype": "text/x-python",
   "name": "python",
   "nbconvert_exporter": "python",
   "pygments_lexer": "ipython3",
   "version": "3.13.1"
  },
  "title": "McKinney Chapter 2 - Practice",
  "toc-autonumbering": true
 },
 "nbformat": 4,
 "nbformat_minor": 5
}
