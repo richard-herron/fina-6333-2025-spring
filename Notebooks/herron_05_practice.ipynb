{
 "cells": [
  {
   "cell_type": "markdown",
   "id": "22b59adb-864b-49c7-99dc-5f498ced59c2",
   "metadata": {},
   "source": [
    "# Herron Topic 5 - Practice Blank"
   ]
  },
  {
   "cell_type": "code",
   "execution_count": 1,
   "id": "345aa33b-5d86-4a6e-af44-9543807d91b1",
   "metadata": {},
   "outputs": [],
   "source": [
    "import matplotlib.pyplot as plt\n",
    "import numpy as np\n",
    "import pandas as pd\n",
    "import pandas_datareader as pdr\n",
    "from scipy.stats import norm # new addition for Monte Carlo methods\n",
    "import warnings # to suppress the pandas_datareader warning\n",
    "import yfinance as yf"
   ]
  },
  {
   "cell_type": "code",
   "execution_count": 2,
   "id": "cfd3d157-58d9-476f-8b38-34cf328ac7d4",
   "metadata": {},
   "outputs": [],
   "source": [
    "%precision 2\n",
    "pd.options.display.float_format = '{:.2f}'.format\n",
    "# %config InlineBackend.figure_format = 'retina'"
   ]
  },
  {
   "cell_type": "markdown",
   "id": "5adf9803-55e1-4ccc-a675-65f13ac58bca",
   "metadata": {},
   "source": [
    "## Announcements"
   ]
  },
  {
   "cell_type": "markdown",
   "id": "acf3121f-cf3e-45f1-a82c-720492dda4c6",
   "metadata": {},
   "source": [
    "## Five-Minute Recap"
   ]
  },
  {
   "cell_type": "markdown",
   "id": "837fbfec-079d-4190-b763-7cf5e73ec3e2",
   "metadata": {},
   "source": [
    "##  Practice"
   ]
  },
  {
   "cell_type": "markdown",
   "id": "b558d2bf-d00e-4ab6-b7bc-b620af239d1e",
   "metadata": {},
   "source": [
    "### Estimate $\\pi$ by simulating darts thrown at a dart board"
   ]
  },
  {
   "cell_type": "markdown",
   "id": "5e18186d-784c-46e3-9739-87e584815a22",
   "metadata": {},
   "source": [
    "*Hints:*\n",
    "Select random $x$s and $y$s such that $-r \\leq x \\leq +r$ and $-r \\leq x \\leq +r$.\n",
    "Darts are on the board if $x^2 + y^2 \\leq r^2$.\n",
    "The area of the circlular board is $\\pi r^2$, and the area of square around the board is $(2r)^2 = 4r^2$.\n",
    "The fraction $f$ of darts on the board is the same as the ratio of circle area to square area, so $f = \\frac{\\pi r^2}{4 r^2}$."
   ]
  },
  {
   "cell_type": "markdown",
   "id": "2a18fee2-d5c9-41dd-aee5-fdc6ef87a241",
   "metadata": {},
   "source": [
    "### Simulate your wealth $W_T$ by randomly sampling market returns"
   ]
  },
  {
   "cell_type": "markdown",
   "id": "660063d3-ab75-4c50-a17c-074994507d9c",
   "metadata": {},
   "source": [
    "Use monthly market returns from the French Data Library.\n",
    "Only invest one cash flow $W_0$, and plot the distribution of $W_T$."
   ]
  },
  {
   "cell_type": "code",
   "execution_count": 3,
   "id": "3fa35ced-3f93-4b9a-b60c-88c194260c84",
   "metadata": {},
   "outputs": [],
   "source": [
    "with warnings.catch_warnings():\n",
    "    warnings.filterwarnings(\"ignore\", category=FutureWarning)\n",
    "    ff3 = (\n",
    "        pdr.DataReader(\n",
    "            name='F-F_Research_Data_Factors',\n",
    "            data_source='famafrench',\n",
    "            start='1900'\n",
    "        )\n",
    "        [0]\n",
    "        .div(100)\n",
    "    )"
   ]
  },
  {
   "cell_type": "code",
   "execution_count": 4,
   "id": "0b6b6c7d-2567-4490-8801-a64f5b613285",
   "metadata": {},
   "outputs": [
    {
     "data": {
      "text/html": [
       "<div>\n",
       "<style scoped>\n",
       "    .dataframe tbody tr th:only-of-type {\n",
       "        vertical-align: middle;\n",
       "    }\n",
       "\n",
       "    .dataframe tbody tr th {\n",
       "        vertical-align: top;\n",
       "    }\n",
       "\n",
       "    .dataframe thead th {\n",
       "        text-align: right;\n",
       "    }\n",
       "</style>\n",
       "<table border=\"1\" class=\"dataframe\">\n",
       "  <thead>\n",
       "    <tr style=\"text-align: right;\">\n",
       "      <th></th>\n",
       "      <th>Mkt-RF</th>\n",
       "      <th>SMB</th>\n",
       "      <th>HML</th>\n",
       "      <th>RF</th>\n",
       "    </tr>\n",
       "    <tr>\n",
       "      <th>Date</th>\n",
       "      <th></th>\n",
       "      <th></th>\n",
       "      <th></th>\n",
       "      <th></th>\n",
       "    </tr>\n",
       "  </thead>\n",
       "  <tbody>\n",
       "    <tr>\n",
       "      <th>1926-07</th>\n",
       "      <td>0.03</td>\n",
       "      <td>-0.03</td>\n",
       "      <td>-0.02</td>\n",
       "      <td>0.00</td>\n",
       "    </tr>\n",
       "    <tr>\n",
       "      <th>1926-08</th>\n",
       "      <td>0.03</td>\n",
       "      <td>-0.01</td>\n",
       "      <td>0.04</td>\n",
       "      <td>0.00</td>\n",
       "    </tr>\n",
       "    <tr>\n",
       "      <th>1926-09</th>\n",
       "      <td>0.00</td>\n",
       "      <td>-0.01</td>\n",
       "      <td>0.00</td>\n",
       "      <td>0.00</td>\n",
       "    </tr>\n",
       "    <tr>\n",
       "      <th>1926-10</th>\n",
       "      <td>-0.03</td>\n",
       "      <td>-0.00</td>\n",
       "      <td>0.01</td>\n",
       "      <td>0.00</td>\n",
       "    </tr>\n",
       "    <tr>\n",
       "      <th>1926-11</th>\n",
       "      <td>0.03</td>\n",
       "      <td>-0.00</td>\n",
       "      <td>-0.01</td>\n",
       "      <td>0.00</td>\n",
       "    </tr>\n",
       "  </tbody>\n",
       "</table>\n",
       "</div>"
      ],
      "text/plain": [
       "         Mkt-RF   SMB   HML   RF\n",
       "Date                            \n",
       "1926-07    0.03 -0.03 -0.02 0.00\n",
       "1926-08    0.03 -0.01  0.04 0.00\n",
       "1926-09    0.00 -0.01  0.00 0.00\n",
       "1926-10   -0.03 -0.00  0.01 0.00\n",
       "1926-11    0.03 -0.00 -0.01 0.00"
      ]
     },
     "execution_count": 4,
     "metadata": {},
     "output_type": "execute_result"
    }
   ],
   "source": [
    "ff3.head()"
   ]
  },
  {
   "cell_type": "markdown",
   "id": "cbc4e614-25af-45c3-b329-9959d6d67e6c",
   "metadata": {},
   "source": [
    "### Repeat the exercise above but add end-of-month investments $C_t$"
   ]
  },
  {
   "cell_type": "code",
   "execution_count": null,
   "id": "7c759b2d-1379-4d18-b4ad-56fa4f340764",
   "metadata": {},
   "outputs": [],
   "source": []
  }
 ],
 "metadata": {
  "kernelspec": {
   "display_name": "Python 3 (ipykernel)",
   "language": "python",
   "name": "python3"
  },
  "language_info": {
   "codemirror_mode": {
    "name": "ipython",
    "version": 3
   },
   "file_extension": ".py",
   "mimetype": "text/x-python",
   "name": "python",
   "nbconvert_exporter": "python",
   "pygments_lexer": "ipython3",
   "version": "3.12.9"
  },
  "title": "Herron Topic 5 - Practice"
 },
 "nbformat": 4,
 "nbformat_minor": 5
}
