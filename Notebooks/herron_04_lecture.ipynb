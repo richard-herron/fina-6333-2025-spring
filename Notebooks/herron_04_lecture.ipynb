{
 "cells": [
  {
   "cell_type": "markdown",
   "id": "c6ca4c10-e13e-4d15-abeb-235009f50d96",
   "metadata": {
    "editable": true,
    "slideshow": {
     "slide_type": ""
    },
    "tags": []
   },
   "source": [
    "# Herron Topic 4 - Portfolio Optimization"
   ]
  },
  {
   "cell_type": "code",
   "execution_count": 1,
   "id": "ac257aa4-68db-4474-8287-e9d197827ee7",
   "metadata": {
    "editable": true
   },
   "outputs": [],
   "source": [
    "import matplotlib.pyplot as plt\n",
    "import numpy as np\n",
    "import pandas as pd\n",
    "import pandas_datareader as pdr\n",
    "import scipy.optimize as sco # new addition for portfolio optimization\n",
    "import statsmodels.api as sm\n",
    "import yfinance as yf"
   ]
  },
  {
   "cell_type": "code",
   "execution_count": 2,
   "id": "a947059f-a1da-4de8-b59e-66864d7d31b6",
   "metadata": {},
   "outputs": [],
   "source": [
    "%precision 4\n",
    "pd.options.display.float_format = '{:.4f}'.format\n",
    "# %config InlineBackend.figure_format = 'retina'"
   ]
  },
  {
   "cell_type": "markdown",
   "id": "a1466d4e-5296-4ef5-b801-4d50832c71b9",
   "metadata": {
    "jp-MarkdownHeadingCollapsed": true,
    "tags": []
   },
   "source": [
    "## Introduction\n",
    "\n",
    "This notebook covers portfolio optimization.\n",
    "In this notebook, we will:\n",
    "\n",
    "1. Review the 1/N portfolio (or equal-weighted portfolio) from the Herron topic 1 notebook\n",
    "1. Use SciPy's `minimize()` function to:\n",
    "    1. Find the minimum-variance portfolio\n",
    "    1. Find the minimum-variance frontier\n",
    "\n",
    "Ivo Welch provides a clear discussion of the theory and practice of portfolio optimization in Chapter 12 of [his free investments textbook](https://corpfin.ivo-welch.info/bookg.pdf)."
   ]
  },
  {
   "attachments": {},
   "cell_type": "markdown",
   "id": "ae579535-c1ae-431c-9619-23aae4f3fa25",
   "metadata": {},
   "source": [
    "## The 1/N Portfolio\n",
    "\n",
    "We first saw the 1/N portfolio (or equal-weighted portfolio) in the Herron topic 1 notebook.\n",
    "The 1/N portfolio gives each of N assets an equal portfolio weight of 1/N.\n",
    "While the 1/N strategy seems too simple to be useful, @demiguel2009optimal show the 1/N portfolio typically has a higher mean-variance efficiency than advanced portfolio optimizations.\n",
    "\n",
    "We will investigate the 1/N portfolio and portfolio optimization with the most recent three years of daily returns for the Mag 7 stocks (i.e., GOOGL, AMZN, AAPL, META, MSFT, NVDA, and TSLA)."
   ]
  },
  {
   "cell_type": "code",
   "execution_count": 3,
   "id": "a1dde8a4-1494-48f4-9437-a53721553847",
   "metadata": {
    "ExecuteTime": {
     "end_time": "2020-01-27T22:40:05.074684Z",
     "start_time": "2020-01-27T22:40:00.619657Z"
    }
   },
   "outputs": [],
   "source": [
    "mag7 = (\n",
    "    yf.download(\n",
    "        tickers='GOOGL AMZN AAPL META MSFT NVDA TSLA',\n",
    "        auto_adjust=False,\n",
    "        progress=False\n",
    "    )\n",
    "    .iloc[:-1] # drop incomplete trading day\n",
    ")"
   ]
  },
  {
   "cell_type": "code",
   "execution_count": 4,
   "id": "a7be8725-be85-4b65-8cfb-f7d71b22552e",
   "metadata": {
    "ExecuteTime": {
     "end_time": "2019-12-06T18:05:52.060088Z",
     "start_time": "2019-12-06T18:05:52.047752Z"
    }
   },
   "outputs": [],
   "source": [
    "returns = (\n",
    "    mag7\n",
    "    ['Adj Close']\n",
    "    .pct_change()\n",
    "    .iloc[(-3 * 252):]\n",
    ")"
   ]
  },
  {
   "cell_type": "markdown",
   "id": "9b6e1fb9-e0ec-4f0b-8b86-094aed5b452f",
   "metadata": {},
   "source": [
    "We can manually calculate 1/N portfolio returns three ways.\n",
    "\n",
    "The first calculation is a literal interpretation of $r_P = \\frac{1}{N} \\sum_{i}^{N} r_i$.\n",
    "The pandas code for this first calculation is `returns.sum(axis=1).div(n)`, which sums across the rows, and then divides by `n`.\n",
    "Recall that with constant weights, we rebalance our portfolio every return period.\n",
    "If we have daily data, we rebalance daily.\n",
    "If we have monthly data, we rebalance monthly, and so on."
   ]
  },
  {
   "cell_type": "code",
   "execution_count": 5,
   "id": "d40fcf83-79f5-43c0-9630-4149380743c2",
   "metadata": {},
   "outputs": [],
   "source": [
    "n = returns.shape[1]\n",
    "r_p1 = returns.sum(axis=1).div(n)"
   ]
  },
  {
   "cell_type": "code",
   "execution_count": 6,
   "id": "d1d931be-d4a9-4c26-ad20-6b1ed023aae3",
   "metadata": {},
   "outputs": [
    {
     "data": {
      "text/plain": [
       "count   756.0000\n",
       "mean      0.0010\n",
       "std       0.0196\n",
       "min      -0.0674\n",
       "25%      -0.0099\n",
       "50%       0.0008\n",
       "75%       0.0128\n",
       "max       0.0984\n",
       "dtype: float64"
      ]
     },
     "execution_count": 6,
     "metadata": {},
     "output_type": "execute_result"
    }
   ],
   "source": [
    "r_p1.describe()"
   ]
  },
  {
   "cell_type": "markdown",
   "id": "c24a7ed7-233d-48d2-94c0-3fe3804023ac",
   "metadata": {},
   "source": [
    "We learned the last two calculations in the Herron topic 1.\n",
    "The pandas code for the second calculation is `returns.mean(axis=1)`, which calculates the mean of each row."
   ]
  },
  {
   "cell_type": "code",
   "execution_count": 7,
   "id": "2f0e7c3b-96d0-4946-bdc0-14624f4f9a14",
   "metadata": {},
   "outputs": [],
   "source": [
    "r_p2 = returns.mean(axis=1)"
   ]
  },
  {
   "cell_type": "code",
   "execution_count": 8,
   "id": "2fe04df9-e1ff-4bda-9952-394d042bbff8",
   "metadata": {},
   "outputs": [
    {
     "data": {
      "text/plain": [
       "count   756.0000\n",
       "mean      0.0010\n",
       "std       0.0196\n",
       "min      -0.0674\n",
       "25%      -0.0099\n",
       "50%       0.0008\n",
       "75%       0.0128\n",
       "max       0.0984\n",
       "dtype: float64"
      ]
     },
     "execution_count": 8,
     "metadata": {},
     "output_type": "execute_result"
    }
   ],
   "source": [
    "r_p2.describe()"
   ]
  },
  {
   "cell_type": "markdown",
   "id": "e2dc9439-b021-4658-a3ee-71f348f7eac0",
   "metadata": {},
   "source": [
    "The pandas code for the third calculations is `returns.dot(weights)`, where `weights` is a NumPy array or a pandas series of portfolio weights.\n",
    "This calculation allows different weights for each asset.\n",
    "We can make 1/N portfolio weights with `np.ones(n) / n`."
   ]
  },
  {
   "cell_type": "code",
   "execution_count": 9,
   "id": "4bfdffcd-e8f6-4bea-aeef-93b14df97d1b",
   "metadata": {},
   "outputs": [],
   "source": [
    "weights = np.ones(n) / n"
   ]
  },
  {
   "cell_type": "code",
   "execution_count": 10,
   "id": "1c40b5c7-2bd3-485a-9e27-59c3e3e8e2aa",
   "metadata": {},
   "outputs": [
    {
     "data": {
      "text/plain": [
       "array([0.1429, 0.1429, 0.1429, 0.1429, 0.1429, 0.1429, 0.1429])"
      ]
     },
     "execution_count": 10,
     "metadata": {},
     "output_type": "execute_result"
    }
   ],
   "source": [
    "weights"
   ]
  },
  {
   "cell_type": "code",
   "execution_count": 11,
   "id": "280a92e0-8a81-45f4-9a53-fbd9d0288409",
   "metadata": {},
   "outputs": [],
   "source": [
    "r_p3 = returns.dot(weights)"
   ]
  },
  {
   "cell_type": "code",
   "execution_count": 12,
   "id": "5e486bfc-1941-4111-aa8f-68af7fa985a6",
   "metadata": {},
   "outputs": [
    {
     "data": {
      "text/plain": [
       "count   756.0000\n",
       "mean      0.0010\n",
       "std       0.0196\n",
       "min      -0.0674\n",
       "25%      -0.0099\n",
       "50%       0.0008\n",
       "75%       0.0128\n",
       "max       0.0984\n",
       "dtype: float64"
      ]
     },
     "execution_count": 12,
     "metadata": {},
     "output_type": "execute_result"
    }
   ],
   "source": [
    "r_p3.describe()"
   ]
  },
  {
   "cell_type": "markdown",
   "id": "98e4efc4-0fcc-4aff-bcb5-84208c8b5001",
   "metadata": {},
   "source": [
    "We can use `np.allclose()` to show that `r_p1`, `r_p2`, and `r_p3` are similar."
   ]
  },
  {
   "cell_type": "code",
   "execution_count": 13,
   "id": "0e4d5f54-8ab8-4458-96f5-0f6bc1b2a7e8",
   "metadata": {},
   "outputs": [
    {
     "data": {
      "text/plain": [
       "True"
      ]
     },
     "execution_count": 13,
     "metadata": {},
     "output_type": "execute_result"
    }
   ],
   "source": [
    "np.allclose(r_p1, r_p2)"
   ]
  },
  {
   "cell_type": "code",
   "execution_count": 14,
   "id": "68ba53a0-58f5-4bb1-9f0c-f9b1111d6499",
   "metadata": {},
   "outputs": [
    {
     "data": {
      "text/plain": [
       "True"
      ]
     },
     "execution_count": 14,
     "metadata": {},
     "output_type": "execute_result"
    }
   ],
   "source": [
    "np.allclose(r_p2, r_p3)"
   ]
  },
  {
   "cell_type": "code",
   "execution_count": 15,
   "id": "dccb46fd-cefe-4e2b-bf59-d07686fee50c",
   "metadata": {},
   "outputs": [
    {
     "data": {
      "text/plain": [
       "True"
      ]
     },
     "execution_count": 15,
     "metadata": {},
     "output_type": "execute_result"
    }
   ],
   "source": [
    "np.allclose(r_p3, r_p1)"
   ]
  },
  {
   "cell_type": "markdown",
   "id": "1c62dd23-03c2-47d6-b233-a6df780592c5",
   "metadata": {},
   "source": [
    "---"
   ]
  },
  {
   "cell_type": "markdown",
   "id": "195c9e19-8c17-4f14-8b71-24c9745f3c29",
   "metadata": {},
   "source": [
    "Here is a brief detour to show how the `.dot()` method works."
   ]
  },
  {
   "cell_type": "code",
   "execution_count": 16,
   "id": "fd36dc53-1621-429c-9874-624b0df394e5",
   "metadata": {},
   "outputs": [],
   "source": [
    "silly_n = 3\n",
    "silly_w = np.ones(silly_n) / silly_n\n",
    "silly_r = pd.DataFrame(np.arange(2*silly_n).reshape(2, silly_n))"
   ]
  },
  {
   "cell_type": "code",
   "execution_count": 17,
   "id": "27b4dc37-f3a3-42af-a86a-d608acf175da",
   "metadata": {},
   "outputs": [
    {
     "name": "stdout",
     "output_type": "stream",
     "text": [
      "silly_n:\n",
      "3\n",
      "\n",
      "silly_w:\n",
      "[0.3333 0.3333 0.3333]\n",
      "\n",
      "silly_r:\n",
      "   0  1  2\n",
      "0  0  1  2\n",
      "1  3  4  5\n"
     ]
    }
   ],
   "source": [
    "print(\n",
    "    f'silly_n:\\n{silly_n}',\n",
    "    f'silly_w:\\n{silly_w}',\n",
    "    f'silly_r:\\n{silly_r}',\n",
    "    sep='\\n\\n'\n",
    ")"
   ]
  },
  {
   "cell_type": "code",
   "execution_count": 18,
   "id": "a15492fc-9a05-4253-8fa3-ba43cde70447",
   "metadata": {},
   "outputs": [
    {
     "data": {
      "text/plain": [
       "0   1.0000\n",
       "1   4.0000\n",
       "dtype: float64"
      ]
     },
     "execution_count": 18,
     "metadata": {},
     "output_type": "execute_result"
    }
   ],
   "source": [
    "silly_r.dot(silly_w)"
   ]
  },
  {
   "cell_type": "markdown",
   "id": "31e1c510-e973-4a4c-9429-d125c4faebcc",
   "metadata": {},
   "source": [
    "Under the hood, the `.dot()` method efficiently calculates the following:"
   ]
  },
  {
   "cell_type": "code",
   "execution_count": 19,
   "id": "3c97d48e-bc76-4cae-a1da-b35e4510df3e",
   "metadata": {},
   "outputs": [
    {
     "name": "stdout",
     "output_type": "stream",
     "text": [
      "Row 0:  0.33 * 0 + 0.33 * 1 + 0.33 * 2  =  1.00\n",
      "Row 1:  0.33 * 3 + 0.33 * 4 + 0.33 * 5  =  4.00\n"
     ]
    }
   ],
   "source": [
    "for i, row in silly_r.iterrows():\n",
    "    print(\n",
    "        f'Row {i}: ',\n",
    "        ' + '.join([f'{w:0.2f} * {y}' for w, y in zip(silly_w, row)]),\n",
    "        ' = ',\n",
    "        f'{silly_r.dot(silly_w).iloc[i]:0.2f}'\n",
    "    )"
   ]
  },
  {
   "cell_type": "markdown",
   "id": "98f464e3-d32e-4f5a-8163-abab50721401",
   "metadata": {},
   "source": [
    "---"
   ]
  },
  {
   "attachments": {},
   "cell_type": "markdown",
   "id": "441e7c50-efc5-4f5a-806d-93fd73769192",
   "metadata": {},
   "source": [
    "## SciPy's `minimize()` Function\n",
    "\n",
    "SciPy's `minimize()` function, from the `optimize` module, finds the input array `x` that minimizes the output of a given function `fun`.\n",
    "The `minimize()` function uses optimization techniques that are beyond the scope of this course.\n",
    "We can consider these optimization techniques as sophisticated trial-and-error (or guess-and-check).\n",
    "\n",
    "Here are the common arguments for the the `minimize()` function:\n",
    "\n",
    "1. `fun=` is the name of the function who's output we want to minimize\n",
    "1. `x0=` is our first guess for the input to the function `fun`\n",
    "1. `args=` is a tuple of additional arguments to the function `fun`\n",
    "1. `bounds=` is a tuple of tuples with lower and upper bounds for each element in `x`\n",
    "1. `contraints=` is a tuple of dictionaries that limit `x` by constraining the output of a given function to zero or non-negative values\n",
    "\n",
    "Here is a simple example that minimizes the function `quadratic()`, which has arguments $x$ and $a$ and returns $(x - a)^2$."
   ]
  },
  {
   "cell_type": "code",
   "execution_count": 20,
   "id": "d60def34-16df-4cbf-819a-ff0c80c16f75",
   "metadata": {},
   "outputs": [],
   "source": [
    "def quadratic(x, a=5):\n",
    "    return (x - a) ** 2"
   ]
  },
  {
   "cell_type": "code",
   "execution_count": 21,
   "id": "7ba2b09d-216e-45f8-bc14-0fad2cb68deb",
   "metadata": {},
   "outputs": [
    {
     "data": {
      "text/plain": [
       "25"
      ]
     },
     "execution_count": 21,
     "metadata": {},
     "output_type": "execute_result"
    }
   ],
   "source": [
    "quadratic(x=0, a=5)"
   ]
  },
  {
   "cell_type": "code",
   "execution_count": 22,
   "id": "e17e592c-10ef-4cac-b462-7f47ca13abd5",
   "metadata": {},
   "outputs": [
    {
     "data": {
      "text/plain": [
       "0"
      ]
     },
     "execution_count": 22,
     "metadata": {},
     "output_type": "execute_result"
    }
   ],
   "source": [
    "quadratic(x=5, a=5)"
   ]
  },
  {
   "cell_type": "code",
   "execution_count": 23,
   "id": "ea29b5c6-0918-4a05-a3c6-78c835fb0f89",
   "metadata": {},
   "outputs": [
    {
     "data": {
      "text/plain": [
       "25"
      ]
     },
     "execution_count": 23,
     "metadata": {},
     "output_type": "execute_result"
    }
   ],
   "source": [
    "quadratic(x=10, a=5)"
   ]
  },
  {
   "cell_type": "markdown",
   "id": "f5ff20ed-55b6-4c73-800e-4501b09dcf7a",
   "metadata": {},
   "source": [
    "It might be helpful to plot $y = (x - a)^2$."
   ]
  },
  {
   "cell_type": "code",
   "execution_count": 24,
   "id": "1ee67033-dff8-4424-8e55-a47bf2407695",
   "metadata": {},
   "outputs": [
    {
     "data": {
      "image/png": "[encoded data removed]",
      "text/plain": [
       "<Figure size 640x480 with 1 Axes>"
      ]
     },
     "metadata": {},
     "output_type": "display_data"
    }
   ],
   "source": [
    "x = np.linspace(-5, 15, 101)\n",
    "y = quadratic(x=x)\n",
    "plt.plot(x, y)\n",
    "plt.xlabel(r'$x$')\n",
    "plt.ylabel(r'$y$')\n",
    "plt.title(r'$y = (x - 5)^2$ over $x \\in [-5, 15]$')\n",
    "plt.show()"
   ]
  },
  {
   "cell_type": "markdown",
   "id": "f505f39b-2612-4b2e-b57f-2cb75d482666",
   "metadata": {},
   "source": [
    "The minimum output of `quadratic()` occurs at $x=5$ if we do not use bounds or constraints.\n",
    "For this function, we can even start far away from $x=5$."
   ]
  },
  {
   "cell_type": "code",
   "execution_count": 25,
   "id": "a1d853e7-41c9-4c6a-afb4-faed55727186",
   "metadata": {},
   "outputs": [
    {
     "data": {
      "text/plain": [
       "  message: Optimization terminated successfully.\n",
       "  success: True\n",
       "   status: 0\n",
       "      fun: 2.0392713450495178e-16\n",
       "        x: [ 5.000e+00]\n",
       "      nit: 4\n",
       "      jac: [-1.366e-08]\n",
       " hess_inv: [[ 5.000e-01]]\n",
       "     nfev: 18\n",
       "     njev: 9"
      ]
     },
     "execution_count": 25,
     "metadata": {},
     "output_type": "execute_result"
    }
   ],
   "source": [
    "sco.minimize(\n",
    "    fun=quadratic,\n",
    "    x0=np.array([2001])\n",
    ")"
   ]
  },
  {
   "cell_type": "markdown",
   "id": "4a984bc6-3060-445e-b62e-88fc4b0b0eaf",
   "metadata": {},
   "source": [
    "The minimum output of `quadratic()` occurs at $x=6$ if we bound $6 \\leq x \\leq 10$ with `bounds=((6, 10),)`.\n",
    "`bounds=` requires a tuple of tuples, so we need the trailing comma if we only have one set of bounds."
   ]
  },
  {
   "cell_type": "code",
   "execution_count": 26,
   "id": "57c13b98-7960-4d93-a5ee-ea73416f57e6",
   "metadata": {},
   "outputs": [
    {
     "data": {
      "text/plain": [
       "  message: CONVERGENCE: NORM OF PROJECTED GRADIENT <= PGTOL\n",
       "  success: True\n",
       "   status: 0\n",
       "      fun: 1.0\n",
       "        x: [ 6.000e+00]\n",
       "      nit: 1\n",
       "      jac: [ 2.000e+00]\n",
       "     nfev: 4\n",
       "     njev: 2\n",
       " hess_inv: <1x1 LbfgsInvHessProduct with dtype=float64>"
      ]
     },
     "execution_count": 26,
     "metadata": {},
     "output_type": "execute_result"
    }
   ],
   "source": [
    "sco.minimize(\n",
    "    fun=quadratic,\n",
    "    x0=np.array([2001]),\n",
    "    bounds=((6, 10),)\n",
    ")"
   ]
  },
  {
   "cell_type": "markdown",
   "id": "4ea95546-f28d-4769-a2a9-82aa9cb06018",
   "metadata": {},
   "source": [
    "The minimum output of `quadratic()` also occurs at $x=6$ if we constrain $x-6 > 0$ with `constraints=({'type': 'ineq', 'fun': lambda x: x - 6})`.\n",
    "For inequality constraints, the given function must evaluate to a non-negative value.\n",
    "We use bounds to limit the search space directly, and we use constraints to limit the search space based on a given function."
   ]
  },
  {
   "cell_type": "code",
   "execution_count": 27,
   "id": "bd6c8fb9-991f-4025-80dc-b6c5dafd9289",
   "metadata": {},
   "outputs": [
    {
     "data": {
      "text/plain": [
       " message: Optimization terminated successfully\n",
       " success: True\n",
       "  status: 0\n",
       "     fun: 1.0000000000000018\n",
       "       x: [ 6.000e+00]\n",
       "     nit: 3\n",
       "     jac: [ 2.000e+00]\n",
       "    nfev: 6\n",
       "    njev: 3"
      ]
     },
     "execution_count": 27,
     "metadata": {},
     "output_type": "execute_result"
    }
   ],
   "source": [
    "sco.minimize(\n",
    "    fun=quadratic,\n",
    "    x0=np.array([2001]),\n",
    "    constraints=({'type': 'ineq', 'fun': lambda x: x - 6})\n",
    ")"
   ]
  },
  {
   "cell_type": "markdown",
   "id": "e742b7c8-d8d7-4d48-aa79-6bba5550cf4d",
   "metadata": {},
   "source": [
    "We use the `args=` argument to pass additional arguments to the function `fun`.\n",
    "For example, we change the `a=` argument in `quadratic()` from the default of `a=5` to `a=20` with `args=(20,)`.\n",
    "Like `bounds=`, `args=` expects a tuple, so we need a trailing comma if we have only one argument."
   ]
  },
  {
   "cell_type": "code",
   "execution_count": 28,
   "id": "383f3c9c-fc49-47b3-afe8-d0392ecb17a3",
   "metadata": {},
   "outputs": [
    {
     "data": {
      "text/plain": [
       "  message: Optimization terminated successfully.\n",
       "  success: True\n",
       "   status: 0\n",
       "      fun: 7.090392030754976e-17\n",
       "        x: [ 2.000e+01]\n",
       "      nit: 4\n",
       "      jac: [-1.940e-09]\n",
       " hess_inv: [[ 5.000e-01]]\n",
       "     nfev: 18\n",
       "     njev: 9"
      ]
     },
     "execution_count": 28,
     "metadata": {},
     "output_type": "execute_result"
    }
   ],
   "source": [
    "sco.minimize(\n",
    "    fun=quadratic,\n",
    "    args=(20,),\n",
    "    x0=np.array([2001]),\n",
    ")"
   ]
  },
  {
   "attachments": {},
   "cell_type": "markdown",
   "id": "c2d80890-fb78-4a89-bd9a-85e2a50657f6",
   "metadata": {},
   "source": [
    "## The Minimum-Variance Portfolio\n",
    "\n",
    "Now we apply `minimize()` to our Mag-7 returns to find the the minimum-variance portfolio.\n",
    "Recall, the `minimize()` function varies an input array `x`, starting from argument `x0=`, to minimize the output of a given function `fun=` subject to the bounds and constraints in `bounds=` and `constraints=`, respectively. \n",
    "\n",
    "We can define a function `calc_sigmap()` to calculate portfolio volatility.\n",
    "The first argument to `calc_sigmap()` must be the input array `x` that `minimize()` searches over.\n",
    "We call this first argument `w` because it has portfolio weights.\n",
    "Recall that portfolio variance is $\\sigma^2_p = w' \\Sigma w$, so portfolio volatility is $\\sigma_p = \\sqrt{w' \\Sigma w}$.\n",
    "Here $\\Sigma$ (and `Sigma`) is the returns covariance matrix, and $w$ (and `w`) is the portfolio weights array."
   ]
  },
  {
   "cell_type": "code",
   "execution_count": 29,
   "id": "5db84cab-f631-44c2-88a8-700bca5aeb94",
   "metadata": {},
   "outputs": [],
   "source": [
    "def calc_sigmap(w, Sigma, ppy=252):\n",
    "    return np.sqrt(ppy * w.T @ Sigma @ w)"
   ]
  },
  {
   "cell_type": "code",
   "execution_count": 30,
   "id": "e9dff148-ca4f-4169-b1a5-18fdf872c7eb",
   "metadata": {},
   "outputs": [],
   "source": [
    "Sigma = returns.cov()"
   ]
  },
  {
   "cell_type": "code",
   "execution_count": 31,
   "id": "6a8a45b0-0de7-46a3-a51a-572c1d1f7739",
   "metadata": {},
   "outputs": [
    {
     "data": {
      "text/html": [
       "<div>\n",
       "<style scoped>\n",
       "    .dataframe tbody tr th:only-of-type {\n",
       "        vertical-align: middle;\n",
       "    }\n",
       "\n",
       "    .dataframe tbody tr th {\n",
       "        vertical-align: top;\n",
       "    }\n",
       "\n",
       "    .dataframe thead th {\n",
       "        text-align: right;\n",
       "    }\n",
       "</style>\n",
       "<table border=\"1\" class=\"dataframe\">\n",
       "  <thead>\n",
       "    <tr style=\"text-align: right;\">\n",
       "      <th>Ticker</th>\n",
       "      <th>AAPL</th>\n",
       "      <th>AMZN</th>\n",
       "      <th>GOOGL</th>\n",
       "      <th>META</th>\n",
       "      <th>MSFT</th>\n",
       "      <th>NVDA</th>\n",
       "      <th>TSLA</th>\n",
       "    </tr>\n",
       "    <tr>\n",
       "      <th>Ticker</th>\n",
       "      <th></th>\n",
       "      <th></th>\n",
       "      <th></th>\n",
       "      <th></th>\n",
       "      <th></th>\n",
       "      <th></th>\n",
       "      <th></th>\n",
       "    </tr>\n",
       "  </thead>\n",
       "  <tbody>\n",
       "    <tr>\n",
       "      <th>AAPL</th>\n",
       "      <td>0.0003</td>\n",
       "      <td>0.0002</td>\n",
       "      <td>0.0002</td>\n",
       "      <td>0.0002</td>\n",
       "      <td>0.0002</td>\n",
       "      <td>0.0003</td>\n",
       "      <td>0.0003</td>\n",
       "    </tr>\n",
       "    <tr>\n",
       "      <th>AMZN</th>\n",
       "      <td>0.0002</td>\n",
       "      <td>0.0005</td>\n",
       "      <td>0.0003</td>\n",
       "      <td>0.0004</td>\n",
       "      <td>0.0003</td>\n",
       "      <td>0.0004</td>\n",
       "      <td>0.0004</td>\n",
       "    </tr>\n",
       "    <tr>\n",
       "      <th>GOOGL</th>\n",
       "      <td>0.0002</td>\n",
       "      <td>0.0003</td>\n",
       "      <td>0.0004</td>\n",
       "      <td>0.0003</td>\n",
       "      <td>0.0002</td>\n",
       "      <td>0.0004</td>\n",
       "      <td>0.0003</td>\n",
       "    </tr>\n",
       "    <tr>\n",
       "      <th>META</th>\n",
       "      <td>0.0002</td>\n",
       "      <td>0.0004</td>\n",
       "      <td>0.0003</td>\n",
       "      <td>0.0008</td>\n",
       "      <td>0.0003</td>\n",
       "      <td>0.0005</td>\n",
       "      <td>0.0004</td>\n",
       "    </tr>\n",
       "    <tr>\n",
       "      <th>MSFT</th>\n",
       "      <td>0.0002</td>\n",
       "      <td>0.0003</td>\n",
       "      <td>0.0002</td>\n",
       "      <td>0.0003</td>\n",
       "      <td>0.0003</td>\n",
       "      <td>0.0004</td>\n",
       "      <td>0.0003</td>\n",
       "    </tr>\n",
       "    <tr>\n",
       "      <th>NVDA</th>\n",
       "      <td>0.0003</td>\n",
       "      <td>0.0004</td>\n",
       "      <td>0.0004</td>\n",
       "      <td>0.0005</td>\n",
       "      <td>0.0004</td>\n",
       "      <td>0.0012</td>\n",
       "      <td>0.0006</td>\n",
       "    </tr>\n",
       "    <tr>\n",
       "      <th>TSLA</th>\n",
       "      <td>0.0003</td>\n",
       "      <td>0.0004</td>\n",
       "      <td>0.0003</td>\n",
       "      <td>0.0004</td>\n",
       "      <td>0.0003</td>\n",
       "      <td>0.0006</td>\n",
       "      <td>0.0015</td>\n",
       "    </tr>\n",
       "  </tbody>\n",
       "</table>\n",
       "</div>"
      ],
      "text/plain": [
       "Ticker   AAPL   AMZN  GOOGL   META   MSFT   NVDA   TSLA\n",
       "Ticker                                                 \n",
       "AAPL   0.0003 0.0002 0.0002 0.0002 0.0002 0.0003 0.0003\n",
       "AMZN   0.0002 0.0005 0.0003 0.0004 0.0003 0.0004 0.0004\n",
       "GOOGL  0.0002 0.0003 0.0004 0.0003 0.0002 0.0004 0.0003\n",
       "META   0.0002 0.0004 0.0003 0.0008 0.0003 0.0005 0.0004\n",
       "MSFT   0.0002 0.0003 0.0002 0.0003 0.0003 0.0004 0.0003\n",
       "NVDA   0.0003 0.0004 0.0004 0.0005 0.0004 0.0012 0.0006\n",
       "TSLA   0.0003 0.0004 0.0003 0.0004 0.0003 0.0006 0.0015"
      ]
     },
     "execution_count": 31,
     "metadata": {},
     "output_type": "execute_result"
    }
   ],
   "source": [
    "Sigma"
   ]
  },
  {
   "cell_type": "markdown",
   "id": "446cd2c0-b5c9-4958-b116-e20aa681822a",
   "metadata": {},
   "source": [
    "We can also define a function `calc_mup()` that calculates a mean portfolio return.\n",
    "Recall that mean portfolio return is $\\mu_p = w' \\mu$.\n",
    "Here $\\mu$ (and `mu`) is the mean returns array, and $w$ (and `w`) is the portfolio weights array."
   ]
  },
  {
   "cell_type": "code",
   "execution_count": 32,
   "id": "7071a5e2-16bc-4a2e-977c-7e8b65577090",
   "metadata": {},
   "outputs": [],
   "source": [
    "def calc_mup(w, mu, ppy=252):\n",
    "    return ppy * w.T @ mu"
   ]
  },
  {
   "cell_type": "code",
   "execution_count": 33,
   "id": "f92f7ed2-49f2-4c35-bcdf-171250b28e14",
   "metadata": {},
   "outputs": [],
   "source": [
    "mu = returns.mean()"
   ]
  },
  {
   "cell_type": "code",
   "execution_count": 34,
   "id": "1a8e1c7e-da30-46f1-a03d-b2a77ef5c1e2",
   "metadata": {},
   "outputs": [
    {
     "data": {
      "text/plain": [
       "Ticker\n",
       "AAPL    0.0006\n",
       "AMZN    0.0006\n",
       "GOOGL   0.0005\n",
       "META    0.0018\n",
       "MSFT    0.0005\n",
       "NVDA    0.0025\n",
       "TSLA    0.0006\n",
       "dtype: float64"
      ]
     },
     "execution_count": 34,
     "metadata": {},
     "output_type": "execute_result"
    }
   ],
   "source": [
    "mu"
   ]
  },
  {
   "cell_type": "markdown",
   "id": "5738d3bc-639a-4211-97ed-e07813c49c65",
   "metadata": {},
   "source": [
    "Finally, we can use `minimize()` to find the portfolio weights that minimize portfolio volatility.\n",
    "Below, the equality constraint is met when `x.sum() - 1` is zero, which is the Python equivalent of $\\sum_i w_i = 1$."
   ]
  },
  {
   "cell_type": "code",
   "execution_count": 35,
   "id": "1319daec-3e67-4868-a8c9-6c9dcf4a4c5b",
   "metadata": {},
   "outputs": [
    {
     "name": "stdout",
     "output_type": "stream",
     "text": [
      " message: Optimization terminated successfully\n",
      " success: True\n",
      "  status: 0\n",
      "     fun: 0.24371407736360207\n",
      "       x: [ 4.616e-01  0.000e+00  9.470e-02  0.000e+00  4.437e-01\n",
      "            0.000e+00  2.212e-17]\n",
      "     nit: 10\n",
      "     jac: [ 2.437e-01  2.575e-01  2.437e-01  2.773e-01  2.437e-01\n",
      "            3.419e-01  3.062e-01]\n",
      "    nfev: 80\n",
      "    njev: 10\n"
     ]
    }
   ],
   "source": [
    "res_mv = sco.minimize(\n",
    "    fun=calc_sigmap,\n",
    "    x0=np.ones(Sigma.shape[0]) / Sigma.shape[0],\n",
    "    args=(Sigma, 252),\n",
    "    bounds=[(0,1) for _ in returns],\n",
    "    constraints=(\n",
    "        {'type': 'eq', 'fun': lambda x: x.sum() - 1}\n",
    "    )\n",
    ")\n",
    "\n",
    "print(res_mv)"
   ]
  },
  {
   "cell_type": "markdown",
   "id": "2214c329-5d09-4dc4-85a7-2d28eb09a5c9",
   "metadata": {},
   "source": [
    "What are the attributes of the minimum-variance portfolio?\n",
    "We can write a helper function `print_port_res()` to simplify our lives!"
   ]
  },
  {
   "cell_type": "code",
   "execution_count": 36,
   "id": "3bf1cc96-7707-47f5-a5ea-e7a169c3c588",
   "metadata": {},
   "outputs": [],
   "source": [
    "def print_port_res(w, mu, Sigma, title, ppy=252):\n",
    "    width = max(len(title), 32)\n",
    "    mup = ppy * w.T @ mu\n",
    "    sigmap = np.sqrt(ppy * w.T @ Sigma @ w)\n",
    "    \n",
    "    return print(\n",
    "        title,\n",
    "        '=' * width,\n",
    "        '',\n",
    "        'Performance',\n",
    "        '-' * width,\n",
    "        'Annualized Mean Return:'.ljust(width - 6) + f'{mup:0.4f}',\n",
    "        'Annualized Volatility:'.ljust(width - 6) + f'{sigmap:0.4f}',\n",
    "        '',\n",
    "        'Weights', \n",
    "        '-' * width, \n",
    "        '\\n'.join([\n",
    "            f'{_r}:'.ljust(width - 6) + f'{_w:0.4f}' \n",
    "            for _r, _w in zip(Sigma.index, w)\n",
    "        ]),\n",
    "        '=' * width, \n",
    "        sep='\\n',\n",
    "    )"
   ]
  },
  {
   "cell_type": "code",
   "execution_count": 37,
   "id": "c774bfbf-efa6-4116-88db-a2b7b0182601",
   "metadata": {},
   "outputs": [
    {
     "name": "stdout",
     "output_type": "stream",
     "text": [
      "minimum-variance portfolio\n",
      "================================\n",
      "\n",
      "Performance\n",
      "--------------------------------\n",
      "Annualized Mean Return:   0.1344\n",
      "Annualized Volatility:    0.2437\n",
      "\n",
      "Weights\n",
      "--------------------------------\n",
      "AAPL:                     0.4616\n",
      "AMZN:                     0.0000\n",
      "GOOGL:                    0.0947\n",
      "META:                     0.0000\n",
      "MSFT:                     0.4437\n",
      "NVDA:                     0.0000\n",
      "TSLA:                     0.0000\n",
      "================================\n"
     ]
    }
   ],
   "source": [
    "print_port_res(\n",
    "    w=res_mv['x'],\n",
    "    mu=returns.mean(),\n",
    "    Sigma=returns.cov(),\n",
    "    title='minimum-variance portfolio'\n",
    ")"
   ]
  },
  {
   "attachments": {},
   "cell_type": "markdown",
   "id": "38211552-5af9-48b6-9233-e56b2abd76cc",
   "metadata": {},
   "source": [
    "## The Minimum-Variance Frontier\n",
    "\n",
    "We can use `minimize()` to find the minimum-variance portfolio for a _target return_, then use a `for` loop to repeat this calculation for a wide range of target returns.\n",
    "This calculation will map out the minimum-variance frontier.\n",
    "Here are the steps:\n",
    "\n",
    "1. Create a NumPy array `returns_target` of target returns\n",
    "1. Create an empty list `res_ef` to hold `minimize()` results\n",
    "1. Loop over `returns_target`, passing each target return as a constraint to `minimize()`\n",
    "1. Append each `minimize()` result to `res_ef`"
   ]
  },
  {
   "cell_type": "code",
   "execution_count": 38,
   "id": "2f14556e-3bfa-454f-95ef-08f14c0e5ef7",
   "metadata": {},
   "outputs": [],
   "source": [
    "returns_target = 252 * np.linspace(\n",
    "    start=returns.mean().min(),\n",
    "    stop=returns.mean().max(),\n",
    "    num=50\n",
    ")"
   ]
  },
  {
   "cell_type": "markdown",
   "id": "13ccf3c4-a243-4c38-9b8c-068e72d9a0d0",
   "metadata": {},
   "source": [
    "Below, the first equality constraint is met when `x.sum() - 1` is zero, which is the Python equivalent of $\\sum_i w_i = 1$.\n",
    "The second equality constraint is met when `calc_mup(w=x, mu=mu, ppy=252) - r` is zero, which is the Python equivbalent of $w' \\mu = \\text{target return}$."
   ]
  },
  {
   "cell_type": "code",
   "execution_count": 39,
   "id": "15c25607-37cb-4d30-b309-4f8a3e827ef6",
   "metadata": {},
   "outputs": [],
   "source": [
    "res_ef = []\n",
    "\n",
    "for r in returns_target:\n",
    "    _ = sco.minimize(\n",
    "        fun=calc_sigmap,\n",
    "        x0=np.ones(Sigma.shape[0]) / Sigma.shape[0],\n",
    "        args=(Sigma, 252),\n",
    "        bounds=[(0, 1) for c in Sigma.index],\n",
    "        constraints=(\n",
    "            {'type': 'eq', 'fun': lambda x: x.sum() - 1},\n",
    "            {'type': 'eq', 'fun': lambda x: calc_mup(w=x, mu=mu, ppy=252) - r}\n",
    "        )\n",
    "    )\n",
    "    res_ef.append(_)"
   ]
  },
  {
   "cell_type": "markdown",
   "id": "b4ce009b-f40d-40f5-89d9-21677b952f14",
   "metadata": {},
   "source": [
    "The list `res_ef` contains the results of all 50 minimum-variance portfolios.\n",
    "For example, `res_ef[0]` is the minimum-variance portfolio for the lowest target return."
   ]
  },
  {
   "cell_type": "code",
   "execution_count": 40,
   "id": "6e72edd2-3bb6-47e2-85c8-6dc949afb705",
   "metadata": {},
   "outputs": [
    {
     "data": {
      "text/plain": [
       " message: Optimization terminated successfully\n",
       " success: True\n",
       "  status: 0\n",
       "     fun: 0.3240234964602987\n",
       "       x: [ 0.000e+00  1.860e-15  1.000e+00  1.638e-15  7.885e-08\n",
       "            0.000e+00  0.000e+00]\n",
       "     nit: 2\n",
       "     jac: [ 1.599e-01  2.423e-01  3.240e-01  2.693e-01  1.777e-01\n",
       "            2.884e-01  2.554e-01]\n",
       "    nfev: 16\n",
       "    njev: 2"
      ]
     },
     "execution_count": 40,
     "metadata": {},
     "output_type": "execute_result"
    }
   ],
   "source": [
    "res_ef[0]"
   ]
  },
  {
   "cell_type": "markdown",
   "id": "3e19202c-ca12-4f57-a87c-be413f72360b",
   "metadata": {},
   "source": [
    "We should check that all minimizations suceeded.\n",
    "If a portfolio volatility minimization fails, we should check our function, bounds, and constraints.\n",
    "Portfolio optimization is typically a simple problem for `minimize()`, so we typically have an error if `minimize()` does not succeed."
   ]
  },
  {
   "cell_type": "code",
   "execution_count": 41,
   "id": "74767957-4946-45b9-9602-f96e81788d5c",
   "metadata": {},
   "outputs": [],
   "source": [
    "for r in res_ef:\n",
    "    assert r['success'] "
   ]
  },
  {
   "cell_type": "markdown",
   "id": "04d12d0b-4d37-4a5a-b32e-89c44875974e",
   "metadata": {},
   "source": [
    "We can combine the target returns and volatilities into a data frame `mv_frontier`."
   ]
  },
  {
   "cell_type": "code",
   "execution_count": 42,
   "id": "5fd91870-84e1-4beb-8ebe-30997e412b47",
   "metadata": {},
   "outputs": [],
   "source": [
    "mv_frontier = pd.DataFrame({\n",
    "    'returns_target': returns_target,\n",
    "    'volatility': np.array([r['fun'] if r['success'] else np.nan for r in res_ef])\n",
    "})"
   ]
  },
  {
   "cell_type": "markdown",
   "id": "d851036d-74ca-4c76-9424-e13759d146f0",
   "metadata": {},
   "source": [
    "Finally, we can plot the minimum-variance frontier."
   ]
  },
  {
   "cell_type": "code",
   "execution_count": 43,
   "id": "a4a63af8-68d7-454c-b722-30250403dc53",
   "metadata": {},
   "outputs": [
    {
     "data": {
      "image/png": "[encoded data removed]",
      "text/plain": [
       "<Figure size 640x480 with 1 Axes>"
      ]
     },
     "metadata": {},
     "output_type": "display_data"
    }
   ],
   "source": [
    "(\n",
    "    mv_frontier\n",
    "    .mul(100)\n",
    "    .plot(x='volatility', y='returns_target', legend=False)\n",
    ")\n",
    "plt.ylabel('Annualized Mean Return (%)')\n",
    "plt.xlabel('Annualized Volatility (%)')\n",
    "\n",
    "for t in Sigma.index:\n",
    "    x = 100 * np.sqrt(252 * Sigma.loc[t, t])\n",
    "    y = 100 * 252 * mu.loc[t]\n",
    "    plt.annotate(text=t, xy=(x, y))\n",
    "    \n",
    "plt.show()"
   ]
  }
 ],
 "metadata": {
  "author": "Richard Herron",
  "kernelspec": {
   "display_name": "Python 3 (ipykernel)",
   "language": "python",
   "name": "python3"
  },
  "language_info": {
   "codemirror_mode": {
    "name": "ipython",
    "version": 3
   },
   "file_extension": ".py",
   "mimetype": "text/x-python",
   "name": "python",
   "nbconvert_exporter": "python",
   "pygments_lexer": "ipython3",
   "version": "3.12.9"
  },
  "title": "Herron Topic 4 - Portfolio Optimization"
 },
 "nbformat": 4,
 "nbformat_minor": 5
}
