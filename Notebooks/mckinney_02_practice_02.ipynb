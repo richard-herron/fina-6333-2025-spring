{
 "cells": [
  {
   "cell_type": "markdown",
   "id": "84f5567b-2c05-41c7-9cb3-498ecd6e4c00",
   "metadata": {},
   "source": [
    "# McKinney Chapter 2 - Practice - Sec 02"
   ]
  },
  {
   "cell_type": "markdown",
   "id": "696cccbf-46d5-4b60-8bb2-d73db8ceb6f3",
   "metadata": {},
   "source": [
    "## Announcements"
   ]
  },
  {
   "cell_type": "markdown",
   "id": "724ced1e-eed8-4f02-8442-a2e2acdba0c7",
   "metadata": {},
   "source": [
    "1. Check your email inbox for an invitation to a free six-month subscription to DataCamp\n",
    "   1. I added a few short courses to our course group\n",
    "   1. These short courses are completely optional\n",
    "   1. DataCamp has lots of resources to help you learn Python, R, SQL, Excel, etc.\n",
    "2. Here are links to a few finance newsletters I strongly suggest:\n",
    "   1. Matt Levine: <https://www.bloomberg.com/account/newsletters/money-stuff>\n",
    "   1. Byrne Hobart: <https://capitalgains.thediff.co/subscribe?ref=I0N1NGdmJq&_bhlid=7fecfad9eb7fd8bcdb529e945e11346b5897acdc>\n",
    "   1. Clifford Asness: <https://www.aqr.com/Insights/Perspectives>\n",
    "   1. Owen Lamont: <https://www.acadian-asset.com/investment-insights/owenomics#>"
   ]
  },
  {
   "cell_type": "markdown",
   "id": "b659c84b-15ae-40de-a5b9-751b1d513f7e",
   "metadata": {},
   "source": [
    "## Five-Minute Review"
   ]
  },
  {
   "cell_type": "markdown",
   "id": "a419f454-5ac5-491e-899c-c6287402371c",
   "metadata": {
    "editable": true,
    "slideshow": {
     "slide_type": ""
    },
    "tags": []
   },
   "source": [
    "## Practice"
   ]
  },
  {
   "cell_type": "markdown",
   "id": "7373fbfc-3994-4c15-bc09-91e9599291e1",
   "metadata": {},
   "source": [
    "### Extract the year, month, and day from an 8-digit date (i.e., YYYYMMDD format) using `//` (integer division) and `%` (modulo division)."
   ]
  },
  {
   "cell_type": "code",
   "execution_count": 1,
   "id": "bc222bdb-7c7a-4964-9357-6d0ae1a07511",
   "metadata": {},
   "outputs": [],
   "source": [
    "lb = 20080915"
   ]
  },
  {
   "cell_type": "code",
   "execution_count": 2,
   "id": "819c0b8e-9767-4584-b6c2-d0729cb4bd50",
   "metadata": {},
   "outputs": [
    {
     "data": {
      "text/plain": [
       "20080915"
      ]
     },
     "execution_count": 2,
     "metadata": {},
     "output_type": "execute_result"
    }
   ],
   "source": [
    "lb"
   ]
  },
  {
   "cell_type": "code",
   "execution_count": 3,
   "id": "630ce476-bf95-473d-ab5c-505b146a3939",
   "metadata": {},
   "outputs": [
    {
     "data": {
      "text/plain": [
       "2008"
      ]
     },
     "execution_count": 3,
     "metadata": {},
     "output_type": "execute_result"
    }
   ],
   "source": [
    "lb // 10_000 # // is integer division"
   ]
  },
  {
   "cell_type": "code",
   "execution_count": 4,
   "id": "90a6a106-153f-4a92-804f-02b151f146a5",
   "metadata": {},
   "outputs": [
    {
     "data": {
      "text/plain": [
       "915"
      ]
     },
     "execution_count": 4,
     "metadata": {},
     "output_type": "execute_result"
    }
   ],
   "source": [
    "lb % 10_000 # % is modulo or remainder division"
   ]
  },
  {
   "cell_type": "code",
   "execution_count": 5,
   "id": "e5690b23-6383-4e77-a89e-37b0f144bd87",
   "metadata": {},
   "outputs": [
    {
     "data": {
      "text/plain": [
       "9"
      ]
     },
     "execution_count": 5,
     "metadata": {},
     "output_type": "execute_result"
    }
   ],
   "source": [
    "(lb % 10_000) // 100"
   ]
  },
  {
   "cell_type": "code",
   "execution_count": 6,
   "id": "3eb7c9ba-8627-48ab-84e4-017c4902f39e",
   "metadata": {},
   "outputs": [
    {
     "data": {
      "text/plain": [
       "15"
      ]
     },
     "execution_count": 6,
     "metadata": {},
     "output_type": "execute_result"
    }
   ],
   "source": [
    "lb % 100"
   ]
  },
  {
   "cell_type": "markdown",
   "id": "cb2da60b-810a-4a3e-adf1-275906bc3603",
   "metadata": {},
   "source": [
    "What happened here?\n",
    "\n",
    "- Floor or integer division `//` drops the digits on the right side (one digit per zero)\n",
    "- Modulo or remainder division `%` keeps the diggits on the right side (one digit per zero)"
   ]
  },
  {
   "cell_type": "markdown",
   "id": "8528e3a3-64a6-4ede-b360-e475d290db42",
   "metadata": {},
   "source": [
    "---"
   ]
  },
  {
   "cell_type": "markdown",
   "id": "39a93ffe-ebde-4b60-88b0-e25a6fa3f5a6",
   "metadata": {},
   "source": [
    "Here is solution that approximates Excel's `LEFT()`, `MID()`, and `RIGHT()`.\n",
    "This works, but is not very Pythonic."
   ]
  },
  {
   "cell_type": "code",
   "execution_count": 7,
   "id": "712318ed-4f81-4f72-9e81-d9fe40fcc5cd",
   "metadata": {},
   "outputs": [
    {
     "data": {
      "text/plain": [
       "2008"
      ]
     },
     "execution_count": 7,
     "metadata": {},
     "output_type": "execute_result"
    }
   ],
   "source": [
    "int(str(lb)[:4])"
   ]
  },
  {
   "cell_type": "code",
   "execution_count": 8,
   "id": "57dbb1e4-1d10-4e49-9ed9-a9654fdd96c5",
   "metadata": {},
   "outputs": [
    {
     "data": {
      "text/plain": [
       "9"
      ]
     },
     "execution_count": 8,
     "metadata": {},
     "output_type": "execute_result"
    }
   ],
   "source": [
    "int(str(lb)[4:6])"
   ]
  },
  {
   "cell_type": "code",
   "execution_count": 9,
   "id": "ce543fb1-02be-4a0f-99f6-29eec2668cd6",
   "metadata": {},
   "outputs": [
    {
     "data": {
      "text/plain": [
       "5"
      ]
     },
     "execution_count": 9,
     "metadata": {},
     "output_type": "execute_result"
    }
   ],
   "source": [
    "int(str(lb)[7:8])"
   ]
  },
  {
   "cell_type": "markdown",
   "id": "6e033fcb-33c5-4ae2-98b5-24a04e975e0a",
   "metadata": {},
   "source": [
    "---"
   ]
  },
  {
   "cell_type": "markdown",
   "id": "be060ebd-93d7-4c2e-b57a-a4ff9a6d2a93",
   "metadata": {},
   "source": [
    "### Write a function `date` that takes an 8-digit date argument and returns a year, month, and date tuple (e.g., `return (year, month, day)`)."
   ]
  },
  {
   "cell_type": "code",
   "execution_count": 10,
   "id": "4792e59e-d7f7-44b3-ad90-1aaa370fa138",
   "metadata": {},
   "outputs": [],
   "source": [
    "def date(ymd):\n",
    "    year = ymd // 10_000 # // is integer division\n",
    "    month = (ymd % 10_000) // 100\n",
    "    day = ymd % 100\n",
    "    return (year, month, day)"
   ]
  },
  {
   "cell_type": "code",
   "execution_count": 11,
   "id": "fa989dd6-f425-4080-80a6-30cb73ecd550",
   "metadata": {},
   "outputs": [
    {
     "data": {
      "text/plain": [
       "(2008, 9, 15)"
      ]
     },
     "execution_count": 11,
     "metadata": {},
     "output_type": "execute_result"
    }
   ],
   "source": [
    "date(lb)"
   ]
  },
  {
   "cell_type": "code",
   "execution_count": 12,
   "id": "eb01c36d-f4c8-49c0-a8be-50bb6dff2650",
   "metadata": {},
   "outputs": [
    {
     "data": {
      "text/plain": [
       "(2025, 1, 10)"
      ]
     },
     "execution_count": 12,
     "metadata": {},
     "output_type": "execute_result"
    }
   ],
   "source": [
    "date(20250110)"
   ]
  },
  {
   "cell_type": "markdown",
   "id": "89e332f5-1f05-479a-a055-188098f0d9dd",
   "metadata": {},
   "source": [
    "### Write a function `date_2` that takes an 8-digit date as either integer or string."
   ]
  },
  {
   "cell_type": "code",
   "execution_count": 13,
   "id": "7a3cd57c-cf9c-4467-bd94-b978ca7ea9ed",
   "metadata": {},
   "outputs": [],
   "source": [
    "def date_2(ymd):\n",
    "    # if type(ymd) is str:\n",
    "    # \n",
    "    if isinstance(ymd, str):\n",
    "        ymd = int(ymd)\n",
    "    return date(ymd)"
   ]
  },
  {
   "cell_type": "markdown",
   "id": "41dec8a7-005c-479b-ab54-dfa9b2349a18",
   "metadata": {},
   "source": [
    "The `isinstance(ymd, str)` is better than `type(ymd) == str` because the `isinstance()` function also tests for all sub-classes of `str`.\n",
    "More here: <https://stackoverflow.com/questions/152580/whats-the-canonical-way-to-check-for-type-in-python>/."
   ]
  },
  {
   "cell_type": "code",
   "execution_count": 14,
   "id": "ead6104d-ae06-4624-b172-942168a97d7b",
   "metadata": {},
   "outputs": [
    {
     "data": {
      "text/plain": [
       "(2008, 9, 15)"
      ]
     },
     "execution_count": 14,
     "metadata": {},
     "output_type": "execute_result"
    }
   ],
   "source": [
    "date_2(str(lb))"
   ]
  },
  {
   "cell_type": "code",
   "execution_count": 15,
   "id": "ba8013a8-c093-4c46-a979-4f5291813d7c",
   "metadata": {},
   "outputs": [
    {
     "data": {
      "text/plain": [
       "(2025, 1, 10)"
      ]
     },
     "execution_count": 15,
     "metadata": {},
     "output_type": "execute_result"
    }
   ],
   "source": [
    "date_2('20250110')"
   ]
  },
  {
   "cell_type": "markdown",
   "id": "7ea1b963-efc2-40ef-b81c-24f0fc4a48d0",
   "metadata": {},
   "source": [
    "### Write a function `date_3` that takes a list of 8-digit dates as integers or strings."
   ]
  },
  {
   "cell_type": "code",
   "execution_count": 16,
   "id": "f8a0ae16-f12f-40a7-8499-0aee4d019e13",
   "metadata": {},
   "outputs": [],
   "source": [
    "dates_in = [20080915, 20250110]"
   ]
  },
  {
   "cell_type": "code",
   "execution_count": 17,
   "id": "d1bc7b80-b62f-4f0d-9638-09f3c5c086a3",
   "metadata": {},
   "outputs": [],
   "source": [
    "def date_3(dates_in):\n",
    "    dates_out = []\n",
    "    for d in dates_in:\n",
    "        # dates_out += [date_2(d)] # alternative\n",
    "        dates_out.append(date_2(d))\n",
    "    \n",
    "    return dates_out"
   ]
  },
  {
   "cell_type": "markdown",
   "id": "2c742e04-2aa4-4100-b7dc-8dc1ea2c56cf",
   "metadata": {},
   "source": [
    "I have a slight preference for `.append()` over `+= []` because `.append()` modifies the list the list in place instead of making a copy.\n",
    "However, the speed differences in most cases in this course will be negligible.\n",
    "More here: <https://www.geeksforgeeks.org/difference-between-and-append-in-python/>."
   ]
  },
  {
   "cell_type": "code",
   "execution_count": 18,
   "id": "a6181ead-c812-4b3b-bb45-d6ac6022f21e",
   "metadata": {},
   "outputs": [
    {
     "data": {
      "text/plain": [
       "[(2008, 9, 15), (2025, 1, 10)]"
      ]
     },
     "execution_count": 18,
     "metadata": {},
     "output_type": "execute_result"
    }
   ],
   "source": [
    "date_3(dates_in)"
   ]
  },
  {
   "cell_type": "markdown",
   "id": "629e8239-27c2-48f4-ba1c-7e97da177f01",
   "metadata": {},
   "source": [
    "### Write a for loop that prints the squares of integers from 1 to 10."
   ]
  },
  {
   "cell_type": "code",
   "execution_count": 19,
   "id": "07a0754d-39df-401c-8975-4d0f765515bf",
   "metadata": {},
   "outputs": [
    {
     "name": "stdout",
     "output_type": "stream",
     "text": [
      "a---b---c\n"
     ]
    }
   ],
   "source": [
    "print('a', 'b', 'c', sep = '---')"
   ]
  },
  {
   "cell_type": "code",
   "execution_count": 20,
   "id": "03cca6dc-7327-4781-8bea-fb5322f075ce",
   "metadata": {},
   "outputs": [
    {
     "name": "stdout",
     "output_type": "stream",
     "text": [
      "1 4 9 16 25 36 49 64 81 100 "
     ]
    }
   ],
   "source": [
    "for i in range(1, 11):\n",
    "    print(i**2, end=' ')"
   ]
  },
  {
   "cell_type": "markdown",
   "id": "a9d5310a-f19a-448e-976f-44ffbecad467",
   "metadata": {},
   "source": [
    "### Write a for loop that prints the squares of *even* integers from 1 to 10."
   ]
  },
  {
   "cell_type": "code",
   "execution_count": 21,
   "id": "d7da2cdc-5ffc-420b-be12-75ab1fe9e4d6",
   "metadata": {},
   "outputs": [
    {
     "name": "stdout",
     "output_type": "stream",
     "text": [
      "4 16 36 64 100 "
     ]
    }
   ],
   "source": [
    "for i in range(1, 11):\n",
    "    if i % 2 == 0:\n",
    "        print(i**2, end=' ')"
   ]
  },
  {
   "cell_type": "code",
   "execution_count": 22,
   "id": "6d98b6a8-1153-4205-9097-debf9c9d797e",
   "metadata": {},
   "outputs": [
    {
     "name": "stdout",
     "output_type": "stream",
     "text": [
      "4 16 36 64 100 "
     ]
    }
   ],
   "source": [
    "for i in range(2, 11, 2):\n",
    "    print(i**2, end=' ')"
   ]
  },
  {
   "cell_type": "markdown",
   "id": "fca2f010-cd87-4c0f-8a47-c849a8f26cc2",
   "metadata": {},
   "source": [
    "### Write a for loop that sums the squares of integers from 1 to 10."
   ]
  },
  {
   "cell_type": "code",
   "execution_count": 23,
   "id": "a40e2622-52ea-471d-98fe-84cd92edb347",
   "metadata": {},
   "outputs": [
    {
     "data": {
      "text/plain": [
       "385"
      ]
     },
     "execution_count": 23,
     "metadata": {},
     "output_type": "execute_result"
    }
   ],
   "source": [
    "total = 0\n",
    "for i in range(1, 11):\n",
    "    total += i**2\n",
    "\n",
    "total"
   ]
  },
  {
   "cell_type": "markdown",
   "id": "4f59f13f-ba78-4212-bf00-b060756b4320",
   "metadata": {},
   "source": [
    "### Write a for loop that sums the squares of integers from 1 to 10 but stops before the sum exceeds 50."
   ]
  },
  {
   "cell_type": "code",
   "execution_count": 24,
   "id": "7a1f9714-eefd-45af-a10e-b569520e2992",
   "metadata": {},
   "outputs": [
    {
     "data": {
      "text/plain": [
       "30"
      ]
     },
     "execution_count": 24,
     "metadata": {},
     "output_type": "execute_result"
    }
   ],
   "source": [
    "total = 0  # Initialize sum to zero\n",
    "\n",
    "for i in range(1, 11):  # Loop from 1 to 10\n",
    "    # Check if adding the square of i would exceed 50\n",
    "    if (total + i**2) > 50:\n",
    "        # 'break' exits the loop completely, stopping further iterations\n",
    "        # 'continue' would skip to the next iteration without executing further code in this cycle\n",
    "        break  \n",
    "    \n",
    "    # Add the square of i to total\n",
    "    total += i**2\n",
    "\n",
    "# Print the final sum (implicit return in this case since it is the last line in the code cell)\n",
    "total"
   ]
  },
  {
   "cell_type": "markdown",
   "id": "fc5e524f-358b-45cb-876d-6d4ebc082757",
   "metadata": {},
   "source": [
    "### FizzBuzz"
   ]
  },
  {
   "cell_type": "markdown",
   "id": "424ea2cc-db7e-4ea9-9f0e-b533ae8973de",
   "metadata": {},
   "source": [
    "Solve [FizzBuzz](https://en.wikipedia.org/wiki/Fizz_buzz#Programming)."
   ]
  },
  {
   "cell_type": "markdown",
   "id": "9403682b-13ce-4a29-ada4-86c5c6eb8e6f",
   "metadata": {},
   "source": [
    "Here is some pseudo code.\n",
    "The test for multiples of 3 and 5 must come first, otherwise it would never run!"
   ]
  },
  {
   "cell_type": "code",
   "execution_count": 25,
   "id": "24fda8a1-1fc7-4b14-aab8-0cf2e5df731c",
   "metadata": {},
   "outputs": [],
   "source": [
    "# for i in range(1, 101):\n",
    "#     # test for multiple of 3 & 5\n",
    "#     #     print fizzbuzz\n",
    "#     # test for multiple of 3\n",
    "#     #     print fizz\n",
    "#     # test for multiple of 5\n",
    "#     #     print buzz\n",
    "#     # otherwise print i"
   ]
  },
  {
   "cell_type": "markdown",
   "id": "aac2d47d-24f3-4ec2-94f4-89458f87af78",
   "metadata": {},
   "source": [
    "Here is my favorite FizzBuzz solution."
   ]
  },
  {
   "cell_type": "code",
   "execution_count": 26,
   "id": "c0bbea88-1190-4a1a-81d1-c0b0cae77558",
   "metadata": {},
   "outputs": [
    {
     "name": "stdout",
     "output_type": "stream",
     "text": [
      "1 2 Fizz 4 Buzz Fizz 7 8 Fizz Buzz 11 Fizz 13 14 FizzBuzz 16 17 Fizz 19 Buzz Fizz 22 23 Fizz Buzz 26 Fizz 28 29 FizzBuzz 31 32 Fizz 34 Buzz Fizz 37 38 Fizz Buzz 41 Fizz 43 44 FizzBuzz 46 47 Fizz 49 Buzz Fizz 52 53 Fizz Buzz 56 Fizz 58 59 FizzBuzz 61 62 Fizz 64 Buzz Fizz 67 68 Fizz Buzz 71 Fizz 73 74 FizzBuzz 76 77 Fizz 79 Buzz Fizz 82 83 Fizz Buzz 86 Fizz 88 89 FizzBuzz 91 92 Fizz 94 Buzz Fizz 97 98 Fizz Buzz "
     ]
    }
   ],
   "source": [
    "for i in range(1, 101):\n",
    "    if (i % 3 == 0) & (i % 5 == 0):\n",
    "        print('FizzBuzz', end=' ')\n",
    "    elif (i % 3 == 0):\n",
    "        print('Fizz', end=' ')\n",
    "    elif (i % 5 == 0):\n",
    "        print('Buzz', end=' ')\n",
    "    else:\n",
    "        print(i, end=' ')"
   ]
  },
  {
   "cell_type": "markdown",
   "id": "9f07719a-e80d-4ddd-8d4f-ea87397d6d09",
   "metadata": {},
   "source": [
    "### Use ternary expressions to make your FizzBuzz solution more compact."
   ]
  },
  {
   "cell_type": "markdown",
   "id": "f6777ad7-66d7-4703-82a1-ac2b9a2ce44c",
   "metadata": {},
   "source": [
    "Here is a compact FizzBuzz solution.\n",
    "I consider the solution above easier to read and troubleshoot.\n",
    "The compact solution below uses the trick that we can multiply a string by `True` to return the string itself or by or `False` to return an empty string."
   ]
  },
  {
   "cell_type": "code",
   "execution_count": 27,
   "id": "77c2f9dd-d61a-472f-887a-4f9690563959",
   "metadata": {},
   "outputs": [
    {
     "name": "stdout",
     "output_type": "stream",
     "text": [
      "1 2 Fizz 4 Buzz Fizz 7 8 Fizz Buzz 11 Fizz 13 14 FizzBuzz 16 17 Fizz 19 Buzz Fizz 22 23 Fizz Buzz 26 Fizz 28 29 FizzBuzz 31 32 Fizz 34 Buzz Fizz 37 38 Fizz Buzz 41 Fizz 43 44 FizzBuzz 46 47 Fizz 49 Buzz Fizz 52 53 Fizz Buzz 56 Fizz 58 59 FizzBuzz 61 62 Fizz 64 Buzz Fizz 67 68 Fizz Buzz 71 Fizz 73 74 FizzBuzz 76 77 Fizz 79 Buzz Fizz 82 83 Fizz Buzz 86 Fizz 88 89 FizzBuzz 91 92 Fizz 94 Buzz Fizz 97 98 Fizz Buzz "
     ]
    }
   ],
   "source": [
    "for i in range(1, 101):\n",
    "    print('Fizz'*(i%3==0) + 'Buzz'*(i%5==0) if (i%3==0) or (i%5==0) else i, end=' ')"
   ]
  },
  {
   "attachments": {},
   "cell_type": "markdown",
   "id": "01008cc9-9f2f-459b-b851-c2001ec027bb",
   "metadata": {},
   "source": [
    "Here is *an even more compact* FizzBuzz solution.\n",
    "The trick below is that Python's `or` returns its first truthy value.\n",
    "- If the concatenated string (`'Fizz'*(i%3==0) + 'Buzz'*(i%5==0)`) is not an empty string, which is falsy in Python, the `or` evaluates to that string.\n",
    "- If the string is empty, which means `i` is not divisible by 3 or 5, the `or` evaluates to `i`."
   ]
  },
  {
   "cell_type": "code",
   "execution_count": 28,
   "id": "8b5015fa-340f-4632-bfab-7d6495302cae",
   "metadata": {},
   "outputs": [
    {
     "name": "stdout",
     "output_type": "stream",
     "text": [
      "1 2 Fizz 4 Buzz Fizz 7 8 Fizz Buzz 11 Fizz 13 14 FizzBuzz 16 17 Fizz 19 Buzz Fizz 22 23 Fizz Buzz 26 Fizz 28 29 FizzBuzz 31 32 Fizz 34 Buzz Fizz 37 38 Fizz Buzz 41 Fizz 43 44 FizzBuzz 46 47 Fizz 49 Buzz Fizz 52 53 Fizz Buzz 56 Fizz 58 59 FizzBuzz 61 62 Fizz 64 Buzz Fizz 67 68 Fizz Buzz 71 Fizz 73 74 FizzBuzz 76 77 Fizz 79 Buzz Fizz 82 83 Fizz Buzz 86 Fizz 88 89 FizzBuzz 91 92 Fizz 94 Buzz Fizz 97 98 Fizz Buzz "
     ]
    }
   ],
   "source": [
    "for i in range(1, 101):\n",
    "    print('Fizz'*(i%3==0) + 'Buzz'*(i%5==0) or i, end=' ')"
   ]
  },
  {
   "cell_type": "markdown",
   "id": "761d1e1f-7255-4811-b2c9-a6af246b50c6",
   "metadata": {},
   "source": [
    "### Triangle"
   ]
  },
  {
   "cell_type": "markdown",
   "id": "c76b23e0-a42d-4843-9723-3986a506f89e",
   "metadata": {},
   "source": [
    "Write a function `triangle` that accepts a positive integer $N$ and prints a numerical triangle of height $N-1$.\n",
    "For example, `triangle(N=6)` should print:\n",
    "\n",
    "```\n",
    "1\n",
    "22\n",
    "333\n",
    "4444\n",
    "55555\n",
    "```"
   ]
  },
  {
   "cell_type": "code",
   "execution_count": 29,
   "id": "9e2af998-7268-4e7a-b33e-20285f63705c",
   "metadata": {},
   "outputs": [],
   "source": [
    "def triangle(N):\n",
    "    for i in range(1, N):\n",
    "        print(str(i) * i)"
   ]
  },
  {
   "cell_type": "code",
   "execution_count": 30,
   "id": "83b91f97-5e2c-4a7a-a84a-6303cec0d1ea",
   "metadata": {},
   "outputs": [
    {
     "name": "stdout",
     "output_type": "stream",
     "text": [
      "1\n",
      "22\n",
      "333\n",
      "4444\n",
      "55555\n"
     ]
    }
   ],
   "source": [
    "triangle(6)"
   ]
  },
  {
   "cell_type": "markdown",
   "id": "20b9b14c-00c4-4b29-baf4-febe2f8757c6",
   "metadata": {},
   "source": [
    "The solution above works because a multiplying a string by `i` concatenates `i` copies of that string."
   ]
  },
  {
   "cell_type": "code",
   "execution_count": 31,
   "id": "ff12bbc2-636e-43f9-a6c2-743fb1df4dfe",
   "metadata": {},
   "outputs": [
    {
     "data": {
      "text/plain": [
       "'TestTestTest'"
      ]
     },
     "execution_count": 31,
     "metadata": {},
     "output_type": "execute_result"
    }
   ],
   "source": [
    "'Test' + 'Test' + 'Test'"
   ]
  },
  {
   "cell_type": "code",
   "execution_count": 32,
   "id": "3557c211-9d71-479a-ac56-706038204ffb",
   "metadata": {},
   "outputs": [
    {
     "data": {
      "text/plain": [
       "'TestTestTest'"
      ]
     },
     "execution_count": 32,
     "metadata": {},
     "output_type": "execute_result"
    }
   ],
   "source": [
    "'Test' * 3"
   ]
  },
  {
   "cell_type": "markdown",
   "id": "7e2eb64d-444f-4f05-a133-1e4b7f026b31",
   "metadata": {},
   "source": [
    "### Two Sum"
   ]
  },
  {
   "cell_type": "markdown",
   "id": "e60568ec-e02d-4639-b6b5-a9816d3454d7",
   "metadata": {},
   "source": [
    "Write a function `two_sum` that does the following.\n",
    "\n",
    "Given a list of integers `nums` and an integer `target`, return the indices of the two numbers that add up to target.\n",
    "\n",
    "You may assume that each input would have exactly one solution, and you may not use the same element twice.\n",
    "\n",
    "You can return the answer in any order.\n",
    "\n",
    "Here are some examples:\n",
    "\n",
    "Example 1:\n",
    "\n",
    "Input: `nums = [2,7,11,15]`, `target = 9` \\\n",
    "Output: `[0,1]` \\\n",
    "Explanation: Because `nums[0] + nums[1] == 9`, we return `[0, 1]`.\n",
    "\n",
    "Example 2:\n",
    "\n",
    "Input: `nums = [3,2,4]`, `target = 6` \\\n",
    "Output: `[1,2]`\n",
    "\n",
    "Example 3:\n",
    "\n",
    "Input: `nums = [3,3]`, `target = 6` \\\n",
    "Output: `[0,1]`\n",
    "\n",
    "I saw this question on [LeetCode](https://leetcode.com/problems/two-sum/description/)."
   ]
  },
  {
   "cell_type": "code",
   "execution_count": 33,
   "id": "13d43bf7-bd8f-494d-b797-c9fd7db5673c",
   "metadata": {},
   "outputs": [],
   "source": [
    "def two_sum(nums, target):\n",
    "    for i in range(1, len(nums)):\n",
    "        for j in range(i):\n",
    "            if nums[i] + nums[j] == target:\n",
    "                return [j, i]"
   ]
  },
  {
   "cell_type": "code",
   "execution_count": 34,
   "id": "dfcdd6b8-885f-4dc9-a8dd-58ed33e99b4f",
   "metadata": {},
   "outputs": [
    {
     "data": {
      "text/plain": [
       "[0, 1]"
      ]
     },
     "execution_count": 34,
     "metadata": {},
     "output_type": "execute_result"
    }
   ],
   "source": [
    "two_sum(nums = [2,7,11,15], target = 9)"
   ]
  },
  {
   "cell_type": "code",
   "execution_count": 35,
   "id": "de06c76d-ac46-4b8b-bcfe-e01b05e3f2d5",
   "metadata": {},
   "outputs": [
    {
     "data": {
      "text/plain": [
       "[1, 2]"
      ]
     },
     "execution_count": 35,
     "metadata": {},
     "output_type": "execute_result"
    }
   ],
   "source": [
    "two_sum(nums = [3,2,4], target = 6)"
   ]
  },
  {
   "cell_type": "code",
   "execution_count": 36,
   "id": "61313772-bd42-4ebe-8063-9b739b79ab06",
   "metadata": {},
   "outputs": [
    {
     "data": {
      "text/plain": [
       "[0, 1]"
      ]
     },
     "execution_count": 36,
     "metadata": {},
     "output_type": "execute_result"
    }
   ],
   "source": [
    "two_sum(nums = [3,3], target = 6)"
   ]
  },
  {
   "cell_type": "markdown",
   "id": "92beb628-50bf-4071-b133-1f2d4c2f4ff2",
   "metadata": {},
   "source": [
    "### Best Time"
   ]
  },
  {
   "cell_type": "markdown",
   "id": "4356132c-54c0-419a-aacd-55b6766dd774",
   "metadata": {},
   "source": [
    "Write a function `best_time` that solves the following.\n",
    "\n",
    "You are given a list `prices` where `prices[i]` is the price of a given stock on the $i^{th}$ day.\n",
    "\n",
    "You want to maximize your profit by choosing a single day to buy one stock and choosing a different day in the future to sell that stock.\n",
    "\n",
    "Return the maximum profit you can achieve from this transaction. If you cannot achieve any profit, return 0.\n",
    "\n",
    "Here are some examples:\n",
    "\n",
    "Example 1:\n",
    "\n",
    "Input: `prices = [7,1,5,3,6,4]` \\\n",
    "Output: `5` \\\n",
    "Explanation: Buy on day 2 (price = 1) and sell on day 5 (price = 6), profit = 6-1 = 5.\n",
    "Note that buying on day 2 and selling on day 1 is not allowed because you must buy before you sell.\n",
    "\n",
    "Example 2:\n",
    "\n",
    "Input: `prices = [7,6,4,3,1]` \\\n",
    "Output: `0` \\\n",
    "Explanation: In this case, no transactions are done and the max profit = 0.\n",
    "\n",
    "I saw this question on [LeetCode](https://leetcode.com/problems/best-time-to-buy-and-sell-stock/)."
   ]
  },
  {
   "cell_type": "code",
   "execution_count": 37,
   "id": "ed74fa77-e0e6-4929-b634-9894cb8f8124",
   "metadata": {},
   "outputs": [],
   "source": [
    "def max_profit(prices):\n",
    "    # We start by assuming the first price is the lowest we've seen so far\n",
    "    min_price = prices[0]\n",
    "    \n",
    "    # We initialize our maximum profit to zero, as no profit has been calculated yet\n",
    "    max_profit = 0\n",
    "    \n",
    "    # Loop through each price in the list of prices\n",
    "    for price in prices:\n",
    "        # If the current price is lower than our lowest price seen, update min_price\n",
    "        min_price = price if price < min_price else min_price\n",
    "        \n",
    "        # Calculate the profit if we were to sell at the current price\n",
    "        profit = price - min_price\n",
    "        \n",
    "        # If this profit is better than our max profit so far, update max_profit\n",
    "        max_profit = profit if profit > max_profit else max_profit\n",
    "    \n",
    "    # After checking all prices, return the maximum profit we've found\n",
    "    return max_profit"
   ]
  },
  {
   "cell_type": "code",
   "execution_count": 38,
   "id": "92bec2a8-d165-41cb-83ea-5898707eea44",
   "metadata": {},
   "outputs": [
    {
     "data": {
      "text/plain": [
       "5"
      ]
     },
     "execution_count": 38,
     "metadata": {},
     "output_type": "execute_result"
    }
   ],
   "source": [
    "max_profit(prices=[7,1,5,3,6,4])"
   ]
  },
  {
   "cell_type": "code",
   "execution_count": 39,
   "id": "e322a5af-8037-4eef-bf01-3a8a1b6770bf",
   "metadata": {},
   "outputs": [
    {
     "data": {
      "text/plain": [
       "0"
      ]
     },
     "execution_count": 39,
     "metadata": {},
     "output_type": "execute_result"
    }
   ],
   "source": [
    "max_profit(prices=[7,6,4,3,1])"
   ]
  },
  {
   "cell_type": "markdown",
   "id": "1f5031fc-e51a-4137-9b03-09ae760d4ceb",
   "metadata": {},
   "source": [
    "We could replace the ternary statements with the `min()` and `max()` functions for a little more compact code."
   ]
  },
  {
   "cell_type": "code",
   "execution_count": 40,
   "id": "d7260ce4-86f8-461a-a91d-7b4c67802e70",
   "metadata": {},
   "outputs": [],
   "source": [
    "def max_profit_2(prices):\n",
    "    min_price = prices[0]\n",
    "    max_profit = 0\n",
    "    \n",
    "    for price in prices:\n",
    "        # Update min_price if current price is lower\n",
    "        min_price = min(min_price, price)\n",
    "        \n",
    "        # Calculate profit by selling at the current price\n",
    "        current_profit = price - min_price\n",
    "        \n",
    "        # Update max_profit if the current_profit is higher\n",
    "        max_profit = max(max_profit, current_profit)\n",
    "    \n",
    "    return max_profit"
   ]
  },
  {
   "cell_type": "code",
   "execution_count": 41,
   "id": "9e17086e-ef7a-4d1c-9a91-e7a60c85af6b",
   "metadata": {},
   "outputs": [
    {
     "data": {
      "text/plain": [
       "5"
      ]
     },
     "execution_count": 41,
     "metadata": {},
     "output_type": "execute_result"
    }
   ],
   "source": [
    "max_profit_2(prices=[7,1,5,3,6,4])"
   ]
  },
  {
   "cell_type": "code",
   "execution_count": 42,
   "id": "30e3a1bf-ebe7-4f6b-9cc0-ec932ec48421",
   "metadata": {},
   "outputs": [
    {
     "data": {
      "text/plain": [
       "0"
      ]
     },
     "execution_count": 42,
     "metadata": {},
     "output_type": "execute_result"
    }
   ],
   "source": [
    "max_profit_2(prices=[7,6,4,3,1])"
   ]
  }
 ],
 "metadata": {
  "author": "Richard Herron",
  "kernelspec": {
   "display_name": "Python 3 (ipykernel)",
   "language": "python",
   "name": "python3"
  },
  "language_info": {
   "codemirror_mode": {
    "name": "ipython",
    "version": 3
   },
   "file_extension": ".py",
   "mimetype": "text/x-python",
   "name": "python",
   "nbconvert_exporter": "python",
   "pygments_lexer": "ipython3",
   "version": "3.13.1"
  },
  "title": "McKinney Chapter 2 - Practice",
  "toc-autonumbering": true
 },
 "nbformat": 4,
 "nbformat_minor": 5
}
