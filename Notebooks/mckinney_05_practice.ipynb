{
 "cells": [
  {
   "cell_type": "markdown",
   "id": "c1e33842-3bd0-4623-9296-60a1ad2fe57b",
   "metadata": {},
   "source": [
    "# McKinney Chapter 5 - Practice - Blank"
   ]
  },
  {
   "cell_type": "code",
   "execution_count": 1,
   "id": "d54495d6-a8aa-4471-a29f-abc4992bf074",
   "metadata": {
    "editable": true
   },
   "outputs": [],
   "source": [
    "import matplotlib.pyplot as plt\n",
    "import numpy as np\n",
    "import pandas as pd\n",
    "import yfinance as yf"
   ]
  },
  {
   "cell_type": "code",
   "execution_count": 2,
   "id": "3fab82cf-ea1a-4e1c-84a6-891b882a534e",
   "metadata": {},
   "outputs": [],
   "source": [
    "%precision 4\n",
    "pd.options.display.float_format = '{:.4f}'.format\n",
    "# %config InlineBackend.figure_format = 'retina'"
   ]
  },
  {
   "cell_type": "markdown",
   "id": "f6c08ea9-54c1-4a00-aad3-a20df19c7e97",
   "metadata": {},
   "source": [
    "## Announcements"
   ]
  },
  {
   "cell_type": "markdown",
   "id": "e111415d-ceb5-4b2a-8c08-1cf0e705bd32",
   "metadata": {},
   "source": [
    "## Five-Minute Review"
   ]
  },
  {
   "cell_type": "markdown",
   "id": "5e73929c-3629-4433-8111-1a64bd3c52dd",
   "metadata": {},
   "source": [
    "## Practice"
   ]
  },
  {
   "cell_type": "markdown",
   "id": "4761cb0f-5db6-409b-822e-f4a354118458",
   "metadata": {},
   "source": [
    "### What are the mean daily returns for these four stocks?"
   ]
  },
  {
   "cell_type": "code",
   "execution_count": 3,
   "id": "6d834379-f643-4d1f-9bb6-873cd66dc275",
   "metadata": {},
   "outputs": [],
   "source": [
    "tickers = 'AAPL IBM MSFT GOOG'"
   ]
  },
  {
   "cell_type": "markdown",
   "id": "a98798fa-74f3-4fba-b56e-484e513a62a5",
   "metadata": {},
   "source": [
    "### What are the standard deviations of daily returns for these four stocks?"
   ]
  },
  {
   "cell_type": "markdown",
   "id": "a64ae92c-8ce3-4c4c-80e2-f003db45d167",
   "metadata": {},
   "source": [
    "### What are the *annualized* means and standard deviations of daily returns for these four stocks?"
   ]
  },
  {
   "cell_type": "markdown",
   "id": "38792fcb-86a8-405e-9ca9-0db53ac63bc9",
   "metadata": {},
   "source": [
    "### Plot *annualized* means versus standard deviations of daily returns for these four stocks"
   ]
  },
  {
   "cell_type": "markdown",
   "id": "492661cf-cac9-48fd-b4dc-465fcdf43b8a",
   "metadata": {},
   "source": [
    "### Repeat the previous calculations and plot for the stocks in the Dow-Jones Industrial Index (DJIA)"
   ]
  },
  {
   "cell_type": "markdown",
   "id": "f2726b01-2512-4b22-bca2-82ee1e5741a5",
   "metadata": {},
   "source": [
    "We can find the current DJIA stocks on [Wikipedia](https://en.wikipedia.org/wiki/Dow_Jones_Industrial_Average).\n",
    "We must download new data, into `tickers_2`, `data_2`, and `returns_2`."
   ]
  },
  {
   "cell_type": "markdown",
   "id": "16a850d1-f9e7-4dc8-b33f-74ec389bb9ab",
   "metadata": {},
   "source": [
    "### Calculate total returns for the stocks in the DJIA"
   ]
  },
  {
   "cell_type": "markdown",
   "id": "ab18bebf-855d-41e0-b442-4272af29511c",
   "metadata": {},
   "source": [
    "### Plot the distribution of total returns for the stocks in the DJIA"
   ]
  },
  {
   "cell_type": "markdown",
   "id": "255d61f5-cac6-4164-bdf4-7334ecf8ebab",
   "metadata": {},
   "source": [
    "### Which stocks have the minimum and maximum total returns?"
   ]
  },
  {
   "cell_type": "markdown",
   "id": "4abcfe01-5248-4cd3-b9c9-5fee3daf4912",
   "metadata": {},
   "source": [
    "### Plot the cumulative returns for the stocks in the DJIA"
   ]
  },
  {
   "cell_type": "markdown",
   "id": "a094ea46-cead-40fd-b74f-1a8eb4e100f4",
   "metadata": {},
   "source": [
    "### Repeat the plot above with only the minimum and maximum total returns"
   ]
  }
 ],
 "metadata": {
  "author": "Richard Herron",
  "kernelspec": {
   "display_name": "Python 3 (ipykernel)",
   "language": "python",
   "name": "python3"
  },
  "language_info": {
   "codemirror_mode": {
    "name": "ipython",
    "version": 3
   },
   "file_extension": ".py",
   "mimetype": "text/x-python",
   "name": "python",
   "nbconvert_exporter": "python",
   "pygments_lexer": "ipython3",
   "version": "3.13.1"
  },
  "title": "McKinney Chapter 5 - Practice"
 },
 "nbformat": 4,
 "nbformat_minor": 5
}
